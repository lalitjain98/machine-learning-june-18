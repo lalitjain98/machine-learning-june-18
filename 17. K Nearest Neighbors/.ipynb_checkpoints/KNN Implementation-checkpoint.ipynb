{
 "cells": [
  {
   "cell_type": "code",
   "execution_count": 49,
   "metadata": {
    "collapsed": true
   },
   "outputs": [],
   "source": [
    "from sklearn import datasets\n",
    "from sklearn.model_selection import cross_val_score, train_test_split\n",
    "from sklearn.metrics import accuracy_score\n",
    "from sklearn.preprocessing import StandardScaler"
   ]
  },
  {
   "cell_type": "code",
   "execution_count": 50,
   "metadata": {
    "collapsed": true
   },
   "outputs": [],
   "source": [
    "ds = datasets.load_breast_cancer()\n",
    "X = ds.data\n",
    "Y = ds.target\n",
    "\n",
    "scaler = StandardScaler().fit(X)\n",
    "X = scaler.transform(X)"
   ]
  },
  {
   "cell_type": "code",
   "execution_count": 51,
   "metadata": {
    "collapsed": true
   },
   "outputs": [],
   "source": [
    "X_train, X_test, Y_train, Y_test = train_test_split(X, Y, random_state = 0, test_size = 0.25)"
   ]
  },
  {
   "cell_type": "code",
   "execution_count": 52,
   "metadata": {
    "collapsed": true
   },
   "outputs": [],
   "source": [
    "from sklearn.neighbors import KNeighborsClassifier\n"
   ]
  },
  {
   "cell_type": "code",
   "execution_count": 53,
   "metadata": {},
   "outputs": [
    {
     "name": "stdout",
     "output_type": "stream",
     "text": [
      "0.974178403756\n"
     ]
    }
   ],
   "source": [
    "clf = KNeighborsClassifier()\n",
    "clf.fit(X_train, Y_train)\n",
    "Y_train_pred = clf.predict(X_train)\n",
    "print(accuracy_score(Y_train_pred, Y_train))\n"
   ]
  },
  {
   "cell_type": "code",
   "execution_count": 54,
   "metadata": {
    "collapsed": true
   },
   "outputs": [],
   "source": [
    "def fit(X_train, Y_train, K) :\n",
    "    return {\"data\" : X_train, \"target\" : Y_train, \"n_neighbors\" : K}\n",
    "\n",
    "def distance(X1, X2):\n",
    "    return ((X1-X2)**2).sum()\n",
    "from collections import Counter\n",
    "def predict_single(X_test, model) :\n",
    "    \n",
    "    X_train = model[\"data\"]\n",
    "    Y_train = model[\"target\"]\n",
    "    \n",
    "    K = model[\"n_neighbors\"]\n",
    "    \n",
    "    distances = [[distance(X_train[i, :], X_test), i] for i in range(len(X_train))]\n",
    "    distances = sorted(distances)\n",
    "    probable_classes = [Y_train[distances[i][1]] for i in range(K)]\n",
    "    #print(Counter(probable_classes))\n",
    "    return Counter(probable_classes).most_common(1)[0][0]\n",
    "    \n",
    "def predict(X_test, model) :\n",
    "    Y_pred = []\n",
    "    for X in X_test :\n",
    "        Y_pred.append(predict_single(X, model))\n",
    "    return Y_pred\n"
   ]
  },
  {
   "cell_type": "code",
   "execution_count": 55,
   "metadata": {},
   "outputs": [
    {
     "name": "stdout",
     "output_type": "stream",
     "text": [
      "0.976525821596\n",
      "0.958041958042\n",
      "array([[150,   1],\n",
      "       [  9, 266]], dtype=int64)\n",
      "             precision    recall  f1-score   support\n",
      "\n",
      "          0       0.94      0.99      0.97       151\n",
      "          1       1.00      0.97      0.98       275\n",
      "\n",
      "avg / total       0.98      0.98      0.98       426\n",
      "\n",
      "array([[48,  1],\n",
      "       [ 5, 89]], dtype=int64)\n",
      "             precision    recall  f1-score   support\n",
      "\n",
      "          0       0.91      0.98      0.94        49\n",
      "          1       0.99      0.95      0.97        94\n",
      "\n",
      "avg / total       0.96      0.96      0.96       143\n",
      "\n"
     ]
    }
   ],
   "source": [
    "model = fit(X_train, Y_train, 12)\n",
    "Y_train_pred = predict(X_train, model)\n",
    "Y_test_pred = predict(X_test, model)\n",
    "print(accuracy_score(Y_train_pred, Y_train))\n",
    "print(accuracy_score(Y_test_pred, Y_test))\n",
    "\n",
    "from sklearn.metrics import confusion_matrix, classification_report\n",
    "from pprint import pprint\n",
    "\n",
    "pprint(confusion_matrix(Y_train_pred, Y_train))\n",
    "print(classification_report(Y_train_pred, Y_train))\n",
    "\n",
    "pprint(confusion_matrix(Y_test_pred, Y_test))\n",
    "print(classification_report(Y_test_pred, Y_test))\n"
   ]
  },
  {
   "cell_type": "code",
   "execution_count": 56,
   "metadata": {},
   "outputs": [
    {
     "data": {
      "image/png": "[encoded data removed]",
      "text/plain": [
       "<matplotlib.figure.Figure at 0x1a52f5b6518>"
      ]
     },
     "metadata": {},
     "output_type": "display_data"
    }
   ],
   "source": [
    "import matplotlib.pyplot as plt\n",
    "\n",
    "train_accuracy = []\n",
    "test_accuracy = []\n",
    "\n",
    "for i in range(1, 30,2) :\n",
    "    model = fit(X_train, Y_train, i)\n",
    "    Y_train_pred = predict(X_train, model)\n",
    "    Y_test_pred = predict(X_test, model)\n",
    "    train_accuracy.append(accuracy_score(Y_train_pred, Y_train))\n",
    "    test_accuracy.append(accuracy_score(Y_test_pred, Y_test))\n",
    "\n",
    "plt.plot(train_accuracy, c = \"b\")\n",
    "plt.plot(test_accuracy, c = \"r\")\n",
    "plt.show()"
   ]
  }
 ],
 "metadata": {
  "kernelspec": {
   "display_name": "Python 3",
   "language": "python",
   "name": "python3"
  },
  "language_info": {
   "codemirror_mode": {
    "name": "ipython",
    "version": 3
   },
   "file_extension": ".py",
   "mimetype": "text/x-python",
   "name": "python",
   "nbconvert_exporter": "python",
   "pygments_lexer": "ipython3",
   "version": "3.6.3"
  }
 },
 "nbformat": 4,
 "nbformat_minor": 2
}
