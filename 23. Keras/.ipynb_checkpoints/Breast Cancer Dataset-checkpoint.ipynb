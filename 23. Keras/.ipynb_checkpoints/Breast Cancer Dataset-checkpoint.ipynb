{
 "cells": [
  {
   "cell_type": "code",
   "execution_count": 1,
   "metadata": {},
   "outputs": [
    {
     "name": "stderr",
     "output_type": "stream",
     "text": [
      "Using TensorFlow backend.\n"
     ]
    }
   ],
   "source": [
    "from keras.models import Sequential\n",
    "from keras.layers import Dense\n",
    "\n",
    "from sklearn import datasets\n",
    "from sklearn.model_selection import train_test_split\n",
    "from sklearn.preprocessing import StandardScaler"
   ]
  },
  {
   "cell_type": "code",
   "execution_count": 5,
   "metadata": {
    "collapsed": true
   },
   "outputs": [],
   "source": [
    "ds = datasets.load_breast_cancer()\n",
    "X_train, X_test, Y_train, Y_test = train_test_split(ds.data, ds.target, random_state = 0)\n",
    "scaler = StandardScaler()\n",
    "X_train_scaled = scaler.fit_transform(X_train)\n",
    "X_test_scaled = scaler.transform(X_test)"
   ]
  },
  {
   "cell_type": "code",
   "execution_count": 7,
   "metadata": {},
   "outputs": [
    {
     "name": "stdout",
     "output_type": "stream",
     "text": [
      "Train on 426 samples, validate on 143 samples\n",
      "Epoch 1/20\n",
      "426/426 [==============================] - 0s 1ms/step - loss: 0.6061 - acc: 0.6761 - val_loss: 0.5122 - val_acc: 0.7762\n",
      "Epoch 2/20\n",
      "426/426 [==============================] - 0s 66us/step - loss: 0.4289 - acc: 0.8427 - val_loss: 0.3777 - val_acc: 0.8811\n",
      "Epoch 3/20\n",
      "426/426 [==============================] - 0s 54us/step - loss: 0.3149 - acc: 0.9085 - val_loss: 0.2926 - val_acc: 0.9161\n",
      "Epoch 4/20\n",
      "426/426 [==============================] - 0s 59us/step - loss: 0.2401 - acc: 0.9366 - val_loss: 0.2327 - val_acc: 0.9231\n",
      "Epoch 5/20\n",
      "426/426 [==============================] - 0s 77us/step - loss: 0.1887 - acc: 0.9484 - val_loss: 0.1929 - val_acc: 0.9301\n",
      "Epoch 6/20\n",
      "426/426 [==============================] - 0s 61us/step - loss: 0.1539 - acc: 0.9531 - val_loss: 0.1690 - val_acc: 0.9301\n",
      "Epoch 7/20\n",
      "426/426 [==============================] - 0s 54us/step - loss: 0.1318 - acc: 0.9531 - val_loss: 0.1522 - val_acc: 0.9301\n",
      "Epoch 8/20\n",
      "426/426 [==============================] - 0s 59us/step - loss: 0.1160 - acc: 0.9624 - val_loss: 0.1385 - val_acc: 0.9441\n",
      "Epoch 9/20\n",
      "426/426 [==============================] - 0s 59us/step - loss: 0.1040 - acc: 0.9695 - val_loss: 0.1303 - val_acc: 0.9441\n",
      "Epoch 10/20\n",
      "426/426 [==============================] - 0s 61us/step - loss: 0.0952 - acc: 0.9718 - val_loss: 0.1239 - val_acc: 0.9510\n",
      "Epoch 11/20\n",
      "426/426 [==============================] - 0s 63us/step - loss: 0.0876 - acc: 0.9789 - val_loss: 0.1200 - val_acc: 0.9510\n",
      "Epoch 12/20\n",
      "426/426 [==============================] - 0s 77us/step - loss: 0.0825 - acc: 0.9812 - val_loss: 0.1162 - val_acc: 0.9650\n",
      "Epoch 13/20\n",
      "426/426 [==============================] - 0s 63us/step - loss: 0.0772 - acc: 0.9812 - val_loss: 0.1132 - val_acc: 0.9650\n",
      "Epoch 14/20\n",
      "426/426 [==============================] - 0s 59us/step - loss: 0.0736 - acc: 0.9812 - val_loss: 0.1116 - val_acc: 0.9650\n",
      "Epoch 15/20\n",
      "426/426 [==============================] - 0s 54us/step - loss: 0.0693 - acc: 0.9812 - val_loss: 0.1123 - val_acc: 0.9580\n",
      "Epoch 16/20\n",
      "426/426 [==============================] - 0s 63us/step - loss: 0.0666 - acc: 0.9836 - val_loss: 0.1125 - val_acc: 0.9580\n",
      "Epoch 17/20\n",
      "426/426 [==============================] - 0s 75us/step - loss: 0.0639 - acc: 0.9859 - val_loss: 0.1123 - val_acc: 0.9580\n",
      "Epoch 18/20\n",
      "426/426 [==============================] - 0s 70us/step - loss: 0.0612 - acc: 0.9859 - val_loss: 0.1103 - val_acc: 0.9580\n",
      "Epoch 19/20\n",
      "426/426 [==============================] - 0s 61us/step - loss: 0.0590 - acc: 0.9859 - val_loss: 0.1108 - val_acc: 0.9510\n",
      "Epoch 20/20\n",
      "426/426 [==============================] - 0s 63us/step - loss: 0.0572 - acc: 0.9859 - val_loss: 0.1102 - val_acc: 0.9580\n"
     ]
    },
    {
     "data": {
      "text/plain": [
       "<keras.callbacks.History at 0x222983cec18>"
      ]
     },
     "execution_count": 7,
     "metadata": {},
     "output_type": "execute_result"
    }
   ],
   "source": [
    "# creating model\n",
    "model = Sequential()\n",
    "\n",
    "layer1 = Dense(units = 32, activation = 'relu', input_dim = 30)\n",
    "model.add(layer1)\n",
    "model.add(Dense(units = 16, activation= 'relu'))\n",
    "model.add(Dense(units = 1, activation = 'sigmoid'))\n",
    "\n",
    "model.compile(optimizer='adam', loss='binary_crossentropy', metrics=['accuracy'])\n",
    "\n",
    "model.fit(X_train_scaled, Y_train, epochs=20, validation_data=(X_test_scaled, Y_test))"
   ]
  },
  {
   "cell_type": "code",
   "execution_count": 9,
   "metadata": {},
   "outputs": [
    {
     "data": {
      "text/plain": [
       "array([[  1.10374773e-02],\n",
       "       [  9.41343129e-01],\n",
       "       [  9.97400284e-01],\n",
       "       [  9.89706993e-01],\n",
       "       [  9.98683035e-01],\n",
       "       [  9.94539320e-01],\n",
       "       [  9.99818861e-01],\n",
       "       [  9.96779263e-01],\n",
       "       [  9.99966383e-01],\n",
       "       [  9.99627471e-01],\n",
       "       [  6.27379358e-01],\n",
       "       [  8.90150189e-01],\n",
       "       [  9.99992728e-01],\n",
       "       [  3.57521176e-01],\n",
       "       [  6.39829755e-01],\n",
       "       [  8.83525461e-02],\n",
       "       [  9.98920798e-01],\n",
       "       [  2.23183000e-04],\n",
       "       [  1.76310551e-03],\n",
       "       [  1.73150565e-05],\n",
       "       [  1.86476558e-02],\n",
       "       [  7.24514807e-03],\n",
       "       [  9.88362968e-01],\n",
       "       [  9.99066174e-01],\n",
       "       [  2.82971887e-03],\n",
       "       [  9.99307036e-01],\n",
       "       [  9.99911308e-01],\n",
       "       [  3.24712619e-02],\n",
       "       [  9.97475922e-01],\n",
       "       [  1.97231479e-04],\n",
       "       [  9.99868870e-01],\n",
       "       [  2.41093058e-03],\n",
       "       [  9.34051573e-01],\n",
       "       [  8.31705611e-03],\n",
       "       [  9.99994516e-01],\n",
       "       [  7.91843142e-03],\n",
       "       [  9.87550318e-01],\n",
       "       [  7.01350858e-03],\n",
       "       [  9.89295065e-01],\n",
       "       [  1.25510767e-02],\n",
       "       [  3.01921308e-01],\n",
       "       [  9.99626160e-01],\n",
       "       [  1.69248596e-01],\n",
       "       [  9.99889493e-01],\n",
       "       [  9.95204091e-01],\n",
       "       [  8.75626938e-06],\n",
       "       [  9.99996901e-01],\n",
       "       [  9.61532772e-01],\n",
       "       [  9.97832358e-01],\n",
       "       [  1.81545620e-04],\n",
       "       [  2.57222564e-03],\n",
       "       [  1.14845857e-01],\n",
       "       [  1.86076958e-03],\n",
       "       [  9.97449219e-01],\n",
       "       [  9.95437562e-01],\n",
       "       [  9.98943627e-01],\n",
       "       [  9.99218345e-01],\n",
       "       [  9.96914983e-01],\n",
       "       [  9.88920510e-01],\n",
       "       [  8.96801157e-06],\n",
       "       [  4.27653678e-02],\n",
       "       [  8.40404443e-03],\n",
       "       [  9.99800980e-01],\n",
       "       [  9.93152976e-01],\n",
       "       [  9.73396283e-03],\n",
       "       [  9.33836043e-01],\n",
       "       [  3.73194879e-08],\n",
       "       [  3.07921837e-05],\n",
       "       [  2.51984602e-04],\n",
       "       [  9.99054253e-01],\n",
       "       [  6.58393145e-01],\n",
       "       [  4.25700098e-04],\n",
       "       [  9.98110175e-01],\n",
       "       [  1.37232453e-01],\n",
       "       [  1.62181677e-04],\n",
       "       [  9.68443036e-01],\n",
       "       [  9.99963284e-01],\n",
       "       [  9.23090518e-01],\n",
       "       [  9.99415159e-01],\n",
       "       [  9.99935150e-01],\n",
       "       [  1.37215061e-02],\n",
       "       [  1.34613383e-05],\n",
       "       [  2.17901485e-04],\n",
       "       [  9.99332607e-01],\n",
       "       [  1.65785719e-02],\n",
       "       [  9.98623013e-01],\n",
       "       [  9.99856234e-01],\n",
       "       [  9.99968767e-01],\n",
       "       [  1.30567385e-03],\n",
       "       [  7.26878326e-08],\n",
       "       [  9.99903440e-01],\n",
       "       [  3.43704402e-01],\n",
       "       [  2.73020118e-01],\n",
       "       [  3.05430949e-05],\n",
       "       [  9.97121632e-01],\n",
       "       [  9.97371793e-01],\n",
       "       [  1.45226819e-04],\n",
       "       [  9.97730196e-01],\n",
       "       [  9.95010972e-01],\n",
       "       [  9.97867584e-01],\n",
       "       [  9.99999881e-01],\n",
       "       [  9.97310758e-01],\n",
       "       [  9.84637916e-01],\n",
       "       [  8.56121659e-01],\n",
       "       [  2.88200844e-03],\n",
       "       [  9.99230623e-01],\n",
       "       [  2.55743162e-05],\n",
       "       [  9.43252742e-01],\n",
       "       [  7.15891182e-01],\n",
       "       [  9.92889762e-01],\n",
       "       [  9.90717232e-01],\n",
       "       [  7.12359091e-04],\n",
       "       [  2.19482696e-03],\n",
       "       [  9.70912039e-01],\n",
       "       [  9.98745561e-01],\n",
       "       [  9.88120079e-01],\n",
       "       [  9.62626874e-01],\n",
       "       [  9.97689009e-01],\n",
       "       [  9.87218082e-01],\n",
       "       [  9.97724116e-01],\n",
       "       [  9.83070552e-01],\n",
       "       [  9.98404205e-01],\n",
       "       [  7.96478152e-01],\n",
       "       [  9.93580699e-01],\n",
       "       [  1.47427825e-04],\n",
       "       [  9.44479167e-01],\n",
       "       [  9.42516088e-01],\n",
       "       [  9.99699831e-01],\n",
       "       [  9.99779642e-01],\n",
       "       [  9.99856830e-01],\n",
       "       [  9.65926237e-03],\n",
       "       [  9.99606073e-01],\n",
       "       [  9.99667048e-01],\n",
       "       [  8.31713140e-01],\n",
       "       [  9.98490334e-01],\n",
       "       [  9.99940395e-01],\n",
       "       [  5.06164134e-01],\n",
       "       [  5.54593027e-01],\n",
       "       [  2.34435362e-07],\n",
       "       [  9.99603450e-01],\n",
       "       [  9.98890102e-01],\n",
       "       [  9.98591125e-01],\n",
       "       [  3.12214070e-05]], dtype=float32)"
      ]
     },
     "execution_count": 9,
     "metadata": {},
     "output_type": "execute_result"
    }
   ],
   "source": [
    "Y_test_pred = model.predict(X_test_scaled)\n",
    "Y_test_pred"
   ]
  },
  {
   "cell_type": "code",
   "execution_count": 11,
   "metadata": {},
   "outputs": [
    {
     "name": "stdout",
     "output_type": "stream",
     "text": [
      "143/143 [==============================] - 0s 63us/step\n"
     ]
    },
    {
     "data": {
      "text/plain": [
       "[0.11021025697668116, 0.95804195845877371]"
      ]
     },
     "execution_count": 11,
     "metadata": {},
     "output_type": "execute_result"
    }
   ],
   "source": [
    "score = model.evaluate(X_test_scaled, Y_test)\n",
    "score"
   ]
  },
  {
   "cell_type": "code",
   "execution_count": null,
   "metadata": {
    "collapsed": true
   },
   "outputs": [],
   "source": []
  }
 ],
 "metadata": {
  "kernelspec": {
   "display_name": "Python 3",
   "language": "python",
   "name": "python3"
  },
  "language_info": {
   "codemirror_mode": {
    "name": "ipython",
    "version": 3
   },
   "file_extension": ".py",
   "mimetype": "text/x-python",
   "name": "python",
   "nbconvert_exporter": "python",
   "pygments_lexer": "ipython3",
   "version": "3.6.3"
  }
 },
 "nbformat": 4,
 "nbformat_minor": 2
}
