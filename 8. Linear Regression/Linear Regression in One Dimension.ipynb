{
 "cells": [
  {
   "cell_type": "code",
   "execution_count": 1,
   "metadata": {
    "collapsed": true
   },
   "outputs": [],
   "source": [
    "import numpy as np\n",
    "import pandas as pd"
   ]
  },
  {
   "cell_type": "code",
   "execution_count": 19,
   "metadata": {
    "collapsed": true
   },
   "outputs": [],
   "source": [
    "def fit(X, Y) :\n",
    "    m = ((X*Y).mean() -(X.mean())*(Y.mean()))/((X*X).mean() - (X.mean() ** 2))\n",
    "    c = Y.mean() - m*(X.mean())\n",
    "    return m, c\n",
    "\n",
    "def predict(x, m, c) :\n",
    "    return m*x + c\n",
    "\n",
    "def CD (Y_pred, Y_true) :\n",
    "    u = ((Y_true - Y_pred) ** 2 ).sum()\n",
    "    y = Y_true.mean()\n",
    "    v = ((Y_true - y) ** 2 ).sum()\n",
    "    return 1 - (u/v)\n",
    "def cost (X, Y, m, c) :\n",
    "    Y_pred = (m*X + c)\n",
    "    cost = ((Y - Y_pred)**2 ).sum()\n",
    "    return cost"
   ]
  },
  {
   "cell_type": "code",
   "execution_count": null,
   "metadata": {
    "collapsed": true
   },
   "outputs": [],
   "source": []
  },
  {
   "cell_type": "code",
   "execution_count": 20,
   "metadata": {},
   "outputs": [
    {
     "name": "stdout",
     "output_type": "stream",
     "text": [
      "X\n",
      "[0 1 2 3 4 5 6 7 8 9]\n",
      "Y\n",
      "[ 0  1  4  9 16 25 36 49 64 81]\n",
      "m\n",
      "9.0\n",
      "c\n",
      "-12.0\n",
      "Y_pred\n",
      "[-12.  -3.   6.  15.  24.  33.  42.  51.  60.  69.]\n",
      "Coeff_Det\n",
      "0.926773455378\n",
      "Cost\n",
      "528.0\n"
     ]
    }
   ],
   "source": [
    "X = np.arange(10)\n",
    "Y = X ** 2\n",
    "m, c = fit(X, Y)\n",
    "y = predict(x = 7.5, m = m, c = c)\n",
    "\n",
    "Y_pred = np.array([predict(x = x, m = m, c = c) for x in X])\n",
    "\n",
    "Coeff_Det = CD (Y_pred, Y)\n",
    "\n",
    "cost = cost(X, Y, m, c)\n",
    "\n",
    "print(\"X\")\n",
    "print(X)\n",
    "\n",
    "print(\"Y\")\n",
    "print(Y)\n",
    "\n",
    "print(\"m\")\n",
    "print(m)\n",
    "\n",
    "print(\"c\")\n",
    "print(c)\n",
    "\n",
    "print(\"Y_pred\")\n",
    "print(Y_pred)\n",
    "\n",
    "print(\"Coeff_Det\")\n",
    "print(Coeff_Det)\n",
    "\n",
    "print(\"Cost\")\n",
    "print(cost)"
   ]
  },
  {
   "cell_type": "code",
   "execution_count": 11,
   "metadata": {},
   "outputs": [
    {
     "data": {
      "image/png": "[encoded data removed]",
      "text/plain": [
       "<matplotlib.figure.Figure at 0x1f0c02b7160>"
      ]
     },
     "metadata": {},
     "output_type": "display_data"
    }
   ],
   "source": [
    "import matplotlib.pyplot as plt\n",
    "plt.scatter(X, Y, label = \"True\", color = 'r')\n",
    "plt.plot(X, Y_pred, label = \"Pred\", color = 'b')\n",
    "plt.legend()\n",
    "plt.show()"
   ]
  }
 ],
 "metadata": {
  "kernelspec": {
   "display_name": "Python 3",
   "language": "python",
   "name": "python3"
  },
  "language_info": {
   "codemirror_mode": {
    "name": "ipython",
    "version": 3
   },
   "file_extension": ".py",
   "mimetype": "text/x-python",
   "name": "python",
   "nbconvert_exporter": "python",
   "pygments_lexer": "ipython3",
   "version": "3.6.3"
  }
 },
 "nbformat": 4,
 "nbformat_minor": 2
}
