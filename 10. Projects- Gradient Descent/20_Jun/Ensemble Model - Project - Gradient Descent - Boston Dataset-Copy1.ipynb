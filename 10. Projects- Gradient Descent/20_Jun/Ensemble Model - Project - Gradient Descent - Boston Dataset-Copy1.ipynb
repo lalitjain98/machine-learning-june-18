{
 "cells": [
  {
   "cell_type": "markdown",
   "metadata": {},
   "source": [
    "## Gradient Descent - Boston Dataset\n",
    "Boston dataset is one of the datasets available in sklearn.\n",
    "You are given a Training dataset csv file with X train and Y train data. As studied in lecture, your task is to come up with Gradient Descent algorithm and thus predictions for the test dataset given.\n",
    "Your task is to:\n",
    "    1. Code Gradient Descent for N features and come with predictions.\n",
    "    2. Try and test with various combinations of learning rates and number of iterations.\n",
    "    3. Try using Feature Scaling, and see if it helps you in getting better results. \n",
    "Read Instructions carefully -\n",
    "    1. Use Gradient Descent as a training algorithm and submit results predicted.\n",
    "    2. Files are in csv format, you can use genfromtxt function in numpy to load data from csv file. Similarly you can use savetxt function to save data into a file.\n",
    "    3. Submit a csv file with only predictions for X test data. File name should not have spaces. File should not have any headers and should only have one column i.e. predictions. Also predictions shouldn't be in exponential form. \n",
    "    4. Your score is based on coefficient of determination.\n"
   ]
  },
  {
   "cell_type": "code",
   "execution_count": 1,
   "metadata": {},
   "outputs": [],
   "source": [
    "import numpy as np\n",
    "import pandas as pd"
   ]
  },
  {
   "cell_type": "code",
   "execution_count": 2,
   "metadata": {},
   "outputs": [
    {
     "name": "stdout",
     "output_type": "stream",
     "text": [
      "             CRIM          ZN       INDUS        CHAS         NOX          RM  \\\n",
      "count  379.000000  379.000000  379.000000  379.000000  379.000000  379.000000   \n",
      "mean     0.019628    0.002455    0.036170    0.028955    0.028775    0.032202   \n",
      "std      1.067490    1.000813    1.017497    1.048995    0.999656    1.001174   \n",
      "min     -0.417713   -0.487722   -1.516987   -0.272599   -1.465882   -3.880249   \n",
      "25%     -0.408171   -0.487722   -0.867691   -0.272599   -0.878475   -0.571480   \n",
      "50%     -0.383729   -0.487722   -0.180458   -0.272599   -0.144217   -0.103479   \n",
      "75%      0.055208    0.156071    1.015999   -0.272599    0.628913    0.529069   \n",
      "max      9.941735    3.804234    2.422565    3.668398    2.732346    3.555044   \n",
      "\n",
      "              AGE         DIS         RAD         TAX     PTRATIO           B  \\\n",
      "count  379.000000  379.000000  379.000000  379.000000  379.000000  379.000000   \n",
      "mean     0.038395   -0.001288    0.043307    0.043786    0.019218   -0.015785   \n",
      "std      0.985209    1.027803    1.016265    1.019974    1.000296    1.015797   \n",
      "min     -2.335437   -1.267069   -0.982843   -1.313990   -2.707379   -3.883072   \n",
      "25%     -0.768994   -0.829872   -0.637962   -0.755697   -0.488039    0.197588   \n",
      "50%      0.338718   -0.329213   -0.523001   -0.440915    0.297977    0.374827   \n",
      "75%      0.911243    0.674172    1.661245    1.530926    0.806576    0.429868   \n",
      "max      1.117494    3.960518    1.661245    1.798194    1.638828    0.441052   \n",
      "\n",
      "            LSTAT           Y  \n",
      "count  379.000000  379.000000  \n",
      "mean     0.018418   22.609499  \n",
      "std      1.015377    9.389647  \n",
      "min     -1.531127    5.000000  \n",
      "25%     -0.828856   16.700000  \n",
      "50%     -0.161629   21.100000  \n",
      "75%      0.647173   25.750000  \n",
      "max      3.409999   50.000000  \n",
      "(379, 13)\n",
      "(379,)\n",
      "               0           1           2           3           4           5   \\\n",
      "count  127.000000  127.000000  127.000000  127.000000  127.000000  127.000000   \n",
      "mean    -0.058575   -0.007327   -0.107939   -0.086410   -0.085871   -0.096098   \n",
      "std      0.769837    1.005445    0.945672    0.839435    1.003998    0.998196   \n",
      "min     -0.417173   -0.487722   -1.557842   -0.272599   -1.431329   -3.058221   \n",
      "25%     -0.410832   -0.487722   -0.891036   -0.272599   -0.947582   -0.567918   \n",
      "50%     -0.398269   -0.487722   -0.375976   -0.272599   -0.299707   -0.127698   \n",
      "75%     -0.242900   -0.219475    1.015999   -0.272599    0.434551    0.283316   \n",
      "max      3.966816    3.589637    2.117615    3.668398    2.732346    3.476688   \n",
      "\n",
      "               6           7           8           9           10          11  \\\n",
      "count  127.000000  127.000000  127.000000  127.000000  127.000000  127.000000   \n",
      "mean    -0.114581    0.003845   -0.129240   -0.130670   -0.057350    0.047105   \n",
      "std      1.042254    0.920171    0.946051    0.933732    1.004824    0.957787   \n",
      "min     -2.225199   -1.263551   -0.982843   -1.308051   -2.707379   -3.907193   \n",
      "25%     -1.240171   -0.762417   -0.637962   -0.785394   -0.765457    0.246544   \n",
      "50%      0.111130   -0.202052   -0.523001   -0.601276    0.113032    0.396098   \n",
      "75%      0.898797    0.604198   -0.350561    0.072833    0.806576    0.441052   \n",
      "max      1.117494    3.287300    1.661245    1.530926    1.268938    0.441052   \n",
      "\n",
      "               12  \n",
      "count  127.000000  \n",
      "mean    -0.054965  \n",
      "std      0.958559  \n",
      "min     -1.496084  \n",
      "25%     -0.678870  \n",
      "50%     -0.283580  \n",
      "75%      0.389254  \n",
      "max      3.548771  \n",
      "(127, 13)\n"
     ]
    }
   ],
   "source": [
    "# Loading Datasets\n",
    "\n",
    "train_dataset = np.genfromtxt(\"training_boston_x_y_train.csv\", names = True, delimiter = \",\")\n",
    "train_df = pd.DataFrame(train_dataset)\n",
    "print(train_df.describe())\n",
    "num_cols = len(train_df.columns)\n",
    "X_train = train_df.values[:, 0: num_cols -1 ]\n",
    "Y_train = train_df.values[:, num_cols - 1]\n",
    "print(X_train.shape)\n",
    "print(Y_train.shape)\n",
    "\n",
    "# print(X_train)\n",
    "# print(Y_train)\n",
    "\n",
    "test_dataset = np.genfromtxt(\"test_boston_x_test.csv\", names = None, delimiter = \",\")\n",
    "test_df = pd.DataFrame(test_dataset)\n",
    "print(test_df.describe())\n",
    "num_cols = len(test_df.columns)\n",
    "X_test = test_df.values\n",
    "\n",
    "print(X_test.shape)\n",
    "\n",
    "# print(X_train)"
   ]
  },
  {
   "cell_type": "code",
   "execution_count": 3,
   "metadata": {},
   "outputs": [
    {
     "data": {
      "text/plain": [
       "<Figure size 640x480 with 1 Axes>"
      ]
     },
     "metadata": {},
     "output_type": "display_data"
    },
    {
     "data": {
      "text/plain": [
       "<Figure size 640x480 with 1 Axes>"
      ]
     },
     "metadata": {},
     "output_type": "display_data"
    },
    {
     "data": {
      "text/plain": [
       "<Figure size 640x480 with 1 Axes>"
      ]
     },
     "metadata": {},
     "output_type": "display_data"
    },
    {
     "data": {
      "text/plain": [
       "<Figure size 640x480 with 1 Axes>"
      ]
     },
     "metadata": {},
     "output_type": "display_data"
    },
    {
     "data": {
      "text/plain": [
       "<Figure size 640x480 with 1 Axes>"
      ]
     },
     "metadata": {},
     "output_type": "display_data"
    },
    {
     "data": {
      "text/plain": [
       "<Figure size 640x480 with 1 Axes>"
      ]
     },
     "metadata": {},
     "output_type": "display_data"
    },
    {
     "data": {
      "text/plain": [
       "<Figure size 640x480 with 1 Axes>"
      ]
     },
     "metadata": {},
     "output_type": "display_data"
    },
    {
     "data": {
      "text/plain": [
       "<Figure size 640x480 with 1 Axes>"
      ]
     },
     "metadata": {},
     "output_type": "display_data"
    },
    {
     "data": {
      "text/plain": [
       "<Figure size 640x480 with 1 Axes>"
      ]
     },
     "metadata": {},
     "output_type": "display_data"
    },
    {
     "data": {
      "text/plain": [
       "<Figure size 640x480 with 1 Axes>"
      ]
     },
     "metadata": {},
     "output_type": "display_data"
    },
    {
     "data": {
      "text/plain": [
       "<Figure size 640x480 with 1 Axes>"
      ]
     },
     "metadata": {},
     "output_type": "display_data"
    },
    {
     "data": {
      "text/plain": [
       "<Figure size 640x480 with 1 Axes>"
      ]
     },
     "metadata": {},
     "output_type": "display_data"
    },
    {
     "data": {
      "text/plain": [
       "<Figure size 640x480 with 1 Axes>"
      ]
     },
     "metadata": {},
     "output_type": "display_data"
    },
    {
     "data": {
      "text/plain": [
       "<Figure size 640x480 with 1 Axes>"
      ]
     },
     "metadata": {},
     "output_type": "display_data"
    },
    {
     "data": {
      "text/plain": [
       "<Figure size 640x480 with 1 Axes>"
      ]
     },
     "metadata": {},
     "output_type": "display_data"
    },
    {
     "data": {
      "text/plain": [
       "<Figure size 640x480 with 1 Axes>"
      ]
     },
     "metadata": {},
     "output_type": "display_data"
    },
    {
     "data": {
      "text/plain": [
       "<Figure size 640x480 with 1 Axes>"
      ]
     },
     "metadata": {},
     "output_type": "display_data"
    },
    {
     "data": {
      "text/plain": [
       "<Figure size 640x480 with 1 Axes>"
      ]
     },
     "metadata": {},
     "output_type": "display_data"
    },
    {
     "data": {
      "text/plain": [
       "<Figure size 640x480 with 1 Axes>"
      ]
     },
     "metadata": {},
     "output_type": "display_data"
    },
    {
     "data": {
      "text/plain": [
       "<Figure size 640x480 with 1 Axes>"
      ]
     },
     "metadata": {},
     "output_type": "display_data"
    },
    {
     "data": {
      "text/plain": [
       "<Figure size 640x480 with 1 Axes>"
      ]
     },
     "metadata": {},
     "output_type": "display_data"
    },
    {
     "data": {
      "text/plain": [
       "<Figure size 640x480 with 1 Axes>"
      ]
     },
     "metadata": {},
     "output_type": "display_data"
    },
    {
     "data": {
      "text/plain": [
       "<Figure size 640x480 with 1 Axes>"
      ]
     },
     "metadata": {},
     "output_type": "display_data"
    },
    {
     "data": {
      "text/plain": [
       "<Figure size 640x480 with 1 Axes>"
      ]
     },
     "metadata": {},
     "output_type": "display_data"
    },
    {
     "data": {
      "text/plain": [
       "<Figure size 640x480 with 1 Axes>"
      ]
     },
     "metadata": {},
     "output_type": "display_data"
    },
    {
     "data": {
      "text/plain": [
       "<Figure size 640x480 with 1 Axes>"
      ]
     },
     "metadata": {},
     "output_type": "display_data"
    },
    {
     "data": {
      "text/plain": [
       "<Figure size 640x480 with 1 Axes>"
      ]
     },
     "metadata": {},
     "output_type": "display_data"
    },
    {
     "data": {
      "text/plain": [
       "<Figure size 640x480 with 1 Axes>"
      ]
     },
     "metadata": {},
     "output_type": "display_data"
    },
    {
     "data": {
      "text/plain": [
       "<Figure size 640x480 with 1 Axes>"
      ]
     },
     "metadata": {},
     "output_type": "display_data"
    },
    {
     "data": {
      "text/plain": [
       "<Figure size 640x480 with 1 Axes>"
      ]
     },
     "metadata": {},
     "output_type": "display_data"
    },
    {
     "data": {
      "text/plain": [
       "<Figure size 640x480 with 1 Axes>"
      ]
     },
     "metadata": {},
     "output_type": "display_data"
    },
    {
     "data": {
      "text/plain": [
       "<Figure size 640x480 with 1 Axes>"
      ]
     },
     "metadata": {},
     "output_type": "display_data"
    },
    {
     "data": {
      "text/plain": [
       "<Figure size 640x480 with 1 Axes>"
      ]
     },
     "metadata": {},
     "output_type": "display_data"
    },
    {
     "data": {
      "text/plain": [
       "<Figure size 640x480 with 1 Axes>"
      ]
     },
     "metadata": {},
     "output_type": "display_data"
    },
    {
     "data": {
      "text/plain": [
       "<Figure size 640x480 with 1 Axes>"
      ]
     },
     "metadata": {},
     "output_type": "display_data"
    },
    {
     "data": {
      "text/plain": [
       "<Figure size 640x480 with 1 Axes>"
      ]
     },
     "metadata": {},
     "output_type": "display_data"
    },
    {
     "data": {
      "text/plain": [
       "<Figure size 640x480 with 1 Axes>"
      ]
     },
     "metadata": {},
     "output_type": "display_data"
    },
    {
     "data": {
      "text/plain": [
       "<Figure size 640x480 with 1 Axes>"
      ]
     },
     "metadata": {},
     "output_type": "display_data"
    },
    {
     "data": {
      "text/plain": [
       "<Figure size 640x480 with 1 Axes>"
      ]
     },
     "metadata": {},
     "output_type": "display_data"
    }
   ],
   "source": [
    "# plotting features\n",
    "import copy\n",
    "import matplotlib.pyplot as plt\n",
    "for i in range(X_train.shape[1]) :\n",
    "    x = copy.deepcopy(X_train[:, i])\n",
    "    x.sort()\n",
    "    plt.title(i)\n",
    "    plt.plot(x)\n",
    "    plt.plot(x**2)\n",
    "    plt.show()\n",
    "    plt.hist(x)\n",
    "    plt.show()\n",
    "    plt.hist(x**2)\n",
    "    plt.show()"
   ]
  },
  {
   "cell_type": "code",
   "execution_count": 4,
   "metadata": {},
   "outputs": [],
   "source": [
    "def single_step(X, Y, m, alpha):\n",
    "    n_1 = len(m)\n",
    "    num_eg = len(X)\n",
    "    slope_m = np.zeros(n_1) \n",
    "    \n",
    "    for j in range(n_1):\n",
    "        for i in range(num_eg) :\n",
    "            slope_m[j] += (-2/num_eg)* ((Y[i] - (m *(X[i])).sum() ) * X[i][j] )    \n",
    "    #for j in range(n_1):\n",
    "            m[j] -= alpha*slope_m[j]\n",
    "    return m\n",
    "\n",
    "def cost(X, Y, m):\n",
    "    cost = 0\n",
    "    num_eg = len(X)\n",
    "    for i in range(num_eg) :\n",
    "        cost += ((Y[i] - (m * X[i]).sum())**2 )/num_eg\n",
    "    return cost\n",
    "\n",
    "def gd(X, Y, alpha, num_iters):\n",
    "    num_eg = len(X)\n",
    "    X = np.c_[X, np.ones(X.shape[0])]\n",
    "    m = np.zeros(len(X[0]))\n",
    "    costs = {}\n",
    "    #print(len(m))\n",
    "    for i in range(num_iters):\n",
    "        m = single_step(X, Y, m, alpha)\n",
    "        if i % 50 == 0 :\n",
    "            costs[i] = cost(X, Y, m)\n",
    "            print(i, \" \", costs[i])\n",
    "    import matplotlib.pyplot as plt\n",
    "    keys = [key for key in costs]\n",
    "    values = [costs[key] for key in costs]\n",
    "    plt.plot(keys, values)\n",
    "    plt.show()\n",
    "    return m\n",
    "\n",
    "def predict(X, m) :\n",
    "    X = np.c_[X, np.ones(X.shape[0])]\n",
    "    Y = np.array([])\n",
    "    for i in range(len(X)):\n",
    "        Y_i = (X[i] * m).sum()\n",
    "        Y = np.append(Y, Y_i)\n",
    "    return Y\n",
    "\n",
    "def scale_features(X_train) :\n",
    "    import copy\n",
    "    X = copy.deepcopy(X_train)\n",
    "    means = np.array([X[:, i].mean() for i in range(X.shape[1])])\n",
    "    stds = np.array([X[:, i].std() for i in range(X.shape[1])])\n",
    "    \n",
    "    for i in range(X.shape[0]) :\n",
    "        X[i, :] = (X[i, :] - means)/stds\n",
    "    return X\n",
    "def score(Y_true, Y_pred) :\n",
    "    mean = Y_true.mean()\n",
    "    u = ((Y_true - Y_pred)**2).sum()\n",
    "    v = ((Y_true - mean)**2).sum() \n",
    "    return 1 - (u/v)\n",
    "# Introduce more features\n",
    "def add_more_features (X_train, imp_cols_indices):\n",
    "    X_train_df = pd.DataFrame(X_train)\n",
    "    num_f = len(X_train_df.columns)\n",
    "    col_names = X_train_df.columns\n",
    "    new_df = X_train_df.copy()\n",
    "    num_imp_cols = len(imp_col_indices)\n",
    "    for i1 in range(num_imp_cols) :\n",
    "        for j1 in range(i1, num_imp_cols):\n",
    "            i = imp_cols_indices[i1]\n",
    "            j = imp_cols_indices[j1]\n",
    "            new_df[ str(col_names[i]) + \"_\" + str(col_names[j])] = X_train_df[i] * X_train_df[j]\n",
    "    #print(new_df.describe())\n",
    "    return new_df.values"
   ]
  },
  {
   "cell_type": "code",
   "execution_count": 19,
   "metadata": {},
   "outputs": [],
   "source": [
    "from numpy.random import choice \n",
    "def gen_linear_regressors(X_train, Y_train, subset_size_ratio, num_regressors, alpha, num_iters) :\n",
    "    n_plus_1 = len(X_train[0]) + 1\n",
    "    num_examples = len(X_train)\n",
    "    sub_set_size = int(subset_size_ratio * num_examples) \n",
    "    arr_m = np.empty((0, n_plus_1), dtype = float)\n",
    "    print(arr_m.shape)\n",
    "    for i in range(num_regressors) :\n",
    "        subset_indices = choice(num_examples, sub_set_size, replace = False)\n",
    "        X_i = X_train[subset_indices]\n",
    "        Y_i = Y_train[subset_indices]\n",
    "        m_i = gd(X_i, Y_i, alpha, num_iters)\n",
    "        arr_m = np.vstack((arr_m, m_i))\n",
    "        #arr_m = np.append(arr_m, m_i, axis = 0)\n",
    "        print(arr_m.shape)\n",
    "    return arr_m\n",
    "def predict_from_models(X, arr_m):\n",
    "    Y_pred_means = np.zeros(len(X))\n",
    "    for i in range(len(arr_m)) :\n",
    "        Y_pred = predict(X, arr_m[i])\n",
    "        #print(i, \" \", Y_pred)\n",
    "        Y_pred_means += Y_pred\n",
    "    Y_pred_means /= len(arr_m)\n",
    "    return Y_pred_means"
   ]
  },
  {
   "cell_type": "code",
   "execution_count": 6,
   "metadata": {},
   "outputs": [],
   "source": [
    "#scaled_X_train = scale_features(X_train)\n",
    "#scaled_X_df = pd.DataFrame(scaled_X_train)\n",
    "#scaled_X_df.describe()"
   ]
  },
  {
   "cell_type": "code",
   "execution_count": 8,
   "metadata": {
    "scrolled": false
   },
   "outputs": [
    {
     "name": "stdout",
     "output_type": "stream",
     "text": [
      "(0, 29)\n",
      "0   174.27489847968832\n",
      "50   25.720261774191865\n",
      "100   24.493253721976796\n",
      "150   24.22110825585428\n",
      "200   24.028826984078403\n",
      "250   23.895458516116015\n",
      "300   23.80240887795956\n",
      "350   23.735758820232178\n",
      "400   23.68682147217435\n",
      "450   23.650080027939524\n",
      "500   23.62190347036598\n",
      "550   23.59984511513553\n",
      "600   23.58223126875993\n",
      "650   23.567903183644493\n",
      "700   23.556049200153325\n",
      "750   23.54609362064547\n",
      "800   23.537622433727176\n",
      "850   23.53033334164052\n",
      "900   23.52400194930042\n",
      "950   23.518458759945485\n"
     ]
    },
    {
     "data": {
      "image/png": "[encoded data removed]",
      "text/plain": [
       "<Figure size 432x288 with 1 Axes>"
      ]
     },
     "metadata": {},
     "output_type": "display_data"
    },
    {
     "name": "stdout",
     "output_type": "stream",
     "text": [
      "(1, 29)\n",
      "0   158.43885623882\n",
      "50   20.666720363600025\n",
      "100   19.465109274339614\n",
      "150   19.3317862278886\n",
      "200   19.317950148824277\n",
      "250   19.33080155225854\n",
      "300   19.350531138261868\n",
      "350   19.37155738060909\n",
      "400   19.39221354114082\n",
      "450   19.412027123609683\n",
      "500   19.43090485049916\n",
      "550   19.44887027417657\n",
      "600   19.465976133310857\n",
      "650   19.482275841928086\n",
      "700   19.497815724185905\n",
      "750   19.512634371270885\n",
      "800   19.526764111967058\n",
      "850   19.540232786304287\n",
      "900   19.55306523884152\n",
      "950   19.56528441283094\n"
     ]
    },
    {
     "data": {
      "image/png": "[encoded data removed]",
      "text/plain": [
       "<Figure size 432x288 with 1 Axes>"
      ]
     },
     "metadata": {},
     "output_type": "display_data"
    },
    {
     "name": "stdout",
     "output_type": "stream",
     "text": [
      "(2, 29)\n",
      "0   156.76459127036037\n",
      "50   24.022526680882958\n",
      "100   22.256538088536963\n",
      "150   21.96158004735561\n",
      "200   21.825992502737463\n",
      "250   21.725025940163412\n",
      "300   21.641575402082793\n",
      "350   21.571317633683126\n",
      "400   21.512045419633846\n",
      "450   21.46208568591426\n",
      "500   21.42002601970064\n",
      "550   21.384656316859274\n",
      "600   21.354943743649702\n",
      "650   21.330011585024312\n",
      "700   21.30911872574902\n",
      "750   21.29164030078281\n",
      "800   21.2770501427968\n",
      "850   21.26490532071747\n",
      "900   21.254832800263948\n",
      "950   21.2465181005038\n"
     ]
    },
    {
     "data": {
      "image/png": "[encoded data removed]",
      "text/plain": [
       "<Figure size 432x288 with 1 Axes>"
      ]
     },
     "metadata": {},
     "output_type": "display_data"
    },
    {
     "name": "stdout",
     "output_type": "stream",
     "text": [
      "(3, 29)\n",
      "0   151.37639735224172\n",
      "50   21.672119060528647\n",
      "100   20.136299120787072\n",
      "150   19.819827477443763\n",
      "200   19.679806650297483\n",
      "250   19.594505252322396\n",
      "300   19.53511949367704\n",
      "350   19.490246276326392\n",
      "400   19.45450569897833\n",
      "450   19.42509322159143\n",
      "500   19.40040139370854\n",
      "550   19.379420473770622\n",
      "600   19.36146265908688\n",
      "650   19.34602753136878\n",
      "700   19.332732108560744\n",
      "750   19.321272025763015\n",
      "800   19.311398575128987\n",
      "850   19.302904302071152\n",
      "900   19.295613483574176\n",
      "950   19.28937554110411\n"
     ]
    },
    {
     "data": {
      "image/png": "[encoded data removed]",
      "text/plain": [
       "<Figure size 432x288 with 1 Axes>"
      ]
     },
     "metadata": {},
     "output_type": "display_data"
    },
    {
     "name": "stdout",
     "output_type": "stream",
     "text": [
      "(4, 29)\n",
      "0   155.62418299286148\n",
      "50   18.388407559581154\n",
      "100   17.37810775630408\n",
      "150   17.2817960844247\n",
      "200   17.220022879146633\n",
      "250   17.17266537960415\n",
      "300   17.136280969864195\n",
      "350   17.107344226845232\n",
      "400   17.083534756703866\n",
      "450   17.063464745282737\n",
      "500   17.046278675044302\n",
      "550   17.031410120305708\n",
      "600   17.018455851676226\n",
      "650   17.00711163189106\n",
      "700   16.99713801718976\n",
      "750   16.98834090630085\n",
      "800   16.980559689882355\n",
      "850   16.97365955437341\n",
      "900   16.967526192264238\n",
      "950   16.96206198324145\n"
     ]
    },
    {
     "data": {
      "image/png": "[encoded data removed]",
      "text/plain": [
       "<Figure size 432x288 with 1 Axes>"
      ]
     },
     "metadata": {},
     "output_type": "display_data"
    },
    {
     "name": "stdout",
     "output_type": "stream",
     "text": [
      "(5, 29)\n",
      "0   168.99135744669275\n",
      "50   22.89005260105966\n",
      "100   21.769615722495647\n",
      "150   21.6207868347446\n",
      "200   21.55912206657573\n",
      "250   21.518362219985658\n",
      "300   21.48628246580438\n",
      "350   21.459097681493844\n",
      "400   21.435444675355598\n",
      "450   21.414717308508123\n",
      "500   21.396549804422058\n",
      "550   21.3806574848569\n",
      "600   21.366789563490475\n",
      "650   21.354716793576646\n",
      "700   21.34422922776065\n",
      "750   21.335136200452183\n",
      "800   21.327266228202454\n",
      "850   21.320466359021122\n",
      "900   21.314601048648235\n",
      "950   21.309550752813696\n"
     ]
    },
    {
     "data": {
      "image/png": "[encoded data removed]",
      "text/plain": [
       "<Figure size 432x288 with 1 Axes>"
      ]
     },
     "metadata": {},
     "output_type": "display_data"
    },
    {
     "name": "stdout",
     "output_type": "stream",
     "text": [
      "(6, 29)\n",
      "0   169.25821583620052\n",
      "50   19.807209770056645\n",
      "100   18.775432533142194\n",
      "150   18.620213503448717\n",
      "200   18.55729367546694\n",
      "250   18.52566590681908\n",
      "300   18.506886174423652\n",
      "350   18.492954840357555\n",
      "400   18.48083471684481\n",
      "450   18.469516786033743\n",
      "500   18.458719690087683\n",
      "550   18.448392099018672\n",
      "600   18.43854024077049\n",
      "650   18.42917431274503\n",
      "700   18.42029524063662\n",
      "750   18.41189396675682\n",
      "800   18.40395393624468\n",
      "850   18.396453853675933\n",
      "900   18.38936992144994\n",
      "950   18.382677454616523\n"
     ]
    },
    {
     "data": {
      "image/png": "[encoded data removed]",
      "text/plain": [
       "<Figure size 432x288 with 1 Axes>"
      ]
     },
     "metadata": {},
     "output_type": "display_data"
    },
    {
     "name": "stdout",
     "output_type": "stream",
     "text": [
      "(7, 29)\n",
      "0   177.58089056408144\n",
      "50   26.714314006758624\n",
      "100   24.942236145420704\n",
      "150   24.694469603553344\n",
      "200   24.60148629191043\n",
      "250   24.546164447625813\n",
      "300   24.507479114408895\n",
      "350   24.47774229021933\n",
      "400   24.453468809801716\n",
      "450   24.43288446932974\n",
      "500   24.414989928419587\n",
      "550   24.399171667742273\n",
      "600   24.385025411276324\n",
      "650   24.372268841167813\n",
      "700   24.360695076186733\n",
      "750   24.350146265632528\n",
      "800   24.340497807531747\n",
      "850   24.331648507666223\n",
      "900   24.323514220316547\n",
      "950   24.316023609467475\n"
     ]
    },
    {
     "data": {
      "image/png": "[encoded data removed]",
      "text/plain": [
       "<Figure size 432x288 with 1 Axes>"
      ]
     },
     "metadata": {},
     "output_type": "display_data"
    },
    {
     "name": "stdout",
     "output_type": "stream",
     "text": [
      "(8, 29)\n",
      "0   163.545887373707\n",
      "50   24.1678295694063\n",
      "100   22.835559515188816\n",
      "150   22.681997512975336\n",
      "200   22.624533926732123\n",
      "250   22.579613672728374\n",
      "300   22.540726028242347\n",
      "350   22.50711243103016\n",
      "400   22.47845309654109\n",
      "450   22.454356508219718\n",
      "500   22.434351305208153\n",
      "550   22.417938546568763\n",
      "600   22.40463372307974\n",
      "650   22.393990575031438\n",
      "700   22.385611261146376\n",
      "750   22.37914824973742\n",
      "800   22.374301795768883\n",
      "850   22.370815390941328\n",
      "900   22.36847054614895\n",
      "950   22.367081627866817\n"
     ]
    },
    {
     "data": {
      "image/png": "[encoded data removed]",
      "text/plain": [
       "<Figure size 432x288 with 1 Axes>"
      ]
     },
     "metadata": {},
     "output_type": "display_data"
    },
    {
     "name": "stdout",
     "output_type": "stream",
     "text": [
      "(9, 29)\n",
      "0   161.62802028003733\n",
      "50   22.80252551857117\n",
      "100   21.97496898980448\n",
      "150   21.886394632284205\n",
      "200   21.845813320809473\n",
      "250   21.81718120746932\n",
      "300   21.79369766003708\n",
      "350   21.772886299720728\n",
      "400   21.753853604973145\n",
      "450   21.73628289451121\n",
      "500   21.720052501759582\n",
      "550   21.705097046923218\n",
      "600   21.69136019019041\n",
      "650   21.678781135704533\n",
      "700   21.667292987758156\n",
      "750   21.656824704020778\n",
      "800   21.647303648073873\n",
      "850   21.6386577684524\n",
      "900   21.630817189292568\n",
      "950   21.623715258123543\n"
     ]
    },
    {
     "data": {
      "image/png": "[encoded data removed]",
      "text/plain": [
       "<Figure size 432x288 with 1 Axes>"
      ]
     },
     "metadata": {},
     "output_type": "display_data"
    },
    {
     "name": "stdout",
     "output_type": "stream",
     "text": [
      "(10, 29)\n",
      "[[-8.17922661e-01  1.59166401e-01  4.06079844e-01  1.09675595e+00\n",
      "  -1.01571077e+00  2.05834360e+00 -3.07898585e-02 -2.63166371e+00\n",
      "   4.61090622e-01 -3.87673996e-01 -1.95521461e+00  1.60174420e-01\n",
      "  -4.57526384e+00  3.14090169e+00 -3.32858514e+00  1.00370236e-01\n",
      "   2.43574842e+00  1.96735322e+00  9.40467256e-01 -2.03478309e+00\n",
      "  -3.27649323e+00  3.34202616e+00  1.49510635e+00  3.83653693e+00\n",
      "  -2.85831782e+00 -5.94869875e+00  5.80542608e+00 -2.55029654e+00\n",
      "   2.08106092e+01]\n",
      " [-5.19204677e-01  1.48983604e-01 -4.48118007e+00  5.07198996e-01\n",
      "  -2.49298087e+00  2.68997602e+00 -7.18452981e-02 -2.44669888e+00\n",
      "   5.27436569e+00 -2.78547256e+00 -1.90906623e+00  7.94426827e-01\n",
      "  -3.60429555e+00  2.41651105e+00 -2.16417839e+00  5.63962640e-01\n",
      "  -6.58595299e+00  2.38397473e+00  2.07229769e+00 -4.68028972e+00\n",
      "  -1.68769871e+00  8.14571277e-01  2.06393179e+00  2.12344975e+00\n",
      "  -2.04677587e-01  4.64358775e+00  2.37229313e+00 -3.80078818e+00\n",
      "   1.91274755e+01]\n",
      " [-1.09008544e+00  1.88576771e-01  4.38874726e+00  7.62380558e-01\n",
      "  -1.19091331e+00  2.24489506e+00  1.02915013e+00 -1.98987216e+00\n",
      "   1.72225180e+00 -2.73124162e+00 -2.71403751e+00  8.58608250e-01\n",
      "  -3.97849682e+00  3.76722425e-02  5.27554689e+00 -1.56426104e+00\n",
      "   3.68604361e+00  1.75195931e+00 -2.68504078e+00  1.92924124e-01\n",
      "   8.21895027e-01 -3.76761774e+00  1.22076464e+00  2.77485884e+00\n",
      "  -1.11277613e+00 -7.73883532e+00  3.99080491e+00  1.31380635e-02\n",
      "   2.30434530e+01]\n",
      " [-7.10852154e-01  9.61811803e-01  2.62501872e+00  6.44367899e-01\n",
      "  -4.16792020e-01  2.91608496e+00 -6.07712763e-01 -1.77374966e+00\n",
      "   2.33471085e+00 -1.68956928e+00 -2.09865013e+00  3.84387306e-01\n",
      "  -3.65386925e+00  1.31870088e+00  9.00449479e-01  5.37785187e-01\n",
      "   1.14304028e+00  3.20819025e+00  7.06241900e-01 -4.26929912e+00\n",
      "   9.12301758e-01 -2.36535820e+00  1.28066243e+00  2.59371103e+00\n",
      "  -1.69454706e+00 -9.47126843e+00  7.30807115e+00 -2.07493478e+00\n",
      "   2.36446290e+01]\n",
      " [-9.41616403e-01  5.86771175e-01  1.58708007e-01  4.55569957e-01\n",
      "  -7.87740336e-01  3.05712421e+00 -1.28317718e+00 -2.50694375e+00\n",
      "   2.29792937e+00 -1.40969316e+00 -1.90534031e+00  4.81669803e-01\n",
      "  -2.56234837e+00  1.26057615e+00 -4.40728535e-01  2.55215993e-01\n",
      "  -9.02505532e-01  3.17527209e+00  1.99444332e-01 -6.59813856e-01\n",
      "   1.11247279e+00 -2.14795987e+00  8.45116755e-01  1.55126717e+00\n",
      "  -1.98165577e+00 -6.47686292e+00  6.31319357e+00 -1.56162543e+00\n",
      "   2.22671316e+01]\n",
      " [-3.35537159e-01  2.86841746e-01  2.23744118e+00  1.38137949e+00\n",
      "  -5.41306957e-01  2.41690637e+00  2.39815859e-01 -1.57337786e+00\n",
      "   6.87216652e-01 -1.18359515e+00 -2.48822790e+00  3.96679425e-01\n",
      "  -4.25265012e+00  2.03022823e+00 -3.67873590e-01  3.75006799e-01\n",
      "   3.83005708e+00  1.14688489e+00  2.65923568e-01 -3.47674109e+00\n",
      "  -1.82533427e+00 -2.85517883e-01  1.94745492e+00  1.34131996e+00\n",
      "   6.39973051e-01 -6.01101531e+00  5.00010267e+00 -1.78229937e+00\n",
      "   2.16053569e+01]\n",
      " [-5.88685848e-01  7.98947936e-01 -1.20785848e+00  6.22427767e-01\n",
      "  -1.01930294e+00  1.92368928e+00  4.37285368e-01 -2.66663841e+00\n",
      "   4.14680728e+00 -3.11274315e+00 -1.46564381e+00  5.23199571e-01\n",
      "  -4.94853902e+00  1.02705690e+00 -2.87546167e+00  2.61627690e+00\n",
      "  -6.32921651e-01  1.34217023e+00  2.30510257e+00 -3.53250580e+00\n",
      "   1.18632060e+00 -2.27569486e+00  2.05929441e+00  1.66703794e-01\n",
      "  -4.97389035e-01 -5.72058188e-01  1.16074218e+00 -7.78635985e-01\n",
      "   2.06349842e+01]\n",
      " [-7.64726663e-01  1.15639291e-01 -1.35789348e+00  1.44586825e-01\n",
      "  -1.54395949e+00  1.94968614e+00 -1.72097467e-01 -2.67472139e+00\n",
      "   3.24045559e+00 -2.22817277e+00 -2.34396309e+00  7.16302791e-01\n",
      "  -3.96509045e+00  1.85352462e+00 -1.19623040e+00  1.51407621e+00\n",
      "  -7.09457788e-01  1.56351653e+00  1.22920723e+00 -3.48924458e+00\n",
      "  -9.14175366e-01  6.28352743e-01  1.95710896e+00  5.84250531e-01\n",
      "  -5.56171247e-01 -2.06044140e+00  4.10233853e+00 -2.41581718e+00\n",
      "   2.02745454e+01]\n",
      " [-1.33942314e+00  4.99952533e-01 -1.15590054e+00  1.07080696e+00\n",
      "  -6.47710169e-01  2.28349620e+00  5.64096178e-01 -2.50502588e+00\n",
      "  -1.92406232e-01  2.12468251e+00 -2.55277207e+00  9.42223288e-01\n",
      "  -5.24710465e+00  1.27180561e-01  3.90662647e+00 -1.12351366e+00\n",
      "  -2.38328201e+00  1.15876040e+00 -1.21503374e+00 -1.60032881e+00\n",
      "   1.45451175e+00 -4.22175523e+00  1.56113081e+00 -2.33388009e-01\n",
      "   1.87780996e+00 -6.05991548e+00  8.03523202e+00  1.49531074e-01\n",
      "   2.13723985e+01]\n",
      " [-9.75584821e-01  2.10419082e-01  1.35108354e+00  1.30592218e+00\n",
      "  -5.42866964e-01  2.54680912e+00  1.54872605e-01 -2.31817696e+00\n",
      "   1.36654353e+00 -1.43750597e+00 -1.94661476e+00  4.63035328e-01\n",
      "  -5.26234405e+00  2.40131072e+00 -2.57484315e-01 -1.82661765e-01\n",
      "   3.71647401e+00  4.06398425e-01  6.46202504e-01 -3.68528317e+00\n",
      "  -9.05885977e-01 -2.92415018e-02  2.15215736e+00  1.79843589e+00\n",
      "   1.00494301e-02 -3.96314490e+00  2.48670712e+00 -8.40848668e-01\n",
      "   2.04719063e+01]]\n",
      "Duration:  549.1060285568237 second\n"
     ]
    }
   ],
   "source": [
    "imp_col_indices = [2, 4, 6, 8, 9]\n",
    "import time\n",
    "s_t = time.time()\n",
    "X_train_new = add_more_features(X_train, imp_col_indices)\n",
    "X_train_scaled = scale_features(X_train_new)\n",
    "\n",
    "arr_m = gen_linear_regressors(X_train_new, Y_train, 0.75, 10, 0.002, 1000)\n",
    "\n",
    "print(arr_m)\n",
    "# m = gd(X_train_new, Y_train, 0.0007, 1000)\n",
    "\n",
    "# print(m)\n",
    "e_t = time.time()\n",
    "print(\"Duration: \",e_t-s_t, \"second\")"
   ]
  },
  {
   "cell_type": "code",
   "execution_count": null,
   "metadata": {},
   "outputs": [],
   "source": []
  },
  {
   "cell_type": "code",
   "execution_count": 20,
   "metadata": {
    "scrolled": false
   },
   "outputs": [],
   "source": [
    "X_test_new = add_more_features(X_test, imp_col_indices)\n",
    "X_test_scaled = scale_features(X_test_new)\n",
    "\n",
    "Y_pred =  predict_from_models(X_test_new, arr_m)\n",
    "#print(Y_pred)\n",
    "#Y_pred = predict(X_test_new, m)\n",
    "np.savetxt(\"boston_dataset_pred.csv\", Y_pred, '%.5f')\n"
   ]
  },
  {
   "cell_type": "code",
   "execution_count": 38,
   "metadata": {
    "scrolled": false
   },
   "outputs": [
    {
     "name": "stdout",
     "output_type": "stream",
     "text": [
      "0.7564685837065243\n",
      "     Y_train  Y_train_pred  Y_error  Y_error_perc  Y_error_sq\n",
      "0       37.9         37.70     0.20          0.53        0.04\n",
      "1       21.4         21.34     0.06          0.28        0.00\n",
      "2       12.7         12.35     0.35          2.76        0.12\n",
      "3       19.9         16.83     3.07         15.43        9.42\n",
      "4       22.5         22.07     0.43          1.91        0.18\n",
      "5       32.7         31.62     1.08          3.30        1.17\n",
      "6       23.2         22.43     0.77          3.32        0.59\n",
      "7       21.5         20.71     0.79          3.67        0.62\n",
      "8       20.5         21.23     0.73          3.56        0.53\n",
      "9       33.3         35.73     2.43          7.30        5.90\n",
      "10      23.1         24.23     1.13          4.89        1.28\n",
      "11      20.0         21.01     1.01          5.05        1.02\n",
      "12      50.0         44.42     5.58         11.16       31.14\n",
      "13      25.0         26.45     1.45          5.80        2.10\n",
      "14      20.2         21.45     1.25          6.19        1.56\n",
      "15      16.4         17.93     1.53          9.33        2.34\n",
      "16      22.4         20.57     1.83          8.17        3.35\n",
      "17      20.4         19.31     1.09          5.34        1.19\n",
      "18      18.4         19.57     1.17          6.36        1.37\n",
      "19      37.3         31.50     5.80         15.55       33.64\n",
      "20      23.1         23.97     0.87          3.77        0.76\n",
      "21      34.7         29.28     5.42         15.62       29.38\n",
      "22      33.1         34.34     1.24          3.75        1.54\n",
      "23      28.7         28.10     0.60          2.09        0.36\n",
      "24      15.6         24.12     8.52         54.62       72.59\n",
      "25      18.2         18.92     0.72          3.96        0.52\n",
      "26      17.2         15.35     1.85         10.76        3.42\n",
      "27      31.5         32.49     0.99          3.14        0.98\n",
      "28      26.6         32.29     5.69         21.39       32.38\n",
      "29      24.1         27.92     3.82         15.85       14.59\n",
      "..       ...           ...      ...           ...         ...\n",
      "349     10.8          9.85     0.95          8.80        0.90\n",
      "350     22.0         21.54     0.46          2.09        0.21\n",
      "351     21.2         20.02     1.18          5.57        1.39\n",
      "352     24.1         21.42     2.68         11.12        7.18\n",
      "353     28.7         31.46     2.76          9.62        7.62\n",
      "354     16.6         15.38     1.22          7.35        1.49\n",
      "355      7.0         -4.13    11.13        159.00      123.88\n",
      "356     22.7         25.35     2.65         11.67        7.02\n",
      "357     27.0         33.94     6.94         25.70       48.16\n",
      "358     13.5         13.81     0.31          2.30        0.10\n",
      "359     16.1         17.15     1.05          6.52        1.10\n",
      "360     21.4         22.40     1.00          4.67        1.00\n",
      "361     24.6         30.33     5.73         23.29       32.83\n",
      "362     20.1         20.07     0.03          0.15        0.00\n",
      "363     50.0         37.21    12.79         25.58      163.58\n",
      "364     12.7         11.12     1.58         12.44        2.50\n",
      "365     23.1         22.79     0.31          1.34        0.10\n",
      "366     21.1         20.64     0.46          2.18        0.21\n",
      "367     13.3         19.46     6.16         46.32       37.95\n",
      "368     13.9         16.56     2.66         19.14        7.08\n",
      "369     21.7         24.70     3.00         13.82        9.00\n",
      "370     23.9         26.50     2.60         10.88        6.76\n",
      "371     20.3         22.08     1.78          8.77        3.17\n",
      "372     13.6         16.51     2.91         21.40        8.47\n",
      "373     20.8         16.56     4.24         20.38       17.98\n",
      "374     50.0         41.68     8.32         16.64       69.22\n",
      "375     14.3         16.34     2.04         14.27        4.16\n",
      "376     20.8         20.51     0.29          1.39        0.08\n",
      "377     22.6         27.80     5.20         23.01       27.04\n",
      "378     50.0         36.27    13.73         27.46      188.51\n",
      "\n",
      "[379 rows x 5 columns]\n",
      "          Y_train  Y_train_pred     Y_error  Y_error_perc  Y_error_sq\n",
      "count  379.000000    379.000000  379.000000    379.000000  379.000000\n",
      "mean    22.609499     22.530158    3.232164     16.272032   21.413879\n",
      "std      9.389647      8.219391    3.316103     18.279969   57.701935\n",
      "min      5.000000     -4.130000    0.030000      0.150000    0.000000\n",
      "25%     16.700000     16.970000    1.010000      4.705000    1.020000\n",
      "50%     21.100000     21.530000    2.320000     10.800000    5.380000\n",
      "75%     25.750000     27.860000    4.625000     20.665000   21.390000\n",
      "max     50.000000     45.600000   23.840000    159.000000  568.350000\n"
     ]
    },
    {
     "data": {
      "image/png": "[encoded data removed]",
      "text/plain": [
       "<Figure size 432x288 with 1 Axes>"
      ]
     },
     "metadata": {},
     "output_type": "display_data"
    },
    {
     "data": {
      "image/png": "[encoded data removed]",
      "text/plain": [
       "<Figure size 432x288 with 1 Axes>"
      ]
     },
     "metadata": {},
     "output_type": "display_data"
    },
    {
     "data": {
      "image/png": "[encoded data removed]",
      "text/plain": [
       "<Figure size 432x288 with 1 Axes>"
      ]
     },
     "metadata": {},
     "output_type": "display_data"
    }
   ],
   "source": []
  },
  {
   "cell_type": "code",
   "execution_count": null,
   "metadata": {},
   "outputs": [],
   "source": [
    "# Boosting Gradient Descent\n"
   ]
  },
  {
   "cell_type": "code",
   "execution_count": null,
   "metadata": {},
   "outputs": [],
   "source": [
    "Y_train_pred = predict_from_models(X_train_new, arr_m)\n",
    "Y_train_pred = np.around(Y_train_pred, 2)\n",
    "\n",
    "Y_error = np.absolute(Y_train - Y_train_pred)\n",
    "Y_error = np.around(Y_error, 2)\n",
    "\n",
    "Y_error_sq = Y_error ** 2\n",
    "Y_error_sq = np.around(Y_error_sq, 2)\n",
    "\n",
    "Y_error_perc = (Y_error*100 )/Y_train\n",
    "Y_error_perc = np.around(Y_error_perc, 2)\n",
    "dict = {\n",
    "    \"Y_train\" : Y_train,\n",
    "    \"Y_train_pred\" : Y_train_pred, \n",
    "    \"Y_error\" : Y_error, \n",
    "    \"Y_error_perc\" : Y_error_perc, \n",
    "    \"Y_error_sq\" : Y_error_sq\n",
    "}\n",
    "error_data_df = pd.DataFrame(dict)\n",
    "\"\"\" print(\"i\", \" \", \"Y_train\", \" \", \"Y_train_pred\", \" \", \"Y_error\", \" \", \"Y_error_perc\" , \" \", \"Y_error_sq\")\n",
    "\n",
    "for i in range(len(Y_train)) :\n",
    "    print(i, \"\\t\", Y_train[i], \"\\t\", Y_train_pred[i], \"\\t\", Y_error[i], \"\\t\", Y_error_perc[i] , \"\\t\", Y_error_sq[i])\n",
    "    #print(i, \" \", Y_train[i], \" \", Y_error_sq[i])\n",
    "\"\"\"\n",
    "print(score(Y_train, Y_train_pred))\n",
    "print(error_data_df)\n",
    "print(error_data_df.describe())\n",
    "\n",
    "import matplotlib.pyplot as plt\n",
    "plt.scatter(Y_train, Y_error)\n",
    "plt.show()\n",
    "plt.scatter(Y_train, Y_error_perc)\n",
    "plt.show()\n",
    "plt.scatter(Y_train, Y_error_sq)\n",
    "plt.show()\n"
   ]
  }
 ],
 "metadata": {
  "kernelspec": {
   "display_name": "Python 3",
   "language": "python",
   "name": "python3"
  },
  "language_info": {
   "codemirror_mode": {
    "name": "ipython",
    "version": 3
   },
   "file_extension": ".py",
   "mimetype": "text/x-python",
   "name": "python",
   "nbconvert_exporter": "python",
   "pygments_lexer": "ipython3",
   "version": "3.6.5"
  }
 },
 "nbformat": 4,
 "nbformat_minor": 2
}
