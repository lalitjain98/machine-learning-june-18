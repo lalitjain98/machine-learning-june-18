{
 "cells": [
  {
   "cell_type": "markdown",
   "metadata": {},
   "source": [
    "## Gradient Descent - Boston Dataset\n",
    "Boston dataset is one of the datasets available in sklearn.\n",
    "You are given a Training dataset csv file with X train and Y train data. As studied in lecture, your task is to come up with Gradient Descent algorithm and thus predictions for the test dataset given.\n",
    "Your task is to:\n",
    "    1. Code Gradient Descent for N features and come with predictions.\n",
    "    2. Try and test with various combinations of learning rates and number of iterations.\n",
    "    3. Try using Feature Scaling, and see if it helps you in getting better results. \n",
    "Read Instructions carefully -\n",
    "    1. Use Gradient Descent as a training algorithm and submit results predicted.\n",
    "    2. Files are in csv format, you can use genfromtxt function in numpy to load data from csv file. Similarly you can use savetxt function to save data into a file.\n",
    "    3. Submit a csv file with only predictions for X test data. File name should not have spaces. File should not have any headers and should only have one column i.e. predictions. Also predictions shouldn't be in exponential form. \n",
    "    4. Your score is based on coefficient of determination.\n"
   ]
  },
  {
   "cell_type": "code",
   "execution_count": 1,
   "metadata": {
    "collapsed": true
   },
   "outputs": [],
   "source": [
    "import numpy as np\n",
    "import pandas as pd"
   ]
  },
  {
   "cell_type": "code",
   "execution_count": null,
   "metadata": {
    "collapsed": true
   },
   "outputs": [],
   "source": []
  },
  {
   "cell_type": "code",
   "execution_count": 3,
   "metadata": {},
   "outputs": [
    {
     "name": "stdout",
     "output_type": "stream",
     "text": [
      "             CRIM          ZN       INDUS        CHAS         NOX          RM  \\\n",
      "count  379.000000  379.000000  379.000000  379.000000  379.000000  379.000000   \n",
      "mean     0.019628    0.002455    0.036170    0.028955    0.028775    0.032202   \n",
      "std      1.067490    1.000813    1.017497    1.048995    0.999656    1.001174   \n",
      "min     -0.417713   -0.487722   -1.516987   -0.272599   -1.465882   -3.880249   \n",
      "25%     -0.408171   -0.487722   -0.867691   -0.272599   -0.878475   -0.571480   \n",
      "50%     -0.383729   -0.487722   -0.180458   -0.272599   -0.144217   -0.103479   \n",
      "75%      0.055208    0.156071    1.015999   -0.272599    0.628913    0.529069   \n",
      "max      9.941735    3.804234    2.422565    3.668398    2.732346    3.555044   \n",
      "\n",
      "              AGE         DIS         RAD         TAX     PTRATIO           B  \\\n",
      "count  379.000000  379.000000  379.000000  379.000000  379.000000  379.000000   \n",
      "mean     0.038395   -0.001288    0.043307    0.043786    0.019218   -0.015785   \n",
      "std      0.985209    1.027803    1.016265    1.019974    1.000296    1.015797   \n",
      "min     -2.335437   -1.267069   -0.982843   -1.313990   -2.707379   -3.883072   \n",
      "25%     -0.768994   -0.829872   -0.637962   -0.755697   -0.488039    0.197588   \n",
      "50%      0.338718   -0.329213   -0.523001   -0.440915    0.297977    0.374827   \n",
      "75%      0.911243    0.674172    1.661245    1.530926    0.806576    0.429868   \n",
      "max      1.117494    3.960518    1.661245    1.798194    1.638828    0.441052   \n",
      "\n",
      "            LSTAT           Y  \n",
      "count  379.000000  379.000000  \n",
      "mean     0.018418   22.609499  \n",
      "std      1.015377    9.389647  \n",
      "min     -1.531127    5.000000  \n",
      "25%     -0.828856   16.700000  \n",
      "50%     -0.161629   21.100000  \n",
      "75%      0.647173   25.750000  \n",
      "max      3.409999   50.000000  \n",
      "(379, 13)\n",
      "(379,)\n",
      "               0           1           2           3           4           5   \\\n",
      "count  127.000000  127.000000  127.000000  127.000000  127.000000  127.000000   \n",
      "mean    -0.058575   -0.007327   -0.107939   -0.086410   -0.085871   -0.096098   \n",
      "std      0.769837    1.005445    0.945672    0.839435    1.003998    0.998196   \n",
      "min     -0.417173   -0.487722   -1.557842   -0.272599   -1.431329   -3.058221   \n",
      "25%     -0.410832   -0.487722   -0.891036   -0.272599   -0.947582   -0.567918   \n",
      "50%     -0.398269   -0.487722   -0.375976   -0.272599   -0.299707   -0.127698   \n",
      "75%     -0.242900   -0.219475    1.015999   -0.272599    0.434551    0.283316   \n",
      "max      3.966816    3.589637    2.117615    3.668398    2.732346    3.476688   \n",
      "\n",
      "               6           7           8           9           10          11  \\\n",
      "count  127.000000  127.000000  127.000000  127.000000  127.000000  127.000000   \n",
      "mean    -0.114581    0.003845   -0.129240   -0.130670   -0.057350    0.047105   \n",
      "std      1.042254    0.920171    0.946051    0.933732    1.004824    0.957787   \n",
      "min     -2.225199   -1.263551   -0.982843   -1.308051   -2.707379   -3.907193   \n",
      "25%     -1.240171   -0.762417   -0.637962   -0.785394   -0.765457    0.246544   \n",
      "50%      0.111130   -0.202052   -0.523001   -0.601276    0.113032    0.396098   \n",
      "75%      0.898797    0.604198   -0.350561    0.072833    0.806576    0.441052   \n",
      "max      1.117494    3.287300    1.661245    1.530926    1.268938    0.441052   \n",
      "\n",
      "               12  \n",
      "count  127.000000  \n",
      "mean    -0.054965  \n",
      "std      0.958559  \n",
      "min     -1.496084  \n",
      "25%     -0.678870  \n",
      "50%     -0.283580  \n",
      "75%      0.389254  \n",
      "max      3.548771  \n",
      "(127, 13)\n"
     ]
    }
   ],
   "source": [
    "# Loading Datasets\n",
    "\n",
    "train_dataset = np.genfromtxt(\"../training_boston_x_y_train.csv\", names = True, delimiter = \",\")\n",
    "train_df = pd.DataFrame(train_dataset)\n",
    "print(train_df.describe())\n",
    "num_cols = len(train_df.columns)\n",
    "X_train = train_df.values[:, 0: num_cols -1 ]\n",
    "Y_train = train_df.values[:, num_cols - 1]\n",
    "print(X_train.shape)\n",
    "print(Y_train.shape)\n",
    "\n",
    "# print(X_train)\n",
    "# print(Y_train)\n",
    "\n",
    "test_dataset = np.genfromtxt(\"../test_boston_x_test.csv\", names = None, delimiter = \",\")\n",
    "test_df = pd.DataFrame(test_dataset)\n",
    "print(test_df.describe())\n",
    "num_cols = len(test_df.columns)\n",
    "X_test = test_df.values\n",
    "\n",
    "print(X_test.shape)\n",
    "\n",
    "# print(X_train)"
   ]
  },
  {
   "cell_type": "code",
   "execution_count": 8,
   "metadata": {},
   "outputs": [
    {
     "data": {
      "image/png": "[encoded data removed]",
      "text/plain": [
       "<Figure size 432x288 with 1 Axes>"
      ]
     },
     "metadata": {},
     "output_type": "display_data"
    }
   ],
   "source": [
    "# plotting features\n",
    "from sklearn.decomposition import PCA\n",
    "\n",
    "pca = PCA()\n",
    "pca.fit(X_train)\n",
    "train_data = pca.transform(X_train)\n",
    "test_data = pca.transform(X_test)\n",
    "\n",
    "import matplotlib.pyplot as plt\n",
    "plt.scatter(train_data[:, 0], train_data[:, 1], color = 'r', s = 5)\n",
    "plt.scatter(test_data[:, 0], test_data[:, 1], color = 'b', s = 5)\n",
    "plt.show()"
   ]
  },
  {
   "cell_type": "code",
   "execution_count": 102,
   "metadata": {
    "collapsed": true
   },
   "outputs": [],
   "source": [
    "def single_step(X, Y, m, alpha):\n",
    "    n_1 = len(m)\n",
    "    num_eg = len(X)\n",
    "    slope_m = np.zeros(n_1) \n",
    "    \n",
    "    for j in range(n_1):\n",
    "        for i in range(num_eg) :\n",
    "            slope_m[j] += (-2/num_eg)* ((Y[i] - (m *(X[i])).sum() ) * X[i][j] )    \n",
    "    #for j in range(n_1):\n",
    "            m[j] -= alpha*slope_m[j]\n",
    "    return m\n",
    "\n",
    "def cost(X, Y, m):\n",
    "    cost = 0\n",
    "    num_eg = len(X)\n",
    "    for i in range(num_eg) :\n",
    "        cost += ((Y[i] - (m * X[i]).sum())**2 )/num_eg\n",
    "    return cost\n",
    "\n",
    "def gd(X, Y, alpha, num_iters):\n",
    "    num_eg = len(X)\n",
    "    X = np.c_[X, np.ones(X.shape[0])]\n",
    "    m = np.zeros(len(X[0]))\n",
    "    costs = {}\n",
    "    print(len(m))\n",
    "    for i in range(num_iters):\n",
    "        m = single_step(X, Y, m, alpha)\n",
    "        if i % 50 == 0 :\n",
    "            costs[i] = cost(X, Y, m)\n",
    "            print(i, \" \", costs[i])\n",
    "    import matplotlib.pyplot as plt\n",
    "    keys = [key for key in costs]\n",
    "    values = [costs[key] for key in costs]\n",
    "    plt.plot(keys, values)\n",
    "    plt.show()\n",
    "    return m\n",
    "\n",
    "def predict(X, m) :\n",
    "    X = np.c_[X, np.ones(X.shape[0])]\n",
    "    Y = np.array([])\n",
    "    for i in range(len(X)):\n",
    "        Y_i = (X[i] * m).sum()\n",
    "        Y = np.append(Y, Y_i)\n",
    "    return Y\n",
    "\n",
    "def scale_features(X_train) :\n",
    "    import copy\n",
    "    X = copy.deepcopy(X_train)\n",
    "    means = np.array([X[:, i].mean() for i in range(X.shape[1])])\n",
    "    stds = np.array([X[:, i].std() for i in range(X.shape[1])])\n",
    "    \n",
    "    for i in range(X.shape[0]) :\n",
    "        X[i, :] = (X[i, :] - means)/stds\n",
    "    return X\n",
    "def score(Y_true, Y_pred) :\n",
    "    mean = Y_true.mean()\n",
    "    u = ((Y_true - Y_pred)**2).sum()\n",
    "    v = ((Y_true - mean)**2).sum() \n",
    "    return 1 - (u/v)\n",
    "# Introduce more features\n",
    "def add_more_features (X_train, imp_cols_indices):\n",
    "    X_train_df = pd.DataFrame(X_train)\n",
    "    num_f = len(X_train_df.columns)\n",
    "    col_names = X_train_df.columns\n",
    "    new_df = X_train_df.copy()\n",
    "    num_imp_cols = len(imp_col_indices)\n",
    "    for i1 in range(num_imp_cols) :\n",
    "        for j1 in range(i1, num_imp_cols):\n",
    "            i = imp_cols_indices[i1]\n",
    "            j = imp_cols_indices[j1]\n",
    "            new_df[ str(col_names[i]) + \"_\" + str(col_names[j])] = X_train_df[i] * X_train_df[j]\n",
    "    print(new_df.describe())\n",
    "    return new_df.values"
   ]
  },
  {
   "cell_type": "code",
   "execution_count": 94,
   "metadata": {
    "collapsed": true
   },
   "outputs": [],
   "source": []
  },
  {
   "cell_type": "code",
   "execution_count": 69,
   "metadata": {
    "collapsed": true
   },
   "outputs": [],
   "source": [
    "#scaled_X_train = scale_features(X_train)\n",
    "#scaled_X_df = pd.DataFrame(scaled_X_train)\n",
    "#scaled_X_df.describe()"
   ]
  },
  {
   "cell_type": "code",
   "execution_count": 116,
   "metadata": {
    "scrolled": false
   },
   "outputs": [
    {
     "name": "stdout",
     "output_type": "stream",
     "text": [
      "                0           1           2           3           4           5  \\\n",
      "count  379.000000  379.000000  379.000000  379.000000  379.000000  379.000000   \n",
      "mean     0.019628    0.002455    0.036170    0.028955    0.028775    0.032202   \n",
      "std      1.067490    1.000813    1.017497    1.048995    0.999656    1.001174   \n",
      "min     -0.417713   -0.487722   -1.516987   -0.272599   -1.465882   -3.880249   \n",
      "25%     -0.408171   -0.487722   -0.867691   -0.272599   -0.878475   -0.571480   \n",
      "50%     -0.383729   -0.487722   -0.180458   -0.272599   -0.144217   -0.103479   \n",
      "75%      0.055208    0.156071    1.015999   -0.272599    0.628913    0.529069   \n",
      "max      9.941735    3.804234    2.422565    3.668398    2.732346    3.555044   \n",
      "\n",
      "                6           7           8           9     ...             4_4  \\\n",
      "count  379.000000  379.000000  379.000000  379.000000     ...      379.000000   \n",
      "mean     0.038395   -0.001288    0.043307    0.043786     ...        0.997504   \n",
      "std      0.985209    1.027803    1.016265    1.019974     ...        1.396079   \n",
      "min     -2.335437   -1.267069   -0.982843   -1.313990     ...        0.001645   \n",
      "25%     -0.768994   -0.829872   -0.637962   -0.755697     ...        0.159407   \n",
      "50%      0.338718   -0.329213   -0.523001   -0.440915     ...        0.635784   \n",
      "75%      0.911243    0.674172    1.661245    1.530926     ...        1.427365   \n",
      "max      1.117494    3.960518    1.661245    1.798194     ...        7.465717   \n",
      "\n",
      "              4_6         4_8         4_9         6_6         6_8         6_9  \\\n",
      "count  379.000000  379.000000  379.000000  379.000000  379.000000  379.000000   \n",
      "mean     0.710059    0.609366    0.674340    0.969551    0.451815    0.510449   \n",
      "std      0.802319    0.919582    0.774600    1.008492    0.820942    0.786195   \n",
      "min     -0.775514   -1.429021   -0.683071    0.000020   -1.670335   -1.539303   \n",
      "25%      0.031257    0.075695    0.086714    0.279809   -0.227816   -0.030169   \n",
      "50%      0.532768    0.420537    0.472295    0.779327    0.373654    0.409529   \n",
      "75%      1.255009    0.857292    0.959256    1.246801    1.131093    1.178047   \n",
      "max      3.053382    3.089709    2.847332    5.454266    2.050714    2.430683   \n",
      "\n",
      "              8_8         8_9         9_9  \n",
      "count  379.000000  379.000000  379.000000  \n",
      "mean     1.031945    0.934225    1.039519  \n",
      "std      1.087950    1.044480    0.946287  \n",
      "min      0.031727   -1.147179    0.000269  \n",
      "25%      0.273531    0.131431    0.264064  \n",
      "50%      0.406995    0.472887    0.616844  \n",
      "75%      2.759736    2.543244    2.343736  \n",
      "max      2.759736    2.543244    3.233502  \n",
      "\n",
      "[8 rows x 28 columns]\n",
      "29\n",
      "0   172.7134825697055\n",
      "50   26.56076585306144\n",
      "100   23.398839336884905\n",
      "150   22.557349610892437\n",
      "200   22.27257302750044\n",
      "250   22.146776732789753\n",
      "300   22.072700979081823\n",
      "350   22.019280131715252\n",
      "400   21.976526319341964\n",
      "450   21.940598933592234\n",
      "500   21.909628102021454\n",
      "550   21.882490012278478\n",
      "600   21.85841433764947\n",
      "650   21.836836777558002\n",
      "700   21.817330240250165\n",
      "750   21.799565422846555\n",
      "800   21.783284967866997\n",
      "850   21.76828530447632\n",
      "900   21.754403477599794\n",
      "950   21.741507453334982\n"
     ]
    },
    {
     "data": {
      "image/png": "[encoded data removed]",
      "text/plain": [
       "<Figure size 432x288 with 1 Axes>"
      ]
     },
     "metadata": {},
     "output_type": "display_data"
    },
    {
     "name": "stdout",
     "output_type": "stream",
     "text": [
      "[-1.10275586  0.06540166 -0.43110753  0.76600326 -2.21025097  2.30493304\n",
      "  0.05437628 -2.97390163  2.88055804 -1.56313308 -1.85555784  0.7042639\n",
      " -4.05356448  1.38917714 -0.07760382  0.95255245  0.70266983  1.19138801\n",
      "  0.78512106 -1.83452766 -0.32937178 -0.54252944  1.09350069  1.27085186\n",
      " -1.18415541 -3.27419359  2.81661192 -0.66284143 20.77077699]\n",
      "Duration:  95.55381512641907 second\n"
     ]
    }
   ],
   "source": [
    "imp_col_indices = [2, 4, 6, 8, 9]\n",
    "import time\n",
    "s_t = time.time()\n",
    "X_train_new = add_more_features(X_train, imp_col_indices)\n",
    "X_train_scaled = scale_features(X_train_new)\n",
    "\n",
    "\n",
    "m = gd(X_train_new, Y_train, 0.0007, 1000)\n",
    "\n",
    "print(m)\n",
    "e_t = time.time()\n",
    "print(\"Duration: \",e_t-s_t, \"second\")"
   ]
  },
  {
   "cell_type": "code",
   "execution_count": 117,
   "metadata": {
    "scrolled": true
   },
   "outputs": [
    {
     "name": "stdout",
     "output_type": "stream",
     "text": [
      "                0           1           2           3           4           5  \\\n",
      "count  127.000000  127.000000  127.000000  127.000000  127.000000  127.000000   \n",
      "mean    -0.058575   -0.007327   -0.107939   -0.086410   -0.085871   -0.096098   \n",
      "std      0.769837    1.005445    0.945672    0.839435    1.003998    0.998196   \n",
      "min     -0.417173   -0.487722   -1.557842   -0.272599   -1.431329   -3.058221   \n",
      "25%     -0.410832   -0.487722   -0.891036   -0.272599   -0.947582   -0.567918   \n",
      "50%     -0.398269   -0.487722   -0.375976   -0.272599   -0.299707   -0.127698   \n",
      "75%     -0.242900   -0.219475    1.015999   -0.272599    0.434551    0.283316   \n",
      "max      3.966816    3.589637    2.117615    3.668398    2.732346    3.476688   \n",
      "\n",
      "                6           7           8           9     ...             4_4  \\\n",
      "count  127.000000  127.000000  127.000000  127.000000     ...      127.000000   \n",
      "mean    -0.114581    0.003845   -0.129240   -0.130670     ...        1.007449   \n",
      "std      1.042254    0.920171    0.946051    0.933732     ...        1.371094   \n",
      "min     -2.225199   -1.263551   -0.982843   -1.308051     ...        0.001645   \n",
      "25%     -1.240171   -0.762417   -0.637962   -0.785394     ...        0.125565   \n",
      "50%      0.111130   -0.202052   -0.523001   -0.601276     ...        0.811838   \n",
      "75%      0.898797    0.604198   -0.350561    0.072833     ...        1.430362   \n",
      "max      1.117494    3.287300    1.661245    1.530926     ...        7.465717   \n",
      "\n",
      "              4_6         4_8         4_9         6_6         6_8         6_9  \\\n",
      "count  127.000000  127.000000  127.000000  127.000000  127.000000  127.000000   \n",
      "mean     0.795367    0.617631    0.649173    1.090868    0.468578    0.494537   \n",
      "std      0.870228    0.860369    0.738498    1.036346    0.802250    0.756781   \n",
      "min     -0.875915   -1.429021   -0.683071    0.000064   -0.985067   -1.131483   \n",
      "25%     -0.000830    0.092005    0.061816    0.281686   -0.293250   -0.034760   \n",
      "50%      0.656542    0.521857    0.442337    0.883020    0.503545    0.351205   \n",
      "75%      1.432594    0.812652    0.941588    1.538341    1.079806    1.137887   \n",
      "max      3.053382    3.089709    2.847332    4.951512    1.856432    2.045145   \n",
      "\n",
      "              8_8         8_9         9_9  \n",
      "count  127.000000  127.000000  127.000000  \n",
      "mean     0.904669    0.838615    0.882064  \n",
      "std      0.986262    0.927444    0.858238  \n",
      "min      0.031727   -0.108983    0.000269  \n",
      "25%      0.273531    0.197829    0.181269  \n",
      "50%      0.406995    0.448037    0.571079  \n",
      "75%      0.859600    0.844852    1.263543  \n",
      "max      2.759736    2.543244    2.343736  \n",
      "\n",
      "[8 rows x 28 columns]\n",
      "0.7528827492944443\n"
     ]
    }
   ],
   "source": [
    "X_test_new = add_more_features(X_test, imp_col_indices)\n",
    "X_test_scaled = scale_features(X_test_new)\n",
    "Y_pred = predict(X_test_new, m)\n",
    "np.savetxt(\"boston_dataset_pred.csv\", Y_pred, '%.5f')\n",
    "print(score(Y_train, predict(X_train_new, m)))\n"
   ]
  }
 ],
 "metadata": {
  "kernelspec": {
   "display_name": "Python 3",
   "language": "python",
   "name": "python3"
  },
  "language_info": {
   "codemirror_mode": {
    "name": "ipython",
    "version": 3
   },
   "file_extension": ".py",
   "mimetype": "text/x-python",
   "name": "python",
   "nbconvert_exporter": "python",
   "pygments_lexer": "ipython3",
   "version": "3.6.3"
  }
 },
 "nbformat": 4,
 "nbformat_minor": 2
}
