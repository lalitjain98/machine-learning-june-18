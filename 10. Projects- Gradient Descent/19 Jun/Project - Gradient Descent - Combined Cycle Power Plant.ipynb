{
 "cells": [
  {
   "cell_type": "markdown",
   "metadata": {},
   "source": [
    "## Gradient Descent - Combined Cycle Power Plant\n",
    "Combined Cycle Power Plant dataset contains 9568 data points collected from a Combined Cycle Power Plant over 6 years (2006-2011), when the power plant was set to work with full load. Features consist of hourly average ambient variables Temperature (T), Ambient Pressure (AP), Relative Humidity (RH) and Exhaust Vacuum (V) to predict the net hourly electrical energy output (EP) of the plant.\n",
    "You are given:\n",
    "    1. A Readme file for more details on dataset. \n",
    "    2. A Training dataset csv file with X train and Y train data\n",
    "    3. A X test File and you have to predict and submit predictions for this file.\n",
    "Your task is to:\n",
    "    1. Code Gradient Descent for N features and come with predictions.\n",
    "    2. Try and test with various combinations of learning rates and number of iterations.\n",
    "    3. Try using Feature Scaling, and see if it helps you in getting better results. \n",
    "Read Instructions carefully -\n",
    "    1. Use Gradient Descent as a training algorithm and submit results predicted.\n",
    "    2. Files are in csv format, you can use genfromtxt function in numpy to load data from csv file. Similarly you can use savetxt function to save data into a file.\n",
    "    3. Submit a csv file with only predictions for X test data. File should not have any headers and should only have one column i.e. predictions. Also predictions shouldn't be in exponential form.\n",
    "    4. Your score is based on coefficient of determination. So it can be possible that nobody gets full score.\n",
    "\n"
   ]
  },
  {
   "cell_type": "code",
   "execution_count": 5,
   "metadata": {
    "collapsed": true
   },
   "outputs": [],
   "source": [
    "import numpy as np\n",
    "import pandas as pd"
   ]
  },
  {
   "cell_type": "code",
   "execution_count": 6,
   "metadata": {},
   "outputs": [
    {
     "name": "stdout",
     "output_type": "stream",
     "text": [
      "                 T            V           AP           RH           EP\n",
      "count  7176.000000  7176.000000  7176.000000  7176.000000  7176.000000\n",
      "mean     19.629712    54.288154  1013.263032    73.275818   454.431293\n",
      "std       7.475256    12.751468     5.964863    14.625093    17.134571\n",
      "min       1.810000    25.360000   992.890000    25.560000   420.260000\n",
      "25%      13.470000    41.740000  1009.010000    63.202500   439.737500\n",
      "50%      20.315000    52.050000  1012.910000    74.895000   451.740000\n",
      "75%      25.720000    66.540000  1017.302500    84.925000   468.667500\n",
      "max      35.770000    81.560000  1033.300000   100.160000   495.760000\n",
      "(7176, 4)\n",
      "(7176,)\n",
      "                0            1            2            3\n",
      "count  2392.00000  2392.000000  2392.000000  2392.000000\n",
      "mean     19.71579    54.358754  1013.247216    73.408457\n",
      "std       7.38488    12.578763     5.861068    14.528135\n",
      "min       3.38000    25.360000   993.740000    26.670000\n",
      "25%      13.66000    41.730000  1009.300000    63.615000\n",
      "50%      20.45000    52.750000  1013.025000    75.090000\n",
      "75%      25.67250    66.490000  1017.172500    84.497500\n",
      "max      37.11000    80.250000  1033.290000   100.130000\n",
      "(2392, 4)\n"
     ]
    }
   ],
   "source": [
    "# Loading Datasets\n",
    "\n",
    "train_dataset = np.genfromtxt(\"../training_ccpp_x_y_train.csv\", names = True, delimiter = \",\")\n",
    "train_df = pd.DataFrame(train_dataset)\n",
    "print(train_df.describe())\n",
    "num_cols = len(train_df.columns)\n",
    "X_train = train_df.values[:, 0: num_cols -1 ]\n",
    "Y_train = train_df.values[:, num_cols - 1]\n",
    "print(X_train.shape)\n",
    "print(Y_train.shape)\n",
    "\n",
    "# print(X_train)\n",
    "# print(Y_train)\n",
    "\n",
    "test_dataset = np.genfromtxt(\"../test_ccpp_x_test.csv\", names = None, delimiter = \",\")\n",
    "test_df = pd.DataFrame(test_dataset)\n",
    "print(test_df.describe())\n",
    "num_cols = len(test_df.columns)\n",
    "X_test = test_df.values\n",
    "\n",
    "print(X_test.shape)\n",
    "\n",
    "# print(X_train)"
   ]
  },
  {
   "cell_type": "code",
   "execution_count": 7,
   "metadata": {
    "collapsed": true
   },
   "outputs": [],
   "source": [
    "def single_step(X, Y, m, alpha):\n",
    "    n_1 = len(m)\n",
    "    num_eg = len(X)\n",
    "    slope_m = np.zeros(n_1) \n",
    "    \n",
    "    for j in range(n_1):\n",
    "        for i in range(num_eg) :\n",
    "            slope_m[j] += (-2/num_eg)* ((Y[i] - (m *(X[i])).sum() ) * X[i][j] )    \n",
    "    #for j in range(n_1):\n",
    "            m[j] -= alpha*slope_m[j]\n",
    "    return m\n",
    "\n",
    "def cost(X, Y, m):\n",
    "    cost = 0\n",
    "    num_eg = len(X)\n",
    "    for i in range(num_eg) :\n",
    "        cost += ((Y[i] - (m * X[i]).sum())**2 )/num_eg\n",
    "    return cost\n",
    "\n",
    "def gd(X, Y, alpha, num_iters):\n",
    "    num_eg = len(X)\n",
    "    X = np.c_[X, np.ones(X.shape[0])]\n",
    "    m = np.zeros(len(X[0]))\n",
    "    costs = {}\n",
    "    print(len(m))\n",
    "    for i in range(num_iters):\n",
    "        m = single_step(X, Y, m, alpha)\n",
    "        if i % 10 == 0 :\n",
    "            costs[i] = cost(X, Y, m)\n",
    "            print(i, \" \", costs[i])\n",
    "    import matplotlib.pyplot as plt\n",
    "    keys = [key for key in costs]\n",
    "    values = [costs[key] for key in costs]\n",
    "    plt.plot(keys, values)\n",
    "    plt.show()\n",
    "    return m\n",
    "\n",
    "def predict(X, m) :\n",
    "    X = np.c_[X, np.ones(X.shape[0])]\n",
    "    Y = np.array([])\n",
    "    for i in range(len(X)):\n",
    "        Y_i = (X[i] * m).sum()\n",
    "        Y = np.append(Y, Y_i)\n",
    "    return Y\n",
    "\n",
    "def scale_features(X_train) :\n",
    "    import copy\n",
    "    X = copy.deepcopy(X_train)\n",
    "    means = np.array([X[:, i].mean() for i in range(X.shape[1])])\n",
    "    stds = np.array([X[:, i].std() for i in range(X.shape[1])])\n",
    "    \n",
    "    for i in range(X.shape[0]) :\n",
    "        X[i, :] = (X[i, :] - means)/stds\n",
    "    return X\n",
    "def score(Y_true, Y_pred) :\n",
    "    mean = Y_true.mean()\n",
    "    u = ((Y_true - Y_pred)**2).sum()\n",
    "    v = ((Y_true - mean)**2).sum() \n",
    "    return 1 - (u/v)\n",
    "# Introduce more features\n",
    "def add_more_features (X_train, imp_cols_indices):\n",
    "    X_train_df = pd.DataFrame(X_train)\n",
    "    num_f = len(X_train_df.columns)\n",
    "    col_names = X_train_df.columns\n",
    "    new_df = X_train_df.copy()\n",
    "    num_imp_cols = len(imp_col_indices)\n",
    "    for i1 in range(num_imp_cols) :\n",
    "        for j1 in range(i1, num_imp_cols):\n",
    "            i = imp_cols_indices[i1]\n",
    "            j = imp_cols_indices[j1]\n",
    "            new_df[ str(col_names[i]) + \"_\" + str(col_names[j])] = X_train_df[i] * X_train_df[j]\n",
    "    print(new_df.describe())\n",
    "    return new_df.values"
   ]
  },
  {
   "cell_type": "code",
   "execution_count": 18,
   "metadata": {},
   "outputs": [
    {
     "name": "stdout",
     "output_type": "stream",
     "text": [
      "5\n",
      "0   90591.80233102819\n",
      "10   46.77036812916915\n",
      "20   21.895014946021092\n",
      "30   21.335081104861604\n",
      "40   21.096249938308816\n",
      "50   20.993545477327483\n",
      "60   20.94954844158342\n",
      "70   20.930835051525754\n",
      "80   20.922967432544496\n",
      "90   20.919721623007565\n",
      "100   20.91842474531468\n",
      "110   20.917935844440983\n",
      "120   20.917772506605832\n",
      "130   20.917733857735275\n",
      "140   20.917738352447603\n",
      "150   20.917754328847824\n",
      "160   20.917770509939896\n",
      "170   20.91778362851404\n",
      "180   20.917793340138825\n",
      "190   20.917800203382715\n"
     ]
    },
    {
     "data": {
      "image/png": "[encoded data removed]",
      "text/plain": [
       "<matplotlib.figure.Figure at 0x1d27e938e10>"
      ]
     },
     "metadata": {},
     "output_type": "display_data"
    },
    {
     "name": "stdout",
     "output_type": "stream",
     "text": [
      "[-1.49020056e+01 -2.84263610e+00  3.58853572e-01 -2.38253498e+00\n",
      "  4.54458749e+02]\n",
      "Duration:  47.90234041213989 second\n"
     ]
    }
   ],
   "source": [
    "imp_col_indices = [0, 1, 2, 3]\n",
    "import time\n",
    "s_t = time.time()\n",
    "#X_train_new = add_more_features(X_train, imp_col_indices)\n",
    "X_train_scaled = scale_features(X_train)\n",
    "m = gd(X_train_scaled, Y_train, 0.00005, 200)\n",
    "print(m)\n",
    "e_t = time.time()\n",
    "print(\"Duration: \",e_t-s_t, \"second\")"
   ]
  },
  {
   "cell_type": "code",
   "execution_count": 19,
   "metadata": {},
   "outputs": [
    {
     "name": "stdout",
     "output_type": "stream",
     "text": [
      "0.9287425715704402\n"
     ]
    }
   ],
   "source": [
    "#X_test_new = add_more_features(X_test, imp_col_indices)\n",
    "X_test_scaled = scale_features(X_test)\n",
    "Y_pred = predict(X_test_scaled, m)\n",
    "np.savetxt(\"ccpp_dataset_pred.csv\", Y_pred, '%.5f')\n",
    "print(score(Y_train, predict(X_train_scaled, m)))\n"
   ]
  }
 ],
 "metadata": {
  "kernelspec": {
   "display_name": "Python 3",
   "language": "python",
   "name": "python3"
  },
  "language_info": {
   "codemirror_mode": {
    "name": "ipython",
    "version": 3
   },
   "file_extension": ".py",
   "mimetype": "text/x-python",
   "name": "python",
   "nbconvert_exporter": "python",
   "pygments_lexer": "ipython3",
   "version": "3.6.3"
  }
 },
 "nbformat": 4,
 "nbformat_minor": 2
}
