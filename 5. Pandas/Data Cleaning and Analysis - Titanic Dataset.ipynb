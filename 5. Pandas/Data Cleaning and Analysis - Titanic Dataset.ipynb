{
 "cells": [
  {
   "cell_type": "markdown",
   "metadata": {},
   "source": [
    "For Titanic dataset, your task is to perform data analysis and data cleaning.\n",
    "Here is the list for the same -\n",
    "    1. Understanding meaning of each column\n",
    "    2. Analyse columns which can be deleted.\n",
    "    3. Replace columns with string values(if any) with int values for analysis.\n",
    "    4. Fill the null values of the Age column \n",
    "        - Fill mean Survived age in the column where the person has survived and \n",
    "        - Fill mean not Survived age in the column where person has not survived\n",
    "    5. Draw Graphs for analysis."
   ]
  },
  {
   "cell_type": "code",
   "execution_count": null,
   "metadata": {
    "collapsed": true
   },
   "outputs": [],
   "source": []
  }
 ],
 "metadata": {
  "kernelspec": {
   "display_name": "Python 3",
   "language": "python",
   "name": "python3"
  },
  "language_info": {
   "codemirror_mode": {
    "name": "ipython",
    "version": 3
   },
   "file_extension": ".py",
   "mimetype": "text/x-python",
   "name": "python",
   "nbconvert_exporter": "python",
   "pygments_lexer": "ipython3",
   "version": "3.6.3"
  }
 },
 "nbformat": 4,
 "nbformat_minor": 2
}
