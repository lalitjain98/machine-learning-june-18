{
 "cells": [
  {
   "cell_type": "code",
   "execution_count": 22,
   "metadata": {},
   "outputs": [],
   "source": [
    "s = set(('a', 'b'))"
   ]
  },
  {
   "cell_type": "code",
   "execution_count": null,
   "metadata": {},
   "outputs": [],
   "source": []
  },
  {
   "cell_type": "code",
   "execution_count": 19,
   "metadata": {},
   "outputs": [
    {
     "name": "stdout",
     "output_type": "stream",
     "text": [
      "20 5\n",
      "897 650 59 158 442 959 330 750 354 363 565 97 432 422 155 98 37 274 80 950 829 576 432 595 208 584 266 524 951 891 438 174 832 35 483 801 126 683 492 853 445 522 528 207 688 93 215 433 487 956 901 361 208 408 113 582 268 712 891 401 403 426 197 819 427 775 575 626 62 347 66 484 545 444 544 45 928 437 662 663 272 201 932 89 369 436 667 720 127 84 84 560 277 437 191 844 847 693 900 585 \n",
      "100\n"
     ]
    },
    {
     "ename": "IndexError",
     "evalue": "list index out of range",
     "output_type": "error",
     "traceback": [
      "\u001b[1;31m---------------------------------------------------------------------------\u001b[0m",
      "\u001b[1;31mIndexError\u001b[0m                                Traceback (most recent call last)",
      "\u001b[1;32m<ipython-input-19-6d1ee83b6452>\u001b[0m in \u001b[0;36m<module>\u001b[1;34m\u001b[0m\n\u001b[0;32m      9\u001b[0m \u001b[0ml\u001b[0m\u001b[1;33m=\u001b[0m\u001b[1;33m[\u001b[0m\u001b[0mint\u001b[0m\u001b[1;33m(\u001b[0m\u001b[0mi\u001b[0m\u001b[1;33m)\u001b[0m \u001b[1;32mfor\u001b[0m \u001b[0mi\u001b[0m \u001b[1;32min\u001b[0m \u001b[0minput\u001b[0m\u001b[1;33m(\u001b[0m\u001b[1;33m)\u001b[0m\u001b[1;33m.\u001b[0m\u001b[0mstrip\u001b[0m\u001b[1;33m(\u001b[0m\u001b[1;33m)\u001b[0m\u001b[1;33m.\u001b[0m\u001b[0msplit\u001b[0m\u001b[1;33m(\u001b[0m\u001b[1;34m\" \"\u001b[0m\u001b[1;33m)\u001b[0m\u001b[1;33m]\u001b[0m\u001b[1;33m\u001b[0m\u001b[1;33m\u001b[0m\u001b[0m\n\u001b[0;32m     10\u001b[0m \u001b[0mprint\u001b[0m\u001b[1;33m(\u001b[0m\u001b[0mlen\u001b[0m\u001b[1;33m(\u001b[0m\u001b[0ml\u001b[0m\u001b[1;33m)\u001b[0m\u001b[1;33m)\u001b[0m\u001b[1;33m\u001b[0m\u001b[1;33m\u001b[0m\u001b[0m\n\u001b[1;32m---> 11\u001b[1;33m \u001b[0mout\u001b[0m\u001b[1;33m=\u001b[0m\u001b[1;33m[\u001b[0m\u001b[1;33m[\u001b[0m\u001b[0ml\u001b[0m\u001b[1;33m[\u001b[0m\u001b[0mi\u001b[0m\u001b[1;33m*\u001b[0m\u001b[0mm\u001b[0m\u001b[1;33m+\u001b[0m\u001b[0mj\u001b[0m\u001b[1;33m]\u001b[0m \u001b[1;32mfor\u001b[0m \u001b[0mj\u001b[0m \u001b[1;32min\u001b[0m \u001b[0mrange\u001b[0m\u001b[1;33m(\u001b[0m\u001b[0mn\u001b[0m\u001b[1;33m)\u001b[0m\u001b[1;33m]\u001b[0m \u001b[1;32mfor\u001b[0m \u001b[0mi\u001b[0m \u001b[1;32min\u001b[0m \u001b[0mrange\u001b[0m\u001b[1;33m(\u001b[0m\u001b[0mm\u001b[0m\u001b[1;33m)\u001b[0m\u001b[1;33m]\u001b[0m\u001b[1;33m\u001b[0m\u001b[1;33m\u001b[0m\u001b[0m\n\u001b[0m\u001b[0;32m     12\u001b[0m \u001b[1;33m\u001b[0m\u001b[0m\n\u001b[0;32m     13\u001b[0m \u001b[1;32mfor\u001b[0m \u001b[0mi\u001b[0m \u001b[1;32min\u001b[0m \u001b[0mrange\u001b[0m\u001b[1;33m(\u001b[0m\u001b[0mm\u001b[0m\u001b[1;33m)\u001b[0m\u001b[1;33m:\u001b[0m\u001b[1;33m\u001b[0m\u001b[1;33m\u001b[0m\u001b[0m\n",
      "\u001b[1;32m<ipython-input-19-6d1ee83b6452>\u001b[0m in \u001b[0;36m<listcomp>\u001b[1;34m(.0)\u001b[0m\n\u001b[0;32m      9\u001b[0m \u001b[0ml\u001b[0m\u001b[1;33m=\u001b[0m\u001b[1;33m[\u001b[0m\u001b[0mint\u001b[0m\u001b[1;33m(\u001b[0m\u001b[0mi\u001b[0m\u001b[1;33m)\u001b[0m \u001b[1;32mfor\u001b[0m \u001b[0mi\u001b[0m \u001b[1;32min\u001b[0m \u001b[0minput\u001b[0m\u001b[1;33m(\u001b[0m\u001b[1;33m)\u001b[0m\u001b[1;33m.\u001b[0m\u001b[0mstrip\u001b[0m\u001b[1;33m(\u001b[0m\u001b[1;33m)\u001b[0m\u001b[1;33m.\u001b[0m\u001b[0msplit\u001b[0m\u001b[1;33m(\u001b[0m\u001b[1;34m\" \"\u001b[0m\u001b[1;33m)\u001b[0m\u001b[1;33m]\u001b[0m\u001b[1;33m\u001b[0m\u001b[1;33m\u001b[0m\u001b[0m\n\u001b[0;32m     10\u001b[0m \u001b[0mprint\u001b[0m\u001b[1;33m(\u001b[0m\u001b[0mlen\u001b[0m\u001b[1;33m(\u001b[0m\u001b[0ml\u001b[0m\u001b[1;33m)\u001b[0m\u001b[1;33m)\u001b[0m\u001b[1;33m\u001b[0m\u001b[1;33m\u001b[0m\u001b[0m\n\u001b[1;32m---> 11\u001b[1;33m \u001b[0mout\u001b[0m\u001b[1;33m=\u001b[0m\u001b[1;33m[\u001b[0m\u001b[1;33m[\u001b[0m\u001b[0ml\u001b[0m\u001b[1;33m[\u001b[0m\u001b[0mi\u001b[0m\u001b[1;33m*\u001b[0m\u001b[0mm\u001b[0m\u001b[1;33m+\u001b[0m\u001b[0mj\u001b[0m\u001b[1;33m]\u001b[0m \u001b[1;32mfor\u001b[0m \u001b[0mj\u001b[0m \u001b[1;32min\u001b[0m \u001b[0mrange\u001b[0m\u001b[1;33m(\u001b[0m\u001b[0mn\u001b[0m\u001b[1;33m)\u001b[0m\u001b[1;33m]\u001b[0m \u001b[1;32mfor\u001b[0m \u001b[0mi\u001b[0m \u001b[1;32min\u001b[0m \u001b[0mrange\u001b[0m\u001b[1;33m(\u001b[0m\u001b[0mm\u001b[0m\u001b[1;33m)\u001b[0m\u001b[1;33m]\u001b[0m\u001b[1;33m\u001b[0m\u001b[1;33m\u001b[0m\u001b[0m\n\u001b[0m\u001b[0;32m     12\u001b[0m \u001b[1;33m\u001b[0m\u001b[0m\n\u001b[0;32m     13\u001b[0m \u001b[1;32mfor\u001b[0m \u001b[0mi\u001b[0m \u001b[1;32min\u001b[0m \u001b[0mrange\u001b[0m\u001b[1;33m(\u001b[0m\u001b[0mm\u001b[0m\u001b[1;33m)\u001b[0m\u001b[1;33m:\u001b[0m\u001b[1;33m\u001b[0m\u001b[1;33m\u001b[0m\u001b[0m\n",
      "\u001b[1;32m<ipython-input-19-6d1ee83b6452>\u001b[0m in \u001b[0;36m<listcomp>\u001b[1;34m(.0)\u001b[0m\n\u001b[0;32m      9\u001b[0m \u001b[0ml\u001b[0m\u001b[1;33m=\u001b[0m\u001b[1;33m[\u001b[0m\u001b[0mint\u001b[0m\u001b[1;33m(\u001b[0m\u001b[0mi\u001b[0m\u001b[1;33m)\u001b[0m \u001b[1;32mfor\u001b[0m \u001b[0mi\u001b[0m \u001b[1;32min\u001b[0m \u001b[0minput\u001b[0m\u001b[1;33m(\u001b[0m\u001b[1;33m)\u001b[0m\u001b[1;33m.\u001b[0m\u001b[0mstrip\u001b[0m\u001b[1;33m(\u001b[0m\u001b[1;33m)\u001b[0m\u001b[1;33m.\u001b[0m\u001b[0msplit\u001b[0m\u001b[1;33m(\u001b[0m\u001b[1;34m\" \"\u001b[0m\u001b[1;33m)\u001b[0m\u001b[1;33m]\u001b[0m\u001b[1;33m\u001b[0m\u001b[1;33m\u001b[0m\u001b[0m\n\u001b[0;32m     10\u001b[0m \u001b[0mprint\u001b[0m\u001b[1;33m(\u001b[0m\u001b[0mlen\u001b[0m\u001b[1;33m(\u001b[0m\u001b[0ml\u001b[0m\u001b[1;33m)\u001b[0m\u001b[1;33m)\u001b[0m\u001b[1;33m\u001b[0m\u001b[1;33m\u001b[0m\u001b[0m\n\u001b[1;32m---> 11\u001b[1;33m \u001b[0mout\u001b[0m\u001b[1;33m=\u001b[0m\u001b[1;33m[\u001b[0m\u001b[1;33m[\u001b[0m\u001b[0ml\u001b[0m\u001b[1;33m[\u001b[0m\u001b[0mi\u001b[0m\u001b[1;33m*\u001b[0m\u001b[0mm\u001b[0m\u001b[1;33m+\u001b[0m\u001b[0mj\u001b[0m\u001b[1;33m]\u001b[0m \u001b[1;32mfor\u001b[0m \u001b[0mj\u001b[0m \u001b[1;32min\u001b[0m \u001b[0mrange\u001b[0m\u001b[1;33m(\u001b[0m\u001b[0mn\u001b[0m\u001b[1;33m)\u001b[0m\u001b[1;33m]\u001b[0m \u001b[1;32mfor\u001b[0m \u001b[0mi\u001b[0m \u001b[1;32min\u001b[0m \u001b[0mrange\u001b[0m\u001b[1;33m(\u001b[0m\u001b[0mm\u001b[0m\u001b[1;33m)\u001b[0m\u001b[1;33m]\u001b[0m\u001b[1;33m\u001b[0m\u001b[1;33m\u001b[0m\u001b[0m\n\u001b[0m\u001b[0;32m     12\u001b[0m \u001b[1;33m\u001b[0m\u001b[0m\n\u001b[0;32m     13\u001b[0m \u001b[1;32mfor\u001b[0m \u001b[0mi\u001b[0m \u001b[1;32min\u001b[0m \u001b[0mrange\u001b[0m\u001b[1;33m(\u001b[0m\u001b[0mm\u001b[0m\u001b[1;33m)\u001b[0m\u001b[1;33m:\u001b[0m\u001b[1;33m\u001b[0m\u001b[1;33m\u001b[0m\u001b[0m\n",
      "\u001b[1;31mIndexError\u001b[0m: list index out of range"
     ]
    }
   ],
   "source": [
    "row = -1\n",
    "col = -1\n",
    "maxrowsum = -1\n",
    "maxcolsum = -1\n",
    "dims=input().strip().split(\" \")\n",
    "m = int(dims[0])\n",
    "n = int(dims[1])\n",
    "\n",
    "l=[int(i) for i in input().strip().split(\" \")] \n",
    "print(len(l))\n",
    "\n",
    "out=[[l[i*m+j] for j in range(n)] for i in range(m)]\n",
    "\n",
    "for i in range(m):\n",
    "  rowsum=sum(out[i])\n",
    "  print(i, len(out[i]), rowsum)\n",
    "  if rowsum > maxrowsum:\n",
    "    row = i\n",
    "    maxrowsum = rowsum\n",
    "\n",
    "for j in range(n):\n",
    "  colsum = sum([out[i][j] for i in range(m)]) \n",
    "  print(j, len([out[i][j] for i in range(m)]), colsum)\n",
    "  if colsum > maxcolsum:\n",
    "    maxcolsum = colsum\n",
    "    col = j\n",
    "    \n",
    "    \n",
    "if maxrowsum >= maxcolsum:\n",
    "  print(\"row\",row,maxrowsum)\n",
    "else:\n",
    "  print(\"column\",col,maxcolsum)\n",
    "  \n",
    "    \n"
   ]
  },
  {
   "cell_type": "code",
   "execution_count": 14,
   "metadata": {},
   "outputs": [
    {
     "data": {
      "text/plain": [
       "[3, 6, 9]"
      ]
     },
     "execution_count": 14,
     "metadata": {},
     "output_type": "execute_result"
    }
   ],
   "source": []
  },
  {
   "cell_type": "code",
   "execution_count": 66,
   "metadata": {},
   "outputs": [],
   "source": [
    "import numpy as np"
   ]
  },
  {
   "cell_type": "code",
   "execution_count": 67,
   "metadata": {},
   "outputs": [],
   "source": [
    "a = np.arange(1,3, 0.2)\n",
    "b = np.arange(4,6, 0.2)\n",
    "xx, yy = np.meshgrid(a,b)"
   ]
  },
  {
   "cell_type": "code",
   "execution_count": 70,
   "metadata": {},
   "outputs": [
    {
     "data": {
      "text/plain": [
       "((10, 10), (10, 10))"
      ]
     },
     "execution_count": 70,
     "metadata": {},
     "output_type": "execute_result"
    }
   ],
   "source": [
    "xx.shape, yy.shape"
   ]
  },
  {
   "cell_type": "code",
   "execution_count": 71,
   "metadata": {},
   "outputs": [
    {
     "data": {
      "text/plain": [
       "array([[1. , 1.2, 1.4, 1.6, 1.8, 2. , 2.2, 2.4, 2.6, 2.8],\n",
       "       [1. , 1.2, 1.4, 1.6, 1.8, 2. , 2.2, 2.4, 2.6, 2.8],\n",
       "       [1. , 1.2, 1.4, 1.6, 1.8, 2. , 2.2, 2.4, 2.6, 2.8],\n",
       "       [1. , 1.2, 1.4, 1.6, 1.8, 2. , 2.2, 2.4, 2.6, 2.8],\n",
       "       [1. , 1.2, 1.4, 1.6, 1.8, 2. , 2.2, 2.4, 2.6, 2.8],\n",
       "       [1. , 1.2, 1.4, 1.6, 1.8, 2. , 2.2, 2.4, 2.6, 2.8],\n",
       "       [1. , 1.2, 1.4, 1.6, 1.8, 2. , 2.2, 2.4, 2.6, 2.8],\n",
       "       [1. , 1.2, 1.4, 1.6, 1.8, 2. , 2.2, 2.4, 2.6, 2.8],\n",
       "       [1. , 1.2, 1.4, 1.6, 1.8, 2. , 2.2, 2.4, 2.6, 2.8],\n",
       "       [1. , 1.2, 1.4, 1.6, 1.8, 2. , 2.2, 2.4, 2.6, 2.8]])"
      ]
     },
     "execution_count": 71,
     "metadata": {},
     "output_type": "execute_result"
    }
   ],
   "source": [
    "xx"
   ]
  },
  {
   "cell_type": "code",
   "execution_count": 72,
   "metadata": {},
   "outputs": [
    {
     "data": {
      "text/plain": [
       "array([[4. , 4. , 4. , 4. , 4. , 4. , 4. , 4. , 4. , 4. ],\n",
       "       [4.2, 4.2, 4.2, 4.2, 4.2, 4.2, 4.2, 4.2, 4.2, 4.2],\n",
       "       [4.4, 4.4, 4.4, 4.4, 4.4, 4.4, 4.4, 4.4, 4.4, 4.4],\n",
       "       [4.6, 4.6, 4.6, 4.6, 4.6, 4.6, 4.6, 4.6, 4.6, 4.6],\n",
       "       [4.8, 4.8, 4.8, 4.8, 4.8, 4.8, 4.8, 4.8, 4.8, 4.8],\n",
       "       [5. , 5. , 5. , 5. , 5. , 5. , 5. , 5. , 5. , 5. ],\n",
       "       [5.2, 5.2, 5.2, 5.2, 5.2, 5.2, 5.2, 5.2, 5.2, 5.2],\n",
       "       [5.4, 5.4, 5.4, 5.4, 5.4, 5.4, 5.4, 5.4, 5.4, 5.4],\n",
       "       [5.6, 5.6, 5.6, 5.6, 5.6, 5.6, 5.6, 5.6, 5.6, 5.6],\n",
       "       [5.8, 5.8, 5.8, 5.8, 5.8, 5.8, 5.8, 5.8, 5.8, 5.8]])"
      ]
     },
     "execution_count": 72,
     "metadata": {},
     "output_type": "execute_result"
    }
   ],
   "source": [
    "yy"
   ]
  },
  {
   "cell_type": "code",
   "execution_count": null,
   "metadata": {},
   "outputs": [],
   "source": []
  },
  {
   "cell_type": "code",
   "execution_count": 69,
   "metadata": {},
   "outputs": [
    {
     "data": {
      "text/plain": [
       "array([[ 4.   ,  5.76 ,  7.84 , 10.24 , 12.96 , 16.   , 19.36 , 23.04 ,\n",
       "        27.04 , 31.36 ],\n",
       "       [ 4.2  ,  6.048,  8.232, 10.752, 13.608, 16.8  , 20.328, 24.192,\n",
       "        28.392, 32.928],\n",
       "       [ 4.4  ,  6.336,  8.624, 11.264, 14.256, 17.6  , 21.296, 25.344,\n",
       "        29.744, 34.496],\n",
       "       [ 4.6  ,  6.624,  9.016, 11.776, 14.904, 18.4  , 22.264, 26.496,\n",
       "        31.096, 36.064],\n",
       "       [ 4.8  ,  6.912,  9.408, 12.288, 15.552, 19.2  , 23.232, 27.648,\n",
       "        32.448, 37.632],\n",
       "       [ 5.   ,  7.2  ,  9.8  , 12.8  , 16.2  , 20.   , 24.2  , 28.8  ,\n",
       "        33.8  , 39.2  ],\n",
       "       [ 5.2  ,  7.488, 10.192, 13.312, 16.848, 20.8  , 25.168, 29.952,\n",
       "        35.152, 40.768],\n",
       "       [ 5.4  ,  7.776, 10.584, 13.824, 17.496, 21.6  , 26.136, 31.104,\n",
       "        36.504, 42.336],\n",
       "       [ 5.6  ,  8.064, 10.976, 14.336, 18.144, 22.4  , 27.104, 32.256,\n",
       "        37.856, 43.904],\n",
       "       [ 5.8  ,  8.352, 11.368, 14.848, 18.792, 23.2  , 28.072, 33.408,\n",
       "        39.208, 45.472]])"
      ]
     },
     "execution_count": 69,
     "metadata": {},
     "output_type": "execute_result"
    }
   ],
   "source": [
    "xx*yy*xx"
   ]
  },
  {
   "cell_type": "code",
   "execution_count": null,
   "metadata": {},
   "outputs": [],
   "source": []
  },
  {
   "cell_type": "code",
   "execution_count": 40,
   "metadata": {},
   "outputs": [
    {
     "data": {
      "text/plain": [
       "False"
      ]
     },
     "execution_count": 40,
     "metadata": {},
     "output_type": "execute_result"
    }
   ],
   "source": [
    "\"11 2\" > \"3 6\""
   ]
  },
  {
   "cell_type": "code",
   "execution_count": 36,
   "metadata": {},
   "outputs": [
    {
     "name": "stdout",
     "output_type": "stream",
     "text": [
      "Comparisons\n",
      "***********\n",
      "\n",
      "Unlike C, all comparison operations in Python have the same priority,\n",
      "which is lower than that of any arithmetic, shifting or bitwise\n",
      "operation.  Also unlike C, expressions like \"a < b < c\" have the\n",
      "interpretation that is conventional in mathematics:\n",
      "\n",
      "   comparison    ::= or_expr (comp_operator or_expr)*\n",
      "   comp_operator ::= \"<\" | \">\" | \"==\" | \">=\" | \"<=\" | \"!=\"\n",
      "                     | \"is\" [\"not\"] | [\"not\"] \"in\"\n",
      "\n",
      "Comparisons yield boolean values: \"True\" or \"False\".\n",
      "\n",
      "Comparisons can be chained arbitrarily, e.g., \"x < y <= z\" is\n",
      "equivalent to \"x < y and y <= z\", except that \"y\" is evaluated only\n",
      "once (but in both cases \"z\" is not evaluated at all when \"x < y\" is\n",
      "found to be false).\n",
      "\n",
      "Formally, if *a*, *b*, *c*, …, *y*, *z* are expressions and *op1*,\n",
      "*op2*, …, *opN* are comparison operators, then \"a op1 b op2 c ... y\n",
      "opN z\" is equivalent to \"a op1 b and b op2 c and ... y opN z\", except\n",
      "that each expression is evaluated at most once.\n",
      "\n",
      "Note that \"a op1 b op2 c\" doesn’t imply any kind of comparison between\n",
      "*a* and *c*, so that, e.g., \"x < y > z\" is perfectly legal (though\n",
      "perhaps not pretty).\n",
      "\n",
      "\n",
      "Value comparisons\n",
      "=================\n",
      "\n",
      "The operators \"<\", \">\", \"==\", \">=\", \"<=\", and \"!=\" compare the values\n",
      "of two objects.  The objects do not need to have the same type.\n",
      "\n",
      "Chapter Objects, values and types states that objects have a value (in\n",
      "addition to type and identity).  The value of an object is a rather\n",
      "abstract notion in Python: For example, there is no canonical access\n",
      "method for an object’s value.  Also, there is no requirement that the\n",
      "value of an object should be constructed in a particular way, e.g.\n",
      "comprised of all its data attributes. Comparison operators implement a\n",
      "particular notion of what the value of an object is.  One can think of\n",
      "them as defining the value of an object indirectly, by means of their\n",
      "comparison implementation.\n",
      "\n",
      "Because all types are (direct or indirect) subtypes of \"object\", they\n",
      "inherit the default comparison behavior from \"object\".  Types can\n",
      "customize their comparison behavior by implementing *rich comparison\n",
      "methods* like \"__lt__()\", described in Basic customization.\n",
      "\n",
      "The default behavior for equality comparison (\"==\" and \"!=\") is based\n",
      "on the identity of the objects.  Hence, equality comparison of\n",
      "instances with the same identity results in equality, and equality\n",
      "comparison of instances with different identities results in\n",
      "inequality.  A motivation for this default behavior is the desire that\n",
      "all objects should be reflexive (i.e. \"x is y\" implies \"x == y\").\n",
      "\n",
      "A default order comparison (\"<\", \">\", \"<=\", and \">=\") is not provided;\n",
      "an attempt raises \"TypeError\".  A motivation for this default behavior\n",
      "is the lack of a similar invariant as for equality.\n",
      "\n",
      "The behavior of the default equality comparison, that instances with\n",
      "different identities are always unequal, may be in contrast to what\n",
      "types will need that have a sensible definition of object value and\n",
      "value-based equality.  Such types will need to customize their\n",
      "comparison behavior, and in fact, a number of built-in types have done\n",
      "that.\n",
      "\n",
      "The following list describes the comparison behavior of the most\n",
      "important built-in types.\n",
      "\n",
      "* Numbers of built-in numeric types (Numeric Types — int, float,\n",
      "  complex) and of the standard library types \"fractions.Fraction\" and\n",
      "  \"decimal.Decimal\" can be compared within and across their types,\n",
      "  with the restriction that complex numbers do not support order\n",
      "  comparison.  Within the limits of the types involved, they compare\n",
      "  mathematically (algorithmically) correct without loss of precision.\n",
      "\n",
      "  The not-a-number values \"float('NaN')\" and \"Decimal('NaN')\" are\n",
      "  special.  They are identical to themselves (\"x is x\" is true) but\n",
      "  are not equal to themselves (\"x == x\" is false).  Additionally,\n",
      "  comparing any number to a not-a-number value will return \"False\".\n",
      "  For example, both \"3 < float('NaN')\" and \"float('NaN') < 3\" will\n",
      "  return \"False\".\n",
      "\n",
      "* Binary sequences (instances of \"bytes\" or \"bytearray\") can be\n",
      "  compared within and across their types.  They compare\n",
      "  lexicographically using the numeric values of their elements.\n",
      "\n",
      "* Strings (instances of \"str\") compare lexicographically using the\n",
      "  numerical Unicode code points (the result of the built-in function\n",
      "  \"ord()\") of their characters. [3]\n",
      "\n",
      "  Strings and binary sequences cannot be directly compared.\n",
      "\n",
      "* Sequences (instances of \"tuple\", \"list\", or \"range\") can be\n",
      "  compared only within each of their types, with the restriction that\n",
      "  ranges do not support order comparison.  Equality comparison across\n",
      "  these types results in inequality, and ordering comparison across\n",
      "  these types raises \"TypeError\".\n",
      "\n",
      "  Sequences compare lexicographically using comparison of\n",
      "  corresponding elements, whereby reflexivity of the elements is\n",
      "  enforced.\n",
      "\n",
      "  In enforcing reflexivity of elements, the comparison of collections\n",
      "  assumes that for a collection element \"x\", \"x == x\" is always true.\n",
      "  Based on that assumption, element identity is compared first, and\n",
      "  element comparison is performed only for distinct elements.  This\n",
      "  approach yields the same result as a strict element comparison\n",
      "  would, if the compared elements are reflexive.  For non-reflexive\n",
      "  elements, the result is different than for strict element\n",
      "  comparison, and may be surprising:  The non-reflexive not-a-number\n",
      "  values for example result in the following comparison behavior when\n",
      "  used in a list:\n",
      "\n",
      "     >>> nan = float('NaN')\n",
      "     >>> nan is nan\n",
      "     True\n",
      "     >>> nan == nan\n",
      "     False                 <-- the defined non-reflexive behavior of NaN\n",
      "     >>> [nan] == [nan]\n",
      "     True                  <-- list enforces reflexivity and tests identity first\n",
      "\n",
      "  Lexicographical comparison between built-in collections works as\n",
      "  follows:\n",
      "\n",
      "  * For two collections to compare equal, they must be of the same\n",
      "    type, have the same length, and each pair of corresponding\n",
      "    elements must compare equal (for example, \"[1,2] == (1,2)\" is\n",
      "    false because the type is not the same).\n",
      "\n",
      "  * Collections that support order comparison are ordered the same\n",
      "    as their first unequal elements (for example, \"[1,2,x] <= [1,2,y]\"\n",
      "    has the same value as \"x <= y\").  If a corresponding element does\n",
      "    not exist, the shorter collection is ordered first (for example,\n",
      "    \"[1,2] < [1,2,3]\" is true).\n",
      "\n",
      "* Mappings (instances of \"dict\") compare equal if and only if they\n",
      "  have equal *(key, value)* pairs. Equality comparison of the keys and\n",
      "  values enforces reflexivity.\n",
      "\n",
      "  Order comparisons (\"<\", \">\", \"<=\", and \">=\") raise \"TypeError\".\n",
      "\n",
      "* Sets (instances of \"set\" or \"frozenset\") can be compared within\n",
      "  and across their types.\n",
      "\n",
      "  They define order comparison operators to mean subset and superset\n",
      "  tests.  Those relations do not define total orderings (for example,\n",
      "  the two sets \"{1,2}\" and \"{2,3}\" are not equal, nor subsets of one\n",
      "  another, nor supersets of one another).  Accordingly, sets are not\n",
      "  appropriate arguments for functions which depend on total ordering\n",
      "  (for example, \"min()\", \"max()\", and \"sorted()\" produce undefined\n",
      "  results given a list of sets as inputs).\n",
      "\n",
      "  Comparison of sets enforces reflexivity of its elements.\n",
      "\n",
      "* Most other built-in types have no comparison methods implemented,\n",
      "  so they inherit the default comparison behavior.\n",
      "\n",
      "User-defined classes that customize their comparison behavior should\n",
      "follow some consistency rules, if possible:\n",
      "\n",
      "* Equality comparison should be reflexive. In other words, identical\n",
      "  objects should compare equal:\n",
      "\n",
      "     \"x is y\" implies \"x == y\"\n",
      "\n",
      "* Comparison should be symmetric. In other words, the following\n",
      "  expressions should have the same result:\n",
      "\n",
      "     \"x == y\" and \"y == x\"\n",
      "\n",
      "     \"x != y\" and \"y != x\"\n",
      "\n",
      "     \"x < y\" and \"y > x\"\n",
      "\n",
      "     \"x <= y\" and \"y >= x\"\n",
      "\n",
      "* Comparison should be transitive. The following (non-exhaustive)\n",
      "  examples illustrate that:\n",
      "\n",
      "     \"x > y and y > z\" implies \"x > z\"\n",
      "\n",
      "     \"x < y and y <= z\" implies \"x < z\"\n",
      "\n",
      "* Inverse comparison should result in the boolean negation. In other\n",
      "  words, the following expressions should have the same result:\n",
      "\n",
      "     \"x == y\" and \"not x != y\"\n",
      "\n",
      "     \"x < y\" and \"not x >= y\" (for total ordering)\n",
      "\n",
      "     \"x > y\" and \"not x <= y\" (for total ordering)\n",
      "\n",
      "  The last two expressions apply to totally ordered collections (e.g.\n",
      "  to sequences, but not to sets or mappings). See also the\n",
      "  \"total_ordering()\" decorator.\n",
      "\n",
      "* The \"hash()\" result should be consistent with equality. Objects\n",
      "  that are equal should either have the same hash value, or be marked\n",
      "  as unhashable.\n",
      "\n",
      "Python does not enforce these consistency rules. In fact, the\n",
      "not-a-number values are an example for not following these rules.\n",
      "\n",
      "\n",
      "Membership test operations\n",
      "==========================\n",
      "\n",
      "The operators \"in\" and \"not in\" test for membership.  \"x in s\"\n",
      "evaluates to \"True\" if *x* is a member of *s*, and \"False\" otherwise.\n",
      "\"x not in s\" returns the negation of \"x in s\".  All built-in sequences\n",
      "and set types support this as well as dictionary, for which \"in\" tests\n",
      "whether the dictionary has a given key. For container types such as\n",
      "list, tuple, set, frozenset, dict, or collections.deque, the\n",
      "expression \"x in y\" is equivalent to \"any(x is e or x == e for e in\n",
      "y)\".\n",
      "\n",
      "For the string and bytes types, \"x in y\" is \"True\" if and only if *x*\n",
      "is a substring of *y*.  An equivalent test is \"y.find(x) != -1\".\n",
      "Empty strings are always considered to be a substring of any other\n",
      "string, so \"\"\" in \"abc\"\" will return \"True\".\n",
      "\n",
      "For user-defined classes which define the \"__contains__()\" method, \"x\n",
      "in y\" returns \"True\" if \"y.__contains__(x)\" returns a true value, and\n",
      "\"False\" otherwise.\n",
      "\n",
      "For user-defined classes which do not define \"__contains__()\" but do\n",
      "define \"__iter__()\", \"x in y\" is \"True\" if some value \"z\" with \"x ==\n",
      "z\" is produced while iterating over \"y\".  If an exception is raised\n",
      "during the iteration, it is as if \"in\" raised that exception.\n",
      "\n",
      "Lastly, the old-style iteration protocol is tried: if a class defines\n",
      "\"__getitem__()\", \"x in y\" is \"True\" if and only if there is a non-\n",
      "negative integer index *i* such that \"x == y[i]\", and all lower\n",
      "integer indices do not raise \"IndexError\" exception.  (If any other\n",
      "exception is raised, it is as if \"in\" raised that exception).\n",
      "\n",
      "The operator \"not in\" is defined to have the inverse true value of\n",
      "\"in\".\n",
      "\n",
      "\n",
      "Identity comparisons\n",
      "====================\n",
      "\n",
      "The operators \"is\" and \"is not\" test for object identity: \"x is y\" is\n",
      "true if and only if *x* and *y* are the same object.  Object identity\n",
      "is determined using the \"id()\" function.  \"x is not y\" yields the\n",
      "inverse truth value. [4]\n",
      "\n",
      "Related help topics: EXPRESSIONS, BASICMETHODS\n",
      "\n"
     ]
    }
   ],
   "source": [
    "help('COMPARISON')"
   ]
  },
  {
   "cell_type": "code",
   "execution_count": 7,
   "metadata": {
    "collapsed": true
   },
   "outputs": [],
   "source": [
    "import numpy as np\n",
    "import matplotlib.pyplot as plt"
   ]
  },
  {
   "cell_type": "code",
   "execution_count": 3,
   "metadata": {
    "collapsed": true
   },
   "outputs": [],
   "source": [
    "from sklearn.cluster import KMeans\n",
    "from sklearn.datasets import make_blobs"
   ]
  },
  {
   "cell_type": "code",
   "execution_count": 63,
   "metadata": {},
   "outputs": [
    {
     "data": {
      "image/png": "[encoded data removed]",
      "text/plain": [
       "<matplotlib.figure.Figure at 0x24badf6a588>"
      ]
     },
     "metadata": {},
     "output_type": "display_data"
    }
   ],
   "source": [
    "#data = make_blobs(n_samples=100, centers=4, random_state=0, n_features=2, cluster_std=0.5)\n",
    "data = make_blobs(n_samples=100, centers=4, n_features=2, cluster_std=0.5)\n",
    "data = data[0]\n",
    "plt.scatter(data[:, 0], data[:, 1])\n",
    "plt.show()"
   ]
  },
  {
   "cell_type": "code",
   "execution_count": 94,
   "metadata": {
    "collapsed": true
   },
   "outputs": [],
   "source": [
    "same_cluster_centers = np.array([[-3.5, -2.5], [-4.5, -3.5]])\n",
    "close_clusters_centers = np.array([[-3.5, -2.5], [-7.5, 0.5]])\n",
    "far_clusters_centers = np.array([[-3.5, -2.5], [7.5, 6]])"
   ]
  },
  {
   "cell_type": "code",
   "execution_count": 104,
   "metadata": {},
   "outputs": [],
   "source": [
    "import pandas as pd    "
   ]
  },
  {
   "cell_type": "code",
   "execution_count": 105,
   "metadata": {},
   "outputs": [
    {
     "data": {
      "text/html": [
       "<div>\n",
       "<style>\n",
       "    .dataframe thead tr:only-child th {\n",
       "        text-align: right;\n",
       "    }\n",
       "\n",
       "    .dataframe thead th {\n",
       "        text-align: left;\n",
       "    }\n",
       "\n",
       "    .dataframe tbody tr th {\n",
       "        vertical-align: top;\n",
       "    }\n",
       "</style>\n",
       "<table border=\"1\" class=\"dataframe\">\n",
       "  <thead>\n",
       "    <tr style=\"text-align: right;\">\n",
       "      <th></th>\n",
       "      <th>0</th>\n",
       "      <th>1</th>\n",
       "    </tr>\n",
       "  </thead>\n",
       "  <tbody>\n",
       "    <tr>\n",
       "      <th>0</th>\n",
       "      <td>4.475331</td>\n",
       "      <td>8.394221</td>\n",
       "    </tr>\n",
       "    <tr>\n",
       "      <th>1</th>\n",
       "      <td>4.876845</td>\n",
       "      <td>8.405903</td>\n",
       "    </tr>\n",
       "    <tr>\n",
       "      <th>2</th>\n",
       "      <td>4.308241</td>\n",
       "      <td>9.080453</td>\n",
       "    </tr>\n",
       "    <tr>\n",
       "      <th>3</th>\n",
       "      <td>-3.135135</td>\n",
       "      <td>-2.775717</td>\n",
       "    </tr>\n",
       "    <tr>\n",
       "      <th>4</th>\n",
       "      <td>-3.893261</td>\n",
       "      <td>-3.517924</td>\n",
       "    </tr>\n",
       "    <tr>\n",
       "      <th>5</th>\n",
       "      <td>4.198075</td>\n",
       "      <td>8.643359</td>\n",
       "    </tr>\n",
       "    <tr>\n",
       "      <th>6</th>\n",
       "      <td>8.297094</td>\n",
       "      <td>6.158633</td>\n",
       "    </tr>\n",
       "    <tr>\n",
       "      <th>7</th>\n",
       "      <td>-6.882484</td>\n",
       "      <td>0.754801</td>\n",
       "    </tr>\n",
       "    <tr>\n",
       "      <th>8</th>\n",
       "      <td>9.208960</td>\n",
       "      <td>7.164164</td>\n",
       "    </tr>\n",
       "    <tr>\n",
       "      <th>9</th>\n",
       "      <td>-7.301203</td>\n",
       "      <td>0.498684</td>\n",
       "    </tr>\n",
       "    <tr>\n",
       "      <th>10</th>\n",
       "      <td>4.553182</td>\n",
       "      <td>9.270499</td>\n",
       "    </tr>\n",
       "    <tr>\n",
       "      <th>11</th>\n",
       "      <td>4.628402</td>\n",
       "      <td>9.620863</td>\n",
       "    </tr>\n",
       "    <tr>\n",
       "      <th>12</th>\n",
       "      <td>-6.174301</td>\n",
       "      <td>1.010005</td>\n",
       "    </tr>\n",
       "    <tr>\n",
       "      <th>13</th>\n",
       "      <td>4.995835</td>\n",
       "      <td>9.323543</td>\n",
       "    </tr>\n",
       "    <tr>\n",
       "      <th>14</th>\n",
       "      <td>-6.336504</td>\n",
       "      <td>1.329704</td>\n",
       "    </tr>\n",
       "    <tr>\n",
       "      <th>15</th>\n",
       "      <td>-4.122787</td>\n",
       "      <td>-2.269975</td>\n",
       "    </tr>\n",
       "    <tr>\n",
       "      <th>16</th>\n",
       "      <td>8.692252</td>\n",
       "      <td>6.607612</td>\n",
       "    </tr>\n",
       "    <tr>\n",
       "      <th>17</th>\n",
       "      <td>3.971819</td>\n",
       "      <td>9.574272</td>\n",
       "    </tr>\n",
       "    <tr>\n",
       "      <th>18</th>\n",
       "      <td>4.391478</td>\n",
       "      <td>8.407514</td>\n",
       "    </tr>\n",
       "    <tr>\n",
       "      <th>19</th>\n",
       "      <td>-4.149143</td>\n",
       "      <td>-2.281636</td>\n",
       "    </tr>\n",
       "    <tr>\n",
       "      <th>20</th>\n",
       "      <td>-3.484478</td>\n",
       "      <td>-2.081926</td>\n",
       "    </tr>\n",
       "    <tr>\n",
       "      <th>21</th>\n",
       "      <td>-3.414936</td>\n",
       "      <td>-3.078900</td>\n",
       "    </tr>\n",
       "    <tr>\n",
       "      <th>22</th>\n",
       "      <td>8.039679</td>\n",
       "      <td>7.243330</td>\n",
       "    </tr>\n",
       "    <tr>\n",
       "      <th>23</th>\n",
       "      <td>4.475822</td>\n",
       "      <td>8.260893</td>\n",
       "    </tr>\n",
       "    <tr>\n",
       "      <th>24</th>\n",
       "      <td>-6.539927</td>\n",
       "      <td>0.859282</td>\n",
       "    </tr>\n",
       "    <tr>\n",
       "      <th>25</th>\n",
       "      <td>-3.469223</td>\n",
       "      <td>-2.623051</td>\n",
       "    </tr>\n",
       "    <tr>\n",
       "      <th>26</th>\n",
       "      <td>-2.855531</td>\n",
       "      <td>-1.264285</td>\n",
       "    </tr>\n",
       "    <tr>\n",
       "      <th>27</th>\n",
       "      <td>-7.501318</td>\n",
       "      <td>1.051460</td>\n",
       "    </tr>\n",
       "    <tr>\n",
       "      <th>28</th>\n",
       "      <td>8.002857</td>\n",
       "      <td>7.963833</td>\n",
       "    </tr>\n",
       "    <tr>\n",
       "      <th>29</th>\n",
       "      <td>5.236006</td>\n",
       "      <td>8.853109</td>\n",
       "    </tr>\n",
       "    <tr>\n",
       "      <th>...</th>\n",
       "      <td>...</td>\n",
       "      <td>...</td>\n",
       "    </tr>\n",
       "    <tr>\n",
       "      <th>70</th>\n",
       "      <td>4.229658</td>\n",
       "      <td>8.780635</td>\n",
       "    </tr>\n",
       "    <tr>\n",
       "      <th>71</th>\n",
       "      <td>-4.298415</td>\n",
       "      <td>-2.793179</td>\n",
       "    </tr>\n",
       "    <tr>\n",
       "      <th>72</th>\n",
       "      <td>5.213632</td>\n",
       "      <td>8.807906</td>\n",
       "    </tr>\n",
       "    <tr>\n",
       "      <th>73</th>\n",
       "      <td>-3.585459</td>\n",
       "      <td>-3.863820</td>\n",
       "    </tr>\n",
       "    <tr>\n",
       "      <th>74</th>\n",
       "      <td>4.876270</td>\n",
       "      <td>8.668664</td>\n",
       "    </tr>\n",
       "    <tr>\n",
       "      <th>75</th>\n",
       "      <td>5.315121</td>\n",
       "      <td>10.090270</td>\n",
       "    </tr>\n",
       "    <tr>\n",
       "      <th>76</th>\n",
       "      <td>8.001779</td>\n",
       "      <td>7.472660</td>\n",
       "    </tr>\n",
       "    <tr>\n",
       "      <th>77</th>\n",
       "      <td>5.044210</td>\n",
       "      <td>8.885137</td>\n",
       "    </tr>\n",
       "    <tr>\n",
       "      <th>78</th>\n",
       "      <td>3.969975</td>\n",
       "      <td>9.148251</td>\n",
       "    </tr>\n",
       "    <tr>\n",
       "      <th>79</th>\n",
       "      <td>-6.140828</td>\n",
       "      <td>0.112326</td>\n",
       "    </tr>\n",
       "    <tr>\n",
       "      <th>80</th>\n",
       "      <td>4.792662</td>\n",
       "      <td>8.685971</td>\n",
       "    </tr>\n",
       "    <tr>\n",
       "      <th>81</th>\n",
       "      <td>9.755455</td>\n",
       "      <td>6.591637</td>\n",
       "    </tr>\n",
       "    <tr>\n",
       "      <th>82</th>\n",
       "      <td>-6.107905</td>\n",
       "      <td>0.252733</td>\n",
       "    </tr>\n",
       "    <tr>\n",
       "      <th>83</th>\n",
       "      <td>-6.384561</td>\n",
       "      <td>1.835073</td>\n",
       "    </tr>\n",
       "    <tr>\n",
       "      <th>84</th>\n",
       "      <td>-4.518994</td>\n",
       "      <td>-2.370161</td>\n",
       "    </tr>\n",
       "    <tr>\n",
       "      <th>85</th>\n",
       "      <td>-3.529214</td>\n",
       "      <td>-3.089385</td>\n",
       "    </tr>\n",
       "    <tr>\n",
       "      <th>86</th>\n",
       "      <td>-4.404084</td>\n",
       "      <td>-2.654804</td>\n",
       "    </tr>\n",
       "    <tr>\n",
       "      <th>87</th>\n",
       "      <td>7.986314</td>\n",
       "      <td>6.101941</td>\n",
       "    </tr>\n",
       "    <tr>\n",
       "      <th>88</th>\n",
       "      <td>8.908717</td>\n",
       "      <td>7.776992</td>\n",
       "    </tr>\n",
       "    <tr>\n",
       "      <th>89</th>\n",
       "      <td>-6.099149</td>\n",
       "      <td>0.087994</td>\n",
       "    </tr>\n",
       "    <tr>\n",
       "      <th>90</th>\n",
       "      <td>-6.444832</td>\n",
       "      <td>0.456058</td>\n",
       "    </tr>\n",
       "    <tr>\n",
       "      <th>91</th>\n",
       "      <td>5.086030</td>\n",
       "      <td>8.947628</td>\n",
       "    </tr>\n",
       "    <tr>\n",
       "      <th>92</th>\n",
       "      <td>7.615620</td>\n",
       "      <td>5.683878</td>\n",
       "    </tr>\n",
       "    <tr>\n",
       "      <th>93</th>\n",
       "      <td>8.534453</td>\n",
       "      <td>6.754067</td>\n",
       "    </tr>\n",
       "    <tr>\n",
       "      <th>94</th>\n",
       "      <td>-6.491189</td>\n",
       "      <td>1.207512</td>\n",
       "    </tr>\n",
       "    <tr>\n",
       "      <th>95</th>\n",
       "      <td>-6.294629</td>\n",
       "      <td>0.526803</td>\n",
       "    </tr>\n",
       "    <tr>\n",
       "      <th>96</th>\n",
       "      <td>8.541130</td>\n",
       "      <td>7.853402</td>\n",
       "    </tr>\n",
       "    <tr>\n",
       "      <th>97</th>\n",
       "      <td>-3.942802</td>\n",
       "      <td>-3.910167</td>\n",
       "    </tr>\n",
       "    <tr>\n",
       "      <th>98</th>\n",
       "      <td>-6.864801</td>\n",
       "      <td>0.771799</td>\n",
       "    </tr>\n",
       "    <tr>\n",
       "      <th>99</th>\n",
       "      <td>-6.066698</td>\n",
       "      <td>0.956841</td>\n",
       "    </tr>\n",
       "  </tbody>\n",
       "</table>\n",
       "<p>100 rows × 2 columns</p>\n",
       "</div>"
      ],
      "text/plain": [
       "           0          1\n",
       "0   4.475331   8.394221\n",
       "1   4.876845   8.405903\n",
       "2   4.308241   9.080453\n",
       "3  -3.135135  -2.775717\n",
       "4  -3.893261  -3.517924\n",
       "5   4.198075   8.643359\n",
       "6   8.297094   6.158633\n",
       "7  -6.882484   0.754801\n",
       "8   9.208960   7.164164\n",
       "9  -7.301203   0.498684\n",
       "10  4.553182   9.270499\n",
       "11  4.628402   9.620863\n",
       "12 -6.174301   1.010005\n",
       "13  4.995835   9.323543\n",
       "14 -6.336504   1.329704\n",
       "15 -4.122787  -2.269975\n",
       "16  8.692252   6.607612\n",
       "17  3.971819   9.574272\n",
       "18  4.391478   8.407514\n",
       "19 -4.149143  -2.281636\n",
       "20 -3.484478  -2.081926\n",
       "21 -3.414936  -3.078900\n",
       "22  8.039679   7.243330\n",
       "23  4.475822   8.260893\n",
       "24 -6.539927   0.859282\n",
       "25 -3.469223  -2.623051\n",
       "26 -2.855531  -1.264285\n",
       "27 -7.501318   1.051460\n",
       "28  8.002857   7.963833\n",
       "29  5.236006   8.853109\n",
       "..       ...        ...\n",
       "70  4.229658   8.780635\n",
       "71 -4.298415  -2.793179\n",
       "72  5.213632   8.807906\n",
       "73 -3.585459  -3.863820\n",
       "74  4.876270   8.668664\n",
       "75  5.315121  10.090270\n",
       "76  8.001779   7.472660\n",
       "77  5.044210   8.885137\n",
       "78  3.969975   9.148251\n",
       "79 -6.140828   0.112326\n",
       "80  4.792662   8.685971\n",
       "81  9.755455   6.591637\n",
       "82 -6.107905   0.252733\n",
       "83 -6.384561   1.835073\n",
       "84 -4.518994  -2.370161\n",
       "85 -3.529214  -3.089385\n",
       "86 -4.404084  -2.654804\n",
       "87  7.986314   6.101941\n",
       "88  8.908717   7.776992\n",
       "89 -6.099149   0.087994\n",
       "90 -6.444832   0.456058\n",
       "91  5.086030   8.947628\n",
       "92  7.615620   5.683878\n",
       "93  8.534453   6.754067\n",
       "94 -6.491189   1.207512\n",
       "95 -6.294629   0.526803\n",
       "96  8.541130   7.853402\n",
       "97 -3.942802  -3.910167\n",
       "98 -6.864801   0.771799\n",
       "99 -6.066698   0.956841\n",
       "\n",
       "[100 rows x 2 columns]"
      ]
     },
     "execution_count": 105,
     "metadata": {},
     "output_type": "execute_result"
    }
   ],
   "source": [
    "df = pd.DataFrame(x1)\n",
    "df"
   ]
  },
  {
   "cell_type": "code",
   "execution_count": 109,
   "metadata": {},
   "outputs": [],
   "source": [
    "df.to_csv(\"cluster_data.csv\", index=False, header=False)"
   ]
  },
  {
   "cell_type": "code",
   "execution_count": 99,
   "metadata": {},
   "outputs": [
    {
     "name": "stdout",
     "output_type": "stream",
     "text": [
      "[[ 1.31444077  4.36717772]\n",
      " [-4.09117319 -3.20486496]]\n"
     ]
    },
    {
     "data": {
      "image/png": "[encoded data removed]",
      "text/plain": [
       "<matplotlib.figure.Figure at 0x24baedc91d0>"
      ]
     },
     "metadata": {},
     "output_type": "display_data"
    },
    {
     "name": "stdout",
     "output_type": "stream",
     "text": [
      "[[ 3.07879413  4.34287507]\n",
      " [-6.57331401  0.80550519]]\n"
     ]
    },
    {
     "data": {
      "image/png": "[encoded data removed]",
      "text/plain": [
       "<matplotlib.figure.Figure at 0x24bae1be940>"
      ]
     },
     "metadata": {},
     "output_type": "display_data"
    },
    {
     "name": "stdout",
     "output_type": "stream",
     "text": [
      "[[-5.23670143 -1.02321721]\n",
      " [ 6.56823562  7.9402824 ]]\n"
     ]
    },
    {
     "data": {
      "image/png": "[encoded data removed]",
      "text/plain": [
       "<matplotlib.figure.Figure at 0x24baed1b5c0>"
      ]
     },
     "metadata": {},
     "output_type": "display_data"
    }
   ],
   "source": [
    "clf = KMeans(n_clusters=2, init=same_cluster_centers, max_iter=1, n_init=1)\n",
    "clf.fit(x1)\n",
    "preds = clf.predict(x1)\n",
    "print(clf.cluster_centers_)\n",
    "plt.scatter(x1[:, 0], x1[:, 1], c=clf.labels_)\n",
    "plt.scatter(same_cluster_centers[:, 0], same_cluster_centers[:, 1], c=\"r\")\n",
    "plt.show()\n",
    "\n",
    "clf = KMeans(n_clusters=2, init=close_clusters_centers, max_iter=1, n_init=1)\n",
    "clf.fit(x1)\n",
    "preds = clf.predict(x1)\n",
    "print(clf.cluster_centers_)\n",
    "plt.scatter(x1[:, 0], x1[:, 1], c=clf.labels_)\n",
    "plt.scatter(close_clusters_centers[:, 0], close_clusters_centers[:, 1], c=\"r\")\n",
    "plt.show()\n",
    "\n",
    "clf = KMeans(n_clusters=2, init=far_clusters_centers, max_iter=1, n_init=1, )\n",
    "clf.fit(x1)\n",
    "preds = clf.predict(x1)\n",
    "print(clf.cluster_centers_)\n",
    "plt.scatter(x1[:, 0], x1[:, 1], c=clf.labels_)\n",
    "plt.scatter(far_clusters_centers[:, 0], far_clusters_centers[:, 1], c=\"r\")\n",
    "plt.show()"
   ]
  },
  {
   "cell_type": "code",
   "execution_count": 103,
   "metadata": {},
   "outputs": [
    {
     "name": "stdout",
     "output_type": "stream",
     "text": [
      "['abc',\n",
      " 'abc.zip',\n",
      " 'alpino',\n",
      " 'alpino.zip',\n",
      " 'biocreative_ppi',\n",
      " 'biocreative_ppi.zip',\n",
      " 'brown',\n",
      " 'brown.zip',\n",
      " 'brown_tei',\n",
      " 'brown_tei.zip',\n",
      " 'cess_cat',\n",
      " 'cess_cat.zip',\n",
      " 'cess_esp',\n",
      " 'cess_esp.zip',\n",
      " 'chat80',\n",
      " 'chat80.zip',\n",
      " 'city_database',\n",
      " 'city_database.zip',\n",
      " 'cmudict',\n",
      " 'cmudict.zip',\n",
      " 'comparative_sentences',\n",
      " 'comparative_sentences.zip',\n",
      " 'comtrans.zip',\n",
      " 'conll2000',\n",
      " 'conll2000.zip',\n",
      " 'conll2002',\n",
      " 'conll2002.zip',\n",
      " 'conll2007.zip',\n",
      " 'crubadan',\n",
      " 'crubadan.zip',\n",
      " 'dependency_treebank',\n",
      " 'dependency_treebank.zip',\n",
      " 'dolch',\n",
      " 'dolch.zip',\n",
      " 'europarl_raw',\n",
      " 'europarl_raw.zip',\n",
      " 'floresta',\n",
      " 'floresta.zip',\n",
      " 'framenet_v15',\n",
      " 'framenet_v15.zip',\n",
      " 'framenet_v17',\n",
      " 'framenet_v17.zip',\n",
      " 'gazetteers',\n",
      " 'gazetteers.zip',\n",
      " 'genesis',\n",
      " 'genesis.zip',\n",
      " 'gutenberg',\n",
      " 'gutenberg.zip',\n",
      " 'ieer',\n",
      " 'ieer.zip',\n",
      " 'inaugural',\n",
      " 'inaugural.zip',\n",
      " 'indian',\n",
      " 'indian.zip',\n",
      " 'jeita.zip',\n",
      " 'kimmo',\n",
      " 'kimmo.zip',\n",
      " 'knbc.zip',\n",
      " 'lin_thesaurus',\n",
      " 'lin_thesaurus.zip',\n",
      " 'machado.zip',\n",
      " 'mac_morpho',\n",
      " 'mac_morpho.zip',\n",
      " 'masc_tagged.zip',\n",
      " 'movie_reviews',\n",
      " 'movie_reviews.zip',\n",
      " 'mte_teip5',\n",
      " 'mte_teip5.zip',\n",
      " 'names',\n",
      " 'names.zip',\n",
      " 'nombank.1.0.zip',\n",
      " 'nonbreaking_prefixes',\n",
      " 'nonbreaking_prefixes.zip',\n",
      " 'nps_chat',\n",
      " 'nps_chat.zip',\n",
      " 'omw',\n",
      " 'omw.zip',\n",
      " 'opinion_lexicon',\n",
      " 'opinion_lexicon.zip',\n",
      " 'panlex_swadesh.zip',\n",
      " 'paradigms',\n",
      " 'paradigms.zip',\n",
      " 'pil',\n",
      " 'pil.zip',\n",
      " 'pl196x',\n",
      " 'pl196x.zip',\n",
      " 'ppattach',\n",
      " 'ppattach.zip',\n",
      " 'problem_reports',\n",
      " 'problem_reports.zip',\n",
      " 'product_reviews_1',\n",
      " 'product_reviews_1.zip',\n",
      " 'product_reviews_2',\n",
      " 'product_reviews_2.zip',\n",
      " 'propbank.zip',\n",
      " 'pros_cons',\n",
      " 'pros_cons.zip',\n",
      " 'ptb',\n",
      " 'ptb.zip',\n",
      " 'qc',\n",
      " 'qc.zip',\n",
      " 'reuters.zip',\n",
      " 'rte',\n",
      " 'rte.zip',\n",
      " 'semcor.zip',\n",
      " 'senseval',\n",
      " 'senseval.zip',\n",
      " 'sentence_polarity',\n",
      " 'sentence_polarity.zip',\n",
      " 'sentiwordnet',\n",
      " 'sentiwordnet.zip',\n",
      " 'shakespeare',\n",
      " 'shakespeare.zip',\n",
      " 'sinica_treebank',\n",
      " 'sinica_treebank.zip',\n",
      " 'smultron',\n",
      " 'smultron.zip',\n",
      " 'state_union',\n",
      " 'state_union.zip',\n",
      " 'stopwords',\n",
      " 'stopwords.zip',\n",
      " 'subjectivity',\n",
      " 'subjectivity.zip',\n",
      " 'swadesh',\n",
      " 'swadesh.zip',\n",
      " 'switchboard',\n",
      " 'switchboard.zip',\n",
      " 'timit',\n",
      " 'timit.zip',\n",
      " 'toolbox',\n",
      " 'toolbox.zip',\n",
      " 'treebank',\n",
      " 'treebank.zip',\n",
      " 'twitter_samples',\n",
      " 'twitter_samples.zip',\n",
      " 'udhr',\n",
      " 'udhr.zip',\n",
      " 'udhr2',\n",
      " 'udhr2.zip',\n",
      " 'unicode_samples',\n",
      " 'unicode_samples.zip',\n",
      " 'universal_treebanks_v20.zip',\n",
      " 'verbnet',\n",
      " 'verbnet.zip',\n",
      " 'webtext',\n",
      " 'webtext.zip',\n",
      " 'wordnet',\n",
      " 'wordnet.zip',\n",
      " 'wordnet_ic',\n",
      " 'wordnet_ic.zip',\n",
      " 'words',\n",
      " 'words.zip',\n",
      " 'ycoe',\n",
      " 'ycoe.zip']\n"
     ]
    }
   ],
   "source": [
    "import nltk.corpus\n",
    "#dir(nltk.corpus)\n",
    "import os\n",
    "from pprint import pprint as print\n",
    "print( os.listdir( nltk.data.find(\"corpora\") ) )"
   ]
  },
  {
   "cell_type": "code",
   "execution_count": 102,
   "metadata": {},
   "outputs": [
    {
     "name": "stdout",
     "output_type": "stream",
     "text": [
      "['abc',\n",
      " 'abc.zip',\n",
      " 'alpino',\n",
      " 'alpino.zip',\n",
      " 'biocreative_ppi',\n",
      " 'biocreative_ppi.zip',\n",
      " 'brown',\n",
      " 'brown.zip',\n",
      " 'brown_tei',\n",
      " 'brown_tei.zip',\n",
      " 'cess_cat',\n",
      " 'cess_cat.zip',\n",
      " 'cess_esp',\n",
      " 'cess_esp.zip',\n",
      " 'chat80',\n",
      " 'chat80.zip',\n",
      " 'city_database',\n",
      " 'city_database.zip',\n",
      " 'cmudict',\n",
      " 'cmudict.zip',\n",
      " 'comparative_sentences',\n",
      " 'comparative_sentences.zip',\n",
      " 'comtrans.zip',\n",
      " 'conll2000',\n",
      " 'conll2000.zip',\n",
      " 'conll2002',\n",
      " 'conll2002.zip',\n",
      " 'conll2007.zip',\n",
      " 'crubadan',\n",
      " 'crubadan.zip',\n",
      " 'dependency_treebank',\n",
      " 'dependency_treebank.zip',\n",
      " 'dolch',\n",
      " 'dolch.zip',\n",
      " 'europarl_raw',\n",
      " 'europarl_raw.zip',\n",
      " 'floresta',\n",
      " 'floresta.zip',\n",
      " 'framenet_v15',\n",
      " 'framenet_v15.zip',\n",
      " 'framenet_v17',\n",
      " 'framenet_v17.zip',\n",
      " 'gazetteers',\n",
      " 'gazetteers.zip',\n",
      " 'genesis',\n",
      " 'genesis.zip',\n",
      " 'gutenberg',\n",
      " 'gutenberg.zip',\n",
      " 'ieer',\n",
      " 'ieer.zip',\n",
      " 'inaugural',\n",
      " 'inaugural.zip',\n",
      " 'indian',\n",
      " 'indian.zip',\n",
      " 'jeita.zip',\n",
      " 'kimmo',\n",
      " 'kimmo.zip',\n",
      " 'knbc.zip',\n",
      " 'lin_thesaurus',\n",
      " 'lin_thesaurus.zip',\n",
      " 'machado.zip',\n",
      " 'mac_morpho',\n",
      " 'mac_morpho.zip',\n",
      " 'masc_tagged.zip',\n",
      " 'movie_reviews',\n",
      " 'movie_reviews.zip',\n",
      " 'mte_teip5',\n",
      " 'mte_teip5.zip',\n",
      " 'names',\n",
      " 'names.zip',\n",
      " 'nombank.1.0.zip',\n",
      " 'nonbreaking_prefixes',\n",
      " 'nonbreaking_prefixes.zip',\n",
      " 'nps_chat',\n",
      " 'nps_chat.zip',\n",
      " 'omw',\n",
      " 'omw.zip',\n",
      " 'opinion_lexicon',\n",
      " 'opinion_lexicon.zip',\n",
      " 'panlex_swadesh.zip',\n",
      " 'paradigms',\n",
      " 'paradigms.zip',\n",
      " 'pil',\n",
      " 'pil.zip',\n",
      " 'pl196x',\n",
      " 'pl196x.zip',\n",
      " 'ppattach',\n",
      " 'ppattach.zip',\n",
      " 'problem_reports',\n",
      " 'problem_reports.zip',\n",
      " 'product_reviews_1',\n",
      " 'product_reviews_1.zip',\n",
      " 'product_reviews_2',\n",
      " 'product_reviews_2.zip',\n",
      " 'propbank.zip',\n",
      " 'pros_cons',\n",
      " 'pros_cons.zip',\n",
      " 'ptb',\n",
      " 'ptb.zip',\n",
      " 'qc',\n",
      " 'qc.zip',\n",
      " 'reuters.zip',\n",
      " 'rte',\n",
      " 'rte.zip',\n",
      " 'semcor.zip',\n",
      " 'senseval',\n",
      " 'senseval.zip',\n",
      " 'sentence_polarity',\n",
      " 'sentence_polarity.zip',\n",
      " 'sentiwordnet',\n",
      " 'sentiwordnet.zip',\n",
      " 'shakespeare',\n",
      " 'shakespeare.zip',\n",
      " 'sinica_treebank',\n",
      " 'sinica_treebank.zip',\n",
      " 'smultron',\n",
      " 'smultron.zip',\n",
      " 'state_union',\n",
      " 'state_union.zip',\n",
      " 'stopwords',\n",
      " 'stopwords.zip',\n",
      " 'subjectivity',\n",
      " 'subjectivity.zip',\n",
      " 'swadesh',\n",
      " 'swadesh.zip',\n",
      " 'switchboard',\n",
      " 'switchboard.zip',\n",
      " 'timit',\n",
      " 'timit.zip',\n",
      " 'toolbox',\n",
      " 'toolbox.zip',\n",
      " 'treebank',\n",
      " 'treebank.zip',\n",
      " 'twitter_samples',\n",
      " 'twitter_samples.zip',\n",
      " 'udhr',\n",
      " 'udhr.zip',\n",
      " 'udhr2',\n",
      " 'udhr2.zip',\n",
      " 'unicode_samples',\n",
      " 'unicode_samples.zip',\n",
      " 'universal_treebanks_v20.zip',\n",
      " 'verbnet',\n",
      " 'verbnet.zip',\n",
      " 'webtext',\n",
      " 'webtext.zip',\n",
      " 'wordnet',\n",
      " 'wordnet.zip',\n",
      " 'wordnet_ic',\n",
      " 'wordnet_ic.zip',\n",
      " 'words',\n",
      " 'words.zip',\n",
      " 'ycoe',\n",
      " 'ycoe.zip']\n"
     ]
    }
   ],
   "source": []
  },
  {
   "cell_type": "code",
   "execution_count": null,
   "metadata": {
    "collapsed": true
   },
   "outputs": [],
   "source": []
  },
  {
   "cell_type": "code",
   "execution_count": null,
   "metadata": {
    "collapsed": true
   },
   "outputs": [],
   "source": []
  },
  {
   "cell_type": "code",
   "execution_count": null,
   "metadata": {
    "collapsed": true
   },
   "outputs": [],
   "source": []
  },
  {
   "cell_type": "code",
   "execution_count": 25,
   "metadata": {},
   "outputs": [
    {
     "data": {
      "image/png": "[encoded data removed]",
      "text/plain": [
       "<matplotlib.figure.Figure at 0x24bac9418d0>"
      ]
     },
     "metadata": {},
     "output_type": "display_data"
    }
   ],
   "source": []
  },
  {
   "cell_type": "code",
   "execution_count": null,
   "metadata": {
    "collapsed": true
   },
   "outputs": [],
   "source": []
  },
  {
   "cell_type": "code",
   "execution_count": null,
   "metadata": {
    "collapsed": true
   },
   "outputs": [],
   "source": [
    "import pandas as pd"
   ]
  },
  {
   "cell_type": "code",
   "execution_count": null,
   "metadata": {
    "collapsed": true
   },
   "outputs": [],
   "source": [
    "df = pd.DataFrame(columns=['the', 'can', 'say'])\n",
    "df"
   ]
  },
  {
   "cell_type": "code",
   "execution_count": null,
   "metadata": {
    "collapsed": true
   },
   "outputs": [],
   "source": [
    "row = [0, 0, 0]\n",
    "df.loc[len(df)] = row"
   ]
  },
  {
   "cell_type": "code",
   "execution_count": null,
   "metadata": {
    "collapsed": true
   },
   "outputs": [],
   "source": [
    "df"
   ]
  },
  {
   "cell_type": "code",
   "execution_count": null,
   "metadata": {
    "collapsed": true
   },
   "outputs": [],
   "source": [
    "df.loc[len(df)] = row"
   ]
  },
  {
   "cell_type": "code",
   "execution_count": null,
   "metadata": {
    "collapsed": true
   },
   "outputs": [],
   "source": [
    "df"
   ]
  },
  {
   "cell_type": "code",
   "execution_count": null,
   "metadata": {
    "collapsed": true
   },
   "outputs": [],
   "source": []
  },
  {
   "cell_type": "code",
   "execution_count": null,
   "metadata": {
    "collapsed": true
   },
   "outputs": [],
   "source": []
  },
  {
   "cell_type": "code",
   "execution_count": null,
   "metadata": {
    "collapsed": true
   },
   "outputs": [],
   "source": [
    "from random import randint as rand\n",
    "import sys"
   ]
  },
  {
   "cell_type": "code",
   "execution_count": null,
   "metadata": {
    "collapsed": true
   },
   "outputs": [],
   "source": [
    "from random import choice \n",
    "import sys\n",
    "import string"
   ]
  },
  {
   "cell_type": "code",
   "execution_count": null,
   "metadata": {
    "collapsed": true
   },
   "outputs": [],
   "source": [
    "L = string.ascii_uppercase\n",
    "L"
   ]
  },
  {
   "cell_type": "code",
   "execution_count": 10,
   "metadata": {
    "collapsed": true
   },
   "outputs": [],
   "source": [
    "sys.stdout = open('test_case.txt', 'w')\n",
    "ai_max = 100000\n",
    "ai_min = 1\n",
    "N_max = 100\n",
    "N_min = 10\n",
    "N = rand(N_min, N_max)\n",
    "print(N)\n",
    "for i in range(N):\n",
    "    str_len = rand(ai_min, ai_max)\n",
    "    s = ''.join([choice(L) for _ in range(str_len)])\n",
    "    print(s)"
   ]
  },
  {
   "cell_type": "code",
   "execution_count": null,
   "metadata": {
    "collapsed": true
   },
   "outputs": [],
   "source": []
  },
  {
   "cell_type": "code",
   "execution_count": null,
   "metadata": {
    "collapsed": true
   },
   "outputs": [],
   "source": []
  },
  {
   "cell_type": "code",
   "execution_count": null,
   "metadata": {
    "collapsed": true
   },
   "outputs": [],
   "source": [
    "sys.stdout = open('test_case.txt', 'w')\n",
    "ai_max = 15007\n",
    "ai_min = -ai_max\n",
    "N_max = 100#50000\n",
    "N_min = 1\n",
    "N = rand(N_min, N_max)\n",
    "Q = rand(N_min, N_max)\n",
    "print(N)\n",
    "for i in range(N):\n",
    "    print(rand(ai_min, ai_max), end=\" \")\n",
    "print(\"\")\n",
    "print(Q)\n",
    "for i in range(Q):\n",
    "    start = rand(N_min, N-1)\n",
    "    end = rand(start+1, N)\n",
    "    print(start, end)"
   ]
  },
  {
   "cell_type": "code",
   "execution_count": null,
   "metadata": {
    "collapsed": true
   },
   "outputs": [],
   "source": []
  },
  {
   "cell_type": "code",
   "execution_count": null,
   "metadata": {
    "collapsed": true
   },
   "outputs": [],
   "source": []
  },
  {
   "cell_type": "code",
   "execution_count": null,
   "metadata": {
    "collapsed": true
   },
   "outputs": [],
   "source": [
    "a = \"{{a,b,c,d},{e},{f}}\"\n",
    "b = \"{{a,b,c,d},{e},{f}}\""
   ]
  },
  {
   "cell_type": "code",
   "execution_count": null,
   "metadata": {
    "collapsed": true
   },
   "outputs": [],
   "source": [
    "gx = [2,4,7]\n",
    "gy = [2,4,7]\n",
    "px = [2,4,6,0,4,5,9]\n",
    "py = [2,4,6,4,0,5,9]\n",
    "import matplotlib.pyplot as plt\n",
    "plt.scatter(px,py)\n",
    "plt.scatter(gx,gy,c='r')\n",
    "plt.show()"
   ]
  },
  {
   "cell_type": "code",
   "execution_count": null,
   "metadata": {
    "collapsed": true
   },
   "outputs": [],
   "source": [
    "import tensorflow as tf"
   ]
  },
  {
   "cell_type": "code",
   "execution_count": null,
   "metadata": {
    "collapsed": true
   },
   "outputs": [],
   "source": [
    "import tensorflow as tf\n",
    "sess = tf.Session(config=tf.ConfigProto(log_device_placement=True))"
   ]
  },
  {
   "cell_type": "code",
   "execution_count": null,
   "metadata": {
    "collapsed": true
   },
   "outputs": [],
   "source": [
    "def fib(n):\n",
    "    if n == 1 || n == 0 :\n",
    "        return 1\n",
    "    else:\n",
    "        return fib(n-1) + fib()"
   ]
  },
  {
   "cell_type": "code",
   "execution_count": null,
   "metadata": {
    "collapsed": true
   },
   "outputs": [],
   "source": []
  },
  {
   "cell_type": "code",
   "execution_count": null,
   "metadata": {
    "collapsed": true
   },
   "outputs": [],
   "source": [
    "num_v = int(input().strip())\n",
    "edges = [i == \"1\" for i in input().strip().split()]\n",
    "vertices = []\n",
    "graph = {i : [] for i in range(num_v)}\n",
    "\n",
    "color = {i : set() for i in range(num_v)}\n",
    "\n",
    "for i in range(num_v):\n",
    "    for j in range(num_v):\n",
    "        if i == j :\n",
    "            print(\"false\")\n",
    "            return\n",
    "    index = i * num_v + j\n",
    "    if edges[index]:\n",
    "        graph[i].append(j)\n",
    "        graph[j].append(i)\n",
    "\n",
    "num_triangles = 0\n",
    "\n",
    "if\n",
    "      \n"
   ]
  },
  {
   "cell_type": "code",
   "execution_count": null,
   "metadata": {
    "collapsed": true
   },
   "outputs": [],
   "source": [
    "def color_graph():\n",
    "    num_v, num_e = [int(i) for i in input().strip().split()] \n",
    "    \n",
    "    #print(num_v, num_e)\n",
    "    \n",
    "    vertices = []\n",
    "    \n",
    "    graph = {i : [] for i in range(1, num_v + 1)}\n",
    "    \n",
    "    color = {i : set() for i in range(1, num_v + 1)}\n",
    "    \n",
    "    for e in range(num_e) :\n",
    "        source, dest = [int(i) for i in input().strip().split()]\n",
    "        if source == dest :\n",
    "            print(\"NO\")\n",
    "            return\n",
    "        graph[source].append(dest)\n",
    "        graph[dest].append(source)\n",
    "            \n",
    "    #edges = [i == \"1\" for i in input().strip().split()]\n",
    "\n",
    "\n",
    "    for i in range(1, num_v + 1):\n",
    "        if len(color[i]) == 0 :\n",
    "            color[i].add(\"red\")\n",
    "            for n in graph[i]:\n",
    "                color[n].add(\"blue\")\n",
    "        elif \"red\" in color[i] and \"blue\" not in color[i]:\n",
    "            for n in graph[i]:\n",
    "                color[n].add(\"blue\")\n",
    "        elif \"blue\" in color[i] and \"red\" not in color[i]:\n",
    "            for n in graph[i]:\n",
    "                color[n].add(\"red\")\n",
    "        else:\n",
    "            print(\"NO\")\n",
    "            return\n",
    "    #from pprint import pprint \n",
    "    #pprint(color)\n",
    "\n",
    "    ans = True\n",
    "\n",
    "    for i in range(1, num_v + 1):\n",
    "        if len(color[i]) != 1 :\n",
    "            ans = False\n",
    "            print(\"NO\")\n",
    "            return\n",
    "        else:\n",
    "            ans = ans and True\n",
    "    print(\"YES\")\n",
    "        \n",
    "color_graph()\n",
    "# 7 8 1 2 2 3 3 4 4 5 5 3 2 6 6 7 7 1\n"
   ]
  },
  {
   "cell_type": "code",
   "execution_count": null,
   "metadata": {
    "collapsed": true
   },
   "outputs": [],
   "source": []
  },
  {
   "cell_type": "code",
   "execution_count": null,
   "metadata": {
    "collapsed": true
   },
   "outputs": [],
   "source": []
  },
  {
   "cell_type": "code",
   "execution_count": null,
   "metadata": {
    "collapsed": true
   },
   "outputs": [],
   "source": [
    "i = 3\n",
    "while i < 47 :\n",
    "    print( str(i)+\",\"+str(i+1)+\",\", end = \"\")\n",
    "    i+=4"
   ]
  },
  {
   "cell_type": "code",
   "execution_count": null,
   "metadata": {
    "collapsed": true
   },
   "outputs": [],
   "source": [
    "import numpy as np\n",
    "[N, M] = [int(x) for x in input().strip().split(\" \")]\n",
    "input_ = [int(x) for x in input().strip().split(\" \")]\n",
    "print(input_)\n",
    "arr = np.array([[input_[M*i + j] for j in range(M)] for i in range(N)])\n",
    "print(arr)"
   ]
  },
  {
   "cell_type": "code",
   "execution_count": null,
   "metadata": {
    "collapsed": true
   },
   "outputs": [],
   "source": [
    "sum_r = arr.sum(axis = 1)\n",
    "print(sum_r)\n",
    "\n",
    "sum_c = arr.sum(axis = 0)\n",
    "print(sum_c)\n",
    "\n",
    "if sum_r.max() >= sum_c.max():\n",
    "    i = np.argmax(sum_r)\n",
    "    print(\"row\", end = \" \")\n",
    "    print(i, end = \" \")\n",
    "    print(sum_r[i], end = \" \")\n",
    "else: \n",
    "    i = np.argmax(sum_c)\n",
    "    print(\"column\", end = \" \")\n",
    "    print(i, end = \" \")\n",
    "    print(sum_c[i], end = \" \")"
   ]
  },
  {
   "cell_type": "code",
   "execution_count": null,
   "metadata": {
    "collapsed": true
   },
   "outputs": [],
   "source": [
    "import numpy as np\n",
    "input_ = [int(x) for x in input().strip().split(\" \")]\n",
    "N = input_[0]\n",
    "M = input_[1]\n",
    "input_ = input_[2:len(input_)]\n",
    "print(input_)\n",
    "arr = np.array([[input_[M*i + j] for j in range(M)] for i in range(N)])\n",
    "print(arr)\n"
   ]
  },
  {
   "cell_type": "code",
   "execution_count": null,
   "metadata": {
    "collapsed": true
   },
   "outputs": [],
   "source": [
    "\n",
    "s_x = 0\n",
    "e_x = N\n",
    "s_y = 0\n",
    "e_y = M\n",
    "while s_x <= e_x and s_y <= e_y :\n",
    "    for i in range(s_y, e_y):\n",
    "        print(arr[s_x, i], end = \" \")\n",
    "    s_x += 1\n",
    "    \n",
    "    print(\"\")\n",
    "\n",
    "    for i in range(s_x, e_x):\n",
    "        print(arr[i, e_y -1], end = \" \")\n",
    "    e_y -= 1    \n",
    "    \n",
    "    print(\"\")\n",
    "    \n",
    "    r1 = list((range(s_y, e_y)))\n",
    "    r1.reverse()\n",
    "    for i in r1:\n",
    "        print(arr[e_x - 1, i], end = \" \")\n",
    "    e_x -= 1\n",
    "    \n",
    "    print(\"\")\n",
    "    \n",
    "    r2 = list((range(s_x, e_x)))\n",
    "    r2.reverse()\n",
    "    for i in r2:\n",
    "        print(arr[i, s_y], end = \" \")\n",
    "    s_y += 1\n",
    "    \n",
    "    print(\"\")\n",
    "    \n",
    "print(\"End\")\n",
    "print(arr)"
   ]
  },
  {
   "cell_type": "code",
   "execution_count": null,
   "metadata": {
    "collapsed": true
   },
   "outputs": [],
   "source": [
    "a = list(range(10))\n",
    "a.reverse()\n",
    "print(a)\n",
    "b = list(range(10)).reverse()\n",
    "for i in b:\n",
    "    print(i)"
   ]
  },
  {
   "cell_type": "code",
   "execution_count": null,
   "metadata": {
    "collapsed": true
   },
   "outputs": [],
   "source": []
  },
  {
   "cell_type": "code",
   "execution_count": null,
   "metadata": {
    "collapsed": true
   },
   "outputs": [],
   "source": [
    "def is_unique (s):\n",
    "    for x in s :\n",
    "        if s.count(x) > 1: \n",
    "            return False\n",
    "    return True\n",
    "\n",
    "s = input()\n",
    "max_sub = \"\"\n",
    "for i in range(len(s)):\n",
    "    for j in range(i, len(s)):\n",
    "        sub = s[i:j+1]\n",
    "        if is_unique(sub) and ( len(max_sub) < len(sub) ):\n",
    "            max_sub = sub\n",
    "print(max_sub)\n"
   ]
  },
  {
   "cell_type": "code",
   "execution_count": null,
   "metadata": {
    "collapsed": true
   },
   "outputs": [],
   "source": [
    "from sklearn.feature_extraction.stop_words import ENGLISH_STOP_WORDS"
   ]
  },
  {
   "cell_type": "code",
   "execution_count": null,
   "metadata": {
    "collapsed": true
   },
   "outputs": [],
   "source": [
    "import spacy"
   ]
  },
  {
   "cell_type": "code",
   "execution_count": null,
   "metadata": {
    "collapsed": true
   },
   "outputs": [],
   "source": [
    "nlp = spacy.load('en')"
   ]
  },
  {
   "cell_type": "code",
   "execution_count": null,
   "metadata": {
    "collapsed": true
   },
   "outputs": [],
   "source": [
    "nlp.STOP_WORDS\n"
   ]
  },
  {
   "cell_type": "code",
   "execution_count": null,
   "metadata": {
    "collapsed": true
   },
   "outputs": [],
   "source": [
    "from spacy.lang.en.stop_words import STOP_WORDS\n"
   ]
  },
  {
   "cell_type": "code",
   "execution_count": null,
   "metadata": {
    "collapsed": true
   },
   "outputs": [],
   "source": [
    "print(STOP_WORDS)"
   ]
  },
  {
   "cell_type": "code",
   "execution_count": null,
   "metadata": {
    "collapsed": true
   },
   "outputs": [],
   "source": [
    "from nltk.corpus import stopwords\n",
    "from spacy.lang.en.stop_words import STOP_WORDS\n",
    "from sklearn.feature_extraction.stop_words import ENGLISH_STOP_WORDS\n",
    "\n",
    "ENGLISH_STOP_WORDS_LIST = list(ENGLISH_STOP_WORDS)\n",
    "STOP_WORDS_LIST = list(STOP_WORDS)\n",
    "\n",
    "stop_words = list(set(stopwords.words('english') + ENGLISH_STOP_WORDS_LIST + STOP_WORDS_LIST))\n",
    "#stop_words.insert(0, list(STOP_WORDS))\n",
    "#stop_words.insert(0, list(ENGLISH_STOP_WORDS))\n",
    "#print(type(stop_words), '\\n', type(ENGLISH_STOP_WORDS_LIST), '\\n', type(STOP_WORDS_LIST), '\\n')\n",
    "#print(stop_words, '\\n', ENGLISH_STOP_WORDS_LIST, '\\n', STOP_WORDS_LIST, '\\n')\n",
    "\n",
    "print(type(stop_words))\n",
    "print(len(stop_words))\n",
    "\n",
    "print(stop_words)"
   ]
  },
  {
   "cell_type": "code",
   "execution_count": null,
   "metadata": {
    "collapsed": true
   },
   "outputs": [],
   "source": [
    "dict = {\n",
    "    \"a\" : 10,\n",
    "    \"b\" : 20\n",
    "}\n",
    "import pandas as pd\n",
    "cols = dict.keys()\n",
    "df = pd.DataFrame(columns = cols)\n",
    "for i in range(10):\n",
    "    dict['a'] = i*5\n",
    "    if i %2 == 1:\n",
    "        dict['b'] = i*3\n",
    "    else:\n",
    "        dict['b'] = None\n",
    "    df = df.append(dict, ignore_index=True)\n",
    "df"
   ]
  },
  {
   "cell_type": "code",
   "execution_count": null,
   "metadata": {
    "collapsed": true
   },
   "outputs": [],
   "source": []
  },
  {
   "cell_type": "code",
   "execution_count": null,
   "metadata": {
    "collapsed": true
   },
   "outputs": [],
   "source": []
  },
  {
   "cell_type": "code",
   "execution_count": null,
   "metadata": {
    "collapsed": true
   },
   "outputs": [],
   "source": []
  }
 ],
 "metadata": {
  "kernelspec": {
   "display_name": "Python 3",
   "language": "python",
   "name": "python3"
  },
  "language_info": {
   "codemirror_mode": {
    "name": "ipython",
    "version": 3
   },
   "file_extension": ".py",
   "mimetype": "text/x-python",
   "name": "python",
   "nbconvert_exporter": "python",
   "pygments_lexer": "ipython3",
   "version": "3.6.7"
  }
 },
 "nbformat": 4,
 "nbformat_minor": 2
}
