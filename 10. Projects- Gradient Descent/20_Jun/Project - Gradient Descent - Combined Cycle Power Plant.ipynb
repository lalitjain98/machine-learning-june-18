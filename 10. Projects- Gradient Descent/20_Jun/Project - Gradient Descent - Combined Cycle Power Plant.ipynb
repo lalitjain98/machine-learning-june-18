{
 "cells": [
  {
   "cell_type": "markdown",
   "metadata": {},
   "source": [
    "## Gradient Descent - Combined Cycle Power Plant\n",
    "Combined Cycle Power Plant dataset contains 9568 data points collected from a Combined Cycle Power Plant over 6 years (2006-2011), when the power plant was set to work with full load. Features consist of hourly average ambient variables Temperature (T), Ambient Pressure (AP), Relative Humidity (RH) and Exhaust Vacuum (V) to predict the net hourly electrical energy output (EP) of the plant.\n",
    "You are given:\n",
    "    1. A Readme file for more details on dataset. \n",
    "    2. A Training dataset csv file with X train and Y train data\n",
    "    3. A X test File and you have to predict and submit predictions for this file.\n",
    "Your task is to:\n",
    "    1. Code Gradient Descent for N features and come with predictions.\n",
    "    2. Try and test with various combinations of learning rates and number of iterations.\n",
    "    3. Try using Feature Scaling, and see if it helps you in getting better results. \n",
    "Read Instructions carefully -\n",
    "    1. Use Gradient Descent as a training algorithm and submit results predicted.\n",
    "    2. Files are in csv format, you can use genfromtxt function in numpy to load data from csv file. Similarly you can use savetxt function to save data into a file.\n",
    "    3. Submit a csv file with only predictions for X test data. File should not have any headers and should only have one column i.e. predictions. Also predictions shouldn't be in exponential form.\n",
    "    4. Your score is based on coefficient of determination. So it can be possible that nobody gets full score.\n",
    "\n"
   ]
  },
  {
   "cell_type": "code",
   "execution_count": 1,
   "metadata": {
    "collapsed": true
   },
   "outputs": [],
   "source": [
    "import numpy as np\n",
    "import pandas as pd"
   ]
  },
  {
   "cell_type": "code",
   "execution_count": 4,
   "metadata": {},
   "outputs": [
    {
     "name": "stdout",
     "output_type": "stream",
     "text": [
      "                 T            V           AP           RH           EP\n",
      "count  7176.000000  7176.000000  7176.000000  7176.000000  7176.000000\n",
      "mean     19.629712    54.288154  1013.263032    73.275818   454.431293\n",
      "std       7.475256    12.751468     5.964863    14.625093    17.134571\n",
      "min       1.810000    25.360000   992.890000    25.560000   420.260000\n",
      "25%      13.470000    41.740000  1009.010000    63.202500   439.737500\n",
      "50%      20.315000    52.050000  1012.910000    74.895000   451.740000\n",
      "75%      25.720000    66.540000  1017.302500    84.925000   468.667500\n",
      "max      35.770000    81.560000  1033.300000   100.160000   495.760000\n",
      "(7176, 4)\n",
      "(7176,)\n",
      "                0            1            2            3\n",
      "count  2392.00000  2392.000000  2392.000000  2392.000000\n",
      "mean     19.71579    54.358754  1013.247216    73.408457\n",
      "std       7.38488    12.578763     5.861068    14.528135\n",
      "min       3.38000    25.360000   993.740000    26.670000\n",
      "25%      13.66000    41.730000  1009.300000    63.615000\n",
      "50%      20.45000    52.750000  1013.025000    75.090000\n",
      "75%      25.67250    66.490000  1017.172500    84.497500\n",
      "max      37.11000    80.250000  1033.290000   100.130000\n",
      "(2392, 4)\n"
     ]
    }
   ],
   "source": [
    "# Loading Datasets\n",
    "\n",
    "train_dataset = np.genfromtxt(\"training_ccpp_x_y_train.csv\", names = True, delimiter = \",\")\n",
    "train_df = pd.DataFrame(train_dataset)\n",
    "print(train_df.describe())\n",
    "num_cols = len(train_df.columns)\n",
    "X_train = train_df.values[:, 0: num_cols -1 ]\n",
    "Y_train = train_df.values[:, num_cols - 1]\n",
    "print(X_train.shape)\n",
    "print(Y_train.shape)\n",
    "\n",
    "# print(X_train)\n",
    "# print(Y_train)\n",
    "\n",
    "test_dataset = np.genfromtxt(\"test_ccpp_x_test.csv\", names = None, delimiter = \",\")\n",
    "test_df = pd.DataFrame(test_dataset)\n",
    "print(test_df.describe())\n",
    "num_cols = len(test_df.columns)\n",
    "X_test = test_df.values\n",
    "\n",
    "print(X_test.shape)\n",
    "\n",
    "# print(X_train)"
   ]
  },
  {
   "cell_type": "code",
   "execution_count": 14,
   "metadata": {
    "collapsed": true
   },
   "outputs": [],
   "source": [
    "def single_step(X, Y, m, alpha):\n",
    "    n_1 = len(m)\n",
    "    num_eg = len(X)\n",
    "    slope_m = np.zeros(n_1) \n",
    "    \n",
    "    for j in range(n_1):\n",
    "        for i in range(num_eg) :\n",
    "            slope_m[j] += (-2/num_eg)* ((Y[i] - (m *(X[i])).sum() ) * X[i][j] )    \n",
    "    #for j in range(n_1):\n",
    "            m[j] -= alpha*slope_m[j]\n",
    "    return m\n",
    "\n",
    "def cost(X, Y, m):\n",
    "    cost = 0\n",
    "    num_eg = len(X)\n",
    "    for i in range(num_eg) :\n",
    "        cost += ((Y[i] - (m * X[i]).sum())**2 )/num_eg\n",
    "    return cost\n",
    "\n",
    "def gd(X, Y, alpha, num_iters):\n",
    "    num_eg = len(X)\n",
    "    X = np.c_[X, np.ones(X.shape[0])]\n",
    "    m = np.zeros(len(X[0]))\n",
    "    costs = {}\n",
    "    print(len(m))\n",
    "    for i in range(num_iters):\n",
    "        m = single_step(X, Y, m, alpha)\n",
    "        if i % 10 == 0 :\n",
    "            costs[i] = cost(X, Y, m)\n",
    "            print(i, \" \", costs[i])\n",
    "    import matplotlib.pyplot as plt\n",
    "    keys = [key for key in costs]\n",
    "    values = [costs[key] for key in costs]\n",
    "    plt.plot(keys, values)\n",
    "    plt.show()\n",
    "    return m\n",
    "\n",
    "def predict(X, m) :\n",
    "    X = np.c_[X, np.ones(X.shape[0])]\n",
    "    Y = np.array([])\n",
    "    for i in range(len(X)):\n",
    "        Y_i = (X[i] * m).sum()\n",
    "        Y = np.append(Y, Y_i)\n",
    "    return Y\n",
    "\n",
    "def scale_features(X_train) :\n",
    "    import copy\n",
    "    X = copy.deepcopy(X_train)\n",
    "    means = np.array([X[:, i].mean() for i in range(X.shape[1])])\n",
    "    stds = np.array([X[:, i].std() for i in range(X.shape[1])])\n",
    "    \n",
    "    for i in range(X.shape[0]) :\n",
    "        X[i, :] = (X[i, :] - means)/stds\n",
    "    return X\n",
    "def score(Y_true, Y_pred) :\n",
    "    mean = Y_true.mean()\n",
    "    u = ((Y_true - Y_pred)**2).sum()\n",
    "    v = ((Y_true - mean)**2).sum() \n",
    "    return 1 - (u/v)\n",
    "# Introduce more features\n",
    "def add_more_features (X_train, imp_cols_indices):\n",
    "    X_train_df = pd.DataFrame(X_train)\n",
    "    num_f = len(X_train_df.columns)\n",
    "    col_names = X_train_df.columns\n",
    "    new_df = X_train_df.copy()\n",
    "    num_imp_cols = len(imp_col_indices)\n",
    "    for i1 in range(num_imp_cols) :\n",
    "        for j1 in range(i1, num_imp_cols):\n",
    "            i = imp_cols_indices[i1]\n",
    "            j = imp_cols_indices[j1]\n",
    "            new_df[ str(col_names[i]) + \"_\" + str(col_names[j])] = X_train_df[i] * X_train_df[j]\n",
    "    print(new_df.describe())\n",
    "    return new_df.values"
   ]
  },
  {
   "cell_type": "code",
   "execution_count": 15,
   "metadata": {},
   "outputs": [
    {
     "name": "stdout",
     "output_type": "stream",
     "text": [
      "                 0            1            2            3          0_0  \\\n",
      "count  7176.000000  7176.000000  7176.000000  7176.000000  7176.000000   \n",
      "mean     19.629712    54.288154  1013.263032    73.275818   441.197241   \n",
      "std       7.475256    12.751468     5.964863    14.625093   291.386373   \n",
      "min       1.810000    25.360000   992.890000    25.560000     3.276100   \n",
      "25%      13.470000    41.740000  1009.010000    63.202500   181.440900   \n",
      "50%      20.315000    52.050000  1012.910000    74.895000   412.699250   \n",
      "75%      25.720000    66.540000  1017.302500    84.925000   661.518400   \n",
      "max      35.770000    81.560000  1033.300000   100.160000  1279.492900   \n",
      "\n",
      "               0_1           0_2          0_3          1_1           1_2  \\\n",
      "count  7176.000000   7176.000000  7176.000000  7176.000000   7176.000000   \n",
      "mean   1146.231808  19867.363330  1378.774523  3109.780886  54976.439908   \n",
      "std     636.684493   7517.119525   473.236585  1422.362595  12779.352400   \n",
      "min      71.350200   1858.725200   139.315700   643.129600  25569.727200   \n",
      "25%     560.804700  13693.439600  1013.035325  1742.227600  42336.385100   \n",
      "50%    1109.562200  20594.238400  1397.303800  2709.202500  52623.837200   \n",
      "75%    1680.519250  26007.215325  1748.473500  4427.571600  67323.618375   \n",
      "max    2722.111000  35997.497200  2647.989600  6652.033600  82095.849200   \n",
      "\n",
      "               1_3           2_2            2_3           3_3  \n",
      "count  7176.000000  7.176000e+03    7176.000000   7176.000000  \n",
      "mean   3919.161261  1.026738e+06   74256.519210   5583.209039  \n",
      "std    1046.138478  1.209811e+04   14859.343071   2069.245715  \n",
      "min    1288.095100  9.858306e+05   25975.094400    653.313600  \n",
      "25%    3185.409600  1.018101e+06   64009.632900   3994.556175  \n",
      "50%    3744.296400  1.025987e+06   75987.455850   5609.261050  \n",
      "75%    4551.250050  1.034904e+06   86194.654150   7212.255700  \n",
      "max    7593.682400  1.067709e+06  102298.000000  10032.025600  \n",
      "15\n",
      "0   27407.35698774356\n",
      "10   19.771793192272643\n",
      "20   19.435291245965406\n",
      "30   19.254334687853348\n",
      "40   19.139332274978056\n",
      "50   19.057088083929735\n",
      "60   18.99442061010571\n",
      "70   18.945210405192174\n",
      "80   18.906034176293364\n",
      "90   18.87464764907711\n",
      "100   18.849422088946937\n",
      "110   18.82910993383688\n",
      "120   18.812730418326225\n",
      "130   18.799503196382307\n",
      "140   18.788804002311547\n",
      "150   18.78013225073067\n",
      "160   18.773086168135436\n",
      "170   18.767343223952945\n",
      "180   18.76264454232323\n",
      "190   18.75878241133023\n"
     ]
    },
    {
     "data": {
      "text/plain": [
       "<Figure size 640x480 with 1 Axes>"
      ]
     },
     "metadata": {},
     "output_type": "display_data"
    },
    {
     "name": "stdout",
     "output_type": "stream",
     "text": [
      "[-1.22546241e+01 -3.21317307e+00  9.79305523e-01  1.16508243e+00\n",
      "  5.58807100e+00  3.57001463e-01 -5.48352363e+00 -1.73093881e+00\n",
      "  1.91325415e+00 -1.15925068e+00 -1.21334155e+00 -3.93389054e-01\n",
      "  1.02656096e+00 -2.04521156e+00  4.54448827e+02]\n",
      "Duration:  200.73238849639893 second\n"
     ]
    }
   ],
   "source": [
    "imp_col_indices = [0, 1, 2, 3]\n",
    "import time\n",
    "s_t = time.time()\n",
    "X_train_new = add_more_features(X_train, imp_col_indices)\n",
    "X_train_scaled = scale_features(X_train_new)\n",
    "m = gd(X_train_scaled, Y_train, 0.0001, 200)\n",
    "print(m)\n",
    "e_t = time.time()\n",
    "print(\"Duration: \",e_t-s_t, \"second\")"
   ]
  },
  {
   "cell_type": "code",
   "execution_count": 17,
   "metadata": {},
   "outputs": [
    {
     "name": "stdout",
     "output_type": "stream",
     "text": [
      "                0            1            2            3          0_0  \\\n",
      "count  2392.00000  2392.000000  2392.000000  2392.000000  2392.000000   \n",
      "mean     19.71579    54.358754  1013.247216    73.408457   443.226037   \n",
      "std       7.38488    12.578763     5.861068    14.528135   287.407312   \n",
      "min       3.38000    25.360000   993.740000    26.670000    11.424400   \n",
      "25%      13.66000    41.730000  1009.300000    63.615000   186.595600   \n",
      "50%      20.45000    52.750000  1013.025000    75.090000   418.202500   \n",
      "75%      25.67250    66.490000  1017.172500    84.497500   659.077275   \n",
      "max      37.11000    80.250000  1033.290000   100.130000  1377.152100   \n",
      "\n",
      "               0_1           0_2          0_3          1_1           1_2  \\\n",
      "count  2392.000000   2392.000000  2392.000000  2392.000000   2392.000000   \n",
      "mean   1149.740066  19955.219246  1390.019112  3113.033278  55049.260708   \n",
      "std     627.053285   7427.435464   475.576336  1401.229497  12611.977373   \n",
      "min     126.684000   3417.180000   274.523600   643.129600  25579.364000   \n",
      "25%     573.796800  13889.630825  1028.663175  1741.393200  42374.434750   \n",
      "50%    1129.940200  20679.438950  1399.728850  2782.562500  53174.213000   \n",
      "75%    1674.667525  25990.088275  1759.159200  4420.920100  67057.702400   \n",
      "max    2699.660600  37341.195300  2563.845000  6440.062500  81090.844800   \n",
      "\n",
      "               1_3           2_2            2_3           3_3  \n",
      "count  2392.000000  2.392000e+03    2392.000000   2392.000000  \n",
      "mean   3935.261049  1.026704e+06   74388.923498   5599.780087  \n",
      "std    1045.122582  1.188478e+04   14757.433654   2047.547505  \n",
      "min    1563.855000  9.875192e+05   27097.520100    711.288900  \n",
      "25%    3202.516800  1.018686e+06   64537.750975   4046.868300  \n",
      "50%    3763.532000  1.026220e+06   76065.352700   5638.508100  \n",
      "75%    4619.263725  1.034640e+06   85669.176775   7139.827675  \n",
      "max    7158.044000  1.067688e+06  101540.702800  10026.016900  \n",
      "0.9361072519264482\n"
     ]
    }
   ],
   "source": [
    "X_test_new = add_more_features(X_test, imp_col_indices)\n",
    "X_test_scaled = scale_features(X_test_new)\n",
    "Y_pred = predict(X_test_scaled, m)\n",
    "np.savetxt(\"ccpp_dataset_pred.csv\", Y_pred, '%.5f')\n",
    "print(score(Y_train, predict(X_train_scaled, m)))\n"
   ]
  }
 ],
 "metadata": {
  "kernelspec": {
   "display_name": "Python 3",
   "language": "python",
   "name": "python3"
  },
  "language_info": {
   "codemirror_mode": {
    "name": "ipython",
    "version": 3
   },
   "file_extension": ".py",
   "mimetype": "text/x-python",
   "name": "python",
   "nbconvert_exporter": "python",
   "pygments_lexer": "ipython3",
   "version": "3.6.3"
  }
 },
 "nbformat": 4,
 "nbformat_minor": 2
}
