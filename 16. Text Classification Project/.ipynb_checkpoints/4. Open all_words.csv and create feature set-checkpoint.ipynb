{
 "cells": [
  {
   "cell_type": "code",
   "execution_count": 31,
   "metadata": {
    "collapsed": true
   },
   "outputs": [],
   "source": [
    "import numpy as np\n",
    "import pandas as pd\n",
    "words_df = pd.DataFrame(pd.read_csv(\"all_words.csv\"))"
   ]
  },
  {
   "cell_type": "code",
   "execution_count": 32,
   "metadata": {},
   "outputs": [
    {
     "data": {
      "text/html": [
       "<div>\n",
       "<style>\n",
       "    .dataframe thead tr:only-child th {\n",
       "        text-align: right;\n",
       "    }\n",
       "\n",
       "    .dataframe thead th {\n",
       "        text-align: left;\n",
       "    }\n",
       "\n",
       "    .dataframe tbody tr th {\n",
       "        vertical-align: top;\n",
       "    }\n",
       "</style>\n",
       "<table border=\"1\" class=\"dataframe\">\n",
       "  <thead>\n",
       "    <tr style=\"text-align: right;\">\n",
       "      <th></th>\n",
       "      <th>word</th>\n",
       "      <th>frequency</th>\n",
       "    </tr>\n",
       "  </thead>\n",
       "  <tbody>\n",
       "    <tr>\n",
       "      <th>0</th>\n",
       "      <td>path</td>\n",
       "      <td>15204</td>\n",
       "    </tr>\n",
       "    <tr>\n",
       "      <th>1</th>\n",
       "      <td>subject</td>\n",
       "      <td>15997</td>\n",
       "    </tr>\n",
       "    <tr>\n",
       "      <th>2</th>\n",
       "      <td>message</td>\n",
       "      <td>16321</td>\n",
       "    </tr>\n",
       "    <tr>\n",
       "      <th>3</th>\n",
       "      <td>id</td>\n",
       "      <td>15355</td>\n",
       "    </tr>\n",
       "    <tr>\n",
       "      <th>4</th>\n",
       "      <td>organization</td>\n",
       "      <td>14696</td>\n",
       "    </tr>\n",
       "  </tbody>\n",
       "</table>\n",
       "</div>"
      ],
      "text/plain": [
       "           word  frequency\n",
       "0          path      15204\n",
       "1       subject      15997\n",
       "2       message      16321\n",
       "3            id      15355\n",
       "4  organization      14696"
      ]
     },
     "execution_count": 32,
     "metadata": {},
     "output_type": "execute_result"
    }
   ],
   "source": [
    "words_df.head()"
   ]
  },
  {
   "cell_type": "code",
   "execution_count": 33,
   "metadata": {
    "collapsed": true
   },
   "outputs": [],
   "source": [
    "all_words = words_df['word']\n",
    "freq = words_df['frequency']\n",
    "master_dictionary = {all_words[i] : freq[i] for i in range(len(freq))}"
   ]
  },
  {
   "cell_type": "code",
   "execution_count": 34,
   "metadata": {},
   "outputs": [
    {
     "name": "stdout",
     "output_type": "stream",
     "text": [
      "16321\n"
     ]
    }
   ],
   "source": [
    "print(max(freq))"
   ]
  },
  {
   "cell_type": "code",
   "execution_count": 38,
   "metadata": {},
   "outputs": [
    {
     "name": "stdout",
     "output_type": "stream",
     "text": [
      "2000\n"
     ]
    },
    {
     "data": {
      "image/png": "[encoded data removed]",
      "text/plain": [
       "<matplotlib.figure.Figure at 0x171b45a5e48>"
      ]
     },
     "metadata": {},
     "output_type": "display_data"
    }
   ],
   "source": [
    "max_allowed_freq = max(freq)\n",
    "min_allowed_freq = 100\n",
    "filtered_freq = [f for f in freq if (f <= max_allowed_freq and f >= min_allowed_freq)]\n",
    "print(len(filtered_freq))\n",
    "import matplotlib.pyplot as plt\n",
    "plt.hist(filtered_freq, 50)\n",
    "plt.show()"
   ]
  },
  {
   "cell_type": "code",
   "execution_count": null,
   "metadata": {
    "collapsed": true
   },
   "outputs": [],
   "source": []
  },
  {
   "cell_type": "code",
   "execution_count": 40,
   "metadata": {},
   "outputs": [
    {
     "name": "stdout",
     "output_type": "stream",
     "text": [
      "No. of common words :  0\n",
      "No. of rare words :  19378\n"
     ]
    }
   ],
   "source": [
    "too_common_words = [word for word in master_dictionary if master_dictionary[word] > max_allowed_freq]\n",
    "print(\"No. of common words : \", len(too_common_words))\n",
    "\n",
    "\n",
    "too_rare_words = [word for word in master_dictionary if master_dictionary[word] < min_allowed_freq]\n",
    "print(\"No. of rare words : \", len(too_rare_words))\n",
    "#print(too_rare_words)"
   ]
  },
  {
   "cell_type": "code",
   "execution_count": 41,
   "metadata": {},
   "outputs": [
    {
     "data": {
      "image/png": "[encoded data removed]",
      "text/plain": [
       "<matplotlib.figure.Figure at 0x171b4195e10>"
      ]
     },
     "metadata": {},
     "output_type": "display_data"
    }
   ],
   "source": [
    "import matplotlib.pyplot as plt\n",
    "Y_freq = freq[freq >= min_allowed_freq]\n",
    "Y_freq = Y_freq[Y_freq <= max_allowed_freq]\n",
    "plt.plot(np.sort(Y_freq))\n",
    "plt.show()"
   ]
  },
  {
   "cell_type": "code",
   "execution_count": 42,
   "metadata": {},
   "outputs": [
    {
     "name": "stdout",
     "output_type": "stream",
     "text": [
      "1982\n",
      "['path', 'subject', 'message', 'id', 'organization', 'date', 'tue', 'article', 'branch', 'reality', 'likely', 'gotten', 'highly', 'happen', 'forget', 'cult', 'responsible', 'expect', 'responsibility', 'trial', 'following', 'right', 'question', 'design', 'continue', 'believe', 'worship', 'best', 'known', 'day', 'argue', 'act', 'regular', 'service', 'special', 'meeting', 'explicitly', 'god', 'power', 'signal', 'company', 'mon', 'kind', 'cause', 'equipment', 'couple', 'sound', 'stereo', 'direct', 'strong', 'powerful', 'car', 'engine', 'battery', 'lot', 'like', 'radio', 'actually', 'shut', 'completely', 'goes', 'suspect', 'voltage', 'far', 'try', 'vehicle', 'idle', 'low', 'start', 'extra', 'current', 'drawn', 'speed', 'drop', 'resolution', 'problem', 'matter', 'pay', 'attention', 'citizen', 'send', 'apply', 'talking', 'help', 'able', 'install', 'panel', 'recommend', 'type', 'going', 'house', 'unfortunately', 'fair', 'chance', 'picked', 'wiring', 'simple', 'need', 'heavy', 'duty', 'probably', 'solve', 'internal', 'street', 'watch', 'big', 'driving', 'time', 'identify', 'contact', 'owner', 'person', 'amateur', 'willing', 'explain', 'sale', 'institute', 'technology', 'posting', 'host', 'plus', 'shipping', 'body', 'count', 'temple', 'dog', 'music', 'eye', 'jet', 'ancient', 'social', 'history', 'sell', 'physics', 'yes', 'mail', 'project', 'university', 'file', 'think', 'chain', 'sender', 'laboratory', 'sun', 'seen', 'wear', 'stuff', 'bike', 'check', 'thousand', 'dealer', 'master', 'later', 'wide', 'red', 'lady', 'baby', 'disclaimer', 'needs', 'agree', 'raised', 'wild', 'trouble', 'currently', 'true', 'blue', 'model', 'display', 'window', 'image', 'background', 'little', 'read', 'ago', 'thought', 'hook', 'mac', 'screen', 'green', 'hardware', 'solution', 'somebody', 'post', 'checked', 'miss', 'sure', 'good', 'thing', 'thanks', 'research', 'group', 'computer', 'society', 'finland', 'th', 'pool', 'certainly', 'meet', 'canada', 'final', 'look', 'situation', 'world', 'cup', 'eventually', 'lost', 'today', 'reply', 'distribution', 'million', 'people', 'fully', 'criminal', 'soviet', 'entire', 'population', 'result', 'genocide', 'nearly', 'lived', 'government', 'carried', 'driven', 'safe', 'heaven', 'return', 'crime', 'making', 'demand', 'determine', 'future', 'nation', 'come', 'desire', 'united', 'cultural', 'political', 'closed', 'mountain', 'serve', 'ways', 'escape', 'work', 'longer', 'single', 'state', 'easily', 'written', 'manner', 'surface', 'accept', 'attempt', 'rest', 'fun', 'flame', 'express', 'opinion', 'intended', 'human', 'advanced', 'religious', 'planet', 'perfectly', 'content', 'point', 'animal', 'religion', 'address', 'life', 'structure', 'disagree', 'hope', 'purpose', 'safety', 'moral', 'standard', 'eternal', 'shown', 'belief', 'past', 'individual', 'source', 'hidden', 'given', 'loss', 'control', 'finally', 'appropriate', 'reason', 'save', 'merely', 'real', 'living', 'doctrine', 'generally', 'live', 'according', 'friend', 'set', 'said', 'spread', 'concerned', 'gave', 'normally', 'understood', 'word', 'convert', 'cost', 'repeat', 'new', 'ad', 'non', 'seek', 'ask', 'quickly', 'occur', 'personal', 'exist', 'easy', 'harm', 'gain', 'long', 'view', 'worse', 'conversion', 'open', 'taken', 'advantage', 'spirit', 'wrong', 'let', 'sleep', 'food', 'eat', 'die', 'capable', 'vision', 'limited', 'pray', 'variety', 'learn', 'language', 'relationship', 'close', 'use', 'foundation', 'millions', 'small', 'guilty', 'blind', 'truth', 'realize', 'mask', 'large', 'sort', 'element', 'appear', 'amazing', 'conclusion', 'gone', 'know', 'abortion', 'health', 'reform', 'noise', 'lots', 'universal', 'care', 'program', 'covered', 'pro', 'choice', 'anti', 'example', 'net', 'illegal', 'immediately', 'morals', 'support', 'away', 'supporting', 'feel', 'saying', 'paying', 'issue', 'main', 'argument', 'respect', 'greatly', 'order', 'tax', 'money', 'case', 'unable', 'afford', 'place', 'want', 'assumed', 'include', 'suppose', 'instead', 'remove', 'legal', 'bunch', 'related', 'majority', 'win', 'fact', 'number', 'important', 'personally', 'stupid', 'vote', 'consider', 'way', 'economy', 'apparent', 'liberal', 'nice', 'middle', 'course', 'country', 'left', 'answer', 'president', 'policy', 'review', 'contrary', 'understanding', 'position', 'prior', 'object', 'rob', 'summary', 'news', 'product', 'division', 'office', 'immediate', 'guess', 'sex', 'breaking', 'national', 'starting', 'secret', 'kill', 'calling', 'obvious', 'challenge', 'present', 'evidence', 'mind', 'broke', 'building', 'draw', 'absolutely', 'culture', 'wait', 'till', 'divine', 'law', 'works', 'love', 'familiar', 'wed', 'interested', 'trying', 'method', 'went', 'doctor', 'minute', 'leading', 'week', 'shot', 'month', 'somewhat', 'getting', 'public', 'library', 'page', 'reading', 'necessarily', 'development', 'common', 'successful', 'previous', 'wrote', 'difference', 'running', 'possible', 'mode', 'dos', 'ability', 'run', 'added', 'everybody', 'box', 'raise', 'picture', 'mike', 'official', 'kept', 'wonder', 'hard', 'add', 'feature', 'built', 'automatically', 'machine', 'apple', 'agreed', 'require', 'monitor', 'quote', 'note', 'especially', 'factor', 'reduced', 'load', 'air', 'study', 'simply', 'night', 'greater', 'double', 'seeing', 'leave', 'home', 'potential', 'cut', 'based', 'data', 'leaving', 'pointed', 'switch', 'rear', 'designed', 'worth', 'daily', 'verse', 'light', 'widely', 'blame', 'discussion', 'proper', 'watching', 'outside', 'compound', 'independent', 'different', 'hurt', 'hardly', 'claim', 'dangerous', 'fan', 'ahead', 'boy', 'tell', 'job', 'speak', 'cheap', 'yeah', 'constitution', 'expressed', 'seriously', 'major', 'hold', 'insurance', 'network', 'hall', 'guy', 'came', 'repeated', 'private', 'cover', 'buy', 'local', 'coming', 'stuck', 'hill', 'mount', 'fall', 'extent', 'affect', 'list', 'necessary', 'thinking', 'practice', 'hospital', 'figure', 'advance', 'applied', 'style', 'treatment', 'brother', 'town', 'table', 'book', 'depend', 'boston', 'market', 'size', 'equivalent', 'provide', 'smaller', 'free', 'bob', 'anybody', 'offer', 'basic', 'remember', 'hear', 'recently', 'routine', 'effort', 'particular', 'scientist', 'negative', 'north', 'turns', 'turn', 'pat', 'western', 'la', 'store', 'catch', 'business', 'old', 'trade', 'agreement', 'saw', 'odd', 'traditional', 'administration', 'high', 'percentage', 'knew', 'head', 'portion', 'press', 'regardless', 'letter', 'heart', 'proof', 'recall', 'hit', 'function', 'period', 'nature', 'patch', 'opposed', 'dealing', 'correct', 'fixed', 'bad', 'bought', 'deal', 'medical', 'resource', 'rate', 'sick', 'luck', 'wave', 'training', 'tend', 'cold', 'medicine', 'education', 'buffalo', 'feed', 'replacement', 'game', 'coverage', 'spending', 'sad', 'story', 'leader', 'grant', 'campaign', 'sorry', 'considered', 'employer', 'lower', 'met', 'mean', 'create', 'decide', 'approach', 'second', 'sufficient', 'indicate', 'west', 'great', 'pretty', 'bigger', 'detailed', 'better', 'flight', 'lake', 'increase', 'region', 'alternative', 'end', 'choose', 'spend', 'directly', 'involved', 'military', 'native', 'term', 'facility', 'tech', 'comes', 'concern', 'stopped', 'thank', 'hockey', 'told', 'belong', 'manager', 'bank', 'length', 'harder', 'certain', 'access', 'bet', 'talk', 'cable', 'lab', 'version', 'typical', 'historical', 'document', 'appreciate', 'event', 'recent', 'search', 'van', 'interactive', 'media', 'drive', 'write', 'session', 'capability', 'looking', 'directory', 'burned', 'change', 'older', 'taking', 'multiple', 'strange', 'installation', 'enter', 'totally', 'graphics', 'tried', 'process', 'complete', 'working', 'diamond', 'stealth', 'video', 'worked', 'sat', 'fairly', 'wife', 'reaction', 'associate', 'artificial', 'intelligence', 'phone', 'visit', 'newsreader', 'writing', 'carefully', 'entirely', 'valid', 'piece', 'logical', 'statement', 'similarly', 'interpretation', 'college', 'hi', 'popular', 'got', 'location', 'pressure', 'corporation', 'al', 'extremely', 'shape', 'stand', 'useful', 'card', 'frequency', 'connected', 'expensive', 'line', 'respond', 'site', 'faster', 'bit', 'gateway', 'account', 'forward', 'excellent', 'price', 'login', 'park', 'ticket', 'fast', 'oh', 'hate', 'mark', 'analysis', 'motif', 'tool', 'available', 'center', 'land', 'originator', 'compile', 'fine', 'test', 'anonymous', 'transfer', 'provided', 'allow', 'sending', 'tested', 'binary', 'initial', 'target', 'led', 'postscript', 'driver', 'remain', 'replace', 'text', 'posted', 'alan', 'user', 'adobe', 'font', 'reader', 'station', 'properly', 'sample', 'exact', 'economic', 'traffic', 'understand', 'stop', 'twice', 'gas', 'royal', 'prove', 'proven', 'judge', 'satan', 'maybe', 'opening', 'moment', 'rose', 'dead', 'compare', 'chose', 'false', 'sentence', 'hell', 'refer', 'bush', 'fighting', 'oil', 'plain', 'lee', 'lose', 'code', 'committee', 'na', 'police', 'positive', 'step', 'relevant', 'federal', 'days', 'ex', 'showing', 'obviously', 'involve', 'notice', 'select', 'summer', 'science', 'department', 'min', 'august', 'church', 'reserve', 'slow', 'rely', 'recognize', 'aware', 'caught', 'plan', 'blow', 'assume', 'dont', 'fault', 'supposed', 'passing', 'communication', 'begin', 'mu', 'art', 'clutch', 'shift', 'quick', 'telephone', 'bar', 'tin', 'unit', 'connection', 'external', 'supply', 'dan', 'math', 'specific', 'os', 'peter', 'update', 'defend', 'burning', 'death', 'door', 'lie', 'plastic', 'share', 'information', 'funny', 'latest', 'printing', 'print', 'bug', 'stated', 'digital', 'build', 'idea', 'encryption', 'key', 'archive', 'origin', 'commonly', 'meaning', 'wondering', 'extension', 'se', 'frank', 'server', 'astronomy', 'gif', 'format', 'description', 'connect', 'patient', 'enjoy', 'honda', 'motorcycle', 'imply', 'previously', 'impossible', 'produce', 'measure', 'bound', 'difficult', 'edition', 'theory', 'associated', 'response', 'stay', 'member', 'international', 'chips', 'action', 'ultra', 'handle', 'colors', 'color', 'error', 'correctly', 'frequently', 'man', 'listed', 'ship', 'moving', 'release', 'environment', 'contents', 'configuration', 'finding', 'shooting', 'interface', 'compatible', 'documentation', 'included', 'develop', 'application', 'technical', 'similar', 'shell', 'despite', 'unlike', 'hand', 'receive', 'year', 'class', 'generate', 'management', 'presumably', 'fit', 'commercial', 'sold', 'volume', 'essentially', 'level', 'manual', 'performance', 'remains', 'ordinary', 'party', 'lay', 'map', 'area', 'favorite', 'pin', 'rid', 'button', 'menu', 'title', 'pop', 'terminal', 'section', 'input', 'setting', 'depending', 'copy', 'output', 'default', 'root', 'near', 'keyboard', 'careful', 'broken', 'warning', 'mouse', 'experiment', 'sent', 'higher', 'reference', 'force', 'welcome', 'drawing', 'memory', 'prepared', 'status', 'returned', 'effective', 'short', 'drag', 'cursor', 'holding', 'general', 'opposite', 'direction', 'guide', 'contain', 'license', 'separate', 'utility', 'cache', 'loaded', 'variable', 'precisely', 'scale', 'entry', 'export', 'creation', 'base', 'frame', 'core', 'suddenly', 'request', 'link', 'item', 'wish', 'space', 'times', 'carry', 'ran', 'command', 'chapter', 'fix', 'security', 'setup', 'removing', 'pick', 'buffer', 'edge', 'property', 'editor', 'prefer', 'flat', 'actual', 'upgrade', 'soon', 'round', 'domain', 'launch', 'sense', 'remote', 'selected', 'effect', 'procedure', 'push', 'hole', 'null', 'serial', 'normal', 'series', 'fat', 'journal', 'morris', 'miller', 'introduction', 'young', 'implementation', 'square', 'paper', 'primarily', 'jeff', 'rick', 'larry', 'fight', 'excuse', 'original', 'incident', 'wing', 'suggestion', 'bases', 'walk', 'clearly', 'hitter', 'basis', 'consistent', 'overall', 'equal', 'success', 'swap', 'topic', 'possibility', 'batting', 'average', 'significantly', 'rule', 'unlikely', 'joe', 'league', 'deny', 'suggest', 'evolution', 'faith', 'maintain', 'atheism', 'usually', 'accurate', 'existence', 'lack', 'establish', 'scientific', 'earth', 'physical', 'debate', 'ground', 'phrase', 'defined', 'waste', 'definition', 'convince', 'logic', 'assumption', 'follow', 'assertion', 'concept', 'principle', 'form', 'player', 'season', 'decent', 'permission', 'natural', 'focus', 'keeping', 'clone', 'disk', 'condition', 'track', 'bay', 'union', 'storage', 'henry', 'perform', 'random', 'kent', 'accuracy', 'author', 'sea', 'strongly', 'reasonable', 'peace', 'po', 'winning', 'straight', 'closer', 'record', 'team', 'hot', 'room', 'losing', 'play', 'admit', 'brought', 'coach', 'blues', 'deep', 'finish', 'st', 'lead', 'orbit', 'ozone', 'furthermore', 'minimum', 'material', 'perfect', 'selling', 'instruction', 'lock', 'prevent', 'finger', 'fail', 'suffering', 'alive', 'shall', 'gun', 'bear', 'carrying', 'armed', 'violent', 'easier', 'chief', 'southern', 'spot', 'believing', 'modern', 'hearing', 'son', 'fool', 'bios', 'boot', 'floppy', 'primary', 'sign', 'purchase', 'superior', 'auto', 'south', 'definitely', 'pitching', 'baseball', 'spring', 'split', 'happy', 'fear', 'politics', 'blood', 'specs', 'controller', 'finished', 'plug', 'half', 'cellular', 'war', 'operating', 'east', 'army', 'filled', 'relatively', 'produced', 'bring', 'usual', 'terrorism', 'interesting', 'brand', 'instance', 'century', 'republic', 'minority', 'protect', 'took', 'turkey', 'liberty', 'fellow', 'foreign', 'tradition', 'turned', 'men', 'civil', 'empire', 'rise', 'organized', 'city', 'percent', 'slaughter', 'justify', 'russia', 'regard', 'beginning', 'decision', 'refuse', 'eastern', 'degree', 'bureau', 'resurrection', 'protection', 'strike', 'reach', 'mid', 'formed', 'council', 'super', 'race', 'decided', 'civilian', 'effectively', 'murder', 'destruction', 'supreme', 'innocent', 'clear', 'reliable', 'rape', 'apart', 'road', 'thrown', 'worst', 'stone', 'chemistry', 'context', 'role', 'algorithm', 'clipper', 'chip', 'drug', 'supposedly', 'ice', 'discovered', 'age', 'stock', 'ended', 'define', 'feeling', 'exactly', 'nick', 'mass', 'burn', 'father', 'heat', 'freedom', 'soul', 'custom', 'package', 'morality', 'objective', 'behavior', 'effects', 'strip', 'magazine', 'temperature', 'brain', 'waiting', 'biggest', 'martin', 'perspective', 'knowledge', 'experience', 'grace', 'aside', 'listen', 'voice', 'maximum', 'doubt', 'engineering', 'mellon', 'pa', 'teach', 'taught', 'subjective', 'character', 'canon', 'threw', 'catholic', 'holy', 'learned', 'scripture', 'luke', 'genesis', 'testament', 'spent', 'face', 'proposal', 'fund', 'established', 'child', 'born', 'critical', 'married', 'white', 'secretary', 'reflect', 'congress', 'ordered', 'trust', 'improve', 'range', 'nuclear', 'defense', 'seven', 'addition', 'early', 'comprehensive', 'ready', 'discuss', 'avoid', 'minister', 'late', 'specifically', 'assistance', 'homosexuality', 'sides', 'lord', 'tired', 'zoology', 'shuttle', 'attack', 'basically', 'noted', 'failure', 'typically', 'board', 'advice', 'black', 'gospel', 'band', 'poster', 'felt', 'orthodox', 'slightly', 'drink', 'german', 'gamma', 'ray', 'universe', 'energy', 'solar', 'string', 'planetary', 'star', 'treat', 'mary', 'newsletter', 'colorado', 'comparison', 'continued', 'report', 'disease', 'highest', 'county', 'represent', 'field', 'staff', 'self', 'homosexual', 'family', 'virtually', 'fourth', 'explanation', 'sexual', 'activity', 'exchange', 'risk', 'newspaper', 'educational', 'forum', 'community', 'ann', 'impact', 'motor', 'reduce', 'usage', 'association', 'survey', 'significant', 'island', 'enforcement', 'violation', 'chi', 'progress', 'seat', 'york', 'birth', 'collection', 'regional', 'unknown', 'march', 'statistics', 'index', 'received', 'unusual', 'importance', 'annual', 'director', 'agency', 'clinical', 'copyright', 'professor', 'ensure', 'male', 'limit', 'quality', 'cycle', 'opportunity', 'determined', 'benefit', 'total', 'practical', 'sub', 'chosen', 'capital', 'central', 'generation', 'throw', 'secure', 'riding', 'beat', 'helmet', 'wearing', 'rider', 'registration', 'dod', 'bell', 'northern', 'device', 'electronics', 'considering', 'court', 'charge', 'hey', 'vitamin', 'suit', 'acid', 'production', 'diet', 'providing', 'worry', 'extended', 'presence', 'block', 'literature', 'pain', 'suffer', 'learning', 'wise', 'fifth', 'amendment', 'revealed', 'register', 'intent', 'perry', 'fee', 'colour', 'polygon', 'sitting', 'rocket', 'animation', 'protocol', 'plane', 'client', 'particularly', 'telling', 'spiritual', 'saved', 'prayer', 'woman', 'abuse', 'mention', 'mechanism', 'resulting', 'gay', 'foot', 'honest', 'clean', 'visible', 'heck', 'solid', 'electronic', 'plenty', 'terrorist', 'wall', 'inside', 'bus', 'conversation', 'knowing', 'knock', 'raid', 'warrant', 'throwing', 'ring', 'career', 'curious', 'si', 'assuming', 'killing', 'school', 'turning', 'fundamental', 'giving', 'unto', 'essential', 'ignore', 'sin', 'wisdom', 'justice', 'duo', 'processor', 'depth', 'industry', 'imagine', 'boulder', 'virtual', 'identical', 'mission', 'standing', 'originally', 'printer', 'kit', 'concerning', 'mathematics', 'electrical', 'speech', 'circuit', 'libertarian', 'rock', 'privacy', 'battle', 'funds', 'comment', 'linear', 'accelerator', 'wood', 'possibly', 'lying', 'screw', 'weak', 'senate', 'tear', 'visual', 'conference', 'lunar', 'morning', 'era', 'value', 'impression', 'quantum', 'pitcher', 'manage', 'student', 'ford', 'photo', 'additional', 'ide', 'apparently', 'mother', 'ram', 'leaves', 'dark', 'paint', 'shop', 'truly', 'eric', 'grand', 'mi', 'obtain', 'zero', 'cross', 'pure', 'commit', 'absolute', 'poor', 'unique', 'evil', 'revelation', 'speaking', 'thou', 'convinced', 'fly', 'log', 'semi', 'wire', 'professional', 'trip', 'ball', 'punishment', 'electric', 'metal', 'numerous', 'hopefully', 'rich', 'jumper', 'water', 'chemical', 'laser', 'yesterday', 'cool', 'adapter', 'connector', 'expansion', 'cancer', 'broadcast', 'intend', 'june', 'ut', 'ken', 'notion', 'legitimate', 'translation', 'minor', 'authority', 'suicide', 'king', 'tape', 'tank', 'smoke', 'movie', 'holocaust', 'jersey', 'clock', 'profit', 'huge', 'active', 'distributed', 'attached', 'announcement', 'silly', 'thread', 'michigan', 'parallel', 'confused', 'pass', 'gravity', 'burden', 'favor', 'salt', 'orbital', 'mistake', 'acceptable', 'dual', 'jump', 'hello', 'radar', 'zone', 'neighbor', 'club', 'cryptography', 'break', 'classified', 'surely', 'pull', 'motion', 'weight', 'aid', 'tony', 'credit', 'sports', 'experimental', 'sport', 'pit', 'sky', 'handling', 'ought', 'equally', 'destroy', 'transmission', 'converter', 'quadra', 'arms', 'lucky', 'san', 'sequence', 'convention', 'platform', 'shoot', 'smith', 'famous', 'tie', 'match', 'movement', 'audio', 'ga', 'accepted', 'arm', 'photography', 'complex', 'counter', 'surrender', 'massive', 'goal', 'scored', 'damn', 'glad', 'brown', 'constitutional', 'fell', 'echo', 'satellite', 'fuel', 'bother', 'attorney', 'operation', 'missing', 'automatic', 'detector', 'flow', 'slave', 'distance', 'option', 'meant', 'happening', 'bullet', 'investigation', 'flying', 'wheel', 'shaft', 'guarantee', 'conflict', 'leadership', 'massacre', 'militia', 'surprise', 'damage', 'roger', 'pitch', 'offense', 'resistance', 'escrow', 'stolen', 'listening', 'backup', 'firearm', 'touch', 'scheme', 'wonderful', 'hour', 'silicon', 'offensive', 'spare', 'reverse', 'engineer', 'intelligent', 'channel', 'ted', 'lewis', 'digest', 'printed', 'atheist', 'deserve', 'testing', 'port', 'sit', 'clark', 'scoring', 'convex', 'avenue', 'suite', 'turbo', 'marc', 'moon', 'marketing', 'mormon', 'bullock', 'floor', 'rush', 'compression', 'forgot', 'teaching', 'permanent', 'propulsion', 'converted', 'naval', 'captain', 'attitude', 'threat', 'afraid', 'danger', 'village', 'ah', 'mechanical', 'billion', 'dream', 'jack', 'stage', 'join', 'wa', 'mo', 'academic', 'subscribe', 'reasoning', 'weapon', 'probe', 'philosophy', 'loop', 'defensive', 'marriage', 'secular', 'agent', 'global', 'prime', 'stick', 'tiff', 'relative', 'border', 'exercise', 'ignorant', 'violence', 'stream', 'passage', 'spoke', 'daughter', 'fired', 'camera', 'removed', 'score', 'sector', 'assault', 'gulf', 'kingdom', 'pacific', 'draft', 'penalty', 'portable', 'eating', 'ethnic', 'promise', 'justification', 'neutral', 'officer', 'ride', 'brake', 'infection', 'budget', 'contest', 'senior', 'extreme', 'tor', 'assembly', 'mainly', 'rational', 'handgun', 'char', 'forced', 'cal', 'phi']\n"
     ]
    }
   ],
   "source": [
    "selected_words = [word for word in all_words if master_dictionary[word] >= min_allowed_freq \n",
    "                       and master_dictionary[word] <= max_allowed_freq \n",
    "                       and len(word) > 1]\n",
    "#for word in keys:\n",
    "#    if freq\n",
    "print(len(selected_words))\n",
    "print(selected_words)"
   ]
  },
  {
   "cell_type": "code",
   "execution_count": 43,
   "metadata": {},
   "outputs": [
    {
     "data": {
      "image/png": "[encoded data removed]",
      "text/plain": [
       "<matplotlib.figure.Figure at 0x171b294edd8>"
      ]
     },
     "metadata": {},
     "output_type": "display_data"
    }
   ],
   "source": [
    "selected_words_freq = [master_dictionary[word] for word in selected_words]\n",
    "plt.plot(np.sort(selected_words_freq))\n",
    "plt.show()"
   ]
  },
  {
   "cell_type": "code",
   "execution_count": 44,
   "metadata": {
    "collapsed": true
   },
   "outputs": [],
   "source": [
    "selected_words_df = pd.DataFrame()\n",
    "selected_words_df['word'] = selected_words\n",
    "selected_words_df['frequency'] = selected_words_freq\n",
    "selected_words_df.to_csv('selected_words_'+ str(max_allowed_freq) +'_'+ str(min_allowed_freq) +'.csv', index = False)\n"
   ]
  }
 ],
 "metadata": {
  "kernelspec": {
   "display_name": "Python 3",
   "language": "python",
   "name": "python3"
  },
  "language_info": {
   "codemirror_mode": {
    "name": "ipython",
    "version": 3
   },
   "file_extension": ".py",
   "mimetype": "text/x-python",
   "name": "python",
   "nbconvert_exporter": "python",
   "pygments_lexer": "ipython3",
   "version": "3.6.3"
  }
 },
 "nbformat": 4,
 "nbformat_minor": 2
}
