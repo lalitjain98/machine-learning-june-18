{
 "cells": [
  {
   "cell_type": "markdown",
   "metadata": {},
   "source": [
    "## Gradient Descent - Boston Dataset\n",
    "Boston dataset is one of the datasets available in sklearn.\n",
    "You are given a Training dataset csv file with X train and Y train data. As studied in lecture, your task is to come up with Gradient Descent algorithm and thus predictions for the test dataset given.\n",
    "Your task is to:\n",
    "    1. Code Gradient Descent for N features and come with predictions.\n",
    "    2. Try and test with various combinations of learning rates and number of iterations.\n",
    "    3. Try using Feature Scaling, and see if it helps you in getting better results. \n",
    "Read Instructions carefully -\n",
    "    1. Use Gradient Descent as a training algorithm and submit results predicted.\n",
    "    2. Files are in csv format, you can use genfromtxt function in numpy to load data from csv file. Similarly you can use savetxt function to save data into a file.\n",
    "    3. Submit a csv file with only predictions for X test data. File name should not have spaces. File should not have any headers and should only have one column i.e. predictions. Also predictions shouldn't be in exponential form. \n",
    "    4. Your score is based on coefficient of determination.\n"
   ]
  },
  {
   "cell_type": "code",
   "execution_count": 2,
   "metadata": {},
   "outputs": [],
   "source": [
    "import numpy as np\n",
    "import pandas as pd"
   ]
  },
  {
   "cell_type": "code",
   "execution_count": 3,
   "metadata": {},
   "outputs": [
    {
     "name": "stdout",
     "output_type": "stream",
     "text": [
      "                0           1\n",
      "count  100.000000  100.000000\n",
      "mean    48.958341   72.735051\n",
      "std      9.746379   16.658187\n",
      "min     25.128485   31.707006\n",
      "25%     41.526164   60.788586\n",
      "50%     49.634970   72.179542\n",
      "75%     56.762631   83.215080\n",
      "max     70.346076  118.591217\n",
      "(100, 1)\n",
      "(100,)\n"
     ]
    },
    {
     "data": {
      "text/plain": [
       "'\\ntest_dataset = np.genfromtxt(\"test_boston_x_test.csv\", names = None, delimiter = \",\")\\ntest_df = pd.DataFrame(test_dataset)\\nprint(test_df.describe())\\nnum_cols = len(test_df.columns)\\nX_test = test_df.values\\n\\nprint(X_test.shape)\\n\\n# print(X_train) \\n'"
      ]
     },
     "execution_count": 3,
     "metadata": {},
     "output_type": "execute_result"
    }
   ],
   "source": [
    "# Loading Datasets\n",
    "\n",
    "train_dataset = np.genfromtxt(\"data.csv\", names = None, delimiter = \",\")\n",
    "train_df = pd.DataFrame(train_dataset)\n",
    "print(train_df.describe())\n",
    "num_cols = len(train_df.columns)\n",
    "X_train = train_df.values[:, 0: num_cols -1 ]\n",
    "Y_train = train_df.values[:, num_cols - 1]\n",
    "print(X_train.shape)\n",
    "print(Y_train.shape)\n",
    "\n",
    "# print(X_train)\n",
    "# print(Y_train)\n",
    "\"\"\"\n",
    "test_dataset = np.genfromtxt(\"test_boston_x_test.csv\", names = None, delimiter = \",\")\n",
    "test_df = pd.DataFrame(test_dataset)\n",
    "print(test_df.describe())\n",
    "num_cols = len(test_df.columns)\n",
    "X_test = test_df.values\n",
    "\n",
    "print(X_test.shape)\n",
    "\n",
    "# print(X_train) \n",
    "\"\"\""
   ]
  },
  {
   "cell_type": "code",
   "execution_count": 4,
   "metadata": {},
   "outputs": [],
   "source": [
    "def single_step(X, Y, m, alpha):\n",
    "    n_1 = len(m)\n",
    "    num_eg = len(X)\n",
    "    slope_m = np.zeros(n_1) \n",
    "    \n",
    "    for j in range(n_1):\n",
    "        for i in range(num_eg) :\n",
    "            slope_m[j] += (-2/num_eg)* ((Y[i] - (m *(X[i])).sum() ) * X[i][j] )    \n",
    "    #for j in range(n_1):\n",
    "            m[j] -= alpha*slope_m[j]\n",
    "    return m\n",
    "\n",
    "def cost(X, Y, m):\n",
    "    cost = 0\n",
    "    num_eg = len(X)\n",
    "    for i in range(num_eg) :\n",
    "        cost += ((Y[i] - (m * X[i]).sum())**2 )/num_eg\n",
    "    return cost\n",
    "\n",
    "def gd(X, Y, alpha, num_iters):\n",
    "    num_eg = len(X)\n",
    "    X = np.c_[X, np.ones(X.shape[0])]\n",
    "    m = np.zeros(len(X[0]))\n",
    "    costs = {}\n",
    "    print(len(m))\n",
    "    for i in range(num_iters):\n",
    "        m = single_step(X, Y, m, alpha)\n",
    "        if i % 100 == 0 :\n",
    "            costs[i] = cost(X, Y, m)\n",
    "            print(i, \" \", costs[i])\n",
    "    import matplotlib.pyplot as plt\n",
    "    keys = [key for key in costs]\n",
    "    values = [costs[key] for key in costs]\n",
    "    plt.plot(keys, values)\n",
    "    plt.show()\n",
    "    return m\n",
    "\n",
    "def predict(X, m) :\n",
    "    X = np.c_[X, np.ones(X.shape[0])]\n",
    "    Y = np.array([])\n",
    "    for i in range(len(X)):\n",
    "        Y_i = (X[i] * m).sum()\n",
    "        Y = np.append(Y, Y_i)\n",
    "    return Y\n",
    "\n",
    "def scale_features(X_train) :\n",
    "    import copy\n",
    "    X = copy.deepcopy(X_train)\n",
    "    means = np.array([X[:, i].mean() for i in range(X.shape[1])])\n",
    "    stds = np.array([X[:, i].std() for i in range(X.shape[1])])\n",
    "    \n",
    "    for i in range(X.shape[0]) :\n",
    "        X[i, :] = (X[i, :] - means)/stds\n",
    "    return X\n",
    "def score(Y_true, Y_pred) :\n",
    "    mean = Y_true.mean()\n",
    "    u = ((Y_true - Y_pred)**2).sum()\n",
    "    v = ((Y_true - mean)**2).sum() \n",
    "    return 1 - (u/v)"
   ]
  },
  {
   "cell_type": "code",
   "execution_count": null,
   "metadata": {},
   "outputs": [],
   "source": [
    "# Introduce more features\n"
   ]
  },
  {
   "cell_type": "code",
   "execution_count": 5,
   "metadata": {},
   "outputs": [
    {
     "data": {
      "text/html": [
       "<div>\n",
       "<style scoped>\n",
       "    .dataframe tbody tr th:only-of-type {\n",
       "        vertical-align: middle;\n",
       "    }\n",
       "\n",
       "    .dataframe tbody tr th {\n",
       "        vertical-align: top;\n",
       "    }\n",
       "\n",
       "    .dataframe thead th {\n",
       "        text-align: right;\n",
       "    }\n",
       "</style>\n",
       "<table border=\"1\" class=\"dataframe\">\n",
       "  <thead>\n",
       "    <tr style=\"text-align: right;\">\n",
       "      <th></th>\n",
       "      <th>0</th>\n",
       "    </tr>\n",
       "  </thead>\n",
       "  <tbody>\n",
       "    <tr>\n",
       "      <th>count</th>\n",
       "      <td>1.000000e+02</td>\n",
       "    </tr>\n",
       "    <tr>\n",
       "      <th>mean</th>\n",
       "      <td>1.025846e-15</td>\n",
       "    </tr>\n",
       "    <tr>\n",
       "      <th>std</th>\n",
       "      <td>1.005038e+00</td>\n",
       "    </tr>\n",
       "    <tr>\n",
       "      <th>min</th>\n",
       "      <td>-2.457313e+00</td>\n",
       "    </tr>\n",
       "    <tr>\n",
       "      <th>25%</th>\n",
       "      <td>-7.663995e-01</td>\n",
       "    </tr>\n",
       "    <tr>\n",
       "      <th>50%</th>\n",
       "      <td>6.977331e-02</td>\n",
       "    </tr>\n",
       "    <tr>\n",
       "      <th>75%</th>\n",
       "      <td>8.047713e-01</td>\n",
       "    </tr>\n",
       "    <tr>\n",
       "      <th>max</th>\n",
       "      <td>2.205484e+00</td>\n",
       "    </tr>\n",
       "  </tbody>\n",
       "</table>\n",
       "</div>"
      ],
      "text/plain": [
       "                  0\n",
       "count  1.000000e+02\n",
       "mean   1.025846e-15\n",
       "std    1.005038e+00\n",
       "min   -2.457313e+00\n",
       "25%   -7.663995e-01\n",
       "50%    6.977331e-02\n",
       "75%    8.047713e-01\n",
       "max    2.205484e+00"
      ]
     },
     "execution_count": 5,
     "metadata": {},
     "output_type": "execute_result"
    }
   ],
   "source": [
    "scaled_X_train = scale_features(X_train)\n",
    "scaled_X_df = pd.DataFrame(scaled_X_train)\n",
    "scaled_X_df.describe()"
   ]
  },
  {
   "cell_type": "code",
   "execution_count": 17,
   "metadata": {},
   "outputs": [
    {
     "name": "stdout",
     "output_type": "stream",
     "text": [
      "2\n",
      "0   243.69111080607445\n",
      "100   114.04159132080864\n",
      "200   114.04547953223997\n",
      "300   114.04936583876719\n",
      "400   114.0532502349262\n",
      "500   114.05713271528052\n",
      "600   114.06101327442046\n",
      "700   114.06489190696406\n",
      "800   114.06876860755563\n",
      "900   114.07264337086688\n",
      "1000   114.0765161915965\n",
      "1100   114.08038706446946\n",
      "1200   114.08425598423807\n",
      "1300   114.08812294568048\n",
      "1400   114.09198794360192\n",
      "1500   114.09585097283394\n",
      "1600   114.09971202823414\n",
      "1700   114.10357110468703\n",
      "1800   114.10742819710235\n",
      "1900   114.11128330041707\n"
     ]
    },
    {
     "data": {
      "image/png": "[encoded data removed]",
      "text/plain": [
       "<Figure size 432x288 with 1 Axes>"
      ]
     },
     "metadata": {},
     "output_type": "display_data"
    },
    {
     "name": "stdout",
     "output_type": "stream",
     "text": [
      "[ 1.45840637 -0.12176599]\n",
      "3.175586223602295\n"
     ]
    }
   ],
   "source": [
    "import time\n",
    "s_t = time.time()\n",
    "m = gd(X_train, Y_train, 0.000004, 2000)\n",
    "print(m)\n",
    "e_t = time.time()\n",
    "print(e_t-s_t)"
   ]
  },
  {
   "cell_type": "code",
   "execution_count": 18,
   "metadata": {
    "scrolled": true
   },
   "outputs": [
    {
     "name": "stdout",
     "output_type": "stream",
     "text": [
      "0.5846134544854487\n"
     ]
    }
   ],
   "source": [
    "Y_pred = predict(X_train, m)\n",
    "np.savetxt(\"boston_dataset_pred.csv\", Y_pred, '%.5f')\n",
    "print(score(Y_train, predict(X_train, m)))\n"
   ]
  }
 ],
 "metadata": {
  "kernelspec": {
   "display_name": "Python 3",
   "language": "python",
   "name": "python3"
  },
  "language_info": {
   "codemirror_mode": {
    "name": "ipython",
    "version": 3
   },
   "file_extension": ".py",
   "mimetype": "text/x-python",
   "name": "python",
   "nbconvert_exporter": "python",
   "pygments_lexer": "ipython3",
   "version": "3.6.5"
  }
 },
 "nbformat": 4,
 "nbformat_minor": 2
}
