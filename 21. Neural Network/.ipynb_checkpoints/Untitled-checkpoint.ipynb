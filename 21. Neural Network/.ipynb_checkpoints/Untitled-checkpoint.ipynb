{
 "cells": [
  {
   "cell_type": "code",
   "execution_count": 46,
   "metadata": {
    "collapsed": true
   },
   "outputs": [],
   "source": [
    "import numpy as np"
   ]
  },
  {
   "cell_type": "code",
   "execution_count": 47,
   "metadata": {},
   "outputs": [
    {
     "data": {
      "text/plain": [
       "((4, 2), (4, 1))"
      ]
     },
     "execution_count": 47,
     "metadata": {},
     "output_type": "execute_result"
    }
   ],
   "source": [
    "X = np.array([[0, 0],[0, 1],[1, 0],[1, 1]])\n",
    "Y = np.array([[0, 1, 1, 0]]).T\n",
    "X.shape, Y.shape"
   ]
  },
  {
   "cell_type": "code",
   "execution_count": 48,
   "metadata": {},
   "outputs": [
    {
     "data": {
      "text/plain": [
       "(array([[0, 0],\n",
       "        [0, 1],\n",
       "        [1, 0],\n",
       "        [1, 1]]), array([[0],\n",
       "        [1],\n",
       "        [1],\n",
       "        [0]]))"
      ]
     },
     "execution_count": 48,
     "metadata": {},
     "output_type": "execute_result"
    }
   ],
   "source": [
    "X, Y"
   ]
  },
  {
   "cell_type": "code",
   "execution_count": null,
   "metadata": {
    "collapsed": true
   },
   "outputs": [],
   "source": []
  },
  {
   "cell_type": "code",
   "execution_count": 49,
   "metadata": {
    "collapsed": true
   },
   "outputs": [],
   "source": [
    "def sig(x) :\n",
    "    return (1+np.exp(-x))**-1\n",
    "def derivative_sig(x) :\n",
    "    return sig(x) * (1 - sig(x))"
   ]
  },
  {
   "cell_type": "code",
   "execution_count": 50,
   "metadata": {},
   "outputs": [
    {
     "data": {
      "text/plain": [
       "(array([[ 0.74349802,  0.63242146],\n",
       "        [-0.78827955, -0.21417909]]),\n",
       " array([[ 0.23570769, -0.62037378]]),\n",
       " array([[ 0.18117764],\n",
       "        [ 0.84216529]]),\n",
       " array([[-0.94728912]]))"
      ]
     },
     "execution_count": 50,
     "metadata": {},
     "output_type": "execute_result"
    }
   ],
   "source": [
    "wh = np.random.random([2, 2]) * 2 - 1\n",
    "bh = np.random.random([1, 2]) * 2 - 1\n",
    "wo = np.random.random([2, 1]) * 2 - 1\n",
    "bo = np.random.random([1, 1]) * 2 - 1\n",
    "\n",
    "wh, bh, wo, bo"
   ]
  },
  {
   "cell_type": "code",
   "execution_count": 56,
   "metadata": {},
   "outputs": [
    {
     "data": {
      "text/plain": [
       "(array([[ 0.00312357],\n",
       "        [ 0.99640627],\n",
       "        [ 0.99704214],\n",
       "        [ 0.00280565]]), array([[ 7.10824318,  6.88874196],\n",
       "        [-6.90971619, -7.03105518]]), array([[ 3.46080584, -3.67461316]]), array([[-12.47006368],\n",
       "        [ 12.77488699]]), array([[ 6.00877263]]))"
      ]
     },
     "execution_count": 56,
     "metadata": {},
     "output_type": "execute_result"
    }
   ],
   "source": [
    "lr = 10\n",
    "\n",
    "for iter in range(10000):\n",
    "    out0 = X\n",
    "    inputHidden = np.dot(out0, wh) +bh\n",
    "    output_hidden = sig(inputHidden)\n",
    "    \n",
    "    inputForOutLayer = np.dot(output_hidden, wo) + bo \n",
    "    output = sig(inputForOutLayer)\n",
    "\n",
    "    first_term_out_layer = output - Y\n",
    "    second_term_out_layer = derivative_sig(inputForOutLayer)\n",
    "    first_two_out_layer = first_term_out_layer * second_term_out_layer\n",
    "\n",
    "    first_term_hidden_layer = np.dot(first_two_out_layer, wo.T)\n",
    "    second_term_hidden_layer = derivative_sig(inputHidden)\n",
    "    first_two_hidden_layer = first_term_hidden_layer * second_term_hidden_layer\n",
    "\n",
    "    changes_output = np.dot(output_hidden.T, first_two_out_layer)\n",
    "    changes_output_bias = np.sum(first_two_out_layer, keepdims=True, axis = 0)\n",
    "\n",
    "    changes_hidden = np.dot(out0.T, first_two_hidden_layer)\n",
    "    changes_hidden_bias = np.sum(first_two_hidden_layer, keepdims=True, axis = 0)\n",
    "\n",
    "    wo -= lr * changes_output \n",
    "    bo -= lr * changes_output_bias\n",
    "\n",
    "    wh -= lr * changes_hidden\n",
    "    bh -= lr * changes_hidden_bias\n",
    "\n",
    "out0 = X\n",
    "inputHidden = np.dot(out0, wh) +bh\n",
    "output_hidden = sig(inputHidden)\n",
    "inputForOutLayer = np.dot(output_hidden, wo) + bo \n",
    "output = sig(inputForOutLayer)\n",
    "\n",
    "output, wh, bh, wo, bo"
   ]
  },
  {
   "cell_type": "code",
   "execution_count": null,
   "metadata": {},
   "outputs": [],
   "source": []
  },
  {
   "cell_type": "code",
   "execution_count": null,
   "metadata": {
    "collapsed": true
   },
   "outputs": [],
   "source": []
  }
 ],
 "metadata": {
  "kernelspec": {
   "display_name": "Python 3",
   "language": "python",
   "name": "python3"
  },
  "language_info": {
   "codemirror_mode": {
    "name": "ipython",
    "version": 3
   },
   "file_extension": ".py",
   "mimetype": "text/x-python",
   "name": "python",
   "nbconvert_exporter": "python",
   "pygments_lexer": "ipython3",
   "version": "3.6.3"
  }
 },
 "nbformat": 4,
 "nbformat_minor": 2
}
