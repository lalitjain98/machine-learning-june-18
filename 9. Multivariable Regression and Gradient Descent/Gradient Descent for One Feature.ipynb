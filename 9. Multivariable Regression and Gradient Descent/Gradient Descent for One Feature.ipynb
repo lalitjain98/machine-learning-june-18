{
 "cells": [
  {
   "cell_type": "code",
   "execution_count": 1,
   "metadata": {
    "collapsed": true
   },
   "outputs": [],
   "source": [
    "import numpy as np\n"
   ]
  },
  {
   "cell_type": "code",
   "execution_count": 12,
   "metadata": {},
   "outputs": [
    {
     "name": "stdout",
     "output_type": "stream",
     "text": [
      "(100, 2)\n"
     ]
    }
   ],
   "source": [
    "data = np.loadtxt(\"data.csv\", delimiter = \",\")\n",
    "print(data.shape)"
   ]
  },
  {
   "cell_type": "code",
   "execution_count": 28,
   "metadata": {
    "collapsed": true
   },
   "outputs": [],
   "source": [
    "def step_gradient(X, Y, alpha, m , c):\n",
    "    ct = (Y - m*X)\n",
    "    m_slope = -2 * (((ct)*X).mean())\n",
    "    c_slope = -2 * ((ct).mean())\n",
    "    \n",
    "    m -= alpha * m_slope\n",
    "    c -= alpha * c_slope\n",
    "    return m, c\n",
    "def gd(X, Y, alpha, num_iters):\n",
    "    m = 0\n",
    "    c = 0\n",
    "    M = len(X)\n",
    "    for i in range(num_iters) :\n",
    "        m, c = step_gradient(X, Y, alpha, m, c)\n",
    "        print(i, \"Cost: \", cost(X, Y, m, c))\n",
    "    return m, c\n",
    "def cost(X, Y, m, c):\n",
    "    return ((Y - m*X - c)**2).mean()\n",
    "     \n",
    "def run(data, alpha, num_iters):\n",
    "    X = data[:, 0]\n",
    "    Y = data[:, 1]\n",
    "    m, c = gd(X, Y, alpha, num_iters)\n",
    "    print(m, c)"
   ]
  },
  {
   "cell_type": "code",
   "execution_count": 30,
   "metadata": {},
   "outputs": [
    {
     "name": "stdout",
     "output_type": "stream",
     "text": [
      "0 Cost:  1484.58655741\n",
      "1 Cost:  457.590033185\n",
      "2 Cost:  199.244332611\n",
      "3 Cost:  134.322449773\n",
      "4 Cost:  118.040975402\n",
      "5 Cost:  113.974583642\n",
      "6 Cost:  112.967435787\n",
      "7 Cost:  112.722267618\n",
      "8 Cost:  112.664764706\n",
      "9 Cost:  112.652401207\n",
      "10 Cost:  112.650339918\n",
      "11 Cost:  112.650337629\n",
      "12 Cost:  112.650584698\n",
      "13 Cost:  112.650759239\n",
      "14 Cost:  112.650847477\n",
      "15 Cost:  112.650879773\n",
      "16 Cost:  112.650880784\n",
      "17 Cost:  112.650865271\n",
      "18 Cost:  112.650841253\n",
      "19 Cost:  112.650812912\n",
      "20 Cost:  112.650782388\n",
      "21 Cost:  112.650750766\n",
      "22 Cost:  112.650718596\n",
      "23 Cost:  112.650686153\n",
      "24 Cost:  112.650653577\n",
      "25 Cost:  112.650620937\n",
      "26 Cost:  112.650588269\n",
      "27 Cost:  112.65055559\n",
      "28 Cost:  112.65052291\n",
      "29 Cost:  112.650490232\n",
      "30 Cost:  112.650457559\n",
      "31 Cost:  112.650424893\n",
      "32 Cost:  112.650392233\n",
      "33 Cost:  112.65035958\n",
      "34 Cost:  112.650326935\n",
      "35 Cost:  112.650294296\n",
      "36 Cost:  112.650261665\n",
      "37 Cost:  112.650229041\n",
      "38 Cost:  112.650196424\n",
      "39 Cost:  112.650163815\n",
      "40 Cost:  112.650131212\n",
      "41 Cost:  112.650098618\n",
      "42 Cost:  112.65006603\n",
      "43 Cost:  112.65003345\n",
      "44 Cost:  112.650000877\n",
      "45 Cost:  112.649968311\n",
      "46 Cost:  112.649935752\n",
      "47 Cost:  112.649903201\n",
      "48 Cost:  112.649870657\n",
      "49 Cost:  112.64983812\n",
      "50 Cost:  112.649805591\n",
      "51 Cost:  112.649773069\n",
      "52 Cost:  112.649740554\n",
      "53 Cost:  112.649708047\n",
      "54 Cost:  112.649675547\n",
      "55 Cost:  112.649643054\n",
      "56 Cost:  112.649610568\n",
      "57 Cost:  112.649578089\n",
      "58 Cost:  112.649545618\n",
      "59 Cost:  112.649513155\n",
      "60 Cost:  112.649480698\n",
      "61 Cost:  112.649448249\n",
      "62 Cost:  112.649415807\n",
      "63 Cost:  112.649383372\n",
      "64 Cost:  112.649350945\n",
      "65 Cost:  112.649318524\n",
      "66 Cost:  112.649286112\n",
      "67 Cost:  112.649253706\n",
      "68 Cost:  112.649221308\n",
      "69 Cost:  112.649188917\n",
      "70 Cost:  112.649156533\n",
      "71 Cost:  112.649124157\n",
      "72 Cost:  112.649091787\n",
      "73 Cost:  112.649059425\n",
      "74 Cost:  112.649027071\n",
      "75 Cost:  112.648994724\n",
      "76 Cost:  112.648962383\n",
      "77 Cost:  112.648930051\n",
      "78 Cost:  112.648897725\n",
      "79 Cost:  112.648865407\n",
      "80 Cost:  112.648833096\n",
      "81 Cost:  112.648800792\n",
      "82 Cost:  112.648768496\n",
      "83 Cost:  112.648736207\n",
      "84 Cost:  112.648703925\n",
      "85 Cost:  112.648671651\n",
      "86 Cost:  112.648639383\n",
      "87 Cost:  112.648607123\n",
      "88 Cost:  112.648574871\n",
      "89 Cost:  112.648542625\n",
      "90 Cost:  112.648510387\n",
      "91 Cost:  112.648478156\n",
      "92 Cost:  112.648445933\n",
      "93 Cost:  112.648413717\n",
      "94 Cost:  112.648381508\n",
      "95 Cost:  112.648349306\n",
      "96 Cost:  112.648317112\n",
      "97 Cost:  112.648284924\n",
      "98 Cost:  112.648252745\n",
      "99 Cost:  112.648220572\n",
      "1.47948972587 0.0351122265348\n"
     ]
    }
   ],
   "source": [
    "run(data, 0.0001, 100)"
   ]
  }
 ],
 "metadata": {
  "kernelspec": {
   "display_name": "Python 3",
   "language": "python",
   "name": "python3"
  },
  "language_info": {
   "codemirror_mode": {
    "name": "ipython",
    "version": 3
   },
   "file_extension": ".py",
   "mimetype": "text/x-python",
   "name": "python",
   "nbconvert_exporter": "python",
   "pygments_lexer": "ipython3",
   "version": "3.6.3"
  }
 },
 "nbformat": 4,
 "nbformat_minor": 2
}
