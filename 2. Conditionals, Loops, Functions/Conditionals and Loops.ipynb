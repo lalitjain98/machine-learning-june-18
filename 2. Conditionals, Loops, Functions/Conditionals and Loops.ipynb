{
 "cells": [
  {
   "cell_type": "code",
   "execution_count": 4,
   "metadata": {},
   "outputs": [
    {
     "name": "stdout",
     "output_type": "stream",
     "text": [
      "True\n",
      "False\n"
     ]
    }
   ],
   "source": [
    "#booleans\n",
    "a = True\n",
    "b = False\n",
    "print(a)\n",
    "print(b)"
   ]
  },
  {
   "cell_type": "code",
   "execution_count": 7,
   "metadata": {},
   "outputs": [
    {
     "name": "stdout",
     "output_type": "stream",
     "text": [
      "True\n",
      "False\n",
      "False\n",
      "True\n",
      "False\n",
      "True\n"
     ]
    }
   ],
   "source": [
    "# conditional operators\n",
    "a = 10\n",
    "b = 20\n",
    "c = 30 \n",
    "\n",
    "print (a < b)\n",
    "print (a > b)\n",
    "print (a >= b)\n",
    "print (a <= b)\n",
    "print (a == b)\n",
    "print (a != b)"
   ]
  },
  {
   "cell_type": "code",
   "execution_count": 8,
   "metadata": {},
   "outputs": [
    {
     "name": "stdout",
     "output_type": "stream",
     "text": [
      "True\n",
      "True\n",
      "True\n"
     ]
    }
   ],
   "source": [
    "# logicat operators\n",
    "res_1 = a < b and b < c\n",
    "res_2 = a < b or b < c\n",
    "res_3 = not a == b\n",
    "print ( res_1 )\n",
    "print ( res_2 )\n",
    "print ( res_3 )"
   ]
  },
  {
   "cell_type": "code",
   "execution_count": 11,
   "metadata": {},
   "outputs": [
    {
     "name": "stdout",
     "output_type": "stream",
     "text": [
      "20\n",
      "30\n",
      "c\n"
     ]
    }
   ],
   "source": [
    "# if elif else\n",
    "# indentation is must \n",
    "# code that is indented after if/elif/else atatement will execute \n",
    "# if and only if \n",
    "# the condition before that piece of indented code is satisfied\n",
    "\n",
    "if a >=b:\n",
    "    print (a)\n",
    "else: \n",
    "    print (b)\n",
    "print (c)  # this statement executes irrespective of the fact if a >= b\n",
    "\n",
    "if a >=b and b >= c :\n",
    "    print (\"a\")\n",
    "elif b >=a and b >=c :\n",
    "    print (\"b\")\n",
    "else :\n",
    "    print (\"c\")"
   ]
  },
  {
   "cell_type": "code",
   "execution_count": 21,
   "metadata": {},
   "outputs": [
    {
     "name": "stdout",
     "output_type": "stream",
     "text": [
      "5\n",
      "1\n",
      "2\n",
      "3\n",
      "4\n",
      "5\n",
      "done\n"
     ]
    }
   ],
   "source": [
    "# loops\n",
    "n = int(input())\n",
    "i = 1\n",
    "while i <= n :\n",
    "    print(i)\n",
    "    i += 1\n",
    "print(\"done\") "
   ]
  },
  {
   "cell_type": "code",
   "execution_count": 16,
   "metadata": {},
   "outputs": [
    {
     "name": "stdout",
     "output_type": "stream",
     "text": [
      "<class 'range'>\n",
      "range(1, 10)\n"
     ]
    }
   ],
   "source": [
    "# range range(start = 0, end, increment = 1) \n",
    "# range(start,end) contains numbers from [start,end)\n",
    "r = range(1,10)\n",
    "print(type(r))\n",
    "print(r)"
   ]
  },
  {
   "cell_type": "code",
   "execution_count": 17,
   "metadata": {},
   "outputs": [
    {
     "name": "stdout",
     "output_type": "stream",
     "text": [
      "1 3 5 7 9 11 13 15 17 19 "
     ]
    }
   ],
   "source": [
    "for i in range(1,20,2) :\n",
    "    print(i, end = \" \")"
   ]
  },
  {
   "cell_type": "code",
   "execution_count": 19,
   "metadata": {},
   "outputs": [
    {
     "name": "stdout",
     "output_type": "stream",
     "text": [
      "5\n",
      "Prime\n"
     ]
    }
   ],
   "source": [
    "# check for prime number\n",
    "n = int(input())\n",
    "isPrime = True\n",
    "for i in range(2,n):\n",
    "    if n % i == 0 :\n",
    "        isPrime = False\n",
    "        break\n",
    "if isPrime:\n",
    "    print(\"Prime\")\n",
    "else:\n",
    "    print(\"Not Prime\")"
   ]
  },
  {
   "cell_type": "code",
   "execution_count": 20,
   "metadata": {},
   "outputs": [
    {
     "name": "stdout",
     "output_type": "stream",
     "text": [
      "a b c d e f g h "
     ]
    }
   ],
   "source": [
    "# fast iteration \n",
    "s = \"abcdefgh\"\n",
    "for c in s :\n",
    "    print(c, end = \" \")\n"
   ]
  },
  {
   "cell_type": "code",
   "execution_count": 40,
   "metadata": {},
   "outputs": [
    {
     "name": "stdout",
     "output_type": "stream",
     "text": [
      "5\n",
      "1        1\n",
      "12      21\n",
      "123    321\n",
      "1234  4321\n",
      "1234554321\n"
     ]
    }
   ],
   "source": [
    "n = int(input())\n",
    "s = ''\n",
    "rev_s = ''\n",
    "spaces = \" \" * (2 *n)\n",
    "for i in range(1,n+1):\n",
    "    s += str(i)\n",
    "    rev_s = str(i) + rev_s\n",
    "    print(s, end = \"\")\n",
    "    print(spaces[0:2 * (n-i)], end = \"\")\n",
    "    print(rev_s, end = \"\")\n",
    "    print(\"\")"
   ]
  },
  {
   "cell_type": "code",
   "execution_count": 41,
   "metadata": {},
   "outputs": [
    {
     "name": "stdout",
     "output_type": "stream",
     "text": [
      "Hello There\n",
      "Hello There\n"
     ]
    }
   ],
   "source": [
    "s = input()\n",
    "print(s)"
   ]
  }
 ],
 "metadata": {
  "kernelspec": {
   "display_name": "Python 3",
   "language": "python",
   "name": "python3"
  },
  "language_info": {
   "codemirror_mode": {
    "name": "ipython",
    "version": 3
   },
   "file_extension": ".py",
   "mimetype": "text/x-python",
   "name": "python",
   "nbconvert_exporter": "python",
   "pygments_lexer": "ipython3",
   "version": "3.6.3"
  }
 },
 "nbformat": 4,
 "nbformat_minor": 2
}
