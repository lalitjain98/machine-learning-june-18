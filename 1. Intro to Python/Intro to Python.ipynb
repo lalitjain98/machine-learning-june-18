{
 "cells": [
  {
   "cell_type": "markdown",
   "metadata": {},
   "source": [
    "## Intro to Jupyter\n",
    "We can write python code/markdown in cells and we can choose accordingly in the dropdown. ctrl+enter for save. alt enter to save this cell and create another cell below current cell."
   ]
  },
  {
   "cell_type": "code",
   "execution_count": 10,
   "metadata": {},
   "outputs": [
    {
     "name": "stdout",
     "output_type": "stream",
     "text": [
      "10\n",
      "100 "
     ]
    }
   ],
   "source": [
    "# print delimitter\n",
    "a = 10\n",
    "print(a)\n",
    "print(a*a, end = \" \")"
   ]
  },
  {
   "cell_type": "code",
   "execution_count": 5,
   "metadata": {},
   "outputs": [
    {
     "name": "stdout",
     "output_type": "stream",
     "text": [
      "71\n"
     ]
    }
   ],
   "source": [
    "# print statement\n",
    "a = 0xAB\n",
    "a = 71\n",
    "print(a)"
   ]
  },
  {
   "cell_type": "code",
   "execution_count": 9,
   "metadata": {},
   "outputs": [
    {
     "data": {
      "text/plain": [
       "20"
      ]
     },
     "execution_count": 9,
     "metadata": {},
     "output_type": "execute_result"
    }
   ],
   "source": [
    "#last line is output\n",
    "a = 10\n",
    "b = 20\n",
    "a\n",
    "b"
   ]
  },
  {
   "cell_type": "code",
   "execution_count": 7,
   "metadata": {},
   "outputs": [
    {
     "name": "stdout",
     "output_type": "stream",
     "text": [
      "<class 'int'>\n",
      "<class 'complex'>\n",
      "<class 'float'>\n",
      "<class 'int'>\n"
     ]
    }
   ],
   "source": [
    "# types of variables\n",
    "a = 10\n",
    "print(type(a))\n",
    "a = 10 + 2j\n",
    "print(type(a))\n",
    "a = 10.532\n",
    "print(type(a))\n",
    "a = 0x10AB\n",
    "print(type(a))"
   ]
  },
  {
   "cell_type": "code",
   "execution_count": 11,
   "metadata": {},
   "outputs": [
    {
     "name": "stdout",
     "output_type": "stream",
     "text": [
      "10\n",
      "22\n",
      "32\n",
      "220\n",
      "100\n",
      "2.2\n",
      "2\n",
      "2\n"
     ]
    }
   ],
   "source": [
    "#operators\n",
    "a = 10\n",
    "b = 22\n",
    "c = a + b\n",
    "print(a)\n",
    "print(b)\n",
    "print(c)\n",
    "print(a*b)\n",
    "print(a**2)\n",
    "# floating point division\n",
    "print(b/a)\n",
    "# strict typed Division\n",
    "print(b//a)\n",
    "print(b%a)"
   ]
  },
  {
   "cell_type": "code",
   "execution_count": 19,
   "metadata": {},
   "outputs": [
    {
     "name": "stdout",
     "output_type": "stream",
     "text": [
      "16\n",
      "<class 'str'>\n",
      "T\n",
      "This is a string\n",
      "This is a stringAnother String\n",
      "Another String\n",
      "False\n"
     ]
    }
   ],
   "source": [
    "# strings are immutable\n",
    "a = \"This is a string\"\n",
    "print(len(a))\n",
    "print(type(a))\n",
    "print(a[0])\n",
    "print(a)\n",
    "b = \"Another String\"\n",
    "c = a + b\n",
    "print(c)\n",
    "c = \"   \" + b + \"   \"\n",
    "print(c.strip()) # remove whitespaces from start and end\n",
    "print(a.isalpha())\n"
   ]
  },
  {
   "cell_type": "code",
   "execution_count": 15,
   "metadata": {},
   "outputs": [
    {
     "ename": "TypeError",
     "evalue": "must be str, not int",
     "output_type": "error",
     "traceback": [
      "\u001b[1;31m---------------------------------------------------------------------------\u001b[0m",
      "\u001b[1;31mTypeError\u001b[0m                                 Traceback (most recent call last)",
      "\u001b[1;32m<ipython-input-15-2d671f5996fa>\u001b[0m in \u001b[0;36m<module>\u001b[1;34m()\u001b[0m\n\u001b[0;32m      1\u001b[0m \u001b[1;31m#string and number concatination not possible\u001b[0m\u001b[1;33m\u001b[0m\u001b[1;33m\u001b[0m\u001b[0m\n\u001b[1;32m----> 2\u001b[1;33m \u001b[0ma\u001b[0m \u001b[1;33m+\u001b[0m \u001b[1;36m10\u001b[0m\u001b[1;33m\u001b[0m\u001b[0m\n\u001b[0m",
      "\u001b[1;31mTypeError\u001b[0m: must be str, not int"
     ]
    }
   ],
   "source": [
    "#string and number concatination not possible\n",
    "a + 10"
   ]
  },
  {
   "cell_type": "code",
   "execution_count": 16,
   "metadata": {},
   "outputs": [
    {
     "data": {
      "text/plain": [
       "'THIS IS A STRING'"
      ]
     },
     "execution_count": 16,
     "metadata": {},
     "output_type": "execute_result"
    }
   ],
   "source": [
    "a.upper()"
   ]
  },
  {
   "cell_type": "code",
   "execution_count": 17,
   "metadata": {},
   "outputs": [
    {
     "data": {
      "text/plain": [
       "'this is a string'"
      ]
     },
     "execution_count": 17,
     "metadata": {},
     "output_type": "execute_result"
    }
   ],
   "source": [
    "a.lower()"
   ]
  },
  {
   "cell_type": "code",
   "execution_count": 22,
   "metadata": {},
   "outputs": [
    {
     "name": "stdout",
     "output_type": "stream",
     "text": [
      "Hello World!\n",
      "Hello World!\n",
      "5\n"
     ]
    }
   ],
   "source": [
    "# user input (string type by default)\n",
    "a = input()\n",
    "print(a)\n",
    "# to get input in int type\n",
    "b = int(input())"
   ]
  },
  {
   "cell_type": "code",
   "execution_count": 31,
   "metadata": {},
   "outputs": [
    {
     "name": "stdout",
     "output_type": "stream",
     "text": [
      "(100, 100, 100)\n",
      "100\n",
      "200\n",
      "300\n"
     ]
    },
    {
     "data": {
      "text/plain": [
       "(100, 0, 0)"
      ]
     },
     "execution_count": 31,
     "metadata": {},
     "output_type": "execute_result"
    }
   ],
   "source": [
    "a_b_c = 100, 100, 100\n",
    "print(a_b_c)\n",
    "a, b, c = 100, 200, 300\n",
    "print(a)\n",
    "print(b)\n",
    "print(c)\n",
    "abc = 100,000,000\n",
    "abc"
   ]
  },
  {
   "cell_type": "code",
   "execution_count": 36,
   "metadata": {},
   "outputs": [
    {
     "name": "stdout",
     "output_type": "stream",
     "text": [
      "A\n",
      "A\n",
      "c\n"
     ]
    }
   ],
   "source": [
    "# negative indices\n",
    "a = \"Abc\"\n",
    "print(a[0])\n",
    "print(a[-3])\n",
    "print(a[-1])"
   ]
  },
  {
   "cell_type": "code",
   "execution_count": 44,
   "metadata": {},
   "outputs": [
    {
     "name": "stdout",
     "output_type": "stream",
     "text": [
      "Th\n",
      "\n",
      "rin\n",
      "sIsAString\n",
      "ThisIsAStr\n",
      "ThisIsAString\n"
     ]
    }
   ],
   "source": [
    "#slicing\n",
    "# start to one less than end index\n",
    "a = \"ThisIsAString\"\n",
    "print(a[0:2])\n",
    "# if starting index is neg then ending index should be neg too\n",
    "print(a[-4:0]) \n",
    "print(a[-4:-1])\n",
    "# return 3 to end\n",
    "print(a[3:])\n",
    "# return start to 10\n",
    "print(a[:10]) \n",
    "# return whole string\n",
    "print(a[:]) "
   ]
  },
  {
   "cell_type": "code",
   "execution_count": 3,
   "metadata": {},
   "outputs": [
    {
     "name": "stdout",
     "output_type": "stream",
     "text": [
      "g\n",
      "ThisIsAString Hello There\n"
     ]
    }
   ],
   "source": [
    "a = \"ThisIsAString\"\n",
    "b = \"Hello There\"\n",
    "print(a[-1:]) \n",
    "print(a + \" \" + b)"
   ]
  },
  {
   "cell_type": "code",
   "execution_count": 76,
   "metadata": {},
   "outputs": [
    {
     "name": "stdout",
     "output_type": "stream",
     "text": [
      "<class 'tuple'>\n",
      "2\n",
      "(1, 1.1, '1.2', (1+3j))\n",
      "('1.2',)\n",
      "('1', 1, (1+1j), 1, 1.1, '1.2', (1+3j))\n",
      "('1', 1, (1+1j), '1', 1, (1+1j))\n",
      "True\n",
      "False\n"
     ]
    }
   ],
   "source": [
    "#tuples are also immutable\n",
    "t = (1,2,3)\n",
    "print(type(t))\n",
    "print(t[1])\n",
    "\n",
    "t = (1,1.1,'1.2',1+3j)\n",
    "print(t)\n",
    "print(t[2:-1])\n",
    "\n",
    "k = ('1', 1, 1+1j)\n",
    "print(k+t)\n",
    "\n",
    "print(k*2)\n",
    "\n",
    "#check if en element belongs to a tupple \n",
    "print(1 in t)\n",
    "print(1.2 in t)"
   ]
  },
  {
   "cell_type": "code",
   "execution_count": null,
   "metadata": {
    "collapsed": true
   },
   "outputs": [],
   "source": []
  }
 ],
 "metadata": {
  "kernelspec": {
   "display_name": "Python 3",
   "language": "python",
   "name": "python3"
  },
  "language_info": {
   "codemirror_mode": {
    "name": "ipython",
    "version": 3
   },
   "file_extension": ".py",
   "mimetype": "text/x-python",
   "name": "python",
   "nbconvert_exporter": "python",
   "pygments_lexer": "ipython3",
   "version": "3.6.3"
  }
 },
 "nbformat": 4,
 "nbformat_minor": 2
}
