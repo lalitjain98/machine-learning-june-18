{
 "cells": [
  {
   "cell_type": "code",
   "execution_count": 11,
   "metadata": {
    "collapsed": true
   },
   "outputs": [],
   "source": [
    "import numpy as np"
   ]
  },
  {
   "cell_type": "code",
   "execution_count": 12,
   "metadata": {
    "collapsed": true
   },
   "outputs": [],
   "source": [
    "def fit(X_train, Y_train):\n",
    "    result = {}\n",
    "    result[\"total_data\"] = len(Y_train)\n",
    "    classes = set(Y_train)    \n",
    "    for y in classes:\n",
    "        result[y] = {}\n",
    "        num_features = X_train.shape[1]\n",
    "        indices = Y_train == y\n",
    "        result[y][\"total_count\"] = indices.sum()\n",
    "        X_current_class = X_train[indices]\n",
    "        Y_current_class = Y_train[indices]\n",
    "        for j in range(num_features):\n",
    "            result[y][j] = {}\n",
    "            current_feature_values = set(X_current_class[:, j])\n",
    "            for current_value in current_feature_values:\n",
    "                result[y][j][current_value] = (X_current_class[:, j] == current_value).sum()\n",
    "    return result"
   ]
  },
  {
   "cell_type": "code",
   "execution_count": 28,
   "metadata": {},
   "outputs": [],
   "source": [
    "def probability(dictionary, x, cur_class):\n",
    "    out_prob = 1\n",
    "    features = len(x)\n",
    "    for j in range(features):\n",
    "        count_Y_equals_ai = dictionary[cur_class][\"total_count\"]\n",
    "        count_Xj_equals_xj_and_Y_equals_ai = dictionary[cur_class][j][x[j]] if x[j] in dictionary[cur_class][j] else 0\n",
    "        P_Xj_equals_xj_given_Y_equals_ai = count_Xj_equals_xj_and_Y_equals_ai/count_Y_equals_ai\n",
    "        out_prob *= P_Xj_equals_xj_given_Y_equals_ai\n",
    "    return out_prob\n",
    "\n",
    "def predict_single_point(dictionary, x):\n",
    "    classes = dictionary.keys()\n",
    "    max_prob_class = None\n",
    "    max_prob = -np.inf\n",
    "    first = True\n",
    "    for y in classes:\n",
    "        if y == \"total_data\":\n",
    "            continue\n",
    "        P_X_equals_x_by_Y_equals_ai = probability(dictionary, x, y)\n",
    "        if first or P_X_equals_x_by_Y_equals_ai > max_prob :\n",
    "            first = False\n",
    "            max_prob = P_X_equals_x_by_Y_equals_ai\n",
    "            max_prob_class = y\n",
    "    \n",
    "    return max_prob_class\n",
    "\n",
    "def predict(dictionary, X_test):\n",
    "    Y_pred = []\n",
    "    for x in X_test:\n",
    "        Y_pred.append(predict_single_point(dictionary, x))\n",
    "    return Y_pred"
   ]
  },
  {
   "cell_type": "code",
   "execution_count": null,
   "metadata": {
    "collapsed": true
   },
   "outputs": [],
   "source": [
    "def level(X):\n",
    "    mean = X.mean()\n",
    "    one_third_value = mean/2\n",
    "    two_third_value = 1.5 * mean\n",
    "    for i in range(len(X)):\n",
    "        if X[i] < one_third_value:\n",
    "            X[i] = 1\n",
    "        elif X[i] < mean:\n",
    "            X[i] = 2\n",
    "        elif X[i] < two_third_value:\n",
    "            X[i] = 3\n",
    "        else:\n",
    "            X[i] = 4\n",
    "    return X"
   ]
  },
  {
   "cell_type": "code",
   "execution_count": null,
   "metadata": {
    "collapsed": true
   },
   "outputs": [],
   "source": [
    "from sklearn import datasets\n",
    "iris_ds = datasets.load_iris()"
   ]
  },
  {
   "cell_type": "code",
   "execution_count": 35,
   "metadata": {},
   "outputs": [],
   "source": [
    "from sklearn.model_selection import train_test_split\n",
    "X = iris_ds.data\n",
    "Y = iris_ds.target\n",
    "\n",
    "for i in range(X.shape[1]):\n",
    "    X[:, i] = level(X[:, i])\n",
    "\n",
    "X_train, X_test, Y_train, Y_test = train_test_split(X, Y)"
   ]
  },
  {
   "cell_type": "code",
   "execution_count": 36,
   "metadata": {},
   "outputs": [],
   "source": [
    "d = fit(X_train, Y_train)\n"
   ]
  },
  {
   "cell_type": "code",
   "execution_count": 37,
   "metadata": {},
   "outputs": [
    {
     "name": "stdout",
     "output_type": "stream",
     "text": [
      "total_data\n",
      "112\n",
      "0\n",
      "{'total_count': 36, 0: {2.0: 36}, 1: {2.0: 5, 3.0: 31}, 2: {1.0: 34, 2.0: 2}, 3: {1.0: 36}}\n",
      "1\n",
      "{'total_count': 40, 0: {2.0: 21, 3.0: 19}, 1: {2.0: 34, 3.0: 6}, 2: {2.0: 6, 3.0: 34}, 3: {2.0: 8, 3.0: 32}}\n",
      "2\n",
      "{'total_count': 36, 0: {2.0: 5, 3.0: 31}, 1: {2.0: 23, 3.0: 13}, 2: {3.0: 21, 4.0: 15}, 3: {3.0: 3, 4.0: 33}}\n"
     ]
    }
   ],
   "source": [
    "for key in d:\n",
    "    print(key)\n",
    "    print(d[key])\n",
    "    \"\"\"\n",
    "    if type(d[key]) == int:\n",
    "        continue\n",
    "    for key1 in d[key]:\n",
    "        print(key1)\n",
    "        for key2 in d[key][key1]:\n",
    "            print(key2)\n",
    "            print(d[key][key1][key2])\n",
    "    \"\"\""
   ]
  },
  {
   "cell_type": "code",
   "execution_count": 38,
   "metadata": {},
   "outputs": [
    {
     "name": "stdout",
     "output_type": "stream",
     "text": [
      "[1, 0, 0, 0, 1, 1, 0, 1, 2, 0, 0, 1, 0, 2, 0, 2, 2, 0, 0, 1, 1, 2, 0, 1, 2, 0, 2, 1, 2, 0, 2, 2, 0, 1, 0, 0, 1, 0, 1, 2, 1, 0, 1, 1, 1, 2, 1, 2, 0, 1, 0, 2, 1, 1, 2, 2, 2, 2, 2, 1, 2, 1, 1, 1, 1, 0, 1, 2, 2, 0, 0, 0, 1, 0, 1, 2, 2, 1, 1, 1, 2, 2, 1, 0, 0, 0, 0, 2, 0, 1, 0, 1, 1, 0, 0, 2, 1, 0, 2, 2, 1, 2, 0, 1, 1, 1, 2, 0, 2, 1, 2, 1]\n",
      "[0, 2, 2, 1, 2, 1, 1, 0, 2, 2, 1, 0, 0, 0, 0, 2, 1, 1, 1, 0, 2, 2, 0, 0, 1, 0, 2, 0, 2, 2, 0, 1, 1, 2, 1, 2, 0, 0]\n"
     ]
    }
   ],
   "source": [
    "Y_train_pred = predict(d,X_train)\n",
    "Y_test_pred = predict(d, X_test)\n",
    "print(Y_train_pred)\n",
    "print(Y_test_pred)"
   ]
  },
  {
   "cell_type": "code",
   "execution_count": 39,
   "metadata": {},
   "outputs": [
    {
     "data": {
      "text/plain": [
       "array([[36,  0,  0],\n",
       "       [ 0, 40,  0],\n",
       "       [ 0,  2, 34]], dtype=int64)"
      ]
     },
     "execution_count": 39,
     "metadata": {},
     "output_type": "execute_result"
    }
   ],
   "source": [
    "from sklearn.metrics import confusion_matrix\n",
    "confusion_matrix(Y_train, Y_train_pred)"
   ]
  },
  {
   "cell_type": "code",
   "execution_count": 40,
   "metadata": {},
   "outputs": [
    {
     "data": {
      "text/plain": [
       "array([[14,  0,  0],\n",
       "       [ 0,  9,  1],\n",
       "       [ 0,  2, 12]], dtype=int64)"
      ]
     },
     "execution_count": 40,
     "metadata": {},
     "output_type": "execute_result"
    }
   ],
   "source": [
    "confusion_matrix(Y_test, Y_test_pred)"
   ]
  }
 ],
 "metadata": {
  "kernelspec": {
   "display_name": "Python 3",
   "language": "python",
   "name": "python3"
  },
  "language_info": {
   "codemirror_mode": {
    "name": "ipython",
    "version": 3
   },
   "file_extension": ".py",
   "mimetype": "text/x-python",
   "name": "python",
   "nbconvert_exporter": "python",
   "pygments_lexer": "ipython3",
   "version": "3.6.3"
  }
 },
 "nbformat": 4,
 "nbformat_minor": 2
}
