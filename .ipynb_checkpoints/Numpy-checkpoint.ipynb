{
 "cells": [
  {
   "cell_type": "markdown",
   "metadata": {},
   "source": [
    "## Numpy \n",
    "    * python arrays are slow\n",
    "    * python list is not stored in a compact way since any index can contain any type of data\n",
    "    * lists are slow (python is slow in general)\n",
    "\n",
    "    * numpy arrays have elements of same type\n",
    "    * storage is compact\n",
    "    "
   ]
  },
  {
   "cell_type": "code",
   "execution_count": 5,
   "metadata": {},
   "outputs": [
    {
     "name": "stdout",
     "output_type": "stream",
     "text": [
      "[1 2 3]\n",
      "['1' '2' '3']\n",
      "[ 0.  0.  0.  0.  0.  0.  0.  0.  0.  0.]\n",
      "[ 1.  1.  1.  1.  1.]\n",
      "[1 1 1 1 1]\n",
      "int32\n",
      "<U11\n",
      "float64\n",
      "float64\n",
      "int32\n"
     ]
    }
   ],
   "source": [
    "# importin numpy module\n",
    "import numpy as np\n",
    "# creating np array\n",
    "\n",
    "l1 = [1, 2, 3]\n",
    "n1 = np.array(l1)\n",
    "print(n1)\n",
    "\n",
    "l2 = [1, 2, '3']\n",
    "n2 = np.array(l2)\n",
    "print(n2)\n",
    "\n",
    "z = np.zeros(10)\n",
    "print(z)\n",
    "\n",
    "ones = np.ones(5)\n",
    "print(ones)\n",
    "\n",
    "int_ones = np.ones(5, int)\n",
    "print(int_ones)\n",
    "\n",
    "print(n1.dtype)\n",
    "print(n2.dtype)\n",
    "print(z.dtype)\n",
    "print(ones.dtype)\n",
    "print(int_ones.dtype)\n"
   ]
  },
  {
   "cell_type": "markdown",
   "metadata": {},
   "source": [
    "## Some important points:\n",
    "    * if a single element of the list passed to constructor is of type string then all elements will be converted to string data type\n",
    "    * the datatype is float even if all the numbers are of type int for ones() and zeros() (notice decimal point after each element of array ones and zeros)\n",
    "    * to force int numpy array creation, pass 2nd argument to constructor as the datatype we want ie int\n",
    "    "
   ]
  },
  {
   "cell_type": "code",
   "execution_count": 19,
   "metadata": {},
   "outputs": [
    {
     "name": "stdout",
     "output_type": "stream",
     "text": [
      "[[1 1 1 1]\n",
      " [1 1 1 1]\n",
      " [1 1 1 1]]\n",
      "[[[0 0]\n",
      "  [0 0]\n",
      "  [0 0]]\n",
      "\n",
      " [[0 0]\n",
      "  [0 0]\n",
      "  [0 0]]]\n",
      "1\n",
      "[[1 1 1 1]\n",
      " [1 1 1 1]]\n",
      "(3, 4)\n",
      "[[2 3]\n",
      " [2 3]]\n",
      "[ 1  2  3  4  5  6  7  8  9 10]\n"
     ]
    }
   ],
   "source": [
    "# n-Dim array\n",
    "# pass a tuple containing dims\n",
    "\n",
    "multi = np.ones((3,4), int)\n",
    "multi_2 = np.zeros((2,3,2), int)\n",
    "\n",
    "print(multi)\n",
    "print(multi_2)\n",
    "\n",
    "# accessing elements\n",
    "\n",
    "print(multi[0][1])\n",
    "\n",
    "#slicing\n",
    "\n",
    "print(multi[1:3])\n",
    "\n",
    "# shape is the size tuple\n",
    "\n",
    "print(multi.shape)\n",
    "\n",
    "a = np.array([[1,2,3,4,5,6], \n",
    "              [1,2,3,4,5,6], \n",
    "              [1,2,3,4,5,6], \n",
    "              [1,2,3,4,5,6], \n",
    "              [1,2,3,4,5,6]])\n",
    "\n",
    "# important\n",
    "# we can create a sub array giving indexing ranges for rows and columns\n",
    "# eg. a[start1:end1 + 1, start2:end2 + 1]\n",
    "print(a[2:4, 1:3])\n",
    "\n",
    "\n",
    "# np.arange(n, m+1) is a combo of array and range so it creates\n",
    "# an array of numbers ranging from\n",
    "# n to m\n",
    "\n",
    "r = np.arange(1,11) # should be [1, 2 ... 9, 10]\n",
    "print(r)"
   ]
  },
  {
   "cell_type": "code",
   "execution_count": 22,
   "metadata": {},
   "outputs": [
    {
     "name": "stdout",
     "output_type": "stream",
     "text": [
      "[1 2 3]\n",
      "[4 5 6]\n",
      "[6 7 8]\n",
      "[2 3 4]\n",
      "[1 4 9]\n",
      "[ 64 125 216]\n",
      "2.0\n",
      "15\n",
      "5.19615242271\n"
     ]
    }
   ],
   "source": [
    "#numpy operations\n",
    "\n",
    "a = np.arange(1,4)\n",
    "b = np.arange(4,7)\n",
    "# addition of a number does \n",
    "# element wise addition of that number\n",
    "print(a)\n",
    "print(b)\n",
    "print(a + 5)\n",
    "print(b - 2)\n",
    "print(a ** 2)\n",
    "print(b ** 3)\n",
    "print(a.mean())\n",
    "print(b.sum())\n",
    "\n",
    "# find euclidean distance assuming a is x and b is y\n",
    "\n",
    "print((((a-b)**2).sum()) ** 0.5)"
   ]
  },
  {
   "cell_type": "code",
   "execution_count": null,
   "metadata": {
    "collapsed": true
   },
   "outputs": [],
   "source": [
    "a1 = np.array([])"
   ]
  },
  {
   "cell_type": "code",
   "execution_count": null,
   "metadata": {
    "collapsed": true
   },
   "outputs": [],
   "source": []
  }
 ],
 "metadata": {
  "kernelspec": {
   "display_name": "Python 3",
   "language": "python",
   "name": "python3"
  },
  "language_info": {
   "codemirror_mode": {
    "name": "ipython",
    "version": 3
   },
   "file_extension": ".py",
   "mimetype": "text/x-python",
   "name": "python",
   "nbconvert_exporter": "python",
   "pygments_lexer": "ipython3",
   "version": "3.6.3"
  }
 },
 "nbformat": 4,
 "nbformat_minor": 2
}
