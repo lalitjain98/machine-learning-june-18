{
 "cells": [
  {
   "cell_type": "code",
   "execution_count": 3,
   "metadata": {},
   "outputs": [],
   "source": [
    "import pandas as pd\n",
    "import numpy as np\n",
    "from sklearn import datasets\n",
    "from sklearn import model_selection"
   ]
  },
  {
   "cell_type": "code",
   "execution_count": 48,
   "metadata": {},
   "outputs": [],
   "source": [
    "dataset = datasets.load_breast_cancer()\n",
    "X = dataset.data\n",
    "Y = dataset.target\n",
    "\n",
    "\n",
    "df = pd.DataFrame(X)\n",
    "df.describe()\n",
    "\n",
    "X_train, X_test, Y_train, Y_test = model_selection.train_test_split(X, Y)\n"
   ]
  },
  {
   "cell_type": "code",
   "execution_count": 15,
   "metadata": {},
   "outputs": [
    {
     "data": {
      "image/png": "[encoded data removed]",
      "text/plain": [
       "<matplotlib.figure.Figure at 0x2a01b86a400>"
      ]
     },
     "metadata": {},
     "output_type": "display_data"
    }
   ],
   "source": [
    "import math\n",
    "def sigmoid(z):\n",
    "    return (1/(1+math.exp(-z)))\n",
    "sig = []\n",
    "x = (np.arange(-100, 100)/10)\n",
    "for i in x :\n",
    "    sig.append(sigmoid(i))\n",
    "import matplotlib.pyplot as plt\n",
    "plt.plot(x, sig)\n",
    "plt.show()\n"
   ]
  },
  {
   "cell_type": "code",
   "execution_count": 58,
   "metadata": {
    "scrolled": false
   },
   "outputs": [
    {
     "name": "stdout",
     "output_type": "stream",
     "text": [
      "31\n",
      "0   0.67953289403\n",
      "50   0.495803514487\n",
      "100   0.436930741392\n",
      "150   0.403641063179\n",
      "200   0.380888544223\n",
      "250   0.363741020678\n",
      "300   0.350032015589\n",
      "350   0.338636786577\n",
      "400   0.328903053962\n",
      "450   0.320421071233\n"
     ]
    },
    {
     "data": {
      "image/png": "[encoded data removed]",
      "text/plain": [
       "<matplotlib.figure.Figure at 0x2a01d7ab748>"
      ]
     },
     "metadata": {},
     "output_type": "display_data"
    }
   ],
   "source": [
    "\n",
    "def single_step(X, Y, m, alpha):\n",
    "    n_1 = len(m)\n",
    "    num_eg = len(X)\n",
    "    slope_m = np.zeros(n_1) \n",
    "    \n",
    "    for j in range(n_1):\n",
    "        for i in range(num_eg) :\n",
    "            slope_m[j] += (-2/num_eg)* ((Y[i] - sigmoid((m *(X[i])).sum()) ) * X[i][j] )    \n",
    "    #for j in range(n_1):\n",
    "            m[j] -= alpha*slope_m[j]\n",
    "    return m\n",
    "\n",
    "def gradient_descent(X, Y, alpha, num_iters) :\n",
    "    num_eg = len(X)\n",
    "    X = np.c_[X, np.ones(X.shape[0])]\n",
    "    m = np.zeros(len(X[0]))\n",
    "    costs = {}\n",
    "    print(len(m))\n",
    "    for i in range(num_iters):\n",
    "        m = single_step(X, Y, m, alpha)\n",
    "        if i % 50 == 0 :\n",
    "            costs[i] = cost(X, Y, m)\n",
    "            print(i, \" \", costs[i])\n",
    "    import matplotlib.pyplot as plt\n",
    "    keys = [key for key in costs]\n",
    "    values = [costs[key] for key in costs]\n",
    "    plt.plot(keys, values)\n",
    "    plt.show()\n",
    "    return m\n",
    "\n",
    "def cost(X, y, m) :\n",
    "    size = len(X)\n",
    "    cost = 0\n",
    "    for i in range(size) :\n",
    "        #print(m.shape)\n",
    "        #print(X[i].shape)\n",
    "        #print((m * X[i]).sum())\n",
    "        h_X_i = sigmoid((m * X[i]).sum())\n",
    "        cost -= ((y[i]*np.log(h_X_i))+(1-y[i])*(np.log(1-h_X_i)))/size\n",
    "    return cost\n",
    "\n",
    "def fit(X, Y):\n",
    "    return None\n",
    "\n",
    "m = gradient_descent(X_train, Y_train, 0.00000002, 500)"
   ]
  },
  {
   "cell_type": "code",
   "execution_count": 60,
   "metadata": {},
   "outputs": [
    {
     "name": "stdout",
     "output_type": "stream",
     "text": [
      "[  2.97727011e-03   5.56180900e-03   1.78573952e-02   1.79127898e-02\n",
      "   2.79196527e-05   6.15320793e-07  -3.08656817e-05  -1.46087044e-05\n",
      "   5.38043902e-05   2.18828448e-05   3.22490009e-05   4.17440530e-04\n",
      "   1.88174090e-04  -3.17514867e-03   2.25049092e-06   2.02216484e-06\n",
      "   1.00022777e-06   9.74553654e-07   6.67654889e-06   8.62158990e-07\n",
      "   2.71648940e-03   6.60999234e-03   1.59850838e-02  -1.79356972e-02\n",
      "   3.95520574e-05  -3.96039848e-06  -4.63097280e-05  -1.06095784e-05\n",
      "   8.64272581e-05   2.49980367e-05   3.79060771e-04]\n"
     ]
    }
   ],
   "source": [
    "print(m)"
   ]
  },
  {
   "cell_type": "code",
   "execution_count": 71,
   "metadata": {},
   "outputs": [],
   "source": [
    "def predict(X, m):\n",
    "    X = np.c_[X, np.ones(X.shape[0])]\n",
    "    Y_pred = []\n",
    "    c = 0\n",
    "    for x in X :\n",
    "        value = sigmoid((x*m).sum())\n",
    "        if value > 0.4 and value < 0.6 :\n",
    "            print(c, value)\n",
    "            c += 1\n",
    "        if value < 0.5 :\n",
    "            Y_pred.append(0)#Y_pred.append(int(round(value)))\n",
    "        else: \n",
    "            Y_pred.append(1)\n",
    "    return Y_pred\n"
   ]
  },
  {
   "cell_type": "code",
   "execution_count": 72,
   "metadata": {},
   "outputs": [
    {
     "name": "stdout",
     "output_type": "stream",
     "text": [
      "0 0.5619651448762543\n",
      "1 0.5457799995493469\n",
      "2 0.4801926981997603\n",
      "3 0.4597798837031054\n",
      "4 0.4111244969740429\n",
      "5 0.4272473892537803\n",
      "6 0.5152835048295669\n",
      "7 0.4859799464405433\n",
      "8 0.4703659754344732\n",
      "9 0.4925009234505831\n",
      "10 0.49449598926069793\n",
      "11 0.5387255616253509\n",
      "12 0.5594874325130823\n",
      "13 0.5612461343335143\n",
      "14 0.5072141803489286\n",
      "15 0.47524615639833734\n",
      "16 0.5665653778252665\n",
      "17 0.5072971745841671\n",
      "18 0.545452712087471\n",
      "19 0.5499108150905987\n",
      "20 0.43969544352525697\n",
      "21 0.46085967329788147\n",
      "22 0.5461128423490503\n",
      "23 0.444714819168485\n",
      "0 0.4057689849827884\n",
      "1 0.475095737760882\n",
      "2 0.5718115581571009\n",
      "3 0.5849870679163345\n",
      "4 0.4707416382987332\n",
      "5 0.5111779978772159\n",
      "6 0.4512976664579014\n",
      "7 0.599000626062655\n",
      "8 0.5917515943427686\n",
      "9 0.5806154895864283\n",
      "10 0.5979573288674157\n",
      "11 0.5714076911723812\n",
      "12 0.4270869261139123\n",
      "confusion_matrix for X_train\n",
      " [[135   8]\n",
      " [ 30 253]]\n",
      "confusion_matrix for X_test\n",
      " [[34  4]\n",
      " [13 92]]\n"
     ]
    }
   ],
   "source": [
    "from sklearn.metrics import confusion_matrix\n",
    "Y_train_pred = predict(X_train, m)\n",
    "Y_test_pred = predict(X_test, m)\n",
    "\n",
    "print(\"confusion_matrix for X_train\\n\", confusion_matrix(Y_train_pred, Y_train))\n",
    "print(\"confusion_matrix for X_test\\n\", confusion_matrix(Y_test_pred, Y_test))"
   ]
  }
 ],
 "metadata": {
  "kernelspec": {
   "display_name": "Python 3",
   "language": "python",
   "name": "python3"
  },
  "language_info": {
   "codemirror_mode": {
    "name": "ipython",
    "version": 3
   },
   "file_extension": ".py",
   "mimetype": "text/x-python",
   "name": "python",
   "nbconvert_exporter": "python",
   "pygments_lexer": "ipython3",
   "version": "3.6.3"
  }
 },
 "nbformat": 4,
 "nbformat_minor": 2
}
