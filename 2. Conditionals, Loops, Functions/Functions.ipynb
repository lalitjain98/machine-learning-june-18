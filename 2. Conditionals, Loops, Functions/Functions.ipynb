{
 "cells": [
  {
   "cell_type": "code",
   "execution_count": 2,
   "metadata": {},
   "outputs": [
    {
     "name": "stdout",
     "output_type": "stream",
     "text": [
      "15\n"
     ]
    }
   ],
   "source": [
    "# function\n",
    "# remember def function_name(Arguments list) : # (colon)\n",
    "# indentation too\n",
    "def add(a,b):\n",
    "    return a + b\n",
    "print (add(5,10))\n"
   ]
  },
  {
   "cell_type": "code",
   "execution_count": 4,
   "metadata": {},
   "outputs": [
    {
     "name": "stdout",
     "output_type": "stream",
     "text": [
      "25\n",
      "625\n"
     ]
    }
   ],
   "source": [
    "# default argument\n",
    "def power(a,b=2):\n",
    "    return a ** b\n",
    "print(power(5))\n",
    "print(power(5,4))"
   ]
  },
  {
   "cell_type": "code",
   "execution_count": 6,
   "metadata": {},
   "outputs": [
    {
     "name": "stdout",
     "output_type": "stream",
     "text": [
      "25\n",
      "33\n",
      "46\n"
     ]
    }
   ],
   "source": [
    "# pass arguments by their name\n",
    "def sum(a=10,b=10,c=10):\n",
    "    return a + b + c\n",
    "print(sum(5))\n",
    "print(sum(b=13))\n",
    "print(sum(b=15,c=21))"
   ]
  },
  {
   "cell_type": "code",
   "execution_count": 9,
   "metadata": {},
   "outputs": [
    {
     "name": "stdout",
     "output_type": "stream",
     "text": [
      "<class 'tuple'>\n",
      "(3, 4, 6, 5)\n",
      "3\n",
      "<class 'tuple'>\n",
      "()\n",
      "3\n"
     ]
    }
   ],
   "source": [
    "# variable number of arguments\n",
    "def sum_variable(a,b,*more):\n",
    "    ans = a + b\n",
    "    print(type(more))\n",
    "    print(more)\n",
    "    return ans\n",
    "print(sum_variable(1,2,3,4,6,5))\n",
    "print(sum_variable(1,2))"
   ]
  },
  {
   "cell_type": "code",
   "execution_count": 13,
   "metadata": {},
   "outputs": [
    {
     "name": "stdout",
     "output_type": "stream",
     "text": [
      "7\n",
      "10\n",
      "(10, 21)\n"
     ]
    }
   ],
   "source": [
    "# more than one return value\n",
    "def sum_and_product (a,b):\n",
    "    return a + b, a * b\n",
    "sum, prod = sum_and_product(5,2)\n",
    "print(sum)\n",
    "print(prod)\n",
    "res = sum_and_product(3,7)\n",
    "print(res)"
   ]
  },
  {
   "cell_type": "code",
   "execution_count": 39,
   "metadata": {},
   "outputs": [
    {
     "name": "stdout",
     "output_type": "stream",
     "text": [
      "6765\n"
     ]
    }
   ],
   "source": [
    "def f(n):\n",
    "    if n == 1 or n == 2:\n",
    "        return 1\n",
    "    return (f(n-1) + f(n-2))"
   ]
  },
  {
   "cell_type": "code",
   "execution_count": 44,
   "metadata": {},
   "outputs": [
    {
     "name": "stdout",
     "output_type": "stream",
     "text": [
      "5\n",
      "1 \n",
      "3 2 \n",
      "4 5 6 \n",
      "10 9 8 7 \n",
      "11 12 13 14 15 \n"
     ]
    }
   ],
   "source": [
    "start = 1\n",
    "n = int(input())\n",
    "for i in range(n):\n",
    "  #num = (n * (n + 1)) / 2 + 1\n",
    "    if i % 2 == 0 :\n",
    "        for j in range(start, start + i + 1):\n",
    "            print(j,  end = \" \")\n",
    "    else: \n",
    "        for j in range(start, start + i + 1)[::-1]:\n",
    "            print(j,  end = \" \")\n",
    "    print(\"\")\n",
    "    start += i + 1"
   ]
  },
  {
   "cell_type": "code",
   "execution_count": 48,
   "metadata": {},
   "outputs": [
    {
     "name": "stdout",
     "output_type": "stream",
     "text": [
      "19892083908948390893792736972987389\n"
     ]
    }
   ],
   "source": [
    "n = 19892083908948390893792736972987389\n",
    "print(n)"
   ]
  }
 ],
 "metadata": {
  "kernelspec": {
   "display_name": "Python 3",
   "language": "python",
   "name": "python3"
  },
  "language_info": {
   "codemirror_mode": {
    "name": "ipython",
    "version": 3
   },
   "file_extension": ".py",
   "mimetype": "text/x-python",
   "name": "python",
   "nbconvert_exporter": "python",
   "pygments_lexer": "ipython3",
   "version": "3.6.3"
  }
 },
 "nbformat": 4,
 "nbformat_minor": 2
}
