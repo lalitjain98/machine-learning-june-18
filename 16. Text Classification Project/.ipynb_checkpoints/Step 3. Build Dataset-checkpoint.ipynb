{
 "cells": [
  {
   "cell_type": "code",
   "execution_count": 93,
   "metadata": {},
   "outputs": [
    {
     "data": {
      "text/plain": [
       "'\\nBuild Dataset\\n'"
      ]
     },
     "execution_count": 93,
     "metadata": {},
     "output_type": "execute_result"
    }
   ],
   "source": [
    "\"\"\"\n",
    "Build Dataset\n",
    "\"\"\""
   ]
  },
  {
   "cell_type": "code",
   "execution_count": 43,
   "metadata": {
    "collapsed": true
   },
   "outputs": [],
   "source": [
    "import numpy as np\n",
    "import pandas as pd\n",
    "max_allowed_freq = 16321\n",
    "min_allowed_freq = 100"
   ]
  },
  {
   "cell_type": "code",
   "execution_count": null,
   "metadata": {
    "collapsed": true
   },
   "outputs": [],
   "source": []
  },
  {
   "cell_type": "code",
   "execution_count": 44,
   "metadata": {},
   "outputs": [
    {
     "data": {
      "text/html": [
       "<div>\n",
       "<style>\n",
       "    .dataframe thead tr:only-child th {\n",
       "        text-align: right;\n",
       "    }\n",
       "\n",
       "    .dataframe thead th {\n",
       "        text-align: left;\n",
       "    }\n",
       "\n",
       "    .dataframe tbody tr th {\n",
       "        vertical-align: top;\n",
       "    }\n",
       "</style>\n",
       "<table border=\"1\" class=\"dataframe\">\n",
       "  <thead>\n",
       "    <tr style=\"text-align: right;\">\n",
       "      <th></th>\n",
       "      <th>class</th>\n",
       "      <th>category</th>\n",
       "    </tr>\n",
       "  </thead>\n",
       "  <tbody>\n",
       "    <tr>\n",
       "      <th>0</th>\n",
       "      <td>0</td>\n",
       "      <td>comp.sys.mac.hardware</td>\n",
       "    </tr>\n",
       "    <tr>\n",
       "      <th>1</th>\n",
       "      <td>1</td>\n",
       "      <td>rec.motorcycles</td>\n",
       "    </tr>\n",
       "    <tr>\n",
       "      <th>2</th>\n",
       "      <td>2</td>\n",
       "      <td>talk.politics.mideast</td>\n",
       "    </tr>\n",
       "    <tr>\n",
       "      <th>3</th>\n",
       "      <td>3</td>\n",
       "      <td>misc.forsale</td>\n",
       "    </tr>\n",
       "    <tr>\n",
       "      <th>4</th>\n",
       "      <td>4</td>\n",
       "      <td>talk.religion.misc</td>\n",
       "    </tr>\n",
       "  </tbody>\n",
       "</table>\n",
       "</div>"
      ],
      "text/plain": [
       "   class               category\n",
       "0      0  comp.sys.mac.hardware\n",
       "1      1        rec.motorcycles\n",
       "2      2  talk.politics.mideast\n",
       "3      3           misc.forsale\n",
       "4      4     talk.religion.misc"
      ]
     },
     "execution_count": 44,
     "metadata": {},
     "output_type": "execute_result"
    }
   ],
   "source": [
    "class_dict_df = pd.DataFrame(pd.read_csv(\"class_dict.csv\"))\n",
    "class_dict_df.head()"
   ]
  },
  {
   "cell_type": "code",
   "execution_count": 45,
   "metadata": {},
   "outputs": [
    {
     "data": {
      "text/html": [
       "<div>\n",
       "<style>\n",
       "    .dataframe thead tr:only-child th {\n",
       "        text-align: right;\n",
       "    }\n",
       "\n",
       "    .dataframe thead th {\n",
       "        text-align: left;\n",
       "    }\n",
       "\n",
       "    .dataframe tbody tr th {\n",
       "        vertical-align: top;\n",
       "    }\n",
       "</style>\n",
       "<table border=\"1\" class=\"dataframe\">\n",
       "  <thead>\n",
       "    <tr style=\"text-align: right;\">\n",
       "      <th></th>\n",
       "      <th>word</th>\n",
       "      <th>frequency</th>\n",
       "    </tr>\n",
       "  </thead>\n",
       "  <tbody>\n",
       "    <tr>\n",
       "      <th>0</th>\n",
       "      <td>path</td>\n",
       "      <td>15204</td>\n",
       "    </tr>\n",
       "    <tr>\n",
       "      <th>1</th>\n",
       "      <td>subject</td>\n",
       "      <td>15997</td>\n",
       "    </tr>\n",
       "    <tr>\n",
       "      <th>2</th>\n",
       "      <td>message</td>\n",
       "      <td>16321</td>\n",
       "    </tr>\n",
       "    <tr>\n",
       "      <th>3</th>\n",
       "      <td>id</td>\n",
       "      <td>15355</td>\n",
       "    </tr>\n",
       "    <tr>\n",
       "      <th>4</th>\n",
       "      <td>organization</td>\n",
       "      <td>14696</td>\n",
       "    </tr>\n",
       "  </tbody>\n",
       "</table>\n",
       "</div>"
      ],
      "text/plain": [
       "           word  frequency\n",
       "0          path      15204\n",
       "1       subject      15997\n",
       "2       message      16321\n",
       "3            id      15355\n",
       "4  organization      14696"
      ]
     },
     "execution_count": 45,
     "metadata": {},
     "output_type": "execute_result"
    }
   ],
   "source": [
    "#selected_words_df = pd.DataFrame(pd.read_csv('all_words.csv'))\n",
    "selected_words_df = pd.DataFrame(pd.read_csv('selected_words_'+ str(max_allowed_freq) +'_'+ str(min_allowed_freq) +'.csv'))\n",
    "selected_words_df.head()\n"
   ]
  },
  {
   "cell_type": "code",
   "execution_count": 46,
   "metadata": {
    "collapsed": true
   },
   "outputs": [],
   "source": [
    "selected_words = selected_words_df['word'].values\n",
    "num_selected_words = len(selected_words)\n"
   ]
  },
  {
   "cell_type": "code",
   "execution_count": 47,
   "metadata": {},
   "outputs": [
    {
     "data": {
      "text/html": [
       "<div>\n",
       "<style>\n",
       "    .dataframe thead tr:only-child th {\n",
       "        text-align: right;\n",
       "    }\n",
       "\n",
       "    .dataframe thead th {\n",
       "        text-align: left;\n",
       "    }\n",
       "\n",
       "    .dataframe tbody tr th {\n",
       "        vertical-align: top;\n",
       "    }\n",
       "</style>\n",
       "<table border=\"1\" class=\"dataframe\">\n",
       "  <thead>\n",
       "    <tr style=\"text-align: right;\">\n",
       "      <th></th>\n",
       "      <th>path</th>\n",
       "      <th>class</th>\n",
       "    </tr>\n",
       "  </thead>\n",
       "  <tbody>\n",
       "    <tr>\n",
       "      <th>0</th>\n",
       "      <td>.\\clean_data\\20_newsgroups\\talk.politics.misc\\...</td>\n",
       "      <td>13</td>\n",
       "    </tr>\n",
       "    <tr>\n",
       "      <th>1</th>\n",
       "      <td>.\\clean_data\\20_newsgroups\\talk.religion.misc\\...</td>\n",
       "      <td>4</td>\n",
       "    </tr>\n",
       "    <tr>\n",
       "      <th>2</th>\n",
       "      <td>.\\clean_data\\20_newsgroups\\sci.electronics\\542...</td>\n",
       "      <td>10</td>\n",
       "    </tr>\n",
       "    <tr>\n",
       "      <th>3</th>\n",
       "      <td>.\\clean_data\\20_newsgroups\\misc.forsale\\76424.txt</td>\n",
       "      <td>3</td>\n",
       "    </tr>\n",
       "    <tr>\n",
       "      <th>4</th>\n",
       "      <td>.\\clean_data\\20_newsgroups\\sci.electronics\\539...</td>\n",
       "      <td>10</td>\n",
       "    </tr>\n",
       "  </tbody>\n",
       "</table>\n",
       "</div>"
      ],
      "text/plain": [
       "                                                path  class\n",
       "0  .\\clean_data\\20_newsgroups\\talk.politics.misc\\...     13\n",
       "1  .\\clean_data\\20_newsgroups\\talk.religion.misc\\...      4\n",
       "2  .\\clean_data\\20_newsgroups\\sci.electronics\\542...     10\n",
       "3  .\\clean_data\\20_newsgroups\\misc.forsale\\76424.txt      3\n",
       "4  .\\clean_data\\20_newsgroups\\sci.electronics\\539...     10"
      ]
     },
     "execution_count": 47,
     "metadata": {},
     "output_type": "execute_result"
    }
   ],
   "source": [
    "train_file_paths_df = pd.DataFrame(pd.read_csv(\"train_files.csv\"))\n",
    "train_file_paths_df.head()"
   ]
  },
  {
   "cell_type": "code",
   "execution_count": 48,
   "metadata": {
    "collapsed": true
   },
   "outputs": [],
   "source": [
    "train_file_paths = train_file_paths_df['path'].values\n",
    "train_file_class = train_file_paths_df['class'].values"
   ]
  },
  {
   "cell_type": "code",
   "execution_count": null,
   "metadata": {
    "collapsed": true
   },
   "outputs": [],
   "source": []
  },
  {
   "cell_type": "code",
   "execution_count": 50,
   "metadata": {
    "scrolled": true
   },
   "outputs": [
    {
     "name": "stdout",
     "output_type": "stream",
     "text": [
      "0 Files Processed in 1 millisec\n",
      "1000 Files Processed in 11156 millisec\n",
      "2000 Files Processed in 9830 millisec\n",
      "3000 Files Processed in 11082 millisec\n",
      "4000 Files Processed in 12895 millisec\n",
      "5000 Files Processed in 11124 millisec\n",
      "6000 Files Processed in 10977 millisec\n",
      "7000 Files Processed in 11216 millisec\n",
      "8000 Files Processed in 10808 millisec\n",
      "9000 Files Processed in 13429 millisec\n",
      "10000 Files Processed in 12021 millisec\n",
      "11000 Files Processed in 11085 millisec\n",
      "12000 Files Processed in 10769 millisec\n",
      "13000 Files Processed in 10916 millisec\n",
      "14000 Files Processed in 10156 millisec\n",
      "14997\n",
      "1982\n"
     ]
    }
   ],
   "source": [
    "import time\n",
    "matrix = []\n",
    "st = time.time()\n",
    "for i in range(len(train_file_paths)) :\n",
    "    #if i == 2000:\n",
    "    #    break\n",
    "    if i % 1000 == 0 :\n",
    "        et = time.time()\n",
    "        print( i, \"Files Processed in\", int((time.time() - st)*1000) , \"millisec\")\n",
    "        st = time.time()    \n",
    "    path = train_file_paths[i]\n",
    "    target = train_file_class[i]\n",
    "    with open(path) as file :\n",
    "        X = []\n",
    "        count = {}\n",
    "        data = file.readlines()\n",
    "        words_in_file = (''.join(data)).split(' ')\n",
    "        for word in words_in_file:\n",
    "            if word in selected_words:\n",
    "                try:\n",
    "                    count[word] += 1\n",
    "                except:\n",
    "                    count[word] = 1\n",
    "        for word in selected_words:\n",
    "            try :\n",
    "                x = count[word] #X.append(count[word])\n",
    "            except :\n",
    "                count[word] = 0 #X.append(0)\n",
    "        #print(X)\n",
    "        X = [count[word] for word in selected_words if word in count] \n",
    "        #print(len(X))\n",
    "        matrix.append(X)\n",
    "        #X_train_df.iloc[i, :] = \n",
    "        file.close()\n",
    "print(len(matrix))\n",
    "print(len(matrix[0]))"
   ]
  },
  {
   "cell_type": "code",
   "execution_count": 51,
   "metadata": {
    "collapsed": true
   },
   "outputs": [],
   "source": [
    "X_train_df = pd.DataFrame(matrix, columns = selected_words)"
   ]
  },
  {
   "cell_type": "code",
   "execution_count": 52,
   "metadata": {},
   "outputs": [
    {
     "data": {
      "text/html": [
       "<div>\n",
       "<style>\n",
       "    .dataframe thead tr:only-child th {\n",
       "        text-align: right;\n",
       "    }\n",
       "\n",
       "    .dataframe thead th {\n",
       "        text-align: left;\n",
       "    }\n",
       "\n",
       "    .dataframe tbody tr th {\n",
       "        vertical-align: top;\n",
       "    }\n",
       "</style>\n",
       "<table border=\"1\" class=\"dataframe\">\n",
       "  <thead>\n",
       "    <tr style=\"text-align: right;\">\n",
       "      <th></th>\n",
       "      <th>path</th>\n",
       "      <th>subject</th>\n",
       "      <th>message</th>\n",
       "      <th>id</th>\n",
       "      <th>organization</th>\n",
       "      <th>date</th>\n",
       "      <th>tue</th>\n",
       "      <th>article</th>\n",
       "      <th>branch</th>\n",
       "      <th>reality</th>\n",
       "      <th>...</th>\n",
       "      <th>extreme</th>\n",
       "      <th>tor</th>\n",
       "      <th>assembly</th>\n",
       "      <th>mainly</th>\n",
       "      <th>rational</th>\n",
       "      <th>handgun</th>\n",
       "      <th>char</th>\n",
       "      <th>forced</th>\n",
       "      <th>cal</th>\n",
       "      <th>phi</th>\n",
       "    </tr>\n",
       "  </thead>\n",
       "  <tbody>\n",
       "    <tr>\n",
       "      <th>count</th>\n",
       "      <td>14997.000000</td>\n",
       "      <td>14997.000000</td>\n",
       "      <td>14997.000000</td>\n",
       "      <td>14997.000000</td>\n",
       "      <td>14997.000000</td>\n",
       "      <td>14997.000000</td>\n",
       "      <td>14997.000000</td>\n",
       "      <td>14997.00000</td>\n",
       "      <td>14997.000000</td>\n",
       "      <td>14997.000000</td>\n",
       "      <td>...</td>\n",
       "      <td>14997.000000</td>\n",
       "      <td>14997.000000</td>\n",
       "      <td>14997.000000</td>\n",
       "      <td>14997.000000</td>\n",
       "      <td>14997.000000</td>\n",
       "      <td>14997.000000</td>\n",
       "      <td>14997.000000</td>\n",
       "      <td>14997.000000</td>\n",
       "      <td>14997.000000</td>\n",
       "      <td>14997.000000</td>\n",
       "    </tr>\n",
       "    <tr>\n",
       "      <th>mean</th>\n",
       "      <td>0.050477</td>\n",
       "      <td>0.019537</td>\n",
       "      <td>0.058812</td>\n",
       "      <td>0.015536</td>\n",
       "      <td>0.009002</td>\n",
       "      <td>0.016270</td>\n",
       "      <td>0.112289</td>\n",
       "      <td>0.03514</td>\n",
       "      <td>0.008935</td>\n",
       "      <td>0.011402</td>\n",
       "      <td>...</td>\n",
       "      <td>0.004401</td>\n",
       "      <td>0.004334</td>\n",
       "      <td>0.004534</td>\n",
       "      <td>0.004334</td>\n",
       "      <td>0.004201</td>\n",
       "      <td>0.004801</td>\n",
       "      <td>0.006335</td>\n",
       "      <td>0.006401</td>\n",
       "      <td>0.002801</td>\n",
       "      <td>0.001134</td>\n",
       "    </tr>\n",
       "    <tr>\n",
       "      <th>std</th>\n",
       "      <td>0.234806</td>\n",
       "      <td>0.167608</td>\n",
       "      <td>0.320264</td>\n",
       "      <td>0.187176</td>\n",
       "      <td>0.106405</td>\n",
       "      <td>0.181872</td>\n",
       "      <td>0.321799</td>\n",
       "      <td>0.22872</td>\n",
       "      <td>0.117433</td>\n",
       "      <td>0.134938</td>\n",
       "      <td>...</td>\n",
       "      <td>0.068180</td>\n",
       "      <td>0.218313</td>\n",
       "      <td>0.095124</td>\n",
       "      <td>0.070587</td>\n",
       "      <td>0.097561</td>\n",
       "      <td>0.130569</td>\n",
       "      <td>0.497285</td>\n",
       "      <td>0.087718</td>\n",
       "      <td>0.063192</td>\n",
       "      <td>0.123029</td>\n",
       "    </tr>\n",
       "    <tr>\n",
       "      <th>min</th>\n",
       "      <td>0.000000</td>\n",
       "      <td>0.000000</td>\n",
       "      <td>0.000000</td>\n",
       "      <td>0.000000</td>\n",
       "      <td>0.000000</td>\n",
       "      <td>0.000000</td>\n",
       "      <td>0.000000</td>\n",
       "      <td>0.00000</td>\n",
       "      <td>0.000000</td>\n",
       "      <td>0.000000</td>\n",
       "      <td>...</td>\n",
       "      <td>0.000000</td>\n",
       "      <td>0.000000</td>\n",
       "      <td>0.000000</td>\n",
       "      <td>0.000000</td>\n",
       "      <td>0.000000</td>\n",
       "      <td>0.000000</td>\n",
       "      <td>0.000000</td>\n",
       "      <td>0.000000</td>\n",
       "      <td>0.000000</td>\n",
       "      <td>0.000000</td>\n",
       "    </tr>\n",
       "    <tr>\n",
       "      <th>25%</th>\n",
       "      <td>0.000000</td>\n",
       "      <td>0.000000</td>\n",
       "      <td>0.000000</td>\n",
       "      <td>0.000000</td>\n",
       "      <td>0.000000</td>\n",
       "      <td>0.000000</td>\n",
       "      <td>0.000000</td>\n",
       "      <td>0.00000</td>\n",
       "      <td>0.000000</td>\n",
       "      <td>0.000000</td>\n",
       "      <td>...</td>\n",
       "      <td>0.000000</td>\n",
       "      <td>0.000000</td>\n",
       "      <td>0.000000</td>\n",
       "      <td>0.000000</td>\n",
       "      <td>0.000000</td>\n",
       "      <td>0.000000</td>\n",
       "      <td>0.000000</td>\n",
       "      <td>0.000000</td>\n",
       "      <td>0.000000</td>\n",
       "      <td>0.000000</td>\n",
       "    </tr>\n",
       "    <tr>\n",
       "      <th>50%</th>\n",
       "      <td>0.000000</td>\n",
       "      <td>0.000000</td>\n",
       "      <td>0.000000</td>\n",
       "      <td>0.000000</td>\n",
       "      <td>0.000000</td>\n",
       "      <td>0.000000</td>\n",
       "      <td>0.000000</td>\n",
       "      <td>0.00000</td>\n",
       "      <td>0.000000</td>\n",
       "      <td>0.000000</td>\n",
       "      <td>...</td>\n",
       "      <td>0.000000</td>\n",
       "      <td>0.000000</td>\n",
       "      <td>0.000000</td>\n",
       "      <td>0.000000</td>\n",
       "      <td>0.000000</td>\n",
       "      <td>0.000000</td>\n",
       "      <td>0.000000</td>\n",
       "      <td>0.000000</td>\n",
       "      <td>0.000000</td>\n",
       "      <td>0.000000</td>\n",
       "    </tr>\n",
       "    <tr>\n",
       "      <th>75%</th>\n",
       "      <td>0.000000</td>\n",
       "      <td>0.000000</td>\n",
       "      <td>0.000000</td>\n",
       "      <td>0.000000</td>\n",
       "      <td>0.000000</td>\n",
       "      <td>0.000000</td>\n",
       "      <td>0.000000</td>\n",
       "      <td>0.00000</td>\n",
       "      <td>0.000000</td>\n",
       "      <td>0.000000</td>\n",
       "      <td>...</td>\n",
       "      <td>0.000000</td>\n",
       "      <td>0.000000</td>\n",
       "      <td>0.000000</td>\n",
       "      <td>0.000000</td>\n",
       "      <td>0.000000</td>\n",
       "      <td>0.000000</td>\n",
       "      <td>0.000000</td>\n",
       "      <td>0.000000</td>\n",
       "      <td>0.000000</td>\n",
       "      <td>0.000000</td>\n",
       "    </tr>\n",
       "    <tr>\n",
       "      <th>max</th>\n",
       "      <td>7.000000</td>\n",
       "      <td>7.000000</td>\n",
       "      <td>10.000000</td>\n",
       "      <td>12.000000</td>\n",
       "      <td>3.000000</td>\n",
       "      <td>8.000000</td>\n",
       "      <td>4.000000</td>\n",
       "      <td>8.00000</td>\n",
       "      <td>4.000000</td>\n",
       "      <td>4.000000</td>\n",
       "      <td>...</td>\n",
       "      <td>2.000000</td>\n",
       "      <td>24.000000</td>\n",
       "      <td>6.000000</td>\n",
       "      <td>2.000000</td>\n",
       "      <td>5.000000</td>\n",
       "      <td>12.000000</td>\n",
       "      <td>43.000000</td>\n",
       "      <td>3.000000</td>\n",
       "      <td>2.000000</td>\n",
       "      <td>15.000000</td>\n",
       "    </tr>\n",
       "  </tbody>\n",
       "</table>\n",
       "<p>8 rows × 1982 columns</p>\n",
       "</div>"
      ],
      "text/plain": [
       "               path       subject       message            id  organization  \\\n",
       "count  14997.000000  14997.000000  14997.000000  14997.000000  14997.000000   \n",
       "mean       0.050477      0.019537      0.058812      0.015536      0.009002   \n",
       "std        0.234806      0.167608      0.320264      0.187176      0.106405   \n",
       "min        0.000000      0.000000      0.000000      0.000000      0.000000   \n",
       "25%        0.000000      0.000000      0.000000      0.000000      0.000000   \n",
       "50%        0.000000      0.000000      0.000000      0.000000      0.000000   \n",
       "75%        0.000000      0.000000      0.000000      0.000000      0.000000   \n",
       "max        7.000000      7.000000     10.000000     12.000000      3.000000   \n",
       "\n",
       "               date           tue      article        branch       reality  \\\n",
       "count  14997.000000  14997.000000  14997.00000  14997.000000  14997.000000   \n",
       "mean       0.016270      0.112289      0.03514      0.008935      0.011402   \n",
       "std        0.181872      0.321799      0.22872      0.117433      0.134938   \n",
       "min        0.000000      0.000000      0.00000      0.000000      0.000000   \n",
       "25%        0.000000      0.000000      0.00000      0.000000      0.000000   \n",
       "50%        0.000000      0.000000      0.00000      0.000000      0.000000   \n",
       "75%        0.000000      0.000000      0.00000      0.000000      0.000000   \n",
       "max        8.000000      4.000000      8.00000      4.000000      4.000000   \n",
       "\n",
       "           ...            extreme           tor      assembly        mainly  \\\n",
       "count      ...       14997.000000  14997.000000  14997.000000  14997.000000   \n",
       "mean       ...           0.004401      0.004334      0.004534      0.004334   \n",
       "std        ...           0.068180      0.218313      0.095124      0.070587   \n",
       "min        ...           0.000000      0.000000      0.000000      0.000000   \n",
       "25%        ...           0.000000      0.000000      0.000000      0.000000   \n",
       "50%        ...           0.000000      0.000000      0.000000      0.000000   \n",
       "75%        ...           0.000000      0.000000      0.000000      0.000000   \n",
       "max        ...           2.000000     24.000000      6.000000      2.000000   \n",
       "\n",
       "           rational       handgun          char        forced           cal  \\\n",
       "count  14997.000000  14997.000000  14997.000000  14997.000000  14997.000000   \n",
       "mean       0.004201      0.004801      0.006335      0.006401      0.002801   \n",
       "std        0.097561      0.130569      0.497285      0.087718      0.063192   \n",
       "min        0.000000      0.000000      0.000000      0.000000      0.000000   \n",
       "25%        0.000000      0.000000      0.000000      0.000000      0.000000   \n",
       "50%        0.000000      0.000000      0.000000      0.000000      0.000000   \n",
       "75%        0.000000      0.000000      0.000000      0.000000      0.000000   \n",
       "max        5.000000     12.000000     43.000000      3.000000      2.000000   \n",
       "\n",
       "                phi  \n",
       "count  14997.000000  \n",
       "mean       0.001134  \n",
       "std        0.123029  \n",
       "min        0.000000  \n",
       "25%        0.000000  \n",
       "50%        0.000000  \n",
       "75%        0.000000  \n",
       "max       15.000000  \n",
       "\n",
       "[8 rows x 1982 columns]"
      ]
     },
     "execution_count": 52,
     "metadata": {},
     "output_type": "execute_result"
    }
   ],
   "source": [
    "X_train_df.describe()"
   ]
  },
  {
   "cell_type": "code",
   "execution_count": 53,
   "metadata": {},
   "outputs": [
    {
     "name": "stdout",
     "output_type": "stream",
     "text": [
      "(14997, 1982)\n",
      "(14997,)\n"
     ]
    }
   ],
   "source": [
    "import copy\n",
    "X_train = X_train_df.values\n",
    "Y_train = copy.deepcopy(train_file_class)\n",
    "print(X_train.shape)\n",
    "print(Y_train.shape)"
   ]
  },
  {
   "cell_type": "code",
   "execution_count": 54,
   "metadata": {
    "collapsed": true
   },
   "outputs": [],
   "source": [
    "dataset = pd.DataFrame(X_train_df)\n",
    "dataset['target'] = Y_train\n",
    "dataset.to_csv(\"20_newsgroups_dataset_16321_100.csv\", index = False)"
   ]
  },
  {
   "cell_type": "code",
   "execution_count": 16,
   "metadata": {
    "collapsed": true
   },
   "outputs": [],
   "source": []
  },
  {
   "cell_type": "code",
   "execution_count": 17,
   "metadata": {},
   "outputs": [
    {
     "name": "stderr",
     "output_type": "stream",
     "text": [
      "C:\\ProgramData\\Anaconda3\\lib\\site-packages\\sklearn\\utils\\validation.py:475: DataConversionWarning: Data with input dtype int64 was converted to float64 by MinMaxScaler.\n",
      "  warnings.warn(msg, DataConversionWarning)\n"
     ]
    }
   ],
   "source": []
  },
  {
   "cell_type": "code",
   "execution_count": null,
   "metadata": {
    "collapsed": true
   },
   "outputs": [],
   "source": []
  },
  {
   "cell_type": "code",
   "execution_count": 55,
   "metadata": {},
   "outputs": [
    {
     "data": {
      "text/plain": [
       "MultinomialNB(alpha=0.01, class_prior=None, fit_prior=True)"
      ]
     },
     "execution_count": 55,
     "metadata": {},
     "output_type": "execute_result"
    }
   ],
   "source": [
    "\n",
    "from sklearn.naive_bayes import MultinomialNB\n",
    "model = MultinomialNB(alpha = 0.01)\n",
    "model.fit(X_train, Y_train)"
   ]
  },
  {
   "cell_type": "code",
   "execution_count": 56,
   "metadata": {
    "scrolled": true
   },
   "outputs": [
    {
     "name": "stdout",
     "output_type": "stream",
     "text": [
      "0.780422751217\n"
     ]
    }
   ],
   "source": [
    "print(model.score(X_train, Y_train))"
   ]
  },
  {
   "cell_type": "code",
   "execution_count": 57,
   "metadata": {
    "collapsed": true
   },
   "outputs": [],
   "source": [
    "from sklearn.metrics import confusion_matrix"
   ]
  },
  {
   "cell_type": "code",
   "execution_count": 58,
   "metadata": {
    "collapsed": true
   },
   "outputs": [],
   "source": [
    "Y_pred = model.predict(X_train)"
   ]
  },
  {
   "cell_type": "code",
   "execution_count": 59,
   "metadata": {},
   "outputs": [
    {
     "name": "stdout",
     "output_type": "stream",
     "text": [
      "array([[709,   0,   0,   0,   0,   0,   0,   0,   0,   0,   0,   0,   0,\n",
      "          0,   0,   0,   0,   0,   0,   0],\n",
      "       [  9, 627,   3,   7,   2,   0,   0,   0,   0,   0,   0,   0,   0,\n",
      "          0,   0,   0,   0,   0,   0,   0],\n",
      "       [  4,   4, 554,   2,   9,   0,   0,   0,   0,   1,   0,   0,   1,\n",
      "          7,   0,   1,   0,   1,   0,   0],\n",
      "       [ 13,  17,   9, 544,   6,  12,  13,   7,   2,   1,   4,   2,   0,\n",
      "          1,   0,   0,   1,   0,   0,   0],\n",
      "       [  2,   4,  26,   1, 422,   3,   0,   0,   2,   1,   0,   0,  13,\n",
      "         18,   0,   4,   1,   0,   0,   0],\n",
      "       [ 11,   0,   2,   2,   2, 488,   6,   0,   1,   0,   0,   0,   1,\n",
      "          0,   0,   0,   3,   1,   0,   5],\n",
      "       [  7,   6,   2,  51,   4,  19, 546,   1,   2,   1,  18,   1,   0,\n",
      "          0,   0,   0,   8,   0,   0,  11],\n",
      "       [  1,  18,   6,  20,   6,   6,  12, 578,   6,   5,   9,   1,   2,\n",
      "          4,   0,   0,   1,   0,   0,   0],\n",
      "       [  1,   9,   4,   6,   6,  10,   5,   3, 597,   1,   6,   3,   5,\n",
      "          7,   0,   1,   5,   0,   0,   0],\n",
      "       [  1,   7,  21,   2,  42,   1,   0,   7,   2, 584,   0,  12,   7,\n",
      "         54,   2,   2,   0,   2,   2,   0],\n",
      "       [  1,   8,   4,  16,   5,  18,  36,  31,  12,  10, 572,  14,   3,\n",
      "          3,   1,   2,   6,   4,   1,   1],\n",
      "       [  1,   3,   9,   6,   4,   9,   8,   3,   3,  16,   3, 633,   1,\n",
      "          0,   0,   2,   1,   0,   0,   1],\n",
      "       [  0,   1,  17,   4, 127,   8,   3,   2,  17,  20,   2,   3, 606,\n",
      "         25,   1,  33,   2,  11,   3,   2],\n",
      "       [  0,   0,  18,   4,  59,   2,   0,   3,  12,  39,   1,  10,   8,\n",
      "        500,   2,   4,   1,   1,   0,   1],\n",
      "       [  2,   6,   9,  13,  11,   8,   6,  15,   7,  12,   9,   6,  10,\n",
      "         10, 647,   2,   4,   6,   9,   0],\n",
      "       [  0,   0,   3,   1,  16,   0,   1,   0,   1,   4,   0,   0,  21,\n",
      "         14,   1, 610,   0,   1,   0,   0],\n",
      "       [  1,   3,  11,  21,  12,  93,  37,  12,  22,   3,  35,  22,   3,\n",
      "          5,   1,   3, 490,  18,   1,  25],\n",
      "       [  1,   0,   8,   4,  19,  11,   8,  12,  13,  11,  11,   8,  17,\n",
      "         40,   3,  32,  10, 608,   2,   0],\n",
      "       [  0,   3,   7,  10,   7,   2,  13,  23,  28,  21,  21,   6,  29,\n",
      "         36,  83,  20,  28,  26, 692,   8],\n",
      "       [  0,   0,   6,  25,   5,  70,  66,  34,  27,  21,  65,  46,  40,\n",
      "         17,  28,  29, 186,  65,  42, 697]], dtype=int64)\n"
     ]
    }
   ],
   "source": [
    "from pprint import pprint\n",
    "pprint(confusion_matrix(Y_pred, Y_train))"
   ]
  },
  {
   "cell_type": "code",
   "execution_count": 60,
   "metadata": {},
   "outputs": [
    {
     "name": "stdout",
     "output_type": "stream",
     "text": [
      "0 : 764\n",
      "1 : 716\n",
      "2 : 719\n",
      "3 : 739\n",
      "4 : 764\n",
      "5 : 760\n",
      "6 : 760\n",
      "7 : 731\n",
      "8 : 754\n",
      "9 : 751\n",
      "10 : 756\n",
      "11 : 767\n",
      "12 : 767\n",
      "13 : 741\n",
      "14 : 769\n",
      "15 : 745\n",
      "16 : 747\n",
      "17 : 744\n",
      "18 : 752\n",
      "19 : 751\n"
     ]
    }
   ],
   "source": [
    "for target in set(Y_train):\n",
    "    print(target, \":\", (Y_train == target).sum())"
   ]
  },
  {
   "cell_type": "code",
   "execution_count": 61,
   "metadata": {},
   "outputs": [
    {
     "name": "stdout",
     "output_type": "stream",
     "text": [
      "             precision    recall  f1-score   support\n",
      "\n",
      "          0       0.93      1.00      0.96       709\n",
      "          1       0.88      0.97      0.92       648\n",
      "          2       0.77      0.95      0.85       584\n",
      "          3       0.74      0.86      0.79       632\n",
      "          4       0.55      0.85      0.67       497\n",
      "          5       0.64      0.93      0.76       522\n",
      "          6       0.72      0.81      0.76       677\n",
      "          7       0.79      0.86      0.82       675\n",
      "          8       0.79      0.89      0.84       669\n",
      "          9       0.78      0.78      0.78       748\n",
      "         10       0.76      0.76      0.76       748\n",
      "         11       0.83      0.90      0.86       703\n",
      "         12       0.79      0.68      0.73       887\n",
      "         13       0.67      0.75      0.71       665\n",
      "         14       0.84      0.82      0.83       792\n",
      "         15       0.82      0.91      0.86       673\n",
      "         16       0.66      0.60      0.63       818\n",
      "         17       0.82      0.74      0.78       818\n",
      "         18       0.92      0.65      0.76      1063\n",
      "         19       0.93      0.47      0.63      1469\n",
      "\n",
      "avg / total       0.80      0.78      0.78     14997\n",
      "\n"
     ]
    }
   ],
   "source": [
    "from sklearn.metrics import classification_report\n",
    "print(classification_report(Y_pred, Y_train))"
   ]
  },
  {
   "cell_type": "code",
   "execution_count": 72,
   "metadata": {
    "collapsed": true
   },
   "outputs": [],
   "source": [
    "import _pickle as pickle"
   ]
  },
  {
   "cell_type": "code",
   "execution_count": 112,
   "metadata": {
    "collapsed": true
   },
   "outputs": [],
   "source": [
    "model_data = {}\n",
    "model_data['model'] = model\n",
    "model_data['max_freq'] = max_allowed_freq\n",
    "model_data['min_freq'] = min_allowed_freq\n",
    "with open(\"multinomial_naive_bayes_\" + str(max_allowed_freq) + \"_\" + str(min_allowed_freq) + \".sav\", 'wb') as model_file :\n",
    "    pickle.dump(model_data, model_file )\n",
    "    model_file.close()"
   ]
  },
  {
   "cell_type": "code",
   "execution_count": null,
   "metadata": {
    "collapsed": true
   },
   "outputs": [],
   "source": []
  }
 ],
 "metadata": {
  "kernelspec": {
   "display_name": "Python 3",
   "language": "python",
   "name": "python3"
  },
  "language_info": {
   "codemirror_mode": {
    "name": "ipython",
    "version": 3
   },
   "file_extension": ".py",
   "mimetype": "text/x-python",
   "name": "python",
   "nbconvert_exporter": "python",
   "pygments_lexer": "ipython3",
   "version": "3.6.3"
  }
 },
 "nbformat": 4,
 "nbformat_minor": 2
}
