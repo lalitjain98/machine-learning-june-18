{
 "cells": [
  {
   "cell_type": "code",
   "execution_count": 1,
   "metadata": {},
   "outputs": [
    {
     "name": "stderr",
     "output_type": "stream",
     "text": [
      "Using TensorFlow backend.\n"
     ]
    }
   ],
   "source": [
    "from keras.models import Sequential\n",
    "from keras.layers import Dense"
   ]
  },
  {
   "cell_type": "code",
   "execution_count": 2,
   "metadata": {
    "collapsed": true
   },
   "outputs": [],
   "source": [
    "# creating model\n",
    "model = Sequential()"
   ]
  },
  {
   "cell_type": "code",
   "execution_count": 3,
   "metadata": {},
   "outputs": [],
   "source": [
    "layer1 = Dense(units = 32, activation = 'relu', input_dim = 30)\n",
    "model.add(layer1)\n",
    "model.add(Dense(units = 16, activation= 'relu'))\n",
    "model.add(Dense(units = 1, activation = 'sigmoid'))"
   ]
  },
  {
   "cell_type": "code",
   "execution_count": 5,
   "metadata": {},
   "outputs": [
    {
     "data": {
      "text/plain": [
       "[{'class_name': 'Dense',\n",
       "  'config': {'activation': 'relu',\n",
       "   'activity_regularizer': None,\n",
       "   'batch_input_shape': (None, 30),\n",
       "   'bias_constraint': None,\n",
       "   'bias_initializer': {'class_name': 'Zeros', 'config': {}},\n",
       "   'bias_regularizer': None,\n",
       "   'dtype': 'float32',\n",
       "   'kernel_constraint': None,\n",
       "   'kernel_initializer': {'class_name': 'VarianceScaling',\n",
       "    'config': {'distribution': 'uniform',\n",
       "     'mode': 'fan_avg',\n",
       "     'scale': 1.0,\n",
       "     'seed': None}},\n",
       "   'kernel_regularizer': None,\n",
       "   'name': 'dense_1',\n",
       "   'trainable': True,\n",
       "   'units': 32,\n",
       "   'use_bias': True}},\n",
       " {'class_name': 'Dense',\n",
       "  'config': {'activation': 'relu',\n",
       "   'activity_regularizer': None,\n",
       "   'bias_constraint': None,\n",
       "   'bias_initializer': {'class_name': 'Zeros', 'config': {}},\n",
       "   'bias_regularizer': None,\n",
       "   'kernel_constraint': None,\n",
       "   'kernel_initializer': {'class_name': 'VarianceScaling',\n",
       "    'config': {'distribution': 'uniform',\n",
       "     'mode': 'fan_avg',\n",
       "     'scale': 1.0,\n",
       "     'seed': None}},\n",
       "   'kernel_regularizer': None,\n",
       "   'name': 'dense_2',\n",
       "   'trainable': True,\n",
       "   'units': 16,\n",
       "   'use_bias': True}},\n",
       " {'class_name': 'Dense',\n",
       "  'config': {'activation': 'sigmoid',\n",
       "   'activity_regularizer': None,\n",
       "   'bias_constraint': None,\n",
       "   'bias_initializer': {'class_name': 'Zeros', 'config': {}},\n",
       "   'bias_regularizer': None,\n",
       "   'kernel_constraint': None,\n",
       "   'kernel_initializer': {'class_name': 'VarianceScaling',\n",
       "    'config': {'distribution': 'uniform',\n",
       "     'mode': 'fan_avg',\n",
       "     'scale': 1.0,\n",
       "     'seed': None}},\n",
       "   'kernel_regularizer': None,\n",
       "   'name': 'dense_3',\n",
       "   'trainable': True,\n",
       "   'units': 1,\n",
       "   'use_bias': True}}]"
      ]
     },
     "execution_count": 5,
     "metadata": {},
     "output_type": "execute_result"
    }
   ],
   "source": [
    "#from pprint import pprint as print\n",
    "(model.get_config())"
   ]
  },
  {
   "cell_type": "code",
   "execution_count": 7,
   "metadata": {},
   "outputs": [],
   "source": [
    "model.compile(optimizer='adam', loss='binary_crossentropy', metrics=['accuracy'])"
   ]
  },
  {
   "cell_type": "code",
   "execution_count": 9,
   "metadata": {
    "collapsed": true
   },
   "outputs": [],
   "source": [
    "from sklearn import datasets\n",
    "from sklearn.model_selection import train_test_split\n",
    "from sklearn.preprocessing import StandardScaler"
   ]
  },
  {
   "cell_type": "code",
   "execution_count": 10,
   "metadata": {
    "collapsed": true
   },
   "outputs": [],
   "source": [
    "ds = datasets.load_breast_cancer()\n",
    "X_train, X_test, Y_train, Y_test = train_test_split(ds.data, ds.target, random_state = 0)"
   ]
  },
  {
   "cell_type": "code",
   "execution_count": 11,
   "metadata": {
    "collapsed": true
   },
   "outputs": [],
   "source": [
    "scaler = StandardScaler()\n",
    "X_train_scaled = scaler.fit_transform(X_train)\n",
    "X_test_Scaled = scaler.transform(X_test)"
   ]
  },
  {
   "cell_type": "code",
   "execution_count": 12,
   "metadata": {},
   "outputs": [
    {
     "name": "stdout",
     "output_type": "stream",
     "text": [
      "Epoch 1/1\n",
      "426/426 [==============================] - 2s 4ms/step - loss: 0.5766 - acc: 0.7512\n"
     ]
    },
    {
     "data": {
      "text/plain": [
       "<keras.callbacks.History at 0x26971225710>"
      ]
     },
     "execution_count": 12,
     "metadata": {},
     "output_type": "execute_result"
    }
   ],
   "source": [
    "model.fit(X_train_scaled, Y_train)"
   ]
  },
  {
   "cell_type": "code",
   "execution_count": 14,
   "metadata": {},
   "outputs": [
    {
     "name": "stdout",
     "output_type": "stream",
     "text": [
      "Epoch 1/20\n",
      "426/426 [==============================] - 0s 59us/step - loss: 0.0538 - acc: 0.9859\n",
      "Epoch 2/20\n",
      "426/426 [==============================] - 0s 54us/step - loss: 0.0518 - acc: 0.9859\n",
      "Epoch 3/20\n",
      "426/426 [==============================] - 0s 49us/step - loss: 0.0500 - acc: 0.9859\n",
      "Epoch 4/20\n",
      "426/426 [==============================] - 0s 47us/step - loss: 0.0483 - acc: 0.9859\n",
      "Epoch 5/20\n",
      "426/426 [==============================] - 0s 54us/step - loss: 0.0467 - acc: 0.9859\n",
      "Epoch 6/20\n",
      "426/426 [==============================] - 0s 68us/step - loss: 0.0454 - acc: 0.9859\n",
      "Epoch 7/20\n",
      "426/426 [==============================] - 0s 52us/step - loss: 0.0439 - acc: 0.9906\n",
      "Epoch 8/20\n",
      "426/426 [==============================] - 0s 66us/step - loss: 0.0424 - acc: 0.9906\n",
      "Epoch 9/20\n",
      "426/426 [==============================] - 0s 98us/step - loss: 0.0412 - acc: 0.9906\n",
      "Epoch 10/20\n",
      "426/426 [==============================] - 0s 70us/step - loss: 0.0394 - acc: 0.9883\n",
      "Epoch 11/20\n",
      "426/426 [==============================] - 0s 59us/step - loss: 0.0390 - acc: 0.9883\n",
      "Epoch 12/20\n",
      "426/426 [==============================] - 0s 56us/step - loss: 0.0379 - acc: 0.9883\n",
      "Epoch 13/20\n",
      "426/426 [==============================] - 0s 89us/step - loss: 0.0360 - acc: 0.9906\n",
      "Epoch 14/20\n",
      "426/426 [==============================] - 0s 89us/step - loss: 0.0346 - acc: 0.9906\n",
      "Epoch 15/20\n",
      "426/426 [==============================] - 0s 68us/step - loss: 0.0336 - acc: 0.9906\n",
      "Epoch 16/20\n",
      "426/426 [==============================] - 0s 77us/step - loss: 0.0325 - acc: 0.9906\n",
      "Epoch 17/20\n",
      "426/426 [==============================] - 0s 73us/step - loss: 0.0312 - acc: 0.9906\n",
      "Epoch 18/20\n",
      "426/426 [==============================] - 0s 82us/step - loss: 0.0304 - acc: 0.9906\n",
      "Epoch 19/20\n",
      "426/426 [==============================] - 0s 117us/step - loss: 0.0293 - acc: 0.9906\n",
      "Epoch 20/20\n",
      "426/426 [==============================] - 0s 82us/step - loss: 0.0285 - acc: 0.9906\n"
     ]
    },
    {
     "data": {
      "text/plain": [
       "<keras.callbacks.History at 0x26977d71be0>"
      ]
     },
     "execution_count": 14,
     "metadata": {},
     "output_type": "execute_result"
    }
   ],
   "source": [
    "model.fit(X_train_scaled, Y_train, epochs=20)"
   ]
  },
  {
   "cell_type": "code",
   "execution_count": null,
   "metadata": {
    "collapsed": true
   },
   "outputs": [],
   "source": []
  }
 ],
 "metadata": {
  "kernelspec": {
   "display_name": "Python 3",
   "language": "python",
   "name": "python3"
  },
  "language_info": {
   "codemirror_mode": {
    "name": "ipython",
    "version": 3
   },
   "file_extension": ".py",
   "mimetype": "text/x-python",
   "name": "python",
   "nbconvert_exporter": "python",
   "pygments_lexer": "ipython3",
   "version": "3.6.3"
  }
 },
 "nbformat": 4,
 "nbformat_minor": 2
}
