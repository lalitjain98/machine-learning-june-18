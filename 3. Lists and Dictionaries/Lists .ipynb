{
 "cells": [
  {
   "cell_type": "markdown",
   "metadata": {},
   "source": [
    "## Lists \n",
    "    A list is a collection of elements\n",
    "    Tuples are also collection of elements/data\n",
    "    Tuples are immutable.\n",
    "    Whereas lists are alterable"
   ]
  },
  {
   "cell_type": "code",
   "execution_count": 3,
   "metadata": {},
   "outputs": [
    {
     "name": "stdout",
     "output_type": "stream",
     "text": [
      "<class 'list'>\n",
      "[1, 2, 3]\n",
      "[]\n",
      "[1, 2, 3]\n",
      "[0, 0, 0, 0, 0, 0, 0, 0, 0, 0]\n",
      "[0, 1, 2, 3, 4, 5, 6, 7, 8, 9]\n",
      "[0, 1, 4, 9, 16, 25, 36, 49, 64, 81]\n",
      "[1, 2.5, 'Hello', True]\n"
     ]
    }
   ],
   "source": [
    "a = [1, 2, 3]\n",
    "print(type(a))\n",
    "\n",
    "b = list()\n",
    "\n",
    "c = list(a)\n",
    "\n",
    "print(a)\n",
    "print(b)\n",
    "print(c)\n",
    "\n",
    "d = [0 for i in range(10)]\n",
    "print(d)\n",
    "e = [i for i in range(10)]\n",
    "print(e)\n",
    "f = [i * i for i in range(10)]\n",
    "print(f)\n",
    "\n",
    "g = [1, 2.5, \"Hello\", True]\n",
    "print(g)"
   ]
  },
  {
   "cell_type": "code",
   "execution_count": 6,
   "metadata": {},
   "outputs": [
    {
     "name": "stdout",
     "output_type": "stream",
     "text": [
      "[1, 2, 3]\n",
      "1\n",
      "2\n",
      "3\n",
      "2\n"
     ]
    }
   ],
   "source": [
    "# indexing works well, even negative indices\n",
    "print(a)\n",
    "print(a[0])\n",
    "print(a[1])\n",
    "print(a[-1])\n",
    "print(a[-2])\n"
   ]
  },
  {
   "cell_type": "code",
   "execution_count": 9,
   "metadata": {},
   "outputs": [
    {
     "name": "stdout",
     "output_type": "stream",
     "text": [
      "3\n",
      "1\n",
      "2\n",
      "3\n"
     ]
    }
   ],
   "source": [
    "# properties of lists\n",
    "print(len(a))\n",
    "\n",
    "# fast iteration\n",
    "for i in a :\n",
    "    print(i)"
   ]
  },
  {
   "cell_type": "code",
   "execution_count": 10,
   "metadata": {},
   "outputs": [
    {
     "name": "stdout",
     "output_type": "stream",
     "text": [
      "Enter input 1 2 3 4\n",
      "1 2 3 4\n",
      "['1', '2', '3', '4']\n",
      "1 2 3 4\n",
      "[1, 2, 3, 4]\n"
     ]
    }
   ],
   "source": [
    "# user input in lists\n",
    "# Input stream: 1 2 3 4 5 6\n",
    "s1 = input(\"Enter input \")\n",
    "print(s1)\n",
    "\n",
    "l1 = s1.split(\" \")\n",
    "print(a1)\n",
    "\n",
    "s2 = input().strip()\n",
    "l2 = s2.split(\" \")\n",
    "\n",
    "for i in range(len(l2)):\n",
    "    l2[i] = int(l2[i])\n",
    "print(l2)"
   ]
  },
  {
   "cell_type": "code",
   "execution_count": 12,
   "metadata": {
    "scrolled": true
   },
   "outputs": [
    {
     "name": "stdout",
     "output_type": "stream",
     "text": [
      "1 2 3 4 55 66  7  7\n"
     ]
    },
    {
     "ename": "ValueError",
     "evalue": "invalid literal for int() with base 10: ''",
     "output_type": "error",
     "traceback": [
      "\u001b[1;31m---------------------------------------------------------------------------\u001b[0m",
      "\u001b[1;31mValueError\u001b[0m                                Traceback (most recent call last)",
      "\u001b[1;32m<ipython-input-12-7eb6e638d821>\u001b[0m in \u001b[0;36m<module>\u001b[1;34m()\u001b[0m\n\u001b[1;32m----> 1\u001b[1;33m \u001b[0ml\u001b[0m \u001b[1;33m=\u001b[0m \u001b[1;33m[\u001b[0m\u001b[0mint\u001b[0m\u001b[1;33m(\u001b[0m\u001b[0mx\u001b[0m\u001b[1;33m.\u001b[0m\u001b[0mstrip\u001b[0m\u001b[1;33m(\u001b[0m\u001b[1;33m)\u001b[0m\u001b[1;33m)\u001b[0m \u001b[1;32mfor\u001b[0m \u001b[0mx\u001b[0m \u001b[1;32min\u001b[0m \u001b[0minput\u001b[0m\u001b[1;33m(\u001b[0m\u001b[1;33m)\u001b[0m\u001b[1;33m.\u001b[0m\u001b[0mstrip\u001b[0m\u001b[1;33m(\u001b[0m\u001b[1;33m)\u001b[0m\u001b[1;33m.\u001b[0m\u001b[0msplit\u001b[0m\u001b[1;33m(\u001b[0m\u001b[1;34m\" \"\u001b[0m\u001b[1;33m)\u001b[0m\u001b[1;33m]\u001b[0m\u001b[1;33m\u001b[0m\u001b[0m\n\u001b[0m\u001b[0;32m      2\u001b[0m \u001b[0ml\u001b[0m\u001b[1;33m\u001b[0m\u001b[0m\n",
      "\u001b[1;32m<ipython-input-12-7eb6e638d821>\u001b[0m in \u001b[0;36m<listcomp>\u001b[1;34m(.0)\u001b[0m\n\u001b[1;32m----> 1\u001b[1;33m \u001b[0ml\u001b[0m \u001b[1;33m=\u001b[0m \u001b[1;33m[\u001b[0m\u001b[0mint\u001b[0m\u001b[1;33m(\u001b[0m\u001b[0mx\u001b[0m\u001b[1;33m.\u001b[0m\u001b[0mstrip\u001b[0m\u001b[1;33m(\u001b[0m\u001b[1;33m)\u001b[0m\u001b[1;33m)\u001b[0m \u001b[1;32mfor\u001b[0m \u001b[0mx\u001b[0m \u001b[1;32min\u001b[0m \u001b[0minput\u001b[0m\u001b[1;33m(\u001b[0m\u001b[1;33m)\u001b[0m\u001b[1;33m.\u001b[0m\u001b[0mstrip\u001b[0m\u001b[1;33m(\u001b[0m\u001b[1;33m)\u001b[0m\u001b[1;33m.\u001b[0m\u001b[0msplit\u001b[0m\u001b[1;33m(\u001b[0m\u001b[1;34m\" \"\u001b[0m\u001b[1;33m)\u001b[0m\u001b[1;33m]\u001b[0m\u001b[1;33m\u001b[0m\u001b[0m\n\u001b[0m\u001b[0;32m      2\u001b[0m \u001b[0ml\u001b[0m\u001b[1;33m\u001b[0m\u001b[0m\n",
      "\u001b[1;31mValueError\u001b[0m: invalid literal for int() with base 10: ''"
     ]
    }
   ],
   "source": [
    "l = [int(x) for x in input().strip().split(\" \")]\n",
    "l"
   ]
  },
  {
   "cell_type": "code",
   "execution_count": 18,
   "metadata": {},
   "outputs": [
    {
     "data": {
      "text/plain": [
       "['h', 'e', 'l', 'l', 'o']"
      ]
     },
     "execution_count": 18,
     "metadata": {},
     "output_type": "execute_result"
    }
   ],
   "source": [
    "list('hello')"
   ]
  },
  {
   "cell_type": "code",
   "execution_count": 38,
   "metadata": {},
   "outputs": [
    {
     "name": "stdout",
     "output_type": "stream",
     "text": [
      "[1, 'abc', '3']\n",
      "[1, 'abc', '3', True]\n",
      "[1, 'abc', 'hello', '3', True]\n",
      "[False, 1, 'abc', 'hello', '3', True]\n",
      "[1, 'abc', '3', True]\n"
     ]
    }
   ],
   "source": [
    "# Operations on list\n",
    "## Add elements to a list\n",
    "\n",
    "l = [1,\"abc\",\"3\"]\n",
    "print(l)\n",
    "l.append(True) # add to end of list\n",
    "print(l)\n",
    "\n",
    "l2 = list()\n",
    "l2.extend(l) # add all elements of l to l2\n",
    "\n",
    "l.insert(2, \"hello\") # add at a position(index) \n",
    "print(l)\n",
    "l.insert(0, False) #all other element shift\n",
    "\n",
    "print(l)\n",
    "print(l2)"
   ]
  },
  {
   "cell_type": "code",
   "execution_count": 49,
   "metadata": {},
   "outputs": [
    {
     "name": "stdout",
     "output_type": "stream",
     "text": [
      "[False, 1, 5, 'hello', '3']\n",
      "[False, 1, 5, 'hello']\n",
      "[False, 1, 'hello']\n",
      "[5, False, 1, 'hello']\n",
      "[5, False, 1, 5, 'hello']\n",
      "[False, 1, 5, 'hello']\n",
      "[False, 1, 'hello']\n",
      "[False, 1, 'hello', False, 1, 5, 'hello', '3']\n",
      "[False, 1, 5, 'hello', '3']\n"
     ]
    }
   ],
   "source": [
    "# removing elements\n",
    "l3 = list(l)\n",
    "print(l3)\n",
    "l3.pop() # remove last element\n",
    "print(l3)\n",
    "l3.pop(2) # remove element at index 2\n",
    "print(l3)\n",
    "l3.insert(0,5) \n",
    "print(l3)\n",
    "l3.insert(3,5)\n",
    "print(l3)\n",
    "l3.remove(5) # remove first occurence of 5\n",
    "print(l3)\n",
    "del l3[2] # remove element at index 2\n",
    "print(l3)\n",
    "l3.extend(l)\n",
    "print(l3)\n",
    "del l3[1:4] # remove elements in range [start:end)\n",
    "print(l3)"
   ]
  },
  {
   "cell_type": "code",
   "execution_count": 53,
   "metadata": {},
   "outputs": [
    {
     "data": {
      "text/plain": [
       "[0, 1, 2, 3, 4, 0, 1, 2, 3, 4]"
      ]
     },
     "execution_count": 53,
     "metadata": {},
     "output_type": "execute_result"
    }
   ],
   "source": [
    "l4 = list(range(5))\n",
    "# addition operation does not \n",
    "# apply for element addition\n",
    "# l + 3\n",
    "\n",
    "#multiplication is possible\n",
    "\n",
    "l4*2"
   ]
  },
  {
   "cell_type": "code",
   "execution_count": 57,
   "metadata": {},
   "outputs": [
    {
     "name": "stdout",
     "output_type": "stream",
     "text": [
      "[1, 1, 1, 2, 7, 8, 9, 9, 20, 79]\n",
      "3\n",
      "9\n",
      "[79, 20, 9, 9, 8, 7, 2, 1, 1, 1]\n",
      "True\n",
      "79\n",
      "1\n"
     ]
    }
   ],
   "source": [
    "# some more functions\n",
    "l5 = [8, 9, 1, 2, 1, 79, 1, 7, 20, 9]\n",
    "\n",
    "l5.sort()\n",
    "print(l5)\n",
    "\n",
    "print(l5.count(1))\n",
    "print(l5.index(79))\n",
    "\n",
    "l5.reverse()\n",
    "print(l5)\n",
    "\n",
    "# we can ask 9 in l5\n",
    "print(9 in l5)\n",
    "\n",
    "print(max(l5))\n",
    "print(min(l5))"
   ]
  },
  {
   "cell_type": "code",
   "execution_count": 62,
   "metadata": {},
   "outputs": [
    {
     "name": "stdout",
     "output_type": "stream",
     "text": [
      "7 \n",
      "7 2 49 5 2 5 2\n",
      "[49, 7, 5, 5, 2, 2, 2]\n"
     ]
    }
   ],
   "source": [
    "n = int(input())\n",
    "arr = [int(i) for i in input().strip().split(\" \")]\n",
    "for i in range(n):\n",
    "    min_index = 0\n",
    "    for j in range(n-i):\n",
    "        if arr[min_index] > arr[j]:\n",
    "            min_index = j\n",
    "    t = arr[min_index]\n",
    "    arr[min_index] = arr[j]\n",
    "    arr[j] = t\n",
    "print(arr)"
   ]
  },
  {
   "cell_type": "code",
   "execution_count": 3,
   "metadata": {},
   "outputs": [
    {
     "data": {
      "text/plain": [
       "45"
      ]
     },
     "execution_count": 3,
     "metadata": {},
     "output_type": "execute_result"
    }
   ],
   "source": [
    "import numpy as np\n",
    "a = np.array(range(10))\n",
    "a.sum()"
   ]
  }
 ],
 "metadata": {
  "kernelspec": {
   "display_name": "Python 3",
   "language": "python",
   "name": "python3"
  },
  "language_info": {
   "codemirror_mode": {
    "name": "ipython",
    "version": 3
   },
   "file_extension": ".py",
   "mimetype": "text/x-python",
   "name": "python",
   "nbconvert_exporter": "python",
   "pygments_lexer": "ipython3",
   "version": "3.6.3"
  }
 },
 "nbformat": 4,
 "nbformat_minor": 2
}
