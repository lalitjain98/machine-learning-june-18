{
 "cells": [
  {
   "cell_type": "code",
   "execution_count": 93,
   "metadata": {},
   "outputs": [
    {
     "data": {
      "text/plain": [
       "'\\nBuild Dataset\\n'"
      ]
     },
     "execution_count": 93,
     "metadata": {},
     "output_type": "execute_result"
    }
   ],
   "source": [
    "\"\"\"\n",
    "Build Dataset\n",
    "\"\"\""
   ]
  },
  {
   "cell_type": "code",
   "execution_count": 1,
   "metadata": {
    "collapsed": true
   },
   "outputs": [],
   "source": [
    "import numpy as np\n",
    "import pandas as pd\n",
    "max_allowed_freq = 16321\n",
    "min_allowed_freq = 20"
   ]
  },
  {
   "cell_type": "code",
   "execution_count": null,
   "metadata": {
    "collapsed": true
   },
   "outputs": [],
   "source": []
  },
  {
   "cell_type": "code",
   "execution_count": 2,
   "metadata": {},
   "outputs": [
    {
     "data": {
      "text/html": [
       "<div>\n",
       "<style>\n",
       "    .dataframe thead tr:only-child th {\n",
       "        text-align: right;\n",
       "    }\n",
       "\n",
       "    .dataframe thead th {\n",
       "        text-align: left;\n",
       "    }\n",
       "\n",
       "    .dataframe tbody tr th {\n",
       "        vertical-align: top;\n",
       "    }\n",
       "</style>\n",
       "<table border=\"1\" class=\"dataframe\">\n",
       "  <thead>\n",
       "    <tr style=\"text-align: right;\">\n",
       "      <th></th>\n",
       "      <th>class</th>\n",
       "      <th>category</th>\n",
       "    </tr>\n",
       "  </thead>\n",
       "  <tbody>\n",
       "    <tr>\n",
       "      <th>0</th>\n",
       "      <td>0</td>\n",
       "      <td>comp.sys.mac.hardware</td>\n",
       "    </tr>\n",
       "    <tr>\n",
       "      <th>1</th>\n",
       "      <td>1</td>\n",
       "      <td>rec.motorcycles</td>\n",
       "    </tr>\n",
       "    <tr>\n",
       "      <th>2</th>\n",
       "      <td>2</td>\n",
       "      <td>talk.politics.mideast</td>\n",
       "    </tr>\n",
       "    <tr>\n",
       "      <th>3</th>\n",
       "      <td>3</td>\n",
       "      <td>misc.forsale</td>\n",
       "    </tr>\n",
       "    <tr>\n",
       "      <th>4</th>\n",
       "      <td>4</td>\n",
       "      <td>talk.religion.misc</td>\n",
       "    </tr>\n",
       "  </tbody>\n",
       "</table>\n",
       "</div>"
      ],
      "text/plain": [
       "   class               category\n",
       "0      0  comp.sys.mac.hardware\n",
       "1      1        rec.motorcycles\n",
       "2      2  talk.politics.mideast\n",
       "3      3           misc.forsale\n",
       "4      4     talk.religion.misc"
      ]
     },
     "execution_count": 2,
     "metadata": {},
     "output_type": "execute_result"
    }
   ],
   "source": [
    "class_dict_df = pd.DataFrame(pd.read_csv(\"class_dict.csv\"))\n",
    "class_dict_df.head()"
   ]
  },
  {
   "cell_type": "code",
   "execution_count": 3,
   "metadata": {},
   "outputs": [
    {
     "data": {
      "text/html": [
       "<div>\n",
       "<style>\n",
       "    .dataframe thead tr:only-child th {\n",
       "        text-align: right;\n",
       "    }\n",
       "\n",
       "    .dataframe thead th {\n",
       "        text-align: left;\n",
       "    }\n",
       "\n",
       "    .dataframe tbody tr th {\n",
       "        vertical-align: top;\n",
       "    }\n",
       "</style>\n",
       "<table border=\"1\" class=\"dataframe\">\n",
       "  <thead>\n",
       "    <tr style=\"text-align: right;\">\n",
       "      <th></th>\n",
       "      <th>word</th>\n",
       "      <th>frequency</th>\n",
       "    </tr>\n",
       "  </thead>\n",
       "  <tbody>\n",
       "    <tr>\n",
       "      <th>0</th>\n",
       "      <td>path</td>\n",
       "      <td>15204</td>\n",
       "    </tr>\n",
       "    <tr>\n",
       "      <th>1</th>\n",
       "      <td>subject</td>\n",
       "      <td>15997</td>\n",
       "    </tr>\n",
       "    <tr>\n",
       "      <th>2</th>\n",
       "      <td>message</td>\n",
       "      <td>16321</td>\n",
       "    </tr>\n",
       "    <tr>\n",
       "      <th>3</th>\n",
       "      <td>id</td>\n",
       "      <td>15355</td>\n",
       "    </tr>\n",
       "    <tr>\n",
       "      <th>4</th>\n",
       "      <td>organization</td>\n",
       "      <td>14696</td>\n",
       "    </tr>\n",
       "  </tbody>\n",
       "</table>\n",
       "</div>"
      ],
      "text/plain": [
       "           word  frequency\n",
       "0          path      15204\n",
       "1       subject      15997\n",
       "2       message      16321\n",
       "3            id      15355\n",
       "4  organization      14696"
      ]
     },
     "execution_count": 3,
     "metadata": {},
     "output_type": "execute_result"
    }
   ],
   "source": [
    "#selected_words_df = pd.DataFrame(pd.read_csv('all_words.csv'))\n",
    "selected_words_df = pd.DataFrame(pd.read_csv('selected_words_'+ str(max_allowed_freq) +'_'+ str(min_allowed_freq) +'.csv'))\n",
    "selected_words_df.head()\n"
   ]
  },
  {
   "cell_type": "code",
   "execution_count": 4,
   "metadata": {
    "collapsed": true
   },
   "outputs": [],
   "source": [
    "selected_words = selected_words_df['word'].values\n",
    "num_selected_words = len(selected_words)\n"
   ]
  },
  {
   "cell_type": "code",
   "execution_count": 5,
   "metadata": {},
   "outputs": [
    {
     "data": {
      "text/html": [
       "<div>\n",
       "<style>\n",
       "    .dataframe thead tr:only-child th {\n",
       "        text-align: right;\n",
       "    }\n",
       "\n",
       "    .dataframe thead th {\n",
       "        text-align: left;\n",
       "    }\n",
       "\n",
       "    .dataframe tbody tr th {\n",
       "        vertical-align: top;\n",
       "    }\n",
       "</style>\n",
       "<table border=\"1\" class=\"dataframe\">\n",
       "  <thead>\n",
       "    <tr style=\"text-align: right;\">\n",
       "      <th></th>\n",
       "      <th>path</th>\n",
       "      <th>class</th>\n",
       "    </tr>\n",
       "  </thead>\n",
       "  <tbody>\n",
       "    <tr>\n",
       "      <th>0</th>\n",
       "      <td>.\\clean_data\\20_newsgroups\\talk.politics.misc\\...</td>\n",
       "      <td>13</td>\n",
       "    </tr>\n",
       "    <tr>\n",
       "      <th>1</th>\n",
       "      <td>.\\clean_data\\20_newsgroups\\talk.religion.misc\\...</td>\n",
       "      <td>4</td>\n",
       "    </tr>\n",
       "    <tr>\n",
       "      <th>2</th>\n",
       "      <td>.\\clean_data\\20_newsgroups\\sci.electronics\\542...</td>\n",
       "      <td>10</td>\n",
       "    </tr>\n",
       "    <tr>\n",
       "      <th>3</th>\n",
       "      <td>.\\clean_data\\20_newsgroups\\misc.forsale\\76424.txt</td>\n",
       "      <td>3</td>\n",
       "    </tr>\n",
       "    <tr>\n",
       "      <th>4</th>\n",
       "      <td>.\\clean_data\\20_newsgroups\\sci.electronics\\539...</td>\n",
       "      <td>10</td>\n",
       "    </tr>\n",
       "  </tbody>\n",
       "</table>\n",
       "</div>"
      ],
      "text/plain": [
       "                                                path  class\n",
       "0  .\\clean_data\\20_newsgroups\\talk.politics.misc\\...     13\n",
       "1  .\\clean_data\\20_newsgroups\\talk.religion.misc\\...      4\n",
       "2  .\\clean_data\\20_newsgroups\\sci.electronics\\542...     10\n",
       "3  .\\clean_data\\20_newsgroups\\misc.forsale\\76424.txt      3\n",
       "4  .\\clean_data\\20_newsgroups\\sci.electronics\\539...     10"
      ]
     },
     "execution_count": 5,
     "metadata": {},
     "output_type": "execute_result"
    }
   ],
   "source": [
    "train_file_paths_df = pd.DataFrame(pd.read_csv(\"train_files.csv\"))\n",
    "train_file_paths_df.head()"
   ]
  },
  {
   "cell_type": "code",
   "execution_count": 6,
   "metadata": {
    "collapsed": true
   },
   "outputs": [],
   "source": [
    "train_file_paths = train_file_paths_df['path'].values\n",
    "train_file_class = train_file_paths_df['class'].values"
   ]
  },
  {
   "cell_type": "code",
   "execution_count": null,
   "metadata": {
    "collapsed": true
   },
   "outputs": [],
   "source": []
  },
  {
   "cell_type": "code",
   "execution_count": 7,
   "metadata": {
    "scrolled": true
   },
   "outputs": [
    {
     "name": "stdout",
     "output_type": "stream",
     "text": [
      "0 Files Processed in 0 millisec\n",
      "1000 Files Processed in 78598 millisec\n",
      "2000 Files Processed in 49461 millisec\n",
      "3000 Files Processed in 43599 millisec\n",
      "4000 Files Processed in 41105 millisec\n",
      "5000 Files Processed in 42494 millisec\n",
      "6000 Files Processed in 39578 millisec\n",
      "7000 Files Processed in 33061 millisec\n",
      "8000 Files Processed in 29954 millisec\n",
      "9000 Files Processed in 29634 millisec\n",
      "10000 Files Processed in 29016 millisec\n",
      "11000 Files Processed in 30222 millisec\n",
      "12000 Files Processed in 30099 millisec\n",
      "13000 Files Processed in 27531 millisec\n",
      "14000 Files Processed in 30213 millisec\n",
      "14997\n",
      "5594\n"
     ]
    }
   ],
   "source": [
    "import time\n",
    "matrix = []\n",
    "st = time.time()\n",
    "for i in range(len(train_file_paths)) :\n",
    "    #if i == 2000:\n",
    "    #    break\n",
    "    if i % 1000 == 0 :\n",
    "        et = time.time()\n",
    "        print( i, \"Files Processed in\", int((time.time() - st)*1000) , \"millisec\")\n",
    "        st = time.time()    \n",
    "    path = train_file_paths[i]\n",
    "    target = train_file_class[i]\n",
    "    with open(path) as file :\n",
    "        X = []\n",
    "        count = {}\n",
    "        data = file.readlines()\n",
    "        words_in_file = (''.join(data)).split(' ')\n",
    "        for word in words_in_file:\n",
    "            if word in selected_words:\n",
    "                try:\n",
    "                    count[word] += 1\n",
    "                except:\n",
    "                    count[word] = 1\n",
    "        for word in selected_words:\n",
    "            try :\n",
    "                x = count[word] #X.append(count[word])\n",
    "            except :\n",
    "                count[word] = 0 #X.append(0)\n",
    "        #print(X)\n",
    "        X = [count[word] for word in selected_words if word in count] \n",
    "        #print(len(X))\n",
    "        matrix.append(X)\n",
    "        #X_train_df.iloc[i, :] = \n",
    "        file.close()\n",
    "print(len(matrix))\n",
    "print(len(matrix[0]))"
   ]
  },
  {
   "cell_type": "code",
   "execution_count": 8,
   "metadata": {
    "collapsed": true
   },
   "outputs": [],
   "source": [
    "X_train_df = pd.DataFrame(matrix, columns = selected_words)"
   ]
  },
  {
   "cell_type": "code",
   "execution_count": 9,
   "metadata": {},
   "outputs": [
    {
     "data": {
      "text/html": [
       "<div>\n",
       "<style>\n",
       "    .dataframe thead tr:only-child th {\n",
       "        text-align: right;\n",
       "    }\n",
       "\n",
       "    .dataframe thead th {\n",
       "        text-align: left;\n",
       "    }\n",
       "\n",
       "    .dataframe tbody tr th {\n",
       "        vertical-align: top;\n",
       "    }\n",
       "</style>\n",
       "<table border=\"1\" class=\"dataframe\">\n",
       "  <thead>\n",
       "    <tr style=\"text-align: right;\">\n",
       "      <th></th>\n",
       "      <th>path</th>\n",
       "      <th>subject</th>\n",
       "      <th>message</th>\n",
       "      <th>id</th>\n",
       "      <th>organization</th>\n",
       "      <th>date</th>\n",
       "      <th>tue</th>\n",
       "      <th>article</th>\n",
       "      <th>branch</th>\n",
       "      <th>reality</th>\n",
       "      <th>...</th>\n",
       "      <th>superman</th>\n",
       "      <th>retinol</th>\n",
       "      <th>fetus</th>\n",
       "      <th>evolve</th>\n",
       "      <th>secession</th>\n",
       "      <th>pu</th>\n",
       "      <th>pom</th>\n",
       "      <th>crossroads</th>\n",
       "      <th>quantization</th>\n",
       "      <th>magi</th>\n",
       "    </tr>\n",
       "  </thead>\n",
       "  <tbody>\n",
       "    <tr>\n",
       "      <th>count</th>\n",
       "      <td>14997.000000</td>\n",
       "      <td>14997.000000</td>\n",
       "      <td>14997.000000</td>\n",
       "      <td>14997.000000</td>\n",
       "      <td>14997.000000</td>\n",
       "      <td>14997.000000</td>\n",
       "      <td>14997.000000</td>\n",
       "      <td>14997.00000</td>\n",
       "      <td>14997.000000</td>\n",
       "      <td>14997.000000</td>\n",
       "      <td>...</td>\n",
       "      <td>14997.0</td>\n",
       "      <td>14997.000000</td>\n",
       "      <td>14997.000000</td>\n",
       "      <td>14997.000000</td>\n",
       "      <td>14997.000000</td>\n",
       "      <td>14997.000000</td>\n",
       "      <td>14997.000000</td>\n",
       "      <td>14997.000000</td>\n",
       "      <td>14997.000000</td>\n",
       "      <td>14997.000000</td>\n",
       "    </tr>\n",
       "    <tr>\n",
       "      <th>mean</th>\n",
       "      <td>0.050477</td>\n",
       "      <td>0.019537</td>\n",
       "      <td>0.058812</td>\n",
       "      <td>0.015536</td>\n",
       "      <td>0.009002</td>\n",
       "      <td>0.016270</td>\n",
       "      <td>0.112289</td>\n",
       "      <td>0.03514</td>\n",
       "      <td>0.008935</td>\n",
       "      <td>0.011402</td>\n",
       "      <td>...</td>\n",
       "      <td>0.0</td>\n",
       "      <td>0.001534</td>\n",
       "      <td>0.000600</td>\n",
       "      <td>0.001134</td>\n",
       "      <td>0.000867</td>\n",
       "      <td>0.000267</td>\n",
       "      <td>0.002000</td>\n",
       "      <td>0.000733</td>\n",
       "      <td>0.001000</td>\n",
       "      <td>0.001067</td>\n",
       "    </tr>\n",
       "    <tr>\n",
       "      <th>std</th>\n",
       "      <td>0.234806</td>\n",
       "      <td>0.167608</td>\n",
       "      <td>0.320264</td>\n",
       "      <td>0.187176</td>\n",
       "      <td>0.106405</td>\n",
       "      <td>0.181872</td>\n",
       "      <td>0.321799</td>\n",
       "      <td>0.22872</td>\n",
       "      <td>0.117433</td>\n",
       "      <td>0.134938</td>\n",
       "      <td>...</td>\n",
       "      <td>0.0</td>\n",
       "      <td>0.172256</td>\n",
       "      <td>0.037417</td>\n",
       "      <td>0.033650</td>\n",
       "      <td>0.049665</td>\n",
       "      <td>0.020001</td>\n",
       "      <td>0.173217</td>\n",
       "      <td>0.089824</td>\n",
       "      <td>0.077032</td>\n",
       "      <td>0.122758</td>\n",
       "    </tr>\n",
       "    <tr>\n",
       "      <th>min</th>\n",
       "      <td>0.000000</td>\n",
       "      <td>0.000000</td>\n",
       "      <td>0.000000</td>\n",
       "      <td>0.000000</td>\n",
       "      <td>0.000000</td>\n",
       "      <td>0.000000</td>\n",
       "      <td>0.000000</td>\n",
       "      <td>0.00000</td>\n",
       "      <td>0.000000</td>\n",
       "      <td>0.000000</td>\n",
       "      <td>...</td>\n",
       "      <td>0.0</td>\n",
       "      <td>0.000000</td>\n",
       "      <td>0.000000</td>\n",
       "      <td>0.000000</td>\n",
       "      <td>0.000000</td>\n",
       "      <td>0.000000</td>\n",
       "      <td>0.000000</td>\n",
       "      <td>0.000000</td>\n",
       "      <td>0.000000</td>\n",
       "      <td>0.000000</td>\n",
       "    </tr>\n",
       "    <tr>\n",
       "      <th>25%</th>\n",
       "      <td>0.000000</td>\n",
       "      <td>0.000000</td>\n",
       "      <td>0.000000</td>\n",
       "      <td>0.000000</td>\n",
       "      <td>0.000000</td>\n",
       "      <td>0.000000</td>\n",
       "      <td>0.000000</td>\n",
       "      <td>0.00000</td>\n",
       "      <td>0.000000</td>\n",
       "      <td>0.000000</td>\n",
       "      <td>...</td>\n",
       "      <td>0.0</td>\n",
       "      <td>0.000000</td>\n",
       "      <td>0.000000</td>\n",
       "      <td>0.000000</td>\n",
       "      <td>0.000000</td>\n",
       "      <td>0.000000</td>\n",
       "      <td>0.000000</td>\n",
       "      <td>0.000000</td>\n",
       "      <td>0.000000</td>\n",
       "      <td>0.000000</td>\n",
       "    </tr>\n",
       "    <tr>\n",
       "      <th>50%</th>\n",
       "      <td>0.000000</td>\n",
       "      <td>0.000000</td>\n",
       "      <td>0.000000</td>\n",
       "      <td>0.000000</td>\n",
       "      <td>0.000000</td>\n",
       "      <td>0.000000</td>\n",
       "      <td>0.000000</td>\n",
       "      <td>0.00000</td>\n",
       "      <td>0.000000</td>\n",
       "      <td>0.000000</td>\n",
       "      <td>...</td>\n",
       "      <td>0.0</td>\n",
       "      <td>0.000000</td>\n",
       "      <td>0.000000</td>\n",
       "      <td>0.000000</td>\n",
       "      <td>0.000000</td>\n",
       "      <td>0.000000</td>\n",
       "      <td>0.000000</td>\n",
       "      <td>0.000000</td>\n",
       "      <td>0.000000</td>\n",
       "      <td>0.000000</td>\n",
       "    </tr>\n",
       "    <tr>\n",
       "      <th>75%</th>\n",
       "      <td>0.000000</td>\n",
       "      <td>0.000000</td>\n",
       "      <td>0.000000</td>\n",
       "      <td>0.000000</td>\n",
       "      <td>0.000000</td>\n",
       "      <td>0.000000</td>\n",
       "      <td>0.000000</td>\n",
       "      <td>0.00000</td>\n",
       "      <td>0.000000</td>\n",
       "      <td>0.000000</td>\n",
       "      <td>...</td>\n",
       "      <td>0.0</td>\n",
       "      <td>0.000000</td>\n",
       "      <td>0.000000</td>\n",
       "      <td>0.000000</td>\n",
       "      <td>0.000000</td>\n",
       "      <td>0.000000</td>\n",
       "      <td>0.000000</td>\n",
       "      <td>0.000000</td>\n",
       "      <td>0.000000</td>\n",
       "      <td>0.000000</td>\n",
       "    </tr>\n",
       "    <tr>\n",
       "      <th>max</th>\n",
       "      <td>7.000000</td>\n",
       "      <td>7.000000</td>\n",
       "      <td>10.000000</td>\n",
       "      <td>12.000000</td>\n",
       "      <td>3.000000</td>\n",
       "      <td>8.000000</td>\n",
       "      <td>4.000000</td>\n",
       "      <td>8.00000</td>\n",
       "      <td>4.000000</td>\n",
       "      <td>4.000000</td>\n",
       "      <td>...</td>\n",
       "      <td>0.0</td>\n",
       "      <td>21.000000</td>\n",
       "      <td>4.000000</td>\n",
       "      <td>1.000000</td>\n",
       "      <td>4.000000</td>\n",
       "      <td>2.000000</td>\n",
       "      <td>15.000000</td>\n",
       "      <td>11.000000</td>\n",
       "      <td>9.000000</td>\n",
       "      <td>15.000000</td>\n",
       "    </tr>\n",
       "  </tbody>\n",
       "</table>\n",
       "<p>8 rows × 5594 columns</p>\n",
       "</div>"
      ],
      "text/plain": [
       "               path       subject       message            id  organization  \\\n",
       "count  14997.000000  14997.000000  14997.000000  14997.000000  14997.000000   \n",
       "mean       0.050477      0.019537      0.058812      0.015536      0.009002   \n",
       "std        0.234806      0.167608      0.320264      0.187176      0.106405   \n",
       "min        0.000000      0.000000      0.000000      0.000000      0.000000   \n",
       "25%        0.000000      0.000000      0.000000      0.000000      0.000000   \n",
       "50%        0.000000      0.000000      0.000000      0.000000      0.000000   \n",
       "75%        0.000000      0.000000      0.000000      0.000000      0.000000   \n",
       "max        7.000000      7.000000     10.000000     12.000000      3.000000   \n",
       "\n",
       "               date           tue      article        branch       reality  \\\n",
       "count  14997.000000  14997.000000  14997.00000  14997.000000  14997.000000   \n",
       "mean       0.016270      0.112289      0.03514      0.008935      0.011402   \n",
       "std        0.181872      0.321799      0.22872      0.117433      0.134938   \n",
       "min        0.000000      0.000000      0.00000      0.000000      0.000000   \n",
       "25%        0.000000      0.000000      0.00000      0.000000      0.000000   \n",
       "50%        0.000000      0.000000      0.00000      0.000000      0.000000   \n",
       "75%        0.000000      0.000000      0.00000      0.000000      0.000000   \n",
       "max        8.000000      4.000000      8.00000      4.000000      4.000000   \n",
       "\n",
       "           ...       superman       retinol         fetus        evolve  \\\n",
       "count      ...        14997.0  14997.000000  14997.000000  14997.000000   \n",
       "mean       ...            0.0      0.001534      0.000600      0.001134   \n",
       "std        ...            0.0      0.172256      0.037417      0.033650   \n",
       "min        ...            0.0      0.000000      0.000000      0.000000   \n",
       "25%        ...            0.0      0.000000      0.000000      0.000000   \n",
       "50%        ...            0.0      0.000000      0.000000      0.000000   \n",
       "75%        ...            0.0      0.000000      0.000000      0.000000   \n",
       "max        ...            0.0     21.000000      4.000000      1.000000   \n",
       "\n",
       "          secession            pu           pom    crossroads  quantization  \\\n",
       "count  14997.000000  14997.000000  14997.000000  14997.000000  14997.000000   \n",
       "mean       0.000867      0.000267      0.002000      0.000733      0.001000   \n",
       "std        0.049665      0.020001      0.173217      0.089824      0.077032   \n",
       "min        0.000000      0.000000      0.000000      0.000000      0.000000   \n",
       "25%        0.000000      0.000000      0.000000      0.000000      0.000000   \n",
       "50%        0.000000      0.000000      0.000000      0.000000      0.000000   \n",
       "75%        0.000000      0.000000      0.000000      0.000000      0.000000   \n",
       "max        4.000000      2.000000     15.000000     11.000000      9.000000   \n",
       "\n",
       "               magi  \n",
       "count  14997.000000  \n",
       "mean       0.001067  \n",
       "std        0.122758  \n",
       "min        0.000000  \n",
       "25%        0.000000  \n",
       "50%        0.000000  \n",
       "75%        0.000000  \n",
       "max       15.000000  \n",
       "\n",
       "[8 rows x 5594 columns]"
      ]
     },
     "execution_count": 9,
     "metadata": {},
     "output_type": "execute_result"
    }
   ],
   "source": [
    "X_train_df.describe()"
   ]
  },
  {
   "cell_type": "code",
   "execution_count": 10,
   "metadata": {},
   "outputs": [
    {
     "name": "stdout",
     "output_type": "stream",
     "text": [
      "(14997, 5594)\n",
      "(14997,)\n"
     ]
    }
   ],
   "source": [
    "import copy\n",
    "X_train = X_train_df.values\n",
    "Y_train = copy.deepcopy(train_file_class)\n",
    "print(X_train.shape)\n",
    "print(Y_train.shape)"
   ]
  },
  {
   "cell_type": "code",
   "execution_count": 11,
   "metadata": {
    "collapsed": true
   },
   "outputs": [],
   "source": [
    "dataset = pd.DataFrame(X_train_df)\n",
    "dataset['target'] = Y_train\n",
    "dataset.to_csv(\"20_newsgroups_dataset.csv\", index = False)"
   ]
  },
  {
   "cell_type": "code",
   "execution_count": 16,
   "metadata": {
    "collapsed": true
   },
   "outputs": [],
   "source": []
  },
  {
   "cell_type": "code",
   "execution_count": null,
   "metadata": {
    "collapsed": true
   },
   "outputs": [],
   "source": []
  },
  {
   "cell_type": "code",
   "execution_count": null,
   "metadata": {
    "collapsed": true
   },
   "outputs": [],
   "source": []
  },
  {
   "cell_type": "code",
   "execution_count": 12,
   "metadata": {},
   "outputs": [
    {
     "data": {
      "text/plain": [
       "MultinomialNB(alpha=1, class_prior=None, fit_prior=True)"
      ]
     },
     "execution_count": 12,
     "metadata": {},
     "output_type": "execute_result"
    }
   ],
   "source": [
    "# , fit_prior = False 0.815763152631\n",
    "# \n",
    "from sklearn.naive_bayes import MultinomialNB\n",
    "model = MultinomialNB(alpha = 1)\n",
    "model.fit(X_train, Y_train)"
   ]
  },
  {
   "cell_type": "code",
   "execution_count": 13,
   "metadata": {
    "scrolled": true
   },
   "outputs": [
    {
     "name": "stdout",
     "output_type": "stream",
     "text": [
      "0.803027272121\n"
     ]
    }
   ],
   "source": [
    "print(model.score(X_train, Y_train))"
   ]
  },
  {
   "cell_type": "code",
   "execution_count": 14,
   "metadata": {
    "collapsed": true
   },
   "outputs": [],
   "source": [
    "from sklearn.metrics import confusion_matrix"
   ]
  },
  {
   "cell_type": "code",
   "execution_count": 15,
   "metadata": {
    "collapsed": true
   },
   "outputs": [],
   "source": [
    "Y_pred = model.predict(X_train)"
   ]
  },
  {
   "cell_type": "code",
   "execution_count": 16,
   "metadata": {},
   "outputs": [
    {
     "name": "stdout",
     "output_type": "stream",
     "text": [
      "array([[713,   0,   0,   1,   0,   0,   0,   0,   0,   0,   0,   0,   0,\n",
      "          0,   0,   0,   0,   0,   0,   0],\n",
      "       [  5, 635,   1,   3,   0,   0,   0,   1,   0,   0,   0,   0,   0,\n",
      "          0,   0,   0,   0,   0,   0,   0],\n",
      "       [  3,   5, 568,   0,   5,   0,   0,   0,   0,   1,   0,   0,   0,\n",
      "          8,   0,   1,   0,   1,   0,   0],\n",
      "       [ 12,  11,   9, 509,   1,   3,   6,   0,   0,   0,   3,   0,   0,\n",
      "          0,   0,   0,   0,   0,   0,   0],\n",
      "       [  2,   2,  18,   1, 427,   2,   0,   0,   0,   1,   0,   0,  14,\n",
      "         15,   0,   0,   0,   0,   0,   0],\n",
      "       [ 12,   6,   2,   4,   2, 502,   5,   1,   1,   0,   2,   0,   1,\n",
      "          0,   0,   0,   2,   1,   0,   2],\n",
      "       [ 12,  10,   1,  63,   5,   9, 559,   1,   2,   1,  13,   1,   0,\n",
      "          0,   0,   0,   6,   0,   0,   8],\n",
      "       [  0,   9,   5,  24,   6,   5,   5, 614,   4,   3,   1,   0,   1,\n",
      "          1,   0,   0,   1,   0,   0,   0],\n",
      "       [  1,   6,   4,   5,   6,   6,   3,   1, 630,   0,   0,   1,   2,\n",
      "          4,   0,   0,   1,   0,   0,   0],\n",
      "       [  1,   4,  16,   4,  40,   0,   0,   2,   1, 619,   0,   7,   3,\n",
      "         38,   0,   0,   0,   1,   0,   0],\n",
      "       [  1,  10,   3,  22,   5,   9,  20,  15,   5,   0, 586,   6,   1,\n",
      "          1,   0,   0,   2,   6,   0,   0],\n",
      "       [  0,   4,   9,   9,   6,   9,   4,   2,   3,   7,   7, 661,   1,\n",
      "          2,   0,   0,   0,   0,   0,   0],\n",
      "       [  0,   0,  19,   5, 147,   5,   2,   2,  10,  13,   2,   5, 632,\n",
      "         16,   1,  23,   2,   7,   3,   0],\n",
      "       [  0,   0,  21,   7,  61,   3,   1,   5,   9,  23,   1,   5,   3,\n",
      "        540,   1,   2,   1,   0,   1,   0],\n",
      "       [  1,   6,   7,  12,  13,   8,   7,  10,   3,  11,   4,   4,   5,\n",
      "         10, 677,   2,   3,   2,   6,   0],\n",
      "       [  0,   0,   6,   1,  11,   0,   0,   0,   1,   3,   0,   0,  14,\n",
      "          7,   0, 633,   0,   0,   0,   0],\n",
      "       [  1,   5,   7,  22,   5, 107,  37,   9,  26,   2,  23,  22,   3,\n",
      "          4,   2,   6, 505,  15,   0,  15],\n",
      "       [  0,   0,   7,   2,  11,   7,   2,   5,   7,   6,   5,   2,   8,\n",
      "         15,   0,   9,   2, 608,   1,   0],\n",
      "       [  0,   3,   9,  13,   6,   2,  11,  23,  16,  32,  21,   7,  23,\n",
      "         46,  54,  25,  23,  30, 701,   2],\n",
      "       [  0,   0,   7,  32,   7,  83,  98,  40,  36,  29,  88,  46,  56,\n",
      "         34,  34,  44, 199,  73,  40, 724]], dtype=int64)\n"
     ]
    }
   ],
   "source": [
    "from pprint import pprint\n",
    "pprint(confusion_matrix(Y_pred, Y_train))"
   ]
  },
  {
   "cell_type": "code",
   "execution_count": 17,
   "metadata": {},
   "outputs": [
    {
     "name": "stdout",
     "output_type": "stream",
     "text": [
      "0 : 764\n",
      "1 : 716\n",
      "2 : 719\n",
      "3 : 739\n",
      "4 : 764\n",
      "5 : 760\n",
      "6 : 760\n",
      "7 : 731\n",
      "8 : 754\n",
      "9 : 751\n",
      "10 : 756\n",
      "11 : 767\n",
      "12 : 767\n",
      "13 : 741\n",
      "14 : 769\n",
      "15 : 745\n",
      "16 : 747\n",
      "17 : 744\n",
      "18 : 752\n",
      "19 : 751\n"
     ]
    }
   ],
   "source": [
    "for target in set(Y_train):\n",
    "    print(target, \":\", (Y_train == target).sum())"
   ]
  },
  {
   "cell_type": "code",
   "execution_count": 18,
   "metadata": {},
   "outputs": [
    {
     "name": "stdout",
     "output_type": "stream",
     "text": [
      "             precision    recall  f1-score   support\n",
      "\n",
      "          0       0.93      1.00      0.96       714\n",
      "          1       0.89      0.98      0.93       645\n",
      "          2       0.79      0.96      0.87       592\n",
      "          3       0.69      0.92      0.79       554\n",
      "          4       0.56      0.89      0.69       482\n",
      "          5       0.66      0.92      0.77       543\n",
      "          6       0.74      0.81      0.77       691\n",
      "          7       0.84      0.90      0.87       679\n",
      "          8       0.84      0.94      0.88       670\n",
      "          9       0.82      0.84      0.83       736\n",
      "         10       0.78      0.85      0.81       692\n",
      "         11       0.86      0.91      0.89       724\n",
      "         12       0.82      0.71      0.76       894\n",
      "         13       0.73      0.79      0.76       684\n",
      "         14       0.88      0.86      0.87       791\n",
      "         15       0.85      0.94      0.89       676\n",
      "         16       0.68      0.62      0.65       816\n",
      "         17       0.82      0.87      0.84       697\n",
      "         18       0.93      0.67      0.78      1047\n",
      "         19       0.96      0.43      0.60      1670\n",
      "\n",
      "avg / total       0.82      0.80      0.80     14997\n",
      "\n"
     ]
    }
   ],
   "source": [
    "from sklearn.metrics import classification_report\n",
    "print(classification_report(Y_pred, Y_train))"
   ]
  },
  {
   "cell_type": "code",
   "execution_count": 20,
   "metadata": {
    "collapsed": true
   },
   "outputs": [],
   "source": [
    "import _pickle as pickle"
   ]
  },
  {
   "cell_type": "code",
   "execution_count": 21,
   "metadata": {
    "collapsed": true
   },
   "outputs": [],
   "source": [
    "model_data = {}\n",
    "model_data['model'] = model\n",
    "model_data['max_freq'] = max_allowed_freq\n",
    "model_data['min_freq'] = min_allowed_freq\n",
    "with open(\"multinomial_naive_bayes_\" + str(max_allowed_freq) + \"_\" + str(min_allowed_freq) + \".sav\", 'wb') as model_file :\n",
    "    pickle.dump(model_data, model_file )\n",
    "    model_file.close()"
   ]
  },
  {
   "cell_type": "code",
   "execution_count": null,
   "metadata": {
    "collapsed": true
   },
   "outputs": [],
   "source": []
  }
 ],
 "metadata": {
  "kernelspec": {
   "display_name": "Python 3",
   "language": "python",
   "name": "python3"
  },
  "language_info": {
   "codemirror_mode": {
    "name": "ipython",
    "version": 3
   },
   "file_extension": ".py",
   "mimetype": "text/x-python",
   "name": "python",
   "nbconvert_exporter": "python",
   "pygments_lexer": "ipython3",
   "version": "3.6.3"
  }
 },
 "nbformat": 4,
 "nbformat_minor": 2
}
