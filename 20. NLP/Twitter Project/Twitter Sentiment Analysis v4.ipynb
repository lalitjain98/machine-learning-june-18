{
 "cells": [
  {
   "cell_type": "code",
   "execution_count": 1,
   "metadata": {
    "collapsed": true
   },
   "outputs": [],
   "source": [
    "import numpy as np\n",
    "import pandas as pd\n",
    "from sklearn.svm import SVC\n",
    "from sklearn.metrics import classification_report\n",
    "from sklearn.feature_extraction.text import CountVectorizer, TfidfVectorizer"
   ]
  },
  {
   "cell_type": "code",
   "execution_count": 2,
   "metadata": {},
   "outputs": [],
   "source": [
    "train_df = pd.read_csv(\"training_twitter_x_y_train.csv\")\n",
    "#train_df"
   ]
  },
  {
   "cell_type": "code",
   "execution_count": 3,
   "metadata": {},
   "outputs": [
    {
     "data": {
      "text/plain": [
       "\"\\nnon_zero_retweets = train_df[train_df['retweet_count'] > 0]\\nprint(len(non_zero_retweets[non_zero_retweets['airline_sentiment'] == 'negative']))\\nprint(len(non_zero_retweets[non_zero_retweets['airline_sentiment'] == 'positive']))\\nprint(len(non_zero_retweets[non_zero_retweets['airline_sentiment'] == 'neutral']))\\n\\nprint(non_zero_retweets[non_zero_retweets['airline_sentiment'] == 'negative'])\\nprint(non_zero_retweets[non_zero_retweets['airline_sentiment'] == 'positive'])\\nprint(non_zero_retweets[non_zero_retweets['airline_sentiment'] == 'neutral'])\\n\\n\""
      ]
     },
     "execution_count": 3,
     "metadata": {},
     "output_type": "execute_result"
    }
   ],
   "source": [
    "\"\"\"\n",
    "non_zero_retweets = train_df[train_df['retweet_count'] > 0]\n",
    "print(len(non_zero_retweets[non_zero_retweets['airline_sentiment'] == 'negative']))\n",
    "print(len(non_zero_retweets[non_zero_retweets['airline_sentiment'] == 'positive']))\n",
    "print(len(non_zero_retweets[non_zero_retweets['airline_sentiment'] == 'neutral']))\n",
    "\n",
    "print(non_zero_retweets[non_zero_retweets['airline_sentiment'] == 'negative'])\n",
    "print(non_zero_retweets[non_zero_retweets['airline_sentiment'] == 'positive'])\n",
    "print(non_zero_retweets[non_zero_retweets['airline_sentiment'] == 'neutral'])\n",
    "\n",
    "\"\"\""
   ]
  },
  {
   "cell_type": "code",
   "execution_count": 4,
   "metadata": {
    "collapsed": true
   },
   "outputs": [],
   "source": [
    "def num_senti(s):\n",
    "    if s == \"negative\" :\n",
    "        return -1\n",
    "    elif s == \"neutral\" :\n",
    "        return 0\n",
    "    else:\n",
    "        return 1\n",
    "def num_to_sent(s):\n",
    "    if s == -1 :\n",
    "        return \"negative\"\n",
    "    elif s == 0 :\n",
    "        return \"neutral\"\n",
    "    else:\n",
    "        return \"positive\"\n"
   ]
  },
  {
   "cell_type": "code",
   "execution_count": 157,
   "metadata": {
    "collapsed": true
   },
   "outputs": [],
   "source": [
    "tweets = train_df[\"text\"].values"
   ]
  },
  {
   "cell_type": "code",
   "execution_count": 216,
   "metadata": {
    "collapsed": true
   },
   "outputs": [],
   "source": [
    "def split_attached_words_remove_punct(tweets) :\n",
    "    clean_tweets = []\n",
    "    import re\n",
    "    import string\n",
    "    printable = set(string.ascii_letters + string.whitespace)\n",
    "    for tweet in tweets :\n",
    "        new_tweet = []\n",
    "        for word in tweet:\n",
    "            clean_word = re.sub(\"[0-9]+\", '', word)\n",
    "            clean_word = re.sub(\"\\s+\", \" \", clean_word)\n",
    "            content = [c for c in clean_word if c in printable]\n",
    "            clean_word = \"\".join(content)\n",
    "            new_tweet.append(clean_word)\n",
    "        clean_tweets.append(\" \".join(new_tweet))\n",
    "    return clean_tweets\n",
    "        \n",
    "def remove_stop_words(tweets, stops) :\n",
    "    from nltk import word_tokenize\n",
    "    clean_tweets = []\n",
    "    for tweet in tweets :\n",
    "        new_tweet = []\n",
    "        for word in word_tokenize(tweet):\n",
    "            if word.lower() not in stops :            \n",
    "                new_tweet.append(word)\n",
    "        clean_tweets.append(\" \".join(new_tweet))\n",
    "    return clean_tweets\n",
    "        \n",
    "import string\n",
    "from nltk.corpus import stopwords\n",
    "stops = list(stopwords.words('english'))\n",
    "stops += (list(string.punctuation))\n",
    "stops\n",
    "\n",
    "\n",
    "def remove_hrefs(tweets) :\n",
    "    clean_tweets = []\n",
    "    import re\n",
    "    for tweet in tweets :\n",
    "        new_tweet = []\n",
    "        for word in tweet.split():\n",
    "            #if not (word.startswith(\"http://\") or word.startswith(\"https://\")):\n",
    "            word = re.sub(\"[^A-Za-z ]\", ' ', word)\n",
    "            word = re.sub(\"\\s+\", \" \", word)\n",
    "            new_tweet.append(word)\n",
    "            #else:\n",
    "            #    print(\"found\", word)\n",
    "        clean_tweets.append(\" \".join(new_tweet))\n",
    "    return clean_tweets\n",
    "def lower(tweets) :\n",
    "    clean_tweets = []\n",
    "    for tweet in tweets :\n",
    "        clean_tweets.append(tweet.lower())\n",
    "    return clean_tweets"
   ]
  },
  {
   "cell_type": "code",
   "execution_count": 217,
   "metadata": {},
   "outputs": [],
   "source": [
    "hrefs_removed = remove_hrefs(tweets)\n",
    "#print(hrefs_removed)\n",
    "stop_words_removed = remove_stop_words(hrefs_removed, stops)\n",
    "#print(stop_words_removed)"
   ]
  },
  {
   "cell_type": "code",
   "execution_count": 142,
   "metadata": {},
   "outputs": [],
   "source": []
  },
  {
   "cell_type": "code",
   "execution_count": 218,
   "metadata": {
    "collapsed": true
   },
   "outputs": [],
   "source": [
    "final_train_tweets = lower(stop_words_removed)"
   ]
  },
  {
   "cell_type": "code",
   "execution_count": 219,
   "metadata": {},
   "outputs": [],
   "source": [
    "test_df = pd.read_csv(\"test_twitter_x_test.csv\")\n",
    "#test_df"
   ]
  },
  {
   "cell_type": "code",
   "execution_count": 220,
   "metadata": {
    "collapsed": true
   },
   "outputs": [],
   "source": [
    "test_tweets = test_df[\"text\"].values"
   ]
  },
  {
   "cell_type": "code",
   "execution_count": 221,
   "metadata": {},
   "outputs": [],
   "source": [
    "hrefs_removed = remove_hrefs(test_tweets)\n",
    "stop_words_removed = remove_stop_words(hrefs_removed, stops)"
   ]
  },
  {
   "cell_type": "code",
   "execution_count": 147,
   "metadata": {
    "collapsed": true
   },
   "outputs": [],
   "source": []
  },
  {
   "cell_type": "code",
   "execution_count": 222,
   "metadata": {
    "collapsed": true
   },
   "outputs": [],
   "source": [
    "final_test_tweets = lower(stop_words_removed)"
   ]
  },
  {
   "cell_type": "code",
   "execution_count": 223,
   "metadata": {},
   "outputs": [
    {
     "data": {
      "text/plain": [
       "(88, 82)"
      ]
     },
     "execution_count": 223,
     "metadata": {},
     "output_type": "execute_result"
    }
   ],
   "source": [
    "len(final_train_tweets[0]), len(final_test_tweets[0])"
   ]
  },
  {
   "cell_type": "code",
   "execution_count": 409,
   "metadata": {},
   "outputs": [
    {
     "name": "stdout",
     "output_type": "stream",
     "text": [
      "(10980, 36614)\n",
      "(3660, 36614)\n"
     ]
    }
   ],
   "source": [
    "tfidf = TfidfVectorizer(max_df = 0.22, min_df = 0.0001, ngram_range=(1, 3))\n",
    "X_train = tfidf.fit_transform(tweets).todense()\n",
    "X_test = tfidf.transform(test_tweets).todense()\n",
    "print(X_train.shape)\n",
    "print(X_test.shape)\n",
    "scaler = StandardScaler()\n",
    "X_train_scaled = scaler.fit_transform(X_train)\n",
    "X_test_scaled = scaler.transform(X_test)"
   ]
  },
  {
   "cell_type": "code",
   "execution_count": null,
   "metadata": {},
   "outputs": [],
   "source": []
  },
  {
   "cell_type": "code",
   "execution_count": 368,
   "metadata": {
    "collapsed": true
   },
   "outputs": [
    {
     "name": "stdout",
     "output_type": "stream",
     "text": [
      "(10980, 4174)\n",
      "(3660, 4174)\n"
     ]
    }
   ],
   "source": [
    "tfidf = TfidfVectorizer(max_df = 1.0, min_df = 0.0004, ngram_range=(1, 3))\n",
    "X_train = tfidf.fit_transform(final_train_tweets).todense()\n",
    "X_test = tfidf.transform(final_test_tweets).todense()\n",
    "print(X_train.shape)\n",
    "print(X_test.shape)\n"
   ]
  },
  {
   "cell_type": "code",
   "execution_count": 321,
   "metadata": {
    "scrolled": true
   },
   "outputs": [
    {
     "data": {
      "text/plain": [
       "'\\n0.78 score\\ntfidf = TfidfVectorizer(max_df = 1.0, min_df = 0.0006, ngram_range=(1, 3))\\n(10980, 2891)\\n(3660, 2891)\\n'"
      ]
     },
     "execution_count": 321,
     "metadata": {},
     "output_type": "execute_result"
    }
   ],
   "source": [
    "\"\"\"\n",
    "0.78 score\n",
    "tfidf = TfidfVectorizer(max_df = 1.0, min_df = 0.0006, ngram_range=(1, 3))\n",
    "(10980, 2891)\n",
    "(3660, 2891)\n",
    "\"\"\""
   ]
  },
  {
   "cell_type": "code",
   "execution_count": null,
   "metadata": {
    "collapsed": true
   },
   "outputs": [],
   "source": []
  },
  {
   "cell_type": "code",
   "execution_count": 108,
   "metadata": {
    "collapsed": true
   },
   "outputs": [],
   "source": [
    "from sklearn.decomposition import PCA\n",
    "from sklearn.preprocessing import StandardScaler"
   ]
  },
  {
   "cell_type": "code",
   "execution_count": 362,
   "metadata": {
    "collapsed": true
   },
   "outputs": [],
   "source": [
    "scaler = StandardScaler()\n",
    "X_train_scaled = scaler.fit_transform(X_train)\n",
    "X_test_scaled = scaler.transform(X_test)"
   ]
  },
  {
   "cell_type": "code",
   "execution_count": null,
   "metadata": {
    "collapsed": true
   },
   "outputs": [],
   "source": [
    "#pca = PCA()\n",
    "#X_train_pca = pca.fit_transform(X_train_scaled)\n",
    "#X_test_pca = pca.transform(X_test_scaled)"
   ]
  },
  {
   "cell_type": "code",
   "execution_count": 228,
   "metadata": {
    "collapsed": true
   },
   "outputs": [],
   "source": [
    "Y_train = [num_senti(sentiment) for sentiment in train_df['airline_sentiment'].values]"
   ]
  },
  {
   "cell_type": "code",
   "execution_count": 246,
   "metadata": {
    "collapsed": true
   },
   "outputs": [],
   "source": [
    "from sklearn.neural_network import MLPClassifier\n",
    "from sklearn.ensemble import RandomForestClassifier, VotingClassifier, AdaBoostClassifier, BaggingClassifier\n",
    "from sklearn.linear_model import LogisticRegression\n",
    "from sklearn.naive_bayes import MultinomialNB\n",
    "from sklearn.neighbors import KNeighborsClassifier\n",
    "from sklearn.svm import SVC"
   ]
  },
  {
   "cell_type": "code",
   "execution_count": null,
   "metadata": {},
   "outputs": [],
   "source": [
    "print(\"Neural Network\", nn_clf.score(X_train_pca, Y_train))\n",
    "print(\"Random Forest\", rf_clf.score(X_train_pca, Y_train))\n",
    "print(\"Naive Bayes\", nb_clf.score(X_train, Y_train))\n",
    "print(\"Adaboost Log Regr\", ada_clf.score(X_train_pca, Y_train))\n",
    "print(\"Bagging SVM\", bag_clf.score(X_train_pca, Y_train))"
   ]
  },
  {
   "cell_type": "code",
   "execution_count": null,
   "metadata": {
    "collapsed": true
   },
   "outputs": [],
   "source": [
    "# 0.73\n",
    "# 0.67\n",
    "# 0.753\n",
    "# 0.71\n",
    "# 0.72"
   ]
  },
  {
   "cell_type": "code",
   "execution_count": 23,
   "metadata": {},
   "outputs": [],
   "source": [
    "from sklearn.svm import SVC\n",
    "from sklearn.linear_model import LogisticRegression, LogisticRegressionCV"
   ]
  },
  {
   "cell_type": "code",
   "execution_count": 403,
   "metadata": {
    "collapsed": true
   },
   "outputs": [],
   "source": [
    "best_clf = LogisticRegression(C = 0.0001, solver = 'sag', max_iter=1000, fit_intercept = True)"
   ]
  },
  {
   "cell_type": "code",
   "execution_count": 404,
   "metadata": {},
   "outputs": [
    {
     "data": {
      "text/plain": [
       "LogisticRegression(C=0.0001, class_weight=None, dual=False,\n",
       "          fit_intercept=True, intercept_scaling=1, max_iter=1000,\n",
       "          multi_class='ovr', n_jobs=1, penalty='l2', random_state=None,\n",
       "          solver='sag', tol=0.0001, verbose=0, warm_start=False)"
      ]
     },
     "execution_count": 404,
     "metadata": {},
     "output_type": "execute_result"
    }
   ],
   "source": [
    "best_clf.fit(X_train_scaled, Y_train)"
   ]
  },
  {
   "cell_type": "code",
   "execution_count": 405,
   "metadata": {},
   "outputs": [
    {
     "data": {
      "text/plain": [
       "0.79663023679417122"
      ]
     },
     "execution_count": 405,
     "metadata": {},
     "output_type": "execute_result"
    }
   ],
   "source": [
    "best_clf.score(X_train_scaled, Y_train)"
   ]
  },
  {
   "cell_type": "code",
   "execution_count": 406,
   "metadata": {},
   "outputs": [
    {
     "data": {
      "image/png": "[encoded data removed]",
      "text/plain": [
       "<matplotlib.figure.Figure at 0x25451671898>"
      ]
     },
     "metadata": {},
     "output_type": "display_data"
    }
   ],
   "source": [
    "import matplotlib.pyplot as plt\n",
    "Y_train_pred = best_clf.predict(X_train_scaled)\n",
    "plt.scatter(X_train_scaled[:, 0], X_train_scaled[:, 1], c = Y_train_pred)\n",
    "plt.show() "
   ]
  },
  {
   "cell_type": "code",
   "execution_count": 407,
   "metadata": {
    "collapsed": true
   },
   "outputs": [],
   "source": [
    "Y_pred = best_clf.predict(X_test_scaled)\n",
    "Y_pred_txt = [num_to_sent(sent) for sent in Y_pred]\n",
    "np.savetxt(\"predictions.csv\", Y_pred_txt, fmt = \"%s\")"
   ]
  },
  {
   "cell_type": "code",
   "execution_count": 410,
   "metadata": {},
   "outputs": [
    {
     "name": "stdout",
     "output_type": "stream",
     "text": [
      "0.972859744991\n"
     ]
    }
   ],
   "source": [
    "nb_clf = MultinomialNB(alpha = 0.01)\n",
    "nb_clf.fit(X_train, Y_train)\n",
    "print(nb_clf.score(X_train, Y_train))\n",
    "Y_pred = nb_clf.predict(X_test)\n",
    "Y_pred_txt = [num_to_sent(sent) for sent in Y_pred]\n",
    "np.savetxt(\"nb_predictions.csv\", Y_pred_txt, fmt = \"%s\")"
   ]
  },
  {
   "cell_type": "code",
   "execution_count": null,
   "metadata": {},
   "outputs": [],
   "source": []
  },
  {
   "cell_type": "code",
   "execution_count": null,
   "metadata": {},
   "outputs": [],
   "source": []
  },
  {
   "cell_type": "code",
   "execution_count": null,
   "metadata": {
    "collapsed": true
   },
   "outputs": [],
   "source": [
    "def make_grid (X, Y, h = 0.2) :\n",
    "    x = np.arange(X.min() -1, X.max() + 1, h)\n",
    "    y = np.arange(Y.min() -1, Y.max() + 1, h)\n",
    "    x_grid, y_grid = np.meshgrid(x, y)\n",
    "    return x_grid, y_grid"
   ]
  },
  {
   "cell_type": "code",
   "execution_count": null,
   "metadata": {
    "collapsed": true
   },
   "outputs": [],
   "source": [
    "x_grid, y_grid = make_grid(X_train_scaled[:, 1], X_train_scaled[:, 2], 1)"
   ]
  },
  {
   "cell_type": "code",
   "execution_count": null,
   "metadata": {},
   "outputs": [],
   "source": [
    "size = len(x_grid)\n",
    "print(size)\n",
    "grid = np.c_[x_grid.reshape(-1), y_grid.reshape(-1)]\n",
    "print(grid.shape)\n"
   ]
  },
  {
   "cell_type": "code",
   "execution_count": null,
   "metadata": {
    "collapsed": true
   },
   "outputs": [],
   "source": [
    "pred_grid = clf.predict(grid)"
   ]
  },
  {
   "cell_type": "code",
   "execution_count": null,
   "metadata": {
    "collapsed": true
   },
   "outputs": [],
   "source": [
    "Y_train_pred = clf.predict(X_train_scaled[:, :2])"
   ]
  },
  {
   "cell_type": "code",
   "execution_count": null,
   "metadata": {},
   "outputs": [],
   "source": [
    "import matplotlib.pyplot as plt\n",
    "plt.figure(figsize=(10,7))\n",
    "plt.scatter(x_grid.reshape(-1), y_grid.reshape(-1), c = pred_grid)\n",
    "plt.show()"
   ]
  },
  {
   "cell_type": "code",
   "execution_count": null,
   "metadata": {},
   "outputs": [],
   "source": [
    "plt.scatter(X_train_pca[:, 0], X_train_pca[:, 1], c = Y_train_pred)\n",
    "plt.show()"
   ]
  },
  {
   "cell_type": "code",
   "execution_count": null,
   "metadata": {
    "collapsed": true
   },
   "outputs": [],
   "source": []
  },
  {
   "cell_type": "code",
   "execution_count": null,
   "metadata": {
    "collapsed": true
   },
   "outputs": [],
   "source": []
  },
  {
   "cell_type": "code",
   "execution_count": null,
   "metadata": {
    "collapsed": true
   },
   "outputs": [],
   "source": []
  },
  {
   "cell_type": "code",
   "execution_count": null,
   "metadata": {
    "collapsed": true
   },
   "outputs": [],
   "source": []
  }
 ],
 "metadata": {
  "kernelspec": {
   "display_name": "Python 3",
   "language": "python",
   "name": "python3"
  },
  "language_info": {
   "codemirror_mode": {
    "name": "ipython",
    "version": 3
   },
   "file_extension": ".py",
   "mimetype": "text/x-python",
   "name": "python",
   "nbconvert_exporter": "python",
   "pygments_lexer": "ipython3",
   "version": "3.6.3"
  }
 },
 "nbformat": 4,
 "nbformat_minor": 2
}
